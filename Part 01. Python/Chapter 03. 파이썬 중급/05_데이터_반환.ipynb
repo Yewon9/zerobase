{
  "nbformat": 4,
  "nbformat_minor": 0,
  "metadata": {
    "colab": {
      "provenance": []
    },
    "kernelspec": {
      "name": "python3",
      "display_name": "Python 3"
    },
    "language_info": {
      "name": "python"
    }
  },
  "cells": [
    {
      "cell_type": "markdown",
      "source": [
        "사용자가 길이(cm)를 입력하면 mm로 환산하는 값을 반환하는 함수를 만들어보자."
      ],
      "metadata": {
        "id": "d-V5tTWjP1G8"
      }
    },
    {
      "cell_type": "code",
      "source": [
        "def cmToMm(cm):\n",
        "  result = cm * 10\n",
        "\n",
        "  return result\n",
        "\n",
        "length = float(input('길이(cm) 입력 : '))\n",
        "returnValue = cmToMm(length)\n",
        "print(f'returnValue : {returnValue}mm')"
      ],
      "metadata": {
        "colab": {
          "base_uri": "https://localhost:8080/"
        },
        "id": "M01cOX52P59c",
        "outputId": "3feb1ce4-544c-4307-e017-88e155dbabd7"
      },
      "execution_count": 6,
      "outputs": [
        {
          "output_type": "stream",
          "name": "stdout",
          "text": [
            "길이(cm) 입력 : 10.5\n",
            "returnValue : 105.0mm\n"
          ]
        }
      ]
    },
    {
      "cell_type": "markdown",
      "source": [
        "1부터 100까지의 정수 중에서 홀수인 난수를 반환하는 함수를 선언하자."
      ],
      "metadata": {
        "id": "rrek4WJ4QLbz"
      }
    },
    {
      "cell_type": "code",
      "source": [
        "import random\n",
        "\n",
        "def getOddRandomNumber():\n",
        "\n",
        "  while True:\n",
        "    rNum = random.randint(1, 100)\n",
        "    if rNum % 2 != 0:\n",
        "      break\n",
        "\n",
        "  return rNum\n",
        "\n",
        "print(f'returnValue : {getOddRandomNumber()}')"
      ],
      "metadata": {
        "colab": {
          "base_uri": "https://localhost:8080/"
        },
        "id": "E-EEAV55QPoH",
        "outputId": "0516563c-8bb0-4e97-e604-defe1222c657"
      },
      "execution_count": 7,
      "outputs": [
        {
          "output_type": "stream",
          "name": "stdout",
          "text": [
            "returnValue : 45\n"
          ]
        }
      ]
    }
  ]
}