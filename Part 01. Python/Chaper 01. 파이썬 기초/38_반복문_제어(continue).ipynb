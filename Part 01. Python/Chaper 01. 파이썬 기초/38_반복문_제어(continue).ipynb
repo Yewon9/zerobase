{
  "nbformat": 4,
  "nbformat_minor": 0,
  "metadata": {
    "colab": {
      "provenance": []
    },
    "kernelspec": {
      "name": "python3",
      "display_name": "Python 3"
    },
    "language_info": {
      "name": "python"
    }
  },
  "cells": [
    {
      "cell_type": "markdown",
      "source": [
        "1부터 100까지의 정수 중 3과 7의 공배수와 최소 공배수를 출력하자."
      ],
      "metadata": {
        "id": "JtXFlTtmPilK"
      }
    },
    {
      "cell_type": "code",
      "source": [
        "minNum = 0\n",
        "for i in range(1, 101):\n",
        "  if i % 3 != 0 and i % 7 != 0:\n",
        "    continue\n",
        "\n",
        "  print('공배수 : {}'.format(i))\n",
        "\n",
        "  if minNum == 0:\n",
        "    minNum = i\n",
        "\n",
        "else:\n",
        "  print('최소 공배수 : {}'.format(minNum))"
      ],
      "metadata": {
        "colab": {
          "base_uri": "https://localhost:8080/"
        },
        "id": "m0IpjVgYPpDC",
        "outputId": "5636f218-693e-4ddc-976f-aa70a177fac8"
      },
      "execution_count": 21,
      "outputs": [
        {
          "output_type": "stream",
          "name": "stdout",
          "text": [
            "공배수 : 3\n",
            "공배수 : 6\n",
            "공배수 : 7\n",
            "공배수 : 9\n",
            "공배수 : 12\n",
            "공배수 : 14\n",
            "공배수 : 15\n",
            "공배수 : 18\n",
            "공배수 : 21\n",
            "공배수 : 24\n",
            "공배수 : 27\n",
            "공배수 : 28\n",
            "공배수 : 30\n",
            "공배수 : 33\n",
            "공배수 : 35\n",
            "공배수 : 36\n",
            "공배수 : 39\n",
            "공배수 : 42\n",
            "공배수 : 45\n",
            "공배수 : 48\n",
            "공배수 : 49\n",
            "공배수 : 51\n",
            "공배수 : 54\n",
            "공배수 : 56\n",
            "공배수 : 57\n",
            "공배수 : 60\n",
            "공배수 : 63\n",
            "공배수 : 66\n",
            "공배수 : 69\n",
            "공배수 : 70\n",
            "공배수 : 72\n",
            "공배수 : 75\n",
            "공배수 : 77\n",
            "공배수 : 78\n",
            "공배수 : 81\n",
            "공배수 : 84\n",
            "공배수 : 87\n",
            "공배수 : 90\n",
            "공배수 : 91\n",
            "공배수 : 93\n",
            "공배수 : 96\n",
            "공배수 : 98\n",
            "공배수 : 99\n",
            "최소 공배수 : 3\n"
          ]
        }
      ]
    }
  ]
}