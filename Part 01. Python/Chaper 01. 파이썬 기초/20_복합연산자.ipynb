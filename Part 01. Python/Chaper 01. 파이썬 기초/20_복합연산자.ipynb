{
  "nbformat": 4,
  "nbformat_minor": 0,
  "metadata": {
    "colab": {
      "provenance": []
    },
    "kernelspec": {
      "name": "python3",
      "display_name": "Python 3"
    },
    "language_info": {
      "name": "python"
    }
  },
  "cells": [
    {
      "cell_type": "markdown",
      "source": [
        "다음 표를 참고해서 연간 누적 강수량을 출력해 보자.\n",
        "\n",
        "1월 2월 3월 4월 5월 6월 7월 8월 9월 10월 11월 12월 \\\n",
        "30 45 47 55 65 100 128 209 204 186 67 25"
      ],
      "metadata": {
        "id": "EzdroG-H4Ge7"
      }
    },
    {
      "cell_type": "code",
      "execution_count": 20,
      "metadata": {
        "colab": {
          "base_uri": "https://localhost:8080/"
        },
        "id": "1sHJLeQ130Et",
        "outputId": "14c37956-fae5-42ba-8079-c5b2feeaae9f"
      },
      "outputs": [
        {
          "output_type": "stream",
          "name": "stdout",
          "text": [
            "1월 누적 강수량 : 30mm\n",
            "2월 누적 강수량 : 75mm\n",
            "3월 누적 강수량 : 122mm\n",
            "4월 누적 강수량 : 177mm\n",
            "5월 누적 강수량 : 242mm\n",
            "6월 누적 강수량 : 342mm\n",
            "7월 누적 강수량 : 470mm\n",
            "8월 누적 강수량 : 679mm\n",
            "9월 누적 강수량 : 883mm\n",
            "10월 누적 강수량 : 1069mm\n",
            "11월 누적 강수량 : 1136mm\n",
            "12월 누적 강수량 : 1161mm\n",
            "------------------------------\n",
            "연간 누적 강수량 : 1161mm\n",
            "연간 평균 강수량 : 96.75mm\n",
            "------------------------------\n"
          ]
        }
      ],
      "source": [
        "rainAmount = 0\n",
        "totalRainAmount = 0\n",
        "\n",
        "totalRainAmount += 30\n",
        "print('1월 누적 강수량 : {}mm'.format(totalRainAmount))\n",
        "\n",
        "totalRainAmount += 45\n",
        "print('2월 누적 강수량 : {}mm'.format(totalRainAmount))\n",
        "\n",
        "totalRainAmount += 47\n",
        "print('3월 누적 강수량 : {}mm'.format(totalRainAmount))\n",
        "\n",
        "totalRainAmount += 55\n",
        "print('4월 누적 강수량 : {}mm'.format(totalRainAmount))\n",
        "\n",
        "totalRainAmount += 65\n",
        "print('5월 누적 강수량 : {}mm'.format(totalRainAmount))\n",
        "\n",
        "totalRainAmount += 100\n",
        "print('6월 누적 강수량 : {}mm'.format(totalRainAmount))\n",
        "\n",
        "totalRainAmount += 128\n",
        "print('7월 누적 강수량 : {}mm'.format(totalRainAmount))\n",
        "\n",
        "totalRainAmount += 209\n",
        "print('8월 누적 강수량 : {}mm'.format(totalRainAmount))\n",
        "\n",
        "totalRainAmount += 204\n",
        "print('9월 누적 강수량 : {}mm'.format(totalRainAmount))\n",
        "\n",
        "totalRainAmount += 186\n",
        "print('10월 누적 강수량 : {}mm'.format(totalRainAmount))\n",
        "\n",
        "totalRainAmount += 67\n",
        "print('11월 누적 강수량 : {}mm'.format(totalRainAmount))\n",
        "\n",
        "totalRainAmount += 25\n",
        "print('12월 누적 강수량 : {}mm'.format(totalRainAmount))\n",
        "\n",
        "rainAvgAmount = totalRainAmount / 12\n",
        "\n",
        "print('-' * 30)\n",
        "print('연간 누적 강수량 : {}mm'.format(totalRainAmount))\n",
        "print('연간 평균 강수량 : {}mm'.format(rainAvgAmount))\n",
        "print('-' * 30)"
      ]
    }
  ]
}