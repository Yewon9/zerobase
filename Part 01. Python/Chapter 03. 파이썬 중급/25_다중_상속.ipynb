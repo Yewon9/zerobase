{
  "nbformat": 4,
  "nbformat_minor": 0,
  "metadata": {
    "colab": {
      "provenance": []
    },
    "kernelspec": {
      "name": "python3",
      "display_name": "Python 3"
    },
    "language_info": {
      "name": "python"
    }
  },
  "cells": [
    {
      "cell_type": "markdown",
      "source": [
        "BasicCalculator와 DeveloperCalculator 클래스를 다음과 같이 만들고 이들 클래스를 상속해서 Calculator 클래스를 만들고 사용해보자."
      ],
      "metadata": {
        "id": "mDcNyr1cJWq3"
      }
    },
    {
      "cell_type": "code",
      "source": [
        "class BasicCalculator:\n",
        "\n",
        "  def add(self, n1, n2):\n",
        "    return n1 + n2\n",
        "\n",
        "  def sub(self, n1, n2):\n",
        "    return n1 - n2\n",
        "\n",
        "  def mul(self, n1, n2):\n",
        "    return n1 * n2\n",
        "\n",
        "  def div(self, n1, n2):\n",
        "    return n1 / n2"
      ],
      "metadata": {
        "id": "Apkh6Z7uJehW"
      },
      "execution_count": 17,
      "outputs": []
    },
    {
      "cell_type": "code",
      "source": [
        "class DeveloperCalculator:\n",
        "\n",
        "  def mod(self, n1, n2):\n",
        "    return n1 % n2\n",
        "\n",
        "  def flo(self, n1, n2):\n",
        "    return n1 // n2\n",
        "\n",
        "  def exp(self, n1, n2):\n",
        "    return n1 ** n2"
      ],
      "metadata": {
        "id": "jEk_TGhrJqAJ"
      },
      "execution_count": 18,
      "outputs": []
    },
    {
      "cell_type": "code",
      "source": [
        "class NewCalculator(BasicCalculator, DeveloperCalculator):\n",
        "\n",
        "  def __init__(self):\n",
        "    pass"
      ],
      "metadata": {
        "id": "-lq0OjRaJzK2"
      },
      "execution_count": 19,
      "outputs": []
    },
    {
      "cell_type": "code",
      "source": [
        "cal = NewCalculator()\n",
        "\n",
        "print(f'cal.add(10, 20) : {cal.add(10, 20)}')\n",
        "print(f'cal.sub(10, 20) : {cal.sub(10, 20)}')\n",
        "print(f'cal.mul(10, 20) : {cal.mul(10, 20)}')\n",
        "print(f'cal.div(10, 20) : {cal.div(10, 20)}')\n",
        "\n",
        "print(f'cal.mod(10, 20) : {cal.mod(10, 20)}')\n",
        "print(f'cal.flo(10, 20) : {cal.flo(10, 20)}')\n",
        "print(f'cal.exp(10, 20) : {cal.exp(10, 20)}')"
      ],
      "metadata": {
        "colab": {
          "base_uri": "https://localhost:8080/"
        },
        "id": "Ws1jlWqRK2TL",
        "outputId": "8ba90073-012a-42f2-d910-cda5a26afe3e"
      },
      "execution_count": 20,
      "outputs": [
        {
          "output_type": "stream",
          "name": "stdout",
          "text": [
            "cal.add(10, 20) : 30\n",
            "cal.sub(10, 20) : -10\n",
            "cal.mul(10, 20) : 200\n",
            "cal.div(10, 20) : 0.5\n",
            "cal.mod(10, 20) : 10\n",
            "cal.flo(10, 20) : 0\n",
            "cal.exp(10, 20) : 100000000000000000000\n"
          ]
        }
      ]
    }
  ]
}