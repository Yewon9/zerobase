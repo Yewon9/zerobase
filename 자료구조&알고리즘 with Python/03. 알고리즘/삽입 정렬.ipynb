{
 "cells": [
  {
   "cell_type": "markdown",
   "id": "c6d97990-f20c-4442-bdfe-8915eb453716",
   "metadata": {},
   "source": [
    "### 삽입정렬"
   ]
  },
  {
   "cell_type": "code",
   "execution_count": 16,
   "id": "73aeb347-0f4c-44cf-8b53-44f9b7c8a28d",
   "metadata": {},
   "outputs": [],
   "source": [
    "nums = [5, 10, 2, 1, 0]"
   ]
  },
  {
   "cell_type": "code",
   "execution_count": 17,
   "id": "2794fd3d-6f05-4082-9fa3-bea3bac0499f",
   "metadata": {},
   "outputs": [
    {
     "name": "stdout",
     "output_type": "stream",
     "text": [
      "nums : [5, 10, 2, 1, 0]\n",
      "nums : [2, 5, 10, 1, 0]\n",
      "nums : [1, 2, 5, 10, 0]\n",
      "nums : [0, 1, 2, 5, 10]\n"
     ]
    }
   ],
   "source": [
    "# 오름차순\n",
    "for i1 in range(1, len(nums)):\n",
    "    i2 = i1 - 1\n",
    "    cNum = nums[i1]\n",
    "\n",
    "    while nums[i2] > cNum and i2 >= 0:\n",
    "        nums[i2 + 1] = nums[i2]\n",
    "        i2 -= 1\n",
    "\n",
    "    nums[i2 + 1] = cNum\n",
    "\n",
    "    print(f'nums : {nums}')"
   ]
  },
  {
   "cell_type": "code",
   "execution_count": 15,
   "id": "e148f3c4-3b25-4875-a9ee-df52bbdf6065",
   "metadata": {},
   "outputs": [
    {
     "name": "stdout",
     "output_type": "stream",
     "text": [
      "nums : [1, 0, 2, 5, 10]\n",
      "nums : [2, 1, 0, 5, 10]\n",
      "nums : [5, 2, 1, 0, 10]\n",
      "nums : [10, 5, 2, 1, 0]\n"
     ]
    }
   ],
   "source": [
    "# 내림차순\n",
    "for i1 in range(1, len(nums)):\n",
    "    i2 = i1 - 1\n",
    "    cNum = nums[i1]\n",
    "\n",
    "    while nums[i2] < cNum and i2 >= 0:\n",
    "        nums[i2 + 1] = nums[i2]\n",
    "        i2 -= 1\n",
    "\n",
    "    nums[i2 + 1] = cNum\n",
    "\n",
    "    print(f'nums : {nums}')"
   ]
  }
 ],
 "metadata": {
  "kernelspec": {
   "display_name": "Python 3 (ipykernel)",
   "language": "python",
   "name": "python3"
  },
  "language_info": {
   "codemirror_mode": {
    "name": "ipython",
    "version": 3
   },
   "file_extension": ".py",
   "mimetype": "text/x-python",
   "name": "python",
   "nbconvert_exporter": "python",
   "pygments_lexer": "ipython3",
   "version": "3.9.7"
  }
 },
 "nbformat": 4,
 "nbformat_minor": 5
}
