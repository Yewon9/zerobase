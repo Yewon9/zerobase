{
  "nbformat": 4,
  "nbformat_minor": 0,
  "metadata": {
    "colab": {
      "provenance": []
    },
    "kernelspec": {
      "name": "python3",
      "display_name": "Python 3"
    },
    "language_info": {
      "name": "python"
    }
  },
  "cells": [
    {
      "cell_type": "markdown",
      "source": [
        "관리자 암호를 입력하고 다음 상태에 따라 예외 처리하는 예외 클래스를 만들어보자.\n",
        "- 암호 길이가 5 미만인 경우 : PasswordLengthShortException\n",
        "- 암호 길이가 10을 초과하는 경우 : PasswordLengthLongException\n",
        "- 암호가 잘못된 경우 : PasswordWrongException"
      ],
      "metadata": {
        "id": "XbXhyMIvv-oc"
      }
    },
    {
      "cell_type": "code",
      "source": [
        "class PasswordLengthShortException(Exception):\n",
        "\n",
        "  def __init__(self, str):\n",
        "    super().__init__(f'{str} : 길이 5 미만!!')\n",
        "\n",
        "class PasswordLengthLongException(Exception):\n",
        "\n",
        "  def __init__(self, str):\n",
        "    super().__init__(f'{str} : 길이 10 초과!!')\n",
        "\n",
        "class PasswordWrongException(Exception):\n",
        "\n",
        "  def __init__(self, str):\n",
        "    super().__init__(f'{str} : 잘못된 비밀번호!!')"
      ],
      "metadata": {
        "id": "AnA83o1XwOse"
      },
      "execution_count": 41,
      "outputs": []
    },
    {
      "cell_type": "code",
      "source": [
        "adminPw = input('input admin password : ')\n",
        "\n",
        "try:\n",
        "  if len(adminPw) < 5:\n",
        "    raise PasswordLengthShortException(adminPw)\n",
        "  elif len(adminPw) > 10:\n",
        "    raise PasswordLengthLongException(adminPw)\n",
        "  elif adminPw != 'admin1234':\n",
        "    raise PasswordWrongException\n",
        "  elif adminPw == 'admin1234':\n",
        "    print('빙고')\n",
        "\n",
        "except PasswordLengthShortException as e1:\n",
        "  print(e1)\n",
        "except PasswordLengthLongException as e2:\n",
        "  print(e2)\n",
        "except PasswordWrongException as e3:\n",
        "  print(e3)"
      ],
      "metadata": {
        "colab": {
          "base_uri": "https://localhost:8080/"
        },
        "id": "dU7ynubH84YA",
        "outputId": "3147b4e5-a5ac-450d-95fc-49b93a8ebb97"
      },
      "execution_count": 44,
      "outputs": [
        {
          "output_type": "stream",
          "name": "stdout",
          "text": [
            "input admin password : admin1234\n",
            "빙고\n"
          ]
        }
      ]
    }
  ]
}