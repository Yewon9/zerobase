{
 "cells": [
  {
   "cell_type": "markdown",
   "id": "f8a6bdf4-0f94-4c7e-b601-53a37980a8dd",
   "metadata": {},
   "source": [
    "### 리스트를 오름차순으로 정렬한 후 '7'을 검색하고 위치(인덱스)를 출력하자."
   ]
  },
  {
   "cell_type": "code",
   "execution_count": 17,
   "id": "065a3feb-f2e6-4b2a-a562-e98e2fe6d1df",
   "metadata": {},
   "outputs": [
    {
     "name": "stdout",
     "output_type": "stream",
     "text": [
      "nums : [4, 10, 22, 5, 0, 17, 7, 11, 9, 61, 88]\n",
      "nums length : 11\n"
     ]
    }
   ],
   "source": [
    "nums = [4, 10, 22, 5, 0, 17, 7, 11, 9, 61, 88]\n",
    "print(f'nums : {nums}')\n",
    "print(f'nums length : {len(nums)}')"
   ]
  },
  {
   "cell_type": "code",
   "execution_count": 18,
   "id": "e366fbee-80b2-4234-96f7-a30b9f6c9d4a",
   "metadata": {},
   "outputs": [
    {
     "name": "stdout",
     "output_type": "stream",
     "text": [
      "nums : [0, 4, 5, 7, 9, 10, 11, 17, 22, 61, 88]\n"
     ]
    }
   ],
   "source": [
    "nums.sort()\n",
    "print(f'nums : {nums}')"
   ]
  },
  {
   "cell_type": "code",
   "execution_count": 19,
   "id": "83ec3ee3-ffaf-44af-8d95-c4f94da5f862",
   "metadata": {},
   "outputs": [
    {
     "name": "stdin",
     "output_type": "stream",
     "text": [
      "찾으려는 숫자 입력 :  10\n"
     ]
    }
   ],
   "source": [
    "searchData = int(input('찾으려는 숫자 입력 : '))\n",
    "searchResultIdx = -1"
   ]
  },
  {
   "cell_type": "code",
   "execution_count": 20,
   "id": "720bb18a-e261-4d3e-86bf-a5a8f92c1a0d",
   "metadata": {},
   "outputs": [],
   "source": [
    "staIdx = 0\n",
    "endIdx = len(nums) - 1\n",
    "midIdx = (staIdx + endIdx) // 2\n",
    "midVal = nums[midIdx]"
   ]
  },
  {
   "cell_type": "code",
   "execution_count": 21,
   "id": "b2feb750-437c-4ac9-8200-53f6643bc813",
   "metadata": {},
   "outputs": [
    {
     "name": "stdout",
     "output_type": "stream",
     "text": [
      "searchResultIdx : 5\n"
     ]
    }
   ],
   "source": [
    "while searchData <= nums[len(nums) - 1] and searchData >= nums[0]:\n",
    "    if searchData > midVal:\n",
    "        staIdx = midIdx\n",
    "        midIdx = (staIdx + endIdx) // 2\n",
    "        midVal = nums[midIdx]\n",
    "        print(f'midIdx : {midIdx}')\n",
    "        print(f'midVal : {midVal}')\n",
    "    elif searchData < midVal:\n",
    "        endIdx = midIdx\n",
    "        midIdx = (staIdx + endIdx) // 2\n",
    "        midVal = nums[midIdx]\n",
    "        print(f'midIdx : {midIdx}')\n",
    "        print(f'midVal : {midVal}')\n",
    "    elif searchData == midVal:\n",
    "        searchResultIdx = midIdx\n",
    "        break\n",
    "\n",
    "print(f'searchResultIdx : {searchResultIdx}')"
   ]
  }
 ],
 "metadata": {
  "kernelspec": {
   "display_name": "Python 3 (ipykernel)",
   "language": "python",
   "name": "python3"
  },
  "language_info": {
   "codemirror_mode": {
    "name": "ipython",
    "version": 3
   },
   "file_extension": ".py",
   "mimetype": "text/x-python",
   "name": "python",
   "nbconvert_exporter": "python",
   "pygments_lexer": "ipython3",
   "version": "3.9.7"
  }
 },
 "nbformat": 4,
 "nbformat_minor": 5
}
