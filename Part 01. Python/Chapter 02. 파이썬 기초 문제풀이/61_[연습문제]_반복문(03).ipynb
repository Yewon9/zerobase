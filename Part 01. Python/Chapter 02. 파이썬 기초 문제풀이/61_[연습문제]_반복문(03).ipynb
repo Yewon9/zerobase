{
  "nbformat": 4,
  "nbformat_minor": 0,
  "metadata": {
    "colab": {
      "provenance": []
    },
    "kernelspec": {
      "name": "python3",
      "display_name": "Python 3"
    },
    "language_info": {
      "name": "python"
    }
  },
  "cells": [
    {
      "cell_type": "markdown",
      "source": [
        "'*'를 이용해서 다음과 같이 다양한 모양을 출력해보자."
      ],
      "metadata": {
        "id": "KfZtGzqtXYJM"
      }
    },
    {
      "cell_type": "code",
      "source": [
        "for i in range(1, 6):\n",
        "  for j in range(i):\n",
        "    print('*', end = '')\n",
        "  print()"
      ],
      "metadata": {
        "colab": {
          "base_uri": "https://localhost:8080/"
        },
        "id": "X8rWpfldiLxB",
        "outputId": "611b3efa-c54d-4ffe-d22b-b06ab51241cd"
      },
      "execution_count": 21,
      "outputs": [
        {
          "output_type": "stream",
          "name": "stdout",
          "text": [
            "*\n",
            "**\n",
            "***\n",
            "****\n",
            "*****\n"
          ]
        }
      ]
    },
    {
      "cell_type": "code",
      "source": [
        "for i in range(1, 6):\n",
        "  for j in range(6 - i - 1):\n",
        "    print(' ', end = '')\n",
        "  for k in range(i):\n",
        "    print('*', end = '')\n",
        "  print()"
      ],
      "metadata": {
        "colab": {
          "base_uri": "https://localhost:8080/"
        },
        "id": "p2cd1EehjEeR",
        "outputId": "3c952c81-7371-4c0d-ad3f-f4174c96674e"
      },
      "execution_count": 22,
      "outputs": [
        {
          "output_type": "stream",
          "name": "stdout",
          "text": [
            "    *\n",
            "   **\n",
            "  ***\n",
            " ****\n",
            "*****\n"
          ]
        }
      ]
    },
    {
      "cell_type": "code",
      "source": [
        "for i in range(5, 0, -1):\n",
        "  for j in range(i):\n",
        "    print('*', end = '')\n",
        "  print()"
      ],
      "metadata": {
        "colab": {
          "base_uri": "https://localhost:8080/"
        },
        "id": "Bj8cEaMujp79",
        "outputId": "72a685ff-2f5e-4954-a658-4342d4ffe0d7"
      },
      "execution_count": 23,
      "outputs": [
        {
          "output_type": "stream",
          "name": "stdout",
          "text": [
            "*****\n",
            "****\n",
            "***\n",
            "**\n",
            "*\n"
          ]
        }
      ]
    },
    {
      "cell_type": "code",
      "source": [
        "for i in range(5, 0, -1):\n",
        "  for j in range(5 - i):\n",
        "    print(' ', end = '')\n",
        "  for k in range(i):\n",
        "    print('*', end = '')\n",
        "  print()"
      ],
      "metadata": {
        "colab": {
          "base_uri": "https://localhost:8080/"
        },
        "id": "un3MqLMxj9X6",
        "outputId": "0c362261-1b86-4243-f186-b5b35d3cb66c"
      },
      "execution_count": 24,
      "outputs": [
        {
          "output_type": "stream",
          "name": "stdout",
          "text": [
            "*****\n",
            " ****\n",
            "  ***\n",
            "   **\n",
            "    *\n"
          ]
        }
      ]
    },
    {
      "cell_type": "code",
      "source": [
        "for i in range(1, 10):\n",
        "  if i < 5:\n",
        "    for j in range(i):\n",
        "      print('*', end = '')\n",
        "  else:\n",
        "    for j in range(10 - i):\n",
        "      print('*', end = '')\n",
        "  print()"
      ],
      "metadata": {
        "colab": {
          "base_uri": "https://localhost:8080/"
        },
        "id": "nHWun7NZkM5R",
        "outputId": "bdf2315f-a822-462c-93e4-30d0e9990592"
      },
      "execution_count": 26,
      "outputs": [
        {
          "output_type": "stream",
          "name": "stdout",
          "text": [
            "*\n",
            "**\n",
            "***\n",
            "****\n",
            "*****\n",
            "****\n",
            "***\n",
            "**\n",
            "*\n"
          ]
        }
      ]
    },
    {
      "cell_type": "code",
      "source": [
        "for i in range(1, 6):\n",
        "  for j in range(1, 6):\n",
        "    if j == i:\n",
        "      print('*', end = '')\n",
        "    else:\n",
        "      print(' ', end = '')\n",
        "  print()"
      ],
      "metadata": {
        "colab": {
          "base_uri": "https://localhost:8080/"
        },
        "id": "ZceBZWELlYib",
        "outputId": "fb48e69d-63fa-4985-8370-86a613cfc847"
      },
      "execution_count": 27,
      "outputs": [
        {
          "output_type": "stream",
          "name": "stdout",
          "text": [
            "*    \n",
            " *   \n",
            "  *  \n",
            "   * \n",
            "    *\n"
          ]
        }
      ]
    },
    {
      "cell_type": "code",
      "source": [
        "for i in range(1, 6):\n",
        "  for j in range(1, 6):\n",
        "    if abs(6 - j) == i:\n",
        "      print('*', end = '')\n",
        "    else:\n",
        "      print(' ', end = '')\n",
        "  print()"
      ],
      "metadata": {
        "colab": {
          "base_uri": "https://localhost:8080/"
        },
        "id": "FuqP6emYl3u9",
        "outputId": "b9f37cfc-25f6-466b-af7f-3e9530faccca"
      },
      "execution_count": 28,
      "outputs": [
        {
          "output_type": "stream",
          "name": "stdout",
          "text": [
            "    *\n",
            "   * \n",
            "  *  \n",
            " *   \n",
            "*    \n"
          ]
        }
      ]
    },
    {
      "cell_type": "code",
      "source": [
        "for i in range(1, 6):\n",
        "  for j in range(5 - i):\n",
        "    print(' ', end = '')\n",
        "  for k in range(i * 2 -1):\n",
        "    print('*', end = '')\n",
        "  print()\n",
        "\n",
        "for l in range(1, 6):\n",
        "  for m in range(l - 1):\n",
        "    print(' ', end = '')\n",
        "  for n in range(11 - (l * 2)):\n",
        "    print('*', end = '')\n",
        "  print()"
      ],
      "metadata": {
        "colab": {
          "base_uri": "https://localhost:8080/"
        },
        "id": "trm5kRntmiu2",
        "outputId": "94a9a8d9-f682-44cb-b3aa-16097ed33855"
      },
      "execution_count": 34,
      "outputs": [
        {
          "output_type": "stream",
          "name": "stdout",
          "text": [
            "    *\n",
            "   ***\n",
            "  *****\n",
            " *******\n",
            "*********\n",
            "*********\n",
            " *******\n",
            "  *****\n",
            "   ***\n",
            "    *\n"
          ]
        }
      ]
    }
  ]
}