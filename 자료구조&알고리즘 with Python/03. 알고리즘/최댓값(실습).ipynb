{
 "cells": [
  {
   "cell_type": "markdown",
   "id": "6ea81f8a-fd3b-4452-ae79-e90d7d63b8fc",
   "metadata": {},
   "source": [
    "### 리스트에서 아스키코드가 가장 큰 값을 찾는 알고리즘을 만들어보자."
   ]
  },
  {
   "cell_type": "code",
   "execution_count": 1,
   "id": "44a7dcf5-16f9-43c6-b265-071b8d490643",
   "metadata": {},
   "outputs": [],
   "source": [
    "class MaxAlgorithm:\n",
    "    def __init__(self, cs):\n",
    "        self.chars = cs\n",
    "        self.maxChar = 0\n",
    "\n",
    "    def getMaxChar(self):\n",
    "        self.maxChar = self.chars[0]\n",
    "\n",
    "        for c in self.chars:\n",
    "            if ord(self.maxChar) < ord(c):\n",
    "                self.maxChar = c\n",
    "\n",
    "        return self.maxChar"
   ]
  },
  {
   "cell_type": "code",
   "execution_count": 3,
   "id": "3c3f89c0-16b4-4cf1-b40f-314f3b732ddd",
   "metadata": {},
   "outputs": [
    {
     "name": "stdout",
     "output_type": "stream",
     "text": [
      "maxChar : x\n"
     ]
    }
   ],
   "source": [
    "chars = ['c', 'x', 'Q', 'A', 'e', 'P', 'p']\n",
    "mc = MaxAlgorithm(chars)\n",
    "maxChar = mc.getMaxChar()\n",
    "print(f'maxChar : {maxChar}')"
   ]
  }
 ],
 "metadata": {
  "kernelspec": {
   "display_name": "Python 3 (ipykernel)",
   "language": "python",
   "name": "python3"
  },
  "language_info": {
   "codemirror_mode": {
    "name": "ipython",
    "version": 3
   },
   "file_extension": ".py",
   "mimetype": "text/x-python",
   "name": "python",
   "nbconvert_exporter": "python",
   "pygments_lexer": "ipython3",
   "version": "3.9.7"
  }
 },
 "nbformat": 4,
 "nbformat_minor": 5
}
