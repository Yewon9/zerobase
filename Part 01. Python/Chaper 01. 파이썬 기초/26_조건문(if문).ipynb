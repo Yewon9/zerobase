{
  "nbformat": 4,
  "nbformat_minor": 0,
  "metadata": {
    "colab": {
      "provenance": []
    },
    "kernelspec": {
      "name": "python3",
      "display_name": "Python 3"
    },
    "language_info": {
      "name": "python"
    }
  },
  "cells": [
    {
      "cell_type": "markdown",
      "source": [
        "국어, 영어, 수학 점수를 입력하고 평균이 90점 이상이면 '참 잘했어요.'를 출력하는 코드를 작성하자."
      ],
      "metadata": {
        "id": "JtXFlTtmPilK"
      }
    },
    {
      "cell_type": "code",
      "source": [
        "korScore = int(input('국어 점수 입력 : '))\n",
        "engScore = int(input('영어 점수 입력 : '))\n",
        "mathScore = int(input('수학 점수 입력 : '))\n",
        "\n",
        "avgScore = (korScore + engScore + mathScore) / 3\n",
        "print('평균 : {}'.format(avgScore))\n",
        "\n",
        "if avgScore >= 90:\n",
        "  print('참 잘했어요~')"
      ],
      "metadata": {
        "colab": {
          "base_uri": "https://localhost:8080/"
        },
        "id": "m0IpjVgYPpDC",
        "outputId": "f086d571-c1b4-4eb4-ce25-9a16590e2fb1"
      },
      "execution_count": 38,
      "outputs": [
        {
          "output_type": "stream",
          "name": "stdout",
          "text": [
            "국어 점수 입력 : 95\n",
            "영어 점수 입력 : 85\n",
            "수학 점수 입력 : 100\n",
            "평균 : 93.33333333333333\n",
            "참 잘했어요~\n"
          ]
        }
      ]
    },
    {
      "cell_type": "markdown",
      "source": [
        "실내 온도를 입력하고 온도가 28'C이상이면 '냉방 작동!'이 출력되고, 20'C 이하면 '난방 작동!'이 출력되는 코드를 작성하자."
      ],
      "metadata": {
        "id": "EzdroG-H4Ge7"
      }
    },
    {
      "cell_type": "code",
      "execution_count": 39,
      "metadata": {
        "colab": {
          "base_uri": "https://localhost:8080/"
        },
        "id": "1sHJLeQ130Et",
        "outputId": "04990324-81cd-4491-8b22-d7cda50d46fe"
      },
      "outputs": [
        {
          "output_type": "stream",
          "name": "stdout",
          "text": [
            "실내 온도 입력 : 28\n",
            "냉방 작동!\n"
          ]
        }
      ],
      "source": [
        "highTemperature = 28\n",
        "lowTemperature = 20\n",
        "\n",
        "innerTemperature = int(input('실내 온도 입력 : '))\n",
        "\n",
        "if innerTemperature >= highTemperature:\n",
        "  print('냉방 작동!')\n",
        "\n",
        "elif innerTemperature <= lowTemperature:\n",
        "  print('난방 작동!')"
      ]
    }
  ]
}
