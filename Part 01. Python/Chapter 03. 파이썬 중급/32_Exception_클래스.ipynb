{
  "nbformat": 4,
  "nbformat_minor": 0,
  "metadata": {
    "colab": {
      "provenance": []
    },
    "kernelspec": {
      "name": "python3",
      "display_name": "Python 3"
    },
    "language_info": {
      "name": "python"
    }
  },
  "cells": [
    {
      "cell_type": "markdown",
      "source": [
        "사용자가 문자 메시지를 보낼 때 10글자 이하면 SMS로 발송하고, 10글자를 초과하면 MMS로 발송하는 프로그램을 예외처리를 이용해서 만들어보자."
      ],
      "metadata": {
        "id": "3Bz4ArWhsN7y"
      }
    },
    {
      "cell_type": "code",
      "source": [
        "def sendSMS(msg):\n",
        "\n",
        "  if len(msg) > 10:\n",
        "    raise Exception('길이 초과!! MMS 전환 후 발송!!', 1)\n",
        "\n",
        "  else:\n",
        "    print('SMS 발송!!')"
      ],
      "metadata": {
        "id": "ADRiQ9vSsVig"
      },
      "execution_count": 37,
      "outputs": []
    },
    {
      "cell_type": "code",
      "source": [
        "def sendMMS(msg):\n",
        "\n",
        "  if len(msg) <= 10:\n",
        "    raise Exception('길이 미달!! SMS 전환 후 발송!!', 2)\n",
        "  else:\n",
        "    print('MMS 발송!!')"
      ],
      "metadata": {
        "id": "1EbZp0eNshqB"
      },
      "execution_count": 38,
      "outputs": []
    },
    {
      "cell_type": "code",
      "source": [
        "msg = input('input message : ')\n",
        "\n",
        "try:\n",
        "  sendSMS(msg)\n",
        "\n",
        "except Exception as e:\n",
        "  print(f'e : {e.args[0]}')\n",
        "  print(f'e : {e.args[1]}')\n",
        "\n",
        "  if e.args[1] == 1:\n",
        "    sendMMS(msg)\n",
        "  elif e.args[1] == 2:\n",
        "    sendSMS(msg)"
      ],
      "metadata": {
        "colab": {
          "base_uri": "https://localhost:8080/"
        },
        "id": "TLEcjRArsqfW",
        "outputId": "375fe746-1d1b-4020-a80d-e844fa917f22"
      },
      "execution_count": 40,
      "outputs": [
        {
          "output_type": "stream",
          "name": "stdout",
          "text": [
            "input message : 안녕하세요. 반갑습니다. 잘 지내세요.\n",
            "e : 길이 초과!! MMS 전환 후 발송!!\n",
            "e : 1\n",
            "MMS 발송!!\n"
          ]
        }
      ]
    }
  ]
}