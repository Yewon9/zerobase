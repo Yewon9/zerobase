{
  "nbformat": 4,
  "nbformat_minor": 0,
  "metadata": {
    "colab": {
      "provenance": []
    },
    "kernelspec": {
      "name": "python3",
      "display_name": "Python 3"
    },
    "language_info": {
      "name": "python"
    }
  },
  "cells": [
    {
      "cell_type": "code",
      "source": [
        "import operator"
      ],
      "metadata": {
        "id": "_q-jGjMSZrW5"
      },
      "execution_count": 29,
      "outputs": []
    },
    {
      "cell_type": "markdown",
      "source": [
        "이전 시간에 실습했던 백신 접종 대상자 출력 코드를 operator 모듈을 이용해서 변경해 보자. \\\n",
        "'백신 접종 대상자는 20세 미만 또는 65세 이상자에 한합니다.'를 논리연산자를 이용해서 코딩해 보자."
      ],
      "metadata": {
        "id": "JtXFlTtmPilK"
      }
    },
    {
      "cell_type": "code",
      "source": [
        "age = int(input('나이 입력 : '))\n",
        "vaccine = operator.or_(operator.lt(age, 20), operator.ge(age, 65))\n",
        "print('age : {}, result : {}'.format(age, vaccine))"
      ],
      "metadata": {
        "colab": {
          "base_uri": "https://localhost:8080/"
        },
        "id": "m0IpjVgYPpDC",
        "outputId": "3f7ef799-f1b0-45fe-d5c2-3adba8c7f7c1"
      },
      "execution_count": 31,
      "outputs": [
        {
          "output_type": "stream",
          "name": "stdout",
          "text": [
            "나이 입력 : 24\n",
            "age : 24, result : False\n"
          ]
        }
      ]
    },
    {
      "cell_type": "markdown",
      "source": [
        "random과 operator 모듈을 사용해서 10부터 100사이의 난수 중 십의 자리와 일의 자리가 각각 3의 배수인지 판단하는 코드를 작성해 보자."
      ],
      "metadata": {
        "id": "EzdroG-H4Ge7"
      }
    },
    {
      "cell_type": "code",
      "execution_count": 33,
      "metadata": {
        "colab": {
          "base_uri": "https://localhost:8080/"
        },
        "id": "1sHJLeQ130Et",
        "outputId": "6fc05f67-3fc8-4c4d-f312-c9002f263a0f"
      },
      "outputs": [
        {
          "output_type": "stream",
          "name": "stdout",
          "text": [
            "난수 : 60\n",
            "십의 자리 : 6\n",
            "일의 자리 : 0\n",
            "십의 자리는 3의 배수이다. : True\n",
            "일의 자리는 3의 배수이다. : True\n"
          ]
        }
      ],
      "source": [
        "import random\n",
        "\n",
        "rInt = random.randint(10, 100)\n",
        "\n",
        "num10 = operator.floordiv(rInt, 10)\n",
        "num1 = operator.mod(rInt, 10)\n",
        "\n",
        "print('난수 : {}'.format(rInt))\n",
        "print('십의 자리 : {}'.format(num10))\n",
        "print('일의 자리 : {}'.format(num1))\n",
        "\n",
        "print('십의 자리는 3의 배수이다. : {}'.format(operator.mod(num10, 3) == 0))\n",
        "print('일의 자리는 3의 배수이다. : {}'.format(operator.mod(num1, 3) == 0))"
      ]
    }
  ]
}