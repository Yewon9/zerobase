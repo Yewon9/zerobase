{
  "nbformat": 4,
  "nbformat_minor": 0,
  "metadata": {
    "colab": {
      "provenance": []
    },
    "kernelspec": {
      "name": "python3",
      "display_name": "Python 3"
    },
    "language_info": {
      "name": "python"
    }
  },
  "cells": [
    {
      "cell_type": "markdown",
      "source": [
        "사용자가 반복의 시작과 끝을 입력하면 1씩 증가하는 반복문을 만들어 보자."
      ],
      "metadata": {
        "id": "JtXFlTtmPilK"
      }
    },
    {
      "cell_type": "code",
      "source": [
        "startNum = int(input('반복의 시작 입력 : '))\n",
        "endNum = int(input('반복의 끝 입력 : '))\n",
        "\n",
        "for i in range(startNum, endNum + 1):\n",
        "  print(i)"
      ],
      "metadata": {
        "colab": {
          "base_uri": "https://localhost:8080/"
        },
        "id": "m0IpjVgYPpDC",
        "outputId": "51b955af-5a86-4b52-9984-b9c44ade3729"
      },
      "execution_count": 13,
      "outputs": [
        {
          "output_type": "stream",
          "name": "stdout",
          "text": [
            "반복의 시작 입력 : 2\n",
            "반복의 끝 입력 : 9\n",
            "2\n",
            "3\n",
            "4\n",
            "5\n",
            "6\n",
            "7\n",
            "8\n",
            "9\n"
          ]
        }
      ]
    },
    {
      "cell_type": "markdown",
      "source": [
        "위에서 작성한 반복문을 이용해서 2씩 증가하는 반복문을 만들어 보자."
      ],
      "metadata": {
        "id": "0kxyqYroJDTh"
      }
    },
    {
      "cell_type": "code",
      "source": [
        "startNum = int(input('반복의 시작 입력 : '))\n",
        "endNum = int(input('반복의 끝 입력 : '))\n",
        "\n",
        "for i in range(startNum, endNum + 1, 2):\n",
        "  print(i)"
      ],
      "metadata": {
        "colab": {
          "base_uri": "https://localhost:8080/"
        },
        "id": "0TlAHZ5uJCby",
        "outputId": "977671b9-8b6b-4e56-d0d2-ad614a8b0914"
      },
      "execution_count": 14,
      "outputs": [
        {
          "output_type": "stream",
          "name": "stdout",
          "text": [
            "반복의 시작 입력 : 2\n",
            "반복의 끝 입력 : 9\n",
            "2\n",
            "4\n",
            "6\n",
            "8\n"
          ]
        }
      ]
    },
    {
      "cell_type": "markdown",
      "source": [
        "1에서 100까지의 정수 중 3의 배수에 해당하는 정수만 출력하는 코드를 작성하자."
      ],
      "metadata": {
        "id": "8PRiinUkNVx-"
      }
    },
    {
      "cell_type": "code",
      "source": [
        "for i in range(1, 101):\n",
        "  if i % 3 == 0:\n",
        "    print(i)"
      ],
      "metadata": {
        "colab": {
          "base_uri": "https://localhost:8080/"
        },
        "id": "qKVrGI7mNTvf",
        "outputId": "a883f6d2-4830-4796-fcac-7d289719378b"
      },
      "execution_count": 15,
      "outputs": [
        {
          "output_type": "stream",
          "name": "stdout",
          "text": [
            "3\n",
            "6\n",
            "9\n",
            "12\n",
            "15\n",
            "18\n",
            "21\n",
            "24\n",
            "27\n",
            "30\n",
            "33\n",
            "36\n",
            "39\n",
            "42\n",
            "45\n",
            "48\n",
            "51\n",
            "54\n",
            "57\n",
            "60\n",
            "63\n",
            "66\n",
            "69\n",
            "72\n",
            "75\n",
            "78\n",
            "81\n",
            "84\n",
            "87\n",
            "90\n",
            "93\n",
            "96\n",
            "99\n"
          ]
        }
      ]
    }
  ]
}