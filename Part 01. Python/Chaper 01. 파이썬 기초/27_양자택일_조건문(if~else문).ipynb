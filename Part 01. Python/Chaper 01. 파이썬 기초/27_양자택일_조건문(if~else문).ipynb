{
  "nbformat": 4,
  "nbformat_minor": 0,
  "metadata": {
    "colab": {
      "provenance": []
    },
    "kernelspec": {
      "name": "python3",
      "display_name": "Python 3"
    },
    "language_info": {
      "name": "python"
    }
  },
  "cells": [
    {
      "cell_type": "markdown",
      "source": [
        "나이가 65세 이상이면 교통 요금 무료를 적용하는 프로그램을 만들어 보자."
      ],
      "metadata": {
        "id": "JtXFlTtmPilK"
      }
    },
    {
      "cell_type": "code",
      "source": [
        "seniorAge = 65\n",
        "\n",
        "passengerAge = int(input('나이 입력 : '))\n",
        "if passengerAge >= seniorAge:\n",
        "  print('무료 대상 승객입니다.')\n",
        "else:\n",
        "  print('유료 대상 승객입니다.')"
      ],
      "metadata": {
        "colab": {
          "base_uri": "https://localhost:8080/"
        },
        "id": "m0IpjVgYPpDC",
        "outputId": "a0367764-a2b9-41f8-8c9d-aca150731d04"
      },
      "execution_count": 40,
      "outputs": [
        {
          "output_type": "stream",
          "name": "stdout",
          "text": [
            "나이 입력 : 24\n",
            "유료 대상 승객입니다.\n"
          ]
        }
      ]
    },
    {
      "cell_type": "markdown",
      "source": [
        "소수점 첫 번째 자리에서 반올림하는 프로그램을 만들어 보자."
      ],
      "metadata": {
        "id": "EzdroG-H4Ge7"
      }
    },
    {
      "cell_type": "code",
      "execution_count": 41,
      "metadata": {
        "colab": {
          "base_uri": "https://localhost:8080/"
        },
        "id": "1sHJLeQ130Et",
        "outputId": "bfd8b940-c80f-447f-ffcd-d3f38b4b5d73"
      },
      "outputs": [
        {
          "output_type": "stream",
          "name": "stdout",
          "text": [
            "소수 입력 : 3.56\n",
            "올림 : 4\n"
          ]
        }
      ],
      "source": [
        "floatNum = float(input('소수 입력 : '))\n",
        "\n",
        "if floatNum - int(floatNum) >= 0.5:\n",
        "  print('올림 : {}'.format(int(floatNum) + 1))\n",
        "else:\n",
        "  print('버림 : {}'.format(int(floatNum)))"
      ]
    }
  ]
}