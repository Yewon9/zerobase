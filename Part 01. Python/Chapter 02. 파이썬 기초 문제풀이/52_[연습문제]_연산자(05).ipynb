{
  "nbformat": 4,
  "nbformat_minor": 0,
  "metadata": {
    "colab": {
      "provenance": []
    },
    "kernelspec": {
      "name": "python3",
      "display_name": "Python 3"
    },
    "language_info": {
      "name": "python"
    }
  },
  "cells": [
    {
      "cell_type": "markdown",
      "source": [
        "다음 내용을 참고해서 백신 접종 대상자를 구분하기 위한 프로그램을 만들어보자. \\\n",
        "[의사코드] \\\n",
        "19세 이하 또는 65세 이상 이면 \\\n",
        "출생 연도 끝자리에 따른 접종 \\\n",
        "그렇지 않으면 \\\n",
        "하반기 일정 확인"
      ],
      "metadata": {
        "id": "KfZtGzqtXYJM"
      }
    },
    {
      "cell_type": "code",
      "source": [
        "inputAge = int(input('나이 입력 : '))\n",
        "\n",
        "if inputAge <= 19 or inputAge >= 65:\n",
        "  endNum = int(input('출생 연도 끝자리 입력 : '))\n",
        "  if endNum == 1 or endNum == 6:\n",
        "    print('월요일 접종 가능!!')\n",
        "  elif endNum == 2 or endNum == 7:\n",
        "    print('화요일 접종 가능!!')\n",
        "  elif endNum == 3 or endNum == 8:\n",
        "    print('수요일 접종 가능!!')\n",
        "  elif endNum == 4 or endNum == 9:\n",
        "    print('목요일 접종 가능!!')\n",
        "  elif endNum == 5 or endNum == 0:\n",
        "    print('금요일 접종 가능!!')\n",
        "\n",
        "else:\n",
        "  print('하반기 일정 확인하세요.')"
      ],
      "metadata": {
        "colab": {
          "base_uri": "https://localhost:8080/"
        },
        "id": "HBrr5AQrXboh",
        "outputId": "4fb77a87-259c-40d0-8bd4-a9ee32677a02"
      },
      "execution_count": 23,
      "outputs": [
        {
          "output_type": "stream",
          "name": "stdout",
          "text": [
            "나이 입력 : 65\n",
            "출생 연도 끝자리 입력 : 4\n",
            "목요일 접종 가능!!\n"
          ]
        }
      ]
    },
    {
      "cell_type": "markdown",
      "source": [
        "길이(mm)를 입력하면 inch로 환산하는 프로그램을 만들어보자. (1mm = 0.039inch)"
      ],
      "metadata": {
        "id": "VnF0sg1hzA6I"
      }
    },
    {
      "cell_type": "code",
      "source": [
        "byInch = 0.039\n",
        "lengthMM = int(input('길이(mm) 입력 : '))\n",
        "lengthInch = lengthMM * byInch\n",
        "\n",
        "print('{}mm -> {}inch'.format(lengthMM, lengthInch))"
      ],
      "metadata": {
        "colab": {
          "base_uri": "https://localhost:8080/"
        },
        "id": "GCVxDGNCzF2k",
        "outputId": "26899e4f-03fb-46fa-9464-70ce35974087"
      },
      "execution_count": 26,
      "outputs": [
        {
          "output_type": "stream",
          "name": "stdout",
          "text": [
            "길이(mm) 입력 : 52\n",
            "52mm -> 2.028inch\n"
          ]
        }
      ]
    }
  ]
}