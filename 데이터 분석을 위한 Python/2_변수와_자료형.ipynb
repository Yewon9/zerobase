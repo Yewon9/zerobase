{
 "cells": [
  {
   "cell_type": "markdown",
   "id": "27d9485f-e152-41b7-8fbe-a473cf1f2e95",
   "metadata": {},
   "source": [
    "# 01 변수와 자료형 기초"
   ]
  },
  {
   "cell_type": "markdown",
   "id": "35f61004-1613-4d42-98b2-3713d5d4f766",
   "metadata": {},
   "source": [
    "## 변수에 값 할당하기"
   ]
  },
  {
   "cell_type": "code",
   "execution_count": 1,
   "id": "a6a585ea-11df-4d72-a43c-203cadb4a82f",
   "metadata": {},
   "outputs": [
    {
     "name": "stdout",
     "output_type": "stream",
     "text": [
      "Name: John\n",
      "Age: 25\n",
      "Height: 5.9\n"
     ]
    }
   ],
   "source": [
    "# 변수에 정수 할당 (주석)\n",
    "age = 25\n",
    "# 변수에 문자열 할당\n",
    "name = \"John\"\n",
    "# 변수에 실수 할당\n",
    "height = 5.9\n",
    "\n",
    "# 변수 출력\n",
    "print(\"Name:\", name) # 튜플 형태의 출력 방식\n",
    "print(\"Age:\", age)\n",
    "print(\"Height:\", height)"
   ]
  },
  {
   "cell_type": "markdown",
   "id": "9d11b8b9-fad9-46c8-8877-b39421e9fcd1",
   "metadata": {},
   "source": [
    "## 변수의 값 변경하기"
   ]
  },
  {
   "cell_type": "code",
   "execution_count": 2,
   "id": "185929e8-de4e-430a-9ad3-f0ec2cb54fc4",
   "metadata": {},
   "outputs": [
    {
     "name": "stdout",
     "output_type": "stream",
     "text": [
      "Updated Age: 30\n",
      "Updated Height: 6.2\n"
     ]
    }
   ],
   "source": [
    "# 변수 값 변경하기\n",
    "age = 30\n",
    "height = 6.2\n",
    "\n",
    "# 변경된 값 출력\n",
    "print(\"Updated Age:\", age)\n",
    "print(\"Updated Height:\", height)"
   ]
  },
  {
   "cell_type": "markdown",
   "id": "5fdfce6d-c15c-46e7-8fe7-0a9acdfa49f6",
   "metadata": {},
   "source": [
    "## 잘못된 변수명 사용해보기"
   ]
  },
  {
   "cell_type": "code",
   "execution_count": 3,
   "id": "7054e888-c307-4eee-a05b-a1d82e73d672",
   "metadata": {},
   "outputs": [
    {
     "ename": "SyntaxError",
     "evalue": "invalid syntax (1951911161.py, line 1)",
     "output_type": "error",
     "traceback": [
      "\u001b[1;36m  Cell \u001b[1;32mIn[3], line 1\u001b[1;36m\u001b[0m\n\u001b[1;33m    1student_name = \"Bob\" # 숫자로 시작\u001b[0m\n\u001b[1;37m     ^\u001b[0m\n\u001b[1;31mSyntaxError\u001b[0m\u001b[1;31m:\u001b[0m invalid syntax\n"
     ]
    }
   ],
   "source": [
    "1student_name = \"Bob\" # 숫자로 시작"
   ]
  },
  {
   "cell_type": "code",
   "execution_count": 4,
   "id": "f5d0ea87-2598-49c7-8967-8e9edcc2236d",
   "metadata": {},
   "outputs": [
    {
     "ename": "SyntaxError",
     "evalue": "invalid syntax (4059200048.py, line 1)",
     "output_type": "error",
     "traceback": [
      "\u001b[1;36m  Cell \u001b[1;32mIn[4], line 1\u001b[1;36m\u001b[0m\n\u001b[1;33m    student name = \"Charlie\" # 공백 포함\u001b[0m\n\u001b[1;37m            ^\u001b[0m\n\u001b[1;31mSyntaxError\u001b[0m\u001b[1;31m:\u001b[0m invalid syntax\n"
     ]
    }
   ],
   "source": [
    "student name = \"Charlie\" # 공백 포함"
   ]
  },
  {
   "cell_type": "code",
   "execution_count": 5,
   "id": "6971dcda-b25e-4fc9-b30a-3f01ff527ef1",
   "metadata": {},
   "outputs": [
    {
     "ename": "SyntaxError",
     "evalue": "cannot assign to operator (2368372608.py, line 1)",
     "output_type": "error",
     "traceback": [
      "\u001b[1;36m  Cell \u001b[1;32mIn[5], line 1\u001b[1;36m\u001b[0m\n\u001b[1;33m    student-name = \"Charlie\" # 하이픈 포함\u001b[0m\n\u001b[1;37m    ^\u001b[0m\n\u001b[1;31mSyntaxError\u001b[0m\u001b[1;31m:\u001b[0m cannot assign to operator\n"
     ]
    }
   ],
   "source": [
    "student-name = \"Charlie\" # 하이픈 포함"
   ]
  },
  {
   "cell_type": "code",
   "execution_count": 6,
   "id": "3470e46f-d37d-4eae-8a9a-65562f44673a",
   "metadata": {},
   "outputs": [
    {
     "ename": "SyntaxError",
     "evalue": "invalid syntax (3105375244.py, line 1)",
     "output_type": "error",
     "traceback": [
      "\u001b[1;36m  Cell \u001b[1;32mIn[6], line 1\u001b[1;36m\u001b[0m\n\u001b[1;33m    if = 3 # 예약어 사용\u001b[0m\n\u001b[1;37m       ^\u001b[0m\n\u001b[1;31mSyntaxError\u001b[0m\u001b[1;31m:\u001b[0m invalid syntax\n"
     ]
    }
   ],
   "source": [
    "if = 3 # 예약어 사용"
   ]
  },
  {
   "cell_type": "code",
   "execution_count": 7,
   "id": "92c26773-d42c-48f3-8084-71017d947866",
   "metadata": {},
   "outputs": [
    {
     "name": "stdout",
     "output_type": "stream",
     "text": [
      "김철수\n"
     ]
    }
   ],
   "source": [
    "학생이름 = \"김철수\" # 한글 변수명 사용은 가능하나, 사용하지 않기를 권장함\n",
    "print(학생이름)"
   ]
  },
  {
   "cell_type": "markdown",
   "id": "5215b35d-dea9-4fea-9877-2ec3c3922001",
   "metadata": {},
   "source": [
    "## 다양한 자료형 생성해보고 종류 확인하기"
   ]
  },
  {
   "cell_type": "code",
   "execution_count": 8,
   "id": "3a916059-2904-4fdc-a0fe-68cb6ca7ce55",
   "metadata": {},
   "outputs": [],
   "source": [
    "# 정수\n",
    "num =10\n",
    "# 실수\n",
    "pi = 3.14\n",
    "# 문자열\n",
    "greeting = \"Hello, World!\"\n",
    "# 불린\n",
    "is_active = True\n",
    "# 리스트\n",
    "fruits = [\"apple\", \"banana\", \"cherry\"]\n",
    "# 튜플\n",
    "coordinates = (10, 20)\n",
    "# 집합\n",
    "unique_numbers = {1, 2, 3}\n",
    "# 사전\n",
    "person = {\"name\": \"Alice\", \"age\": 25}"
   ]
  },
  {
   "cell_type": "code",
   "execution_count": 9,
   "id": "d661ed4f-1a73-43d7-ae0e-a256815b1bb1",
   "metadata": {},
   "outputs": [
    {
     "name": "stdout",
     "output_type": "stream",
     "text": [
      "Type of num: <class 'int'>\n",
      "Type of pi: <class 'float'>\n",
      "Type of greeting: <class 'str'>\n",
      "Type of is_active: <class 'bool'>\n",
      "Type of fruits: <class 'list'>\n",
      "Type of coordinates: <class 'tuple'>\n",
      "Type of unique_numbers: <class 'set'>\n",
      "Type of person: <class 'dict'>\n"
     ]
    }
   ],
   "source": [
    "# type 함수로 자료형 확인\n",
    "print(\"Type of num:\", type(num))\n",
    "print(\"Type of pi:\", type(pi))\n",
    "print(\"Type of greeting:\", type(greeting))\n",
    "print(\"Type of is_active:\", type(is_active))\n",
    "print(\"Type of fruits:\", type(fruits))\n",
    "print(\"Type of coordinates:\", type(coordinates))\n",
    "print(\"Type of unique_numbers:\", type(unique_numbers))\n",
    "print(\"Type of person:\", type(person))"
   ]
  },
  {
   "cell_type": "markdown",
   "id": "74f4640f-2587-45e2-a0dc-259fd8e601df",
   "metadata": {},
   "source": [
    "# 02 파이썬 기본 자료형"
   ]
  },
  {
   "cell_type": "markdown",
   "id": "abfff29a-9df4-43e4-a674-3edefc6ae4c9",
   "metadata": {},
   "source": [
    "## int와 float 자료형 생성하기"
   ]
  },
  {
   "cell_type": "code",
   "execution_count": 10,
   "id": "a328e9a4-7329-4603-b12e-8bcfa487d088",
   "metadata": {},
   "outputs": [
    {
     "name": "stdout",
     "output_type": "stream",
     "text": [
      "<class 'int'> <class 'float'>\n"
     ]
    }
   ],
   "source": [
    "v1 = 2\n",
    "v2 = 2.0\n",
    "\n",
    "print(type(v1), type(v2))"
   ]
  },
  {
   "cell_type": "markdown",
   "id": "eb5b02b0-846e-4b45-be08-1b6cf88181dd",
   "metadata": {},
   "source": [
    "## str 자료형 생성하기"
   ]
  },
  {
   "cell_type": "code",
   "execution_count": 11,
   "id": "47a35e43-e757-432c-aa32-51b778d9fa8b",
   "metadata": {},
   "outputs": [
    {
     "name": "stdout",
     "output_type": "stream",
     "text": [
      "abc abc\n"
     ]
    }
   ],
   "source": [
    "s1 = 'abc'\n",
    "s2 = \"abc\"\n",
    "\n",
    "print(s1, s2)"
   ]
  },
  {
   "cell_type": "code",
   "execution_count": 12,
   "id": "8c939751-09c9-4b62-a35d-2b7b56e56390",
   "metadata": {},
   "outputs": [
    {
     "name": "stdout",
     "output_type": "stream",
     "text": [
      "<class 'str'> <class 'str'>\n"
     ]
    }
   ],
   "source": [
    "print(type(s1), type(s2))"
   ]
  },
  {
   "cell_type": "code",
   "execution_count": 13,
   "id": "5249f1c2-0e4a-4989-90e7-2867afac2115",
   "metadata": {},
   "outputs": [
    {
     "ename": "SyntaxError",
     "evalue": "EOL while scanning string literal (3509654837.py, line 1)",
     "output_type": "error",
     "traceback": [
      "\u001b[1;36m  Cell \u001b[1;32mIn[13], line 1\u001b[1;36m\u001b[0m\n\u001b[1;33m    s1 = 'abc\"\u001b[0m\n\u001b[1;37m              ^\u001b[0m\n\u001b[1;31mSyntaxError\u001b[0m\u001b[1;31m:\u001b[0m EOL while scanning string literal\n"
     ]
    }
   ],
   "source": [
    "s1 = 'abc\""
   ]
  },
  {
   "cell_type": "code",
   "execution_count": 14,
   "id": "a80834c5-4f14-437d-84fd-a7bb50268ec8",
   "metadata": {},
   "outputs": [
    {
     "ename": "SyntaxError",
     "evalue": "EOL while scanning string literal (3389912360.py, line 1)",
     "output_type": "error",
     "traceback": [
      "\u001b[1;36m  Cell \u001b[1;32mIn[14], line 1\u001b[1;36m\u001b[0m\n\u001b[1;33m    s2 = \"abc'\u001b[0m\n\u001b[1;37m              ^\u001b[0m\n\u001b[1;31mSyntaxError\u001b[0m\u001b[1;31m:\u001b[0m EOL while scanning string literal\n"
     ]
    }
   ],
   "source": [
    "s2 = \"abc'"
   ]
  },
  {
   "cell_type": "code",
   "execution_count": 18,
   "id": "d155d395-e4c3-460f-a228-a0fd62f22948",
   "metadata": {},
   "outputs": [
    {
     "data": {
      "text/plain": [
       "\"나는 '파이썬'을 처음 배웁니다!\""
      ]
     },
     "execution_count": 18,
     "metadata": {},
     "output_type": "execute_result"
    }
   ],
   "source": [
    "s = \"나는 '파이썬'을 처음 배웁니다!\"\n",
    "s"
   ]
  },
  {
   "cell_type": "markdown",
   "id": "960e9e86-14c5-4ef9-a701-37685d731f9d",
   "metadata": {},
   "source": [
    "## 이스케이프 문자 이용하기"
   ]
  },
  {
   "cell_type": "code",
   "execution_count": 20,
   "id": "4bd318cc-70a2-416f-9bfd-9019b2ac9749",
   "metadata": {},
   "outputs": [
    {
     "name": "stdout",
     "output_type": "stream",
     "text": [
      "제로베이스에서\n",
      "파이선 제대로 배우기\n"
     ]
    }
   ],
   "source": [
    "s = '제로베이스에서\\n파이선 제대로 배우기'\n",
    "print(s)"
   ]
  },
  {
   "cell_type": "code",
   "execution_count": 21,
   "id": "44991776-e6a9-4833-85ce-14d8638fa3d4",
   "metadata": {},
   "outputs": [
    {
     "data": {
      "text/plain": [
       "'제로베이스에서\\n파이선 제대로 배우기'"
      ]
     },
     "execution_count": 21,
     "metadata": {},
     "output_type": "execute_result"
    }
   ],
   "source": [
    "s # 주피터 노트북 팁! 주피터 노트북에서 셀을 실행할 때, 해당 셀의 마지막 표현식의 평가 결과가 원본 그 자체로 출력됩니다."
   ]
  },
  {
   "cell_type": "markdown",
   "id": "c054dd41-38b0-45e4-ad79-a25fef56cc07",
   "metadata": {},
   "source": [
    "## list와 tuple 자료형 생성하기"
   ]
  },
  {
   "cell_type": "code",
   "execution_count": 22,
   "id": "1d3c36b0-7afe-41be-a258-ccddfcba522e",
   "metadata": {},
   "outputs": [
    {
     "name": "stdout",
     "output_type": "stream",
     "text": [
      "[1, 2, 3, 4] (1, 2, 3, 4)\n",
      "<class 'list'> <class 'tuple'>\n"
     ]
    }
   ],
   "source": [
    "L = [1, 2, 3, 4]\n",
    "T = (1, 2, 3, 4)\n",
    "print(L, T)\n",
    "print(type(L), type(T))"
   ]
  },
  {
   "cell_type": "markdown",
   "id": "2022d536-70db-437a-a98e-b3a2f65668f1",
   "metadata": {},
   "source": [
    "## set 자료형 생성하기"
   ]
  },
  {
   "cell_type": "code",
   "execution_count": 24,
   "id": "8f3a4dbb-d11c-46dd-8d65-f4e26ee2ffd4",
   "metadata": {},
   "outputs": [
    {
     "name": "stdout",
     "output_type": "stream",
     "text": [
      "{1, 2, 3}\n"
     ]
    }
   ],
   "source": [
    "S = {1, 2, 3, 3}\n",
    "print(S)"
   ]
  },
  {
   "cell_type": "code",
   "execution_count": 25,
   "id": "7e77bf41-cb56-4b36-8277-ce07eaed4327",
   "metadata": {},
   "outputs": [
    {
     "name": "stdout",
     "output_type": "stream",
     "text": [
      "{1, 2, 3}\n"
     ]
    }
   ],
   "source": [
    "S = {3, 2, 1}\n",
    "print(S) # 출력 순서는 보장되지 않음"
   ]
  },
  {
   "cell_type": "markdown",
   "id": "f857facf-46fb-4708-a0ad-f3c15ad1ecf1",
   "metadata": {},
   "source": [
    "## dict 자료형 생성하기"
   ]
  },
  {
   "cell_type": "code",
   "execution_count": 26,
   "id": "5502fee0-d802-45bd-96e5-1cb5240e280c",
   "metadata": {},
   "outputs": [
    {
     "name": "stdout",
     "output_type": "stream",
     "text": [
      "{1: 'a', 2: 'b', 3: 'c'} <class 'dict'>\n"
     ]
    }
   ],
   "source": [
    "d = {1:'a', 2:'b', 3:'c'}\n",
    "print(d, type(d))"
   ]
  },
  {
   "cell_type": "code",
   "execution_count": 27,
   "id": "f3457d8c-6c5e-4405-995e-ea8c44b4a411",
   "metadata": {},
   "outputs": [
    {
     "name": "stdout",
     "output_type": "stream",
     "text": [
      "a\n"
     ]
    }
   ],
   "source": [
    "print(d[1])"
   ]
  },
  {
   "cell_type": "code",
   "execution_count": 28,
   "id": "c66e28bf-31ba-4401-b33d-35b4df03ae0c",
   "metadata": {},
   "outputs": [
    {
     "name": "stdout",
     "output_type": "stream",
     "text": [
      "{1: 'x', 2: 'b', 3: 'c'}\n"
     ]
    }
   ],
   "source": [
    "d[1] = 'x' # 키는 중복되지 않음\n",
    "print(d)"
   ]
  },
  {
   "cell_type": "markdown",
   "id": "60bc8973-d7ca-46a6-b9fd-bc55134afdb7",
   "metadata": {},
   "source": [
    "## bool 자료형 생성하기"
   ]
  },
  {
   "cell_type": "code",
   "execution_count": 29,
   "id": "edd9c6e5-a828-4916-addf-552d9ce7a30f",
   "metadata": {},
   "outputs": [
    {
     "name": "stdout",
     "output_type": "stream",
     "text": [
      "False True\n",
      "<class 'bool'> <class 'bool'>\n"
     ]
    }
   ],
   "source": [
    "a = False\n",
    "b = True\n",
    "print(a, b)\n",
    "print(type(a), type(b))"
   ]
  },
  {
   "cell_type": "markdown",
   "id": "b3228c93-346d-40c0-91a7-126e2b9c2e11",
   "metadata": {},
   "source": [
    "# 03. 인덱싱과 슬라이싱"
   ]
  },
  {
   "cell_type": "markdown",
   "id": "72368062-df65-48a6-b49f-5f1716dfa251",
   "metadata": {},
   "source": [
    "## 순서가 있는 자료형과 순서가 없는 자료형"
   ]
  },
  {
   "cell_type": "code",
   "execution_count": 30,
   "id": "185d6730-dd80-4ca1-8916-1d9764ac7fac",
   "metadata": {},
   "outputs": [
    {
     "name": "stdout",
     "output_type": "stream",
     "text": [
      "1\n"
     ]
    }
   ],
   "source": [
    "x = [1, 2, 3]\n",
    "print(x[0])"
   ]
  },
  {
   "cell_type": "code",
   "execution_count": 31,
   "id": "29447b42-efc2-4af8-8b3a-fe74a1f88f1e",
   "metadata": {},
   "outputs": [
    {
     "name": "stdout",
     "output_type": "stream",
     "text": [
      "1\n"
     ]
    }
   ],
   "source": [
    "x = '123'\n",
    "print(x[0])"
   ]
  },
  {
   "cell_type": "code",
   "execution_count": 32,
   "id": "a2718609-8c1e-4bb0-8157-3ae61885570d",
   "metadata": {},
   "outputs": [
    {
     "ename": "TypeError",
     "evalue": "'set' object is not subscriptable",
     "output_type": "error",
     "traceback": [
      "\u001b[1;31m---------------------------------------------------------------------------\u001b[0m",
      "\u001b[1;31mTypeError\u001b[0m                                 Traceback (most recent call last)",
      "Cell \u001b[1;32mIn[32], line 2\u001b[0m\n\u001b[0;32m      1\u001b[0m x \u001b[38;5;241m=\u001b[39m {\u001b[38;5;241m1\u001b[39m, \u001b[38;5;241m2\u001b[39m, \u001b[38;5;241m3\u001b[39m}\n\u001b[1;32m----> 2\u001b[0m \u001b[38;5;28mprint\u001b[39m(\u001b[43mx\u001b[49m\u001b[43m[\u001b[49m\u001b[38;5;241;43m0\u001b[39;49m\u001b[43m]\u001b[49m)\n",
      "\u001b[1;31mTypeError\u001b[0m: 'set' object is not subscriptable"
     ]
    }
   ],
   "source": [
    "x = {1, 2, 3}\n",
    "print(x[0])"
   ]
  },
  {
   "cell_type": "code",
   "execution_count": 33,
   "id": "6c92cc24-1708-49c8-808a-ef57a59a82f2",
   "metadata": {},
   "outputs": [
    {
     "ename": "KeyError",
     "evalue": "0",
     "output_type": "error",
     "traceback": [
      "\u001b[1;31m---------------------------------------------------------------------------\u001b[0m",
      "\u001b[1;31mKeyError\u001b[0m                                  Traceback (most recent call last)",
      "Cell \u001b[1;32mIn[33], line 2\u001b[0m\n\u001b[0;32m      1\u001b[0m x \u001b[38;5;241m=\u001b[39m {\u001b[38;5;241m1\u001b[39m:\u001b[38;5;124m'\u001b[39m\u001b[38;5;124ma\u001b[39m\u001b[38;5;124m'\u001b[39m, \u001b[38;5;241m2\u001b[39m:\u001b[38;5;124m'\u001b[39m\u001b[38;5;124mb\u001b[39m\u001b[38;5;124m'\u001b[39m}\n\u001b[1;32m----> 2\u001b[0m \u001b[38;5;28mprint\u001b[39m(\u001b[43mx\u001b[49m\u001b[43m[\u001b[49m\u001b[38;5;241;43m0\u001b[39;49m\u001b[43m]\u001b[49m)\n",
      "\u001b[1;31mKeyError\u001b[0m: 0"
     ]
    }
   ],
   "source": [
    "x = {1:'a', 2:'b'}\n",
    "print(x[0])"
   ]
  },
  {
   "cell_type": "markdown",
   "id": "281fe759-9faf-4453-aef1-68515fe5e9a6",
   "metadata": {},
   "source": [
    "## 리스트에서 인덱싱 연습\n",
    "- 아래 리스트에서 세번째 요소를 출력하세요.\n",
    "- 마지막 요소를 출력하세요.\n",
    "- 첫 번재 요소를 100으로 변경하고 리스트를 출력하세요.\n",
    "- my_list = [10, 20, 30, 40, 50]"
   ]
  },
  {
   "cell_type": "code",
   "execution_count": 35,
   "id": "e166817e-f617-4fcd-98ec-38d5877906d7",
   "metadata": {},
   "outputs": [
    {
     "name": "stdout",
     "output_type": "stream",
     "text": [
      "30\n",
      "50 50\n",
      "[100, 20, 30, 40, 50]\n"
     ]
    }
   ],
   "source": [
    "my_list = [10, 20, 30, 40, 50]\n",
    "print(my_list[2])\n",
    "print(my_list[-1], my_list[4])\n",
    "my_list[0] = 100\n",
    "print(my_list)"
   ]
  },
  {
   "cell_type": "code",
   "execution_count": 36,
   "id": "870c1ece-3571-432e-9ab5-b9f3f820d07f",
   "metadata": {},
   "outputs": [
    {
     "ename": "TypeError",
     "evalue": "'tuple' object does not support item assignment",
     "output_type": "error",
     "traceback": [
      "\u001b[1;31m---------------------------------------------------------------------------\u001b[0m",
      "\u001b[1;31mTypeError\u001b[0m                                 Traceback (most recent call last)",
      "Cell \u001b[1;32mIn[36], line 2\u001b[0m\n\u001b[0;32m      1\u001b[0m my_tuple \u001b[38;5;241m=\u001b[39m (\u001b[38;5;241m10\u001b[39m, \u001b[38;5;241m20\u001b[39m, \u001b[38;5;241m30\u001b[39m, \u001b[38;5;241m40\u001b[39m, \u001b[38;5;241m50\u001b[39m)\n\u001b[1;32m----> 2\u001b[0m \u001b[43mmy_tuple\u001b[49m\u001b[43m[\u001b[49m\u001b[38;5;241;43m0\u001b[39;49m\u001b[43m]\u001b[49m \u001b[38;5;241m=\u001b[39m \u001b[38;5;241m100\u001b[39m\n",
      "\u001b[1;31mTypeError\u001b[0m: 'tuple' object does not support item assignment"
     ]
    }
   ],
   "source": [
    "my_tuple = (10, 20, 30, 40, 50)\n",
    "my_tuple[0] = 100"
   ]
  },
  {
   "cell_type": "markdown",
   "id": "c36d285d-ff80-4078-8140-2c44b933e5e0",
   "metadata": {},
   "source": [
    "## 리스트에서 슬라이싱 연습\n",
    "- 아래 리스트에서 첫 3개의 요소를 슬라이싱하세요.\n",
    "- 리스트의 마지막 두 요소를 슬라이싱하세요.\n",
    "- 리스트를 거꾸로 슬라이싱하여 출력하세요.\n",
    "- my_list = [1, 2, 3, 4, 5, 6, 7, 8]"
   ]
  },
  {
   "cell_type": "code",
   "execution_count": 37,
   "id": "964b3d57-655c-4e9c-87c3-5c106cd8ee0f",
   "metadata": {},
   "outputs": [
    {
     "name": "stdout",
     "output_type": "stream",
     "text": [
      "[1, 2, 3]\n",
      "[7, 8]\n",
      "[8, 7, 6, 5, 4, 3, 2, 1]\n"
     ]
    }
   ],
   "source": [
    "my_list = [1, 2, 3, 4, 5, 6, 7, 8]\n",
    "print(my_list[:3])\n",
    "print(my_list[-2:])\n",
    "print(my_list[::-1]) # 값을 역정렬할 때 사용하는 테크닉"
   ]
  },
  {
   "cell_type": "markdown",
   "id": "bb9752e8-c32e-4a87-9c7e-ffc12419676c",
   "metadata": {},
   "source": [
    "## 문자열에서 인덱싱과 슬라이싱 연습\n",
    "- 아래 문자열에서 첫 번째 문자를 출력하세요.\n",
    "- 문자열의 마지막 문자를 출력하세요.\n",
    "- 문자열의 첫 5문자를 슬라이싱하여 출력하세요.\n",
    "- 문자열의 홀수 번째 문자만 슬라이싱하여 출력하세요.\n",
    "- my_string = \"PythonProgramming\""
   ]
  },
  {
   "cell_type": "code",
   "execution_count": 38,
   "id": "6c4950fd-d19a-4713-878d-42a5ab6e51f2",
   "metadata": {},
   "outputs": [
    {
     "name": "stdout",
     "output_type": "stream",
     "text": [
      "P\n",
      "g\n",
      "Pytho\n",
      "PtoPormig\n"
     ]
    }
   ],
   "source": [
    "my_string = \"PythonProgramming\"\n",
    "print(my_string[0])\n",
    "print(my_string[-1])\n",
    "print(my_string[:5])\n",
    "print(my_string[::2])"
   ]
  },
  {
   "cell_type": "markdown",
   "id": "48f5e8df-32c9-468c-8cc0-6d62e9ffcba0",
   "metadata": {},
   "source": [
    "## 리스트와 문자열 혼합 실습\n",
    "- 두 번째 요소를 출력하세요.\n",
    "- 아래 리스트의 두 번째 요소에서 첫 번째 문자를 출력하세요.\n",
    "- 두 번째 요소에서 마지막 두 문자를 슬라이싱 하세요.\n",
    "- my_mixed_list = [\"Apple\", \"Banana\", \"Cherry\"]"
   ]
  },
  {
   "cell_type": "code",
   "execution_count": 40,
   "id": "ff88312a-550f-40d3-9b0b-5ff2bc42144b",
   "metadata": {},
   "outputs": [
    {
     "name": "stdout",
     "output_type": "stream",
     "text": [
      "Banana\n",
      "B\n",
      "na\n"
     ]
    }
   ],
   "source": [
    "my_mixed_list = [\"Apple\", \"Banana\", \"Cherry\"]\n",
    "print(my_mixed_list[1])\n",
    "print(my_mixed_list[1][0])\n",
    "print(my_mixed_list[1][-2:])"
   ]
  },
  {
   "cell_type": "markdown",
   "id": "295040a5-efc6-43cb-b521-8f0ceb0e6df7",
   "metadata": {},
   "source": [
    "## 인덱싱/슬라이싱으로 값 바꾸기\n",
    "- 아래 리스트의 맨 뒤 두 개 값을 50과 60으로 바꾸세요\n",
    "- my_list = [10, 20, 30, 40, 99, 99]"
   ]
  },
  {
   "cell_type": "code",
   "execution_count": 41,
   "id": "77b5c828-0ede-4e32-a2d3-29025f689d68",
   "metadata": {},
   "outputs": [
    {
     "name": "stdout",
     "output_type": "stream",
     "text": [
      "[10, 20, 30, 40, 50, 60]\n"
     ]
    }
   ],
   "source": [
    "# 인덱싱 활용하기\n",
    "my_list = [10, 20, 30, 40, 99, 99]\n",
    "my_list[-2] = 50\n",
    "my_list[-1] = 60\n",
    "print(my_list)"
   ]
  },
  {
   "cell_type": "code",
   "execution_count": 42,
   "id": "3966ff4e-39f0-4589-b8fa-127b69d13f87",
   "metadata": {},
   "outputs": [
    {
     "name": "stdout",
     "output_type": "stream",
     "text": [
      "[10, 20, 30, 40, 50, 60]\n"
     ]
    }
   ],
   "source": [
    "# 슬라이싱 활용하기 (1)\n",
    "my_list = [10, 20, 30, 40, 99, 99]\n",
    "my_list[-2:] = [50, 60] # [99,99] = [50,60]\n",
    "print(my_list)"
   ]
  },
  {
   "cell_type": "code",
   "execution_count": 43,
   "id": "4bb6d1b9-f712-4f6e-be76-a1f3ec845e43",
   "metadata": {},
   "outputs": [
    {
     "name": "stdout",
     "output_type": "stream",
     "text": [
      "[10, 20, 30, 40, 50, 60]\n"
     ]
    }
   ],
   "source": [
    "# 슬라이싱 활용하기 (2)\n",
    "my_list = [10, 20, 30, 40, 99, 99]\n",
    "my_list=my_list[:4] + [50, 60] # 리스트 연산\n",
    "print(my_list)"
   ]
  },
  {
   "cell_type": "markdown",
   "id": "e67f9569-ce98-4a96-890b-8dd71b0cf176",
   "metadata": {},
   "source": [
    "# 04. 자료형과 메서드"
   ]
  },
  {
   "cell_type": "markdown",
   "id": "aede8b26-bef9-4659-ae1c-d33c07c4f05d",
   "metadata": {},
   "source": [
    "## 공통 함수 실습"
   ]
  },
  {
   "cell_type": "markdown",
   "id": "57602e6d-d04d-42b0-8432-3042add92ce6",
   "metadata": {},
   "source": [
    "### len 함수"
   ]
  },
  {
   "cell_type": "code",
   "execution_count": 44,
   "id": "d295322b-0eba-4cb0-a515-93fabdde34e6",
   "metadata": {},
   "outputs": [
    {
     "name": "stdout",
     "output_type": "stream",
     "text": [
      "13\n",
      "5\n"
     ]
    }
   ],
   "source": [
    "# 문자열과 리스트의 길이 계산\n",
    "text = \"Hello, World!\"\n",
    "numbers = [1, 2, 3, 4, 5]\n",
    "print(len(text))\n",
    "print(len(numbers))"
   ]
  },
  {
   "cell_type": "markdown",
   "id": "108d94ee-981b-4aad-85d6-66795211d024",
   "metadata": {},
   "source": [
    "### sum 함수"
   ]
  },
  {
   "cell_type": "code",
   "execution_count": 45,
   "id": "16f82d7f-7a28-4ec9-9f6c-0e2e655190da",
   "metadata": {},
   "outputs": [
    {
     "name": "stdout",
     "output_type": "stream",
     "text": [
      "60\n",
      "180\n"
     ]
    }
   ],
   "source": [
    "# 리스트와 튜플의 합계 계산\n",
    "numbers = [10, 20, 30]\n",
    "scores = (50, 60, 70)\n",
    "print(sum(numbers))\n",
    "print(sum(scores))"
   ]
  },
  {
   "cell_type": "markdown",
   "id": "192c9379-d830-44ea-999b-36185ff9754f",
   "metadata": {},
   "source": [
    "### min $ max 함수"
   ]
  },
  {
   "cell_type": "code",
   "execution_count": 46,
   "id": "ea1dcda7-c6b4-455e-bc33-25d889cc7bc5",
   "metadata": {},
   "outputs": [
    {
     "name": "stdout",
     "output_type": "stream",
     "text": [
      "19\n",
      "30\n"
     ]
    }
   ],
   "source": [
    "# 리스트의 최소값과 최대값\n",
    "temperatures = [23, 19, 25, 30, 21]\n",
    "print(min(temperatures))\n",
    "print(max(temperatures))"
   ]
  },
  {
   "cell_type": "markdown",
   "id": "f94a446d-d933-4edb-8b73-7b879bd2bcb7",
   "metadata": {},
   "source": [
    "### sorted 함수"
   ]
  },
  {
   "cell_type": "code",
   "execution_count": 47,
   "id": "f28d6177-a1c4-41aa-ad61-0c29607d9c7e",
   "metadata": {},
   "outputs": [
    {
     "name": "stdout",
     "output_type": "stream",
     "text": [
      "[1, 2, 3, 5, 8]\n",
      "[8, 5, 3, 2, 1]\n"
     ]
    }
   ],
   "source": [
    "# 리스트 정렬 (오름차순과 내림차순)\n",
    "numbers = [5, 3, 8, 1, 2]\n",
    "print(sorted(numbers))\n",
    "print(sorted(numbers, reverse = True))"
   ]
  },
  {
   "cell_type": "markdown",
   "id": "84ffa8e0-1508-4e6d-9e63-28f955acd276",
   "metadata": {},
   "source": [
    "## 문자열 메서드 실습"
   ]
  },
  {
   "cell_type": "markdown",
   "id": "71af8829-0776-45ed-92ad-578d0be1a1f7",
   "metadata": {},
   "source": [
    "### upper & lower"
   ]
  },
  {
   "cell_type": "code",
   "execution_count": 48,
   "id": "2092fa93-1afa-44a0-b245-a46b0370fcaf",
   "metadata": {},
   "outputs": [
    {
     "name": "stdout",
     "output_type": "stream",
     "text": [
      "PYTHON IS FUN!\n",
      "python is fun!\n"
     ]
    }
   ],
   "source": [
    "# 대소문자 변환\n",
    "text = \"Python is Fun!\"\n",
    "print(text.upper())\n",
    "print(text.lower())"
   ]
  },
  {
   "cell_type": "markdown",
   "id": "386413b7-3b73-49d4-95f2-963e6debe16f",
   "metadata": {},
   "source": [
    "### strip"
   ]
  },
  {
   "cell_type": "code",
   "execution_count": 49,
   "id": "3e022e26-5e9b-4866-9b33-daee18e34c86",
   "metadata": {},
   "outputs": [
    {
     "name": "stdout",
     "output_type": "stream",
     "text": [
      "hello\n",
      "hello    \n",
      "    hello\n"
     ]
    }
   ],
   "source": [
    "# 문자열 공백 제거\n",
    "text = \"    hello    \"\n",
    "print(text.strip())\n",
    "print(text.lstrip())\n",
    "print(text.rstrip())"
   ]
  },
  {
   "cell_type": "markdown",
   "id": "930fa3b1-29d7-4877-905c-3cda84c7bab3",
   "metadata": {},
   "source": [
    "### replace"
   ]
  },
  {
   "cell_type": "code",
   "execution_count": 50,
   "id": "11678f0f-c336-4016-a367-11eecfd24e88",
   "metadata": {},
   "outputs": [
    {
     "name": "stdout",
     "output_type": "stream",
     "text": [
      "I like programming\n"
     ]
    }
   ],
   "source": [
    "# 문자열 교체\n",
    "text = \"I like Python\"\n",
    "print(text.replace(\"Python\", \"programming\"))"
   ]
  },
  {
   "cell_type": "markdown",
   "id": "21e4177c-b60d-4424-9a29-5c936dc7ddc4",
   "metadata": {},
   "source": [
    "### split & join"
   ]
  },
  {
   "cell_type": "code",
   "execution_count": 53,
   "id": "27e0c6d7-ad2d-4163-a8b1-7d8831f7eab5",
   "metadata": {},
   "outputs": [
    {
     "name": "stdout",
     "output_type": "stream",
     "text": [
      "['apple', 'banana', 'cherry']\n",
      "apple, banana, cherry\n"
     ]
    }
   ],
   "source": [
    "# 문자열 분리와 합치기\n",
    "text = \"apple,banana,cherry\"\n",
    "frutis = text.split(\",\")\n",
    "print(fruits)\n",
    "print(\", \".join(fruits))"
   ]
  },
  {
   "cell_type": "markdown",
   "id": "ef072aab-d208-4f34-8797-0dddbe76e16b",
   "metadata": {},
   "source": [
    "## 리스트 메서드 실습 예제"
   ]
  },
  {
   "cell_type": "markdown",
   "id": "fbae071c-82a7-41e3-bbe5-344a6fcfc10d",
   "metadata": {},
   "source": [
    "### append"
   ]
  },
  {
   "cell_type": "code",
   "execution_count": 54,
   "id": "4688d18d-6472-4f13-9bc5-fcc739282799",
   "metadata": {},
   "outputs": [
    {
     "name": "stdout",
     "output_type": "stream",
     "text": [
      "['apple', 'banana', 'cherry', 'cherry']\n"
     ]
    }
   ],
   "source": [
    "# 리스트 끝에 요소 추가\n",
    "frutis = [\"apple\", \"banana\"]\n",
    "fruits.append(\"cherry\")\n",
    "print(fruits)"
   ]
  },
  {
   "cell_type": "markdown",
   "id": "4ca255f1-2272-4100-92da-427077b69f7b",
   "metadata": {},
   "source": [
    "### insert"
   ]
  },
  {
   "cell_type": "code",
   "execution_count": 55,
   "id": "15c5101c-ce87-46a5-a376-edffa02805a2",
   "metadata": {},
   "outputs": [
    {
     "name": "stdout",
     "output_type": "stream",
     "text": [
      "['apple', 'banana', 'cherry']\n"
     ]
    }
   ],
   "source": [
    "# 특정 위치에 요소 삽입\n",
    "fruits = [\"apple\", \"cherry\"]\n",
    "fruits.insert(1, \"banana\")\n",
    "print(fruits)"
   ]
  },
  {
   "cell_type": "markdown",
   "id": "f3223463-85c0-4cc3-9226-70b0319e4e09",
   "metadata": {},
   "source": [
    "### remove"
   ]
  },
  {
   "cell_type": "code",
   "execution_count": 56,
   "id": "88920035-195b-4ca5-a01f-2bf25113398d",
   "metadata": {},
   "outputs": [
    {
     "name": "stdout",
     "output_type": "stream",
     "text": [
      "['apple', 'cherry']\n"
     ]
    }
   ],
   "source": [
    "# 특정 요소 삭제\n",
    "fruits = [\"apple\", \"banana\", \"cherry\"]\n",
    "fruits.remove(\"banana\")\n",
    "print(fruits)"
   ]
  },
  {
   "cell_type": "code",
   "execution_count": 57,
   "id": "5f3040c4-011e-4996-b609-0f52903beeea",
   "metadata": {},
   "outputs": [
    {
     "ename": "ValueError",
     "evalue": "list.remove(x): x not in list",
     "output_type": "error",
     "traceback": [
      "\u001b[1;31m---------------------------------------------------------------------------\u001b[0m",
      "\u001b[1;31mValueError\u001b[0m                                Traceback (most recent call last)",
      "Cell \u001b[1;32mIn[57], line 1\u001b[0m\n\u001b[1;32m----> 1\u001b[0m \u001b[43mfruits\u001b[49m\u001b[38;5;241;43m.\u001b[39;49m\u001b[43mremove\u001b[49m\u001b[43m(\u001b[49m\u001b[38;5;124;43m'\u001b[39;49m\u001b[38;5;124;43mmango\u001b[39;49m\u001b[38;5;124;43m'\u001b[39;49m\u001b[43m)\u001b[49m\n",
      "\u001b[1;31mValueError\u001b[0m: list.remove(x): x not in list"
     ]
    }
   ],
   "source": [
    "fruits.remove('mango')"
   ]
  },
  {
   "cell_type": "code",
   "execution_count": 59,
   "id": "9c54f1a8-fc5c-4567-8781-e1a573b6828e",
   "metadata": {},
   "outputs": [
    {
     "name": "stdout",
     "output_type": "stream",
     "text": [
      "1\n"
     ]
    },
    {
     "ename": "ValueError",
     "evalue": "'kiwi' is not in list",
     "output_type": "error",
     "traceback": [
      "\u001b[1;31m---------------------------------------------------------------------------\u001b[0m",
      "\u001b[1;31mValueError\u001b[0m                                Traceback (most recent call last)",
      "Cell \u001b[1;32mIn[59], line 4\u001b[0m\n\u001b[0;32m      2\u001b[0m fruits \u001b[38;5;241m=\u001b[39m [\u001b[38;5;124m\"\u001b[39m\u001b[38;5;124mapple\u001b[39m\u001b[38;5;124m\"\u001b[39m, \u001b[38;5;124m\"\u001b[39m\u001b[38;5;124mbanana\u001b[39m\u001b[38;5;124m\"\u001b[39m, \u001b[38;5;124m\"\u001b[39m\u001b[38;5;124mcherry\u001b[39m\u001b[38;5;124m\"\u001b[39m]\n\u001b[0;32m      3\u001b[0m \u001b[38;5;28mprint\u001b[39m(fruits\u001b[38;5;241m.\u001b[39mindex(\u001b[38;5;124m\"\u001b[39m\u001b[38;5;124mbanana\u001b[39m\u001b[38;5;124m\"\u001b[39m))\n\u001b[1;32m----> 4\u001b[0m \u001b[38;5;28mprint\u001b[39m(\u001b[43mfruits\u001b[49m\u001b[38;5;241;43m.\u001b[39;49m\u001b[43mindex\u001b[49m\u001b[43m(\u001b[49m\u001b[38;5;124;43m\"\u001b[39;49m\u001b[38;5;124;43mkiwi\u001b[39;49m\u001b[38;5;124;43m\"\u001b[39;49m\u001b[43m)\u001b[49m)\n",
      "\u001b[1;31mValueError\u001b[0m: 'kiwi' is not in list"
     ]
    }
   ],
   "source": [
    "# 특정 요소의 인덱스 찾기\n",
    "fruits = [\"apple\", \"banana\", \"cherry\"]\n",
    "print(fruits.index(\"banana\"))\n",
    "print(fruits.index(\"kiwi\"))"
   ]
  },
  {
   "cell_type": "markdown",
   "id": "4be557aa-77a7-4edc-a07f-11ca2139c2b7",
   "metadata": {},
   "source": [
    "### count"
   ]
  },
  {
   "cell_type": "code",
   "execution_count": 60,
   "id": "5776f188-e930-42e3-b9fc-07d061485fa4",
   "metadata": {},
   "outputs": [
    {
     "name": "stdout",
     "output_type": "stream",
     "text": [
      "2\n"
     ]
    }
   ],
   "source": [
    "# 특정 요소의 개수 확인\n",
    "fruits = [\"apple\", \"banana\", \"apple\"]\n",
    "print(fruits.count(\"apple\"))"
   ]
  },
  {
   "cell_type": "markdown",
   "id": "482b7dc9-0719-4ce3-a3b5-651c9103fc45",
   "metadata": {},
   "source": [
    "## 집합 메서드"
   ]
  },
  {
   "cell_type": "markdown",
   "id": "ff8d92c4-d06e-4c6b-bb01-1316b669342d",
   "metadata": {},
   "source": [
    "### union "
   ]
  },
  {
   "cell_type": "code",
   "execution_count": 62,
   "id": "fe1aa296-5936-426e-8146-71e3e05cd80e",
   "metadata": {},
   "outputs": [
    {
     "name": "stdout",
     "output_type": "stream",
     "text": [
      "{1, 2, 3, 4, 5}\n"
     ]
    }
   ],
   "source": [
    "# 두 집합의 합집합\n",
    "set1 = {1, 2, 3}\n",
    "set2 = {3, 4, 5}\n",
    "print(set1.union(set2))\n",
    "# set2.union(set1)"
   ]
  },
  {
   "cell_type": "markdown",
   "id": "d84d8926-3344-4009-8248-d49e017764f6",
   "metadata": {},
   "source": [
    "### intersection"
   ]
  },
  {
   "cell_type": "code",
   "execution_count": 63,
   "id": "7cd9e85d-f933-4ec4-8499-c9d39dc106d4",
   "metadata": {},
   "outputs": [
    {
     "name": "stdout",
     "output_type": "stream",
     "text": [
      "{3}\n"
     ]
    }
   ],
   "source": [
    "# 두 집합의 교집합\n",
    "set1 = {1, 2, 3}\n",
    "set2 = {3, 4, 5}\n",
    "print(set1.intersection(set2))"
   ]
  },
  {
   "cell_type": "markdown",
   "id": "7c4e353d-3179-4c14-85a5-7c17e622ecbd",
   "metadata": {},
   "source": [
    "### difference"
   ]
  },
  {
   "cell_type": "code",
   "execution_count": 64,
   "id": "f47bb2eb-c3cb-4b9e-900f-eb2be1d6c60a",
   "metadata": {},
   "outputs": [
    {
     "name": "stdout",
     "output_type": "stream",
     "text": [
      "{1, 2}\n"
     ]
    }
   ],
   "source": [
    "# 두 집합의 차집합\n",
    "set1 = {1, 2, 3}\n",
    "set2 = {3, 4, 5}\n",
    "print(set1.difference(set2))"
   ]
  },
  {
   "cell_type": "markdown",
   "id": "e70067f6-5b36-496e-bda6-57c1a2bc1b5a",
   "metadata": {},
   "source": [
    "## 딕셔너리 메서드"
   ]
  },
  {
   "cell_type": "markdown",
   "id": "cacd98b7-77a0-4802-b6fa-a2abf8071c69",
   "metadata": {},
   "source": [
    "### keys, values, items"
   ]
  },
  {
   "cell_type": "code",
   "execution_count": 65,
   "id": "a6a3feb9-a63c-4702-b834-2c6e977655d7",
   "metadata": {},
   "outputs": [
    {
     "name": "stdout",
     "output_type": "stream",
     "text": [
      "dict_keys(['name', 'age'])\n",
      "dict_values(['Alice', 25])\n",
      "dict_items([('name', 'Alice'), ('age', 25)])\n"
     ]
    }
   ],
   "source": [
    "# 딕셔너리의 키와 값\n",
    "data = {\"name\": \"Alice\", \"age\": 25}\n",
    "print(data.keys())\n",
    "print(data.values())\n",
    "print(data.items())"
   ]
  },
  {
   "cell_type": "markdown",
   "id": "cfebc63d-fbf1-4419-8de7-1785a3ff09fb",
   "metadata": {},
   "source": [
    "# 05. 자료형 변환과 활용"
   ]
  },
  {
   "cell_type": "markdown",
   "id": "13e089c0-1b62-48c3-a2bb-9ff86e414c40",
   "metadata": {},
   "source": [
    "## 숫자 변환 실습"
   ]
  },
  {
   "cell_type": "code",
   "execution_count": 66,
   "id": "eda66cb2-d65c-4301-b8ce-d436eef7e885",
   "metadata": {},
   "outputs": [
    {
     "name": "stdout",
     "output_type": "stream",
     "text": [
      "3\n",
      "42\n"
     ]
    },
    {
     "ename": "ValueError",
     "evalue": "invalid literal for int() with base 10: '42.5'",
     "output_type": "error",
     "traceback": [
      "\u001b[1;31m---------------------------------------------------------------------------\u001b[0m",
      "\u001b[1;31mValueError\u001b[0m                                Traceback (most recent call last)",
      "Cell \u001b[1;32mIn[66], line 3\u001b[0m\n\u001b[0;32m      1\u001b[0m \u001b[38;5;28mprint\u001b[39m(\u001b[38;5;28mint\u001b[39m(\u001b[38;5;241m3.9\u001b[39m))\n\u001b[0;32m      2\u001b[0m \u001b[38;5;28mprint\u001b[39m(\u001b[38;5;28mint\u001b[39m(\u001b[38;5;124m\"\u001b[39m\u001b[38;5;124m42\u001b[39m\u001b[38;5;124m\"\u001b[39m))\n\u001b[1;32m----> 3\u001b[0m \u001b[38;5;28mprint\u001b[39m(\u001b[38;5;28;43mint\u001b[39;49m\u001b[43m(\u001b[49m\u001b[38;5;124;43m\"\u001b[39;49m\u001b[38;5;124;43m42.5\u001b[39;49m\u001b[38;5;124;43m\"\u001b[39;49m\u001b[43m)\u001b[49m)\n",
      "\u001b[1;31mValueError\u001b[0m: invalid literal for int() with base 10: '42.5'"
     ]
    }
   ],
   "source": [
    "print(int(3.9))\n",
    "print(int(\"42\"))\n",
    "print(int(\"42.5\"))"
   ]
  },
  {
   "cell_type": "code",
   "execution_count": 67,
   "id": "ea57fe83-d821-4a70-b2d2-fb31edf62629",
   "metadata": {},
   "outputs": [
    {
     "name": "stdout",
     "output_type": "stream",
     "text": [
      "42\n"
     ]
    }
   ],
   "source": [
    "print(int(float(\"42.5\")))"
   ]
  },
  {
   "cell_type": "code",
   "execution_count": 69,
   "id": "7fbef10a-d928-46ce-9377-b9465ad476d4",
   "metadata": {},
   "outputs": [
    {
     "name": "stdout",
     "output_type": "stream",
     "text": [
      "5.0\n",
      "3.14\n"
     ]
    }
   ],
   "source": [
    "print(float(5))\n",
    "print(float(\"3.14\"))"
   ]
  },
  {
   "cell_type": "code",
   "execution_count": 70,
   "id": "dffb3c77-e55f-4d2e-bc4e-56d755f98e05",
   "metadata": {},
   "outputs": [
    {
     "ename": "ValueError",
     "evalue": "could not convert string to float: 'abc'",
     "output_type": "error",
     "traceback": [
      "\u001b[1;31m---------------------------------------------------------------------------\u001b[0m",
      "\u001b[1;31mValueError\u001b[0m                                Traceback (most recent call last)",
      "Cell \u001b[1;32mIn[70], line 1\u001b[0m\n\u001b[1;32m----> 1\u001b[0m \u001b[38;5;28;43mfloat\u001b[39;49m\u001b[43m(\u001b[49m\u001b[38;5;124;43m'\u001b[39;49m\u001b[38;5;124;43mabc\u001b[39;49m\u001b[38;5;124;43m'\u001b[39;49m\u001b[43m)\u001b[49m\n",
      "\u001b[1;31mValueError\u001b[0m: could not convert string to float: 'abc'"
     ]
    }
   ],
   "source": [
    "float('abc')"
   ]
  },
  {
   "cell_type": "markdown",
   "id": "e4c8518a-27ff-4be5-b712-1fb2cc0ef8f6",
   "metadata": {},
   "source": [
    "## 문자열 변환 실습"
   ]
  },
  {
   "cell_type": "code",
   "execution_count": 71,
   "id": "89fc1751-152f-4cf6-aebb-6ee68ac32d88",
   "metadata": {},
   "outputs": [
    {
     "name": "stdout",
     "output_type": "stream",
     "text": [
      "42\n",
      "3.14\n",
      "[1, 2, 3]\n"
     ]
    }
   ],
   "source": [
    "print(str(42))\n",
    "print(str(3.14))\n",
    "print(str([1, 2, 3]))"
   ]
  },
  {
   "cell_type": "markdown",
   "id": "5259c5fb-cb1e-4c8b-8527-cd6166b97055",
   "metadata": {},
   "source": [
    "## 리스트 변환 실습"
   ]
  },
  {
   "cell_type": "code",
   "execution_count": 72,
   "id": "7520c821-ac11-4e50-8453-cccd3d36c01f",
   "metadata": {},
   "outputs": [
    {
     "name": "stdout",
     "output_type": "stream",
     "text": [
      "['h', 'e', 'l', 'l', 'o']\n",
      "[1, 2, 3]\n"
     ]
    }
   ],
   "source": [
    "print(list(\"hello\"))\n",
    "print(list((1, 2, 3)))"
   ]
  },
  {
   "cell_type": "markdown",
   "id": "67adbb34-efe2-471f-bf63-9e0750140591",
   "metadata": {},
   "source": [
    "## 리스트 내 중복 제거 실습"
   ]
  },
  {
   "cell_type": "code",
   "execution_count": 73,
   "id": "084a815a-d9af-4c33-a80e-23446399f569",
   "metadata": {},
   "outputs": [
    {
     "name": "stdout",
     "output_type": "stream",
     "text": [
      "[1, 2, 2, 3, 4, 4, 5]\n",
      "{1, 2, 3, 4, 5}\n",
      "[1, 2, 3, 4, 5]\n"
     ]
    }
   ],
   "source": [
    "L = [1, 2, 2, 3, 4, 4, 5]\n",
    "print(L) # 원본\n",
    "L = set(L)\n",
    "print(L) # 집합으로 변환\n",
    "L = list(L) # 리스트로 변환\n",
    "L = sorted(L) # 정렬\n",
    "print(L)"
   ]
  },
  {
   "cell_type": "code",
   "execution_count": 74,
   "id": "6e4572eb-7307-4faa-b050-68983d14c480",
   "metadata": {},
   "outputs": [
    {
     "name": "stdout",
     "output_type": "stream",
     "text": [
      "[1, 2, 3, 4, 5]\n"
     ]
    }
   ],
   "source": [
    "L = [1, 2, 2, 3, 4, 4, 5]\n",
    "L = sorted(set(L))\n",
    "print(L)"
   ]
  }
 ],
 "metadata": {
  "kernelspec": {
   "display_name": "Python 3 (ipykernel)",
   "language": "python",
   "name": "python3"
  },
  "language_info": {
   "codemirror_mode": {
    "name": "ipython",
    "version": 3
   },
   "file_extension": ".py",
   "mimetype": "text/x-python",
   "name": "python",
   "nbconvert_exporter": "python",
   "pygments_lexer": "ipython3",
   "version": "3.9.7"
  }
 },
 "nbformat": 4,
 "nbformat_minor": 5
}
