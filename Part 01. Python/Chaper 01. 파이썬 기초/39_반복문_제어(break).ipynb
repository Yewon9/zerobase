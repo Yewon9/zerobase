{
  "nbformat": 4,
  "nbformat_minor": 0,
  "metadata": {
    "colab": {
      "provenance": []
    },
    "kernelspec": {
      "name": "python3",
      "display_name": "Python 3"
    },
    "language_info": {
      "name": "python"
    }
  },
  "cells": [
    {
      "cell_type": "markdown",
      "source": [
        "10의 팩토리얼(10!)을 계산하는 과정에서 결과값이 50을 넘을 때의 숫자를 구하자."
      ],
      "metadata": {
        "id": "JtXFlTtmPilK"
      }
    },
    {
      "cell_type": "code",
      "source": [
        "result = 1\n",
        "num = 0\n",
        "for i in range(1, 11):\n",
        "  result *= i\n",
        "\n",
        "  if result > 50:\n",
        "    num = i\n",
        "    break\n",
        "\n",
        "print('num : {}, result : {}'.format(num, result))"
      ],
      "metadata": {
        "colab": {
          "base_uri": "https://localhost:8080/"
        },
        "id": "m0IpjVgYPpDC",
        "outputId": "d59ac99a-9599-458b-8480-dec679445081"
      },
      "execution_count": 25,
      "outputs": [
        {
          "output_type": "stream",
          "name": "stdout",
          "text": [
            "num : 5, result : 120\n"
          ]
        }
      ]
    },
    {
      "cell_type": "markdown",
      "source": [
        "새끼 강아지 체중이 2.2kg가 넘으면 이유식을 중단하려고 한다. \\\n",
        "한 번 이유식을 먹을 때 체중이 70g 증가한다고 할 때, 예상되는 이유식 날짜를 구하자. (현재 체중은 800g이다.)"
      ],
      "metadata": {
        "id": "89aAuBFKcLzh"
      }
    },
    {
      "cell_type": "code",
      "source": [
        "limitWeight = 2200\n",
        "currentWeight = 800\n",
        "date = 1\n",
        "\n",
        "while True:\n",
        "  if currentWeight >= limitWeight:\n",
        "    break\n",
        "\n",
        "  date += 1\n",
        "  currentWeight += 70\n",
        "\n",
        "print('이유식 중단 날짜 : {}일'.format(date))"
      ],
      "metadata": {
        "colab": {
          "base_uri": "https://localhost:8080/"
        },
        "id": "ac2tFPMyb_Cn",
        "outputId": "dfe074ee-10c7-46ed-d986-dfc442c2da4f"
      },
      "execution_count": 27,
      "outputs": [
        {
          "output_type": "stream",
          "name": "stdout",
          "text": [
            "이유식 중단 날짜 : 21일\n"
          ]
        }
      ]
    }
  ]
}