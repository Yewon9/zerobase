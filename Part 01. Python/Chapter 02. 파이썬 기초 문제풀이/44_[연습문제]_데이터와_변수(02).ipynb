{
  "nbformat": 4,
  "nbformat_minor": 0,
  "metadata": {
    "colab": {
      "provenance": []
    },
    "kernelspec": {
      "name": "python3",
      "display_name": "Python 3"
    },
    "language_info": {
      "name": "python"
    }
  },
  "cells": [
    {
      "cell_type": "markdown",
      "source": [
        "사용자가 입력한 데이터의 길이를 출력하는 프로그램을 만들어보자."
      ],
      "metadata": {
        "id": "KfZtGzqtXYJM"
      }
    },
    {
      "cell_type": "code",
      "source": [
        "str = input('메시지 입력 : ')\n",
        "print('메시지 문자열 길이 : ', len(str))"
      ],
      "metadata": {
        "colab": {
          "base_uri": "https://localhost:8080/"
        },
        "id": "HBrr5AQrXboh",
        "outputId": "d40d6d05-af96-4ae1-8175-d8e056bdeb29"
      },
      "execution_count": 1,
      "outputs": [
        {
          "output_type": "stream",
          "name": "stdout",
          "text": [
            "메시지 입력 : Hello python!\n",
            "메시지 문자열 길이 :  13\n"
          ]
        }
      ]
    },
    {
      "cell_type": "markdown",
      "source": [
        "다음 문장에서 '객체지향' 문자열을 찾아보자."
      ],
      "metadata": {
        "id": "3SRwS-avXo70"
      }
    },
    {
      "cell_type": "code",
      "source": [
        "str = '파이썬(영어: Python)은 1991년 프로그래머인 귀도 반 로섬이 발표한 고급 프로그래밍 언어로, 플랫폼에 독립적이며 인터프리터식, 객체지향적, 동적 타이핑(dynamically typed) 대화형 언어이다. 파이썬이라는 이름은 귀도가 좋아하는 코미디 <Monty Python\\'s Flying Circus>에서 따온 것이다.'\n",
        "print('\\'객제지향\\' 문자열 위치 : ', str.find('객체지향'))"
      ],
      "metadata": {
        "colab": {
          "base_uri": "https://localhost:8080/"
        },
        "id": "PObWqks3XuCv",
        "outputId": "bd4e173e-ca33-4c7e-dcfc-3ab86730f7cc"
      },
      "execution_count": 2,
      "outputs": [
        {
          "output_type": "stream",
          "name": "stdout",
          "text": [
            "'객제지향' 문자열 위치 :  76\n"
          ]
        }
      ]
    },
    {
      "cell_type": "markdown",
      "source": [
        "아래 출력 결과아 같이 사용자가 입력한 데이터를 모두 실수로 변경한 후 사각형, 삼각형의 넓이를 출력해보자."
      ],
      "metadata": {
        "id": "xERaNJNcYXbP"
      }
    },
    {
      "cell_type": "code",
      "source": [
        "width = float(input('가로 길이 입력 : '))\n",
        "height = float(input('세로 길이 입력 : '))\n",
        "\n",
        "triangleArea = width * height / 2\n",
        "squareArea = width * width\n",
        "\n",
        "print('-' * 25)\n",
        "print('삼각형 넓이 : %f' % triangleArea)\n",
        "print('사각형 넓이 : %f' % squareArea)\n",
        "\n",
        "print('삼각형 넓이 : %.2f' % triangleArea)\n",
        "print('사각형 넓이 : %.2f' % squareArea)\n",
        "print('-' * 25)"
      ],
      "metadata": {
        "colab": {
          "base_uri": "https://localhost:8080/"
        },
        "id": "m0IpjVgYPpDC",
        "outputId": "09f842b4-8cb8-4fec-9e58-2ebae00c0847"
      },
      "execution_count": null,
      "outputs": [
        {
          "output_type": "stream",
          "name": "stdout",
          "text": [
            "가로 길이 입력 : 7\n",
            "세로 길이 입력 : 5\n",
            "-------------------------\n",
            "삼각형 넓이 : 17.500000\n",
            "사각형 넓이 : 49.000000\n",
            "삼각형 넓이 : 17.50\n",
            "사각형 넓이 : 49.00\n",
            "-------------------------\n"
          ]
        }
      ]
    }
  ]
}