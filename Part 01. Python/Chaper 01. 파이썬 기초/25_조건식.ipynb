{
  "nbformat": 4,
  "nbformat_minor": 0,
  "metadata": {
    "colab": {
      "provenance": []
    },
    "kernelspec": {
      "name": "python3",
      "display_name": "Python 3"
    },
    "language_info": {
      "name": "python"
    }
  },
  "cells": [
    {
      "cell_type": "markdown",
      "source": [
        "적설량을 입력하고 적설량이 30mm 이상이면 대설 경보를 발령하고 그렇지 않으면 대설 경보를 해제하는 코드를 작성해 보자."
      ],
      "metadata": {
        "id": "JtXFlTtmPilK"
      }
    },
    {
      "cell_type": "code",
      "source": [
        "limitSnowAmount = 30\n",
        "snowAmount = int(input('적설량 입력(mm) : '))\n",
        "\n",
        "print('적설량 : {}mm, {}'.format(snowAmount, '대설 경보 발령!!')) if snowAmount >= limitSnowAmount else print('적설량 : {}mm, {}'.format(snowAmount, '대설 경보 해제~~'))"
      ],
      "metadata": {
        "colab": {
          "base_uri": "https://localhost:8080/"
        },
        "id": "m0IpjVgYPpDC",
        "outputId": "90470fe1-b0f7-47e6-95cd-c73d7585e0ff"
      },
      "execution_count": 35,
      "outputs": [
        {
          "output_type": "stream",
          "name": "stdout",
          "text": [
            "적설량 입력(mm) : 22\n",
            "적설량 : 22mm, 대설 경보 해제~~\n"
          ]
        }
      ]
    },
    {
      "cell_type": "markdown",
      "source": [
        "국어, 영어, 수학 점수를 입력하면 조건식을 이용해서 과목별 결과와 전체 결과를 출력하는 코드를 작성해 보자. \\\n",
        "과목별 합격 점수 : 60점 \\\n",
        "전체 합격 평균 점수 : 70"
      ],
      "metadata": {
        "id": "EzdroG-H4Ge7"
      }
    },
    {
      "cell_type": "code",
      "execution_count": 37,
      "metadata": {
        "colab": {
          "base_uri": "https://localhost:8080/"
        },
        "id": "1sHJLeQ130Et",
        "outputId": "5f3a72ff-c926-416c-c921-59d63721dcf2"
      },
      "outputs": [
        {
          "output_type": "stream",
          "name": "stdout",
          "text": [
            "국어 점수 입력 : 62\n",
            "영어 점수 입력 : 80\n",
            "수학 점수 입력 : 85\n",
            "국어 : PASS\n",
            "영어 : PASS\n",
            "수학 : PASS\n",
            "시험 : PASS\n",
            "총점 : 227, 평균 : 75.67\n"
          ]
        }
      ],
      "source": [
        "import operator\n",
        "\n",
        "passScore1 = 60\n",
        "passScore2 = 70\n",
        "\n",
        "korScore = int(input('국어 점수 입력 : '))\n",
        "engScore = int(input('영어 점수 입력 : '))\n",
        "mathScore = int(input('수학 점수 입력 : '))\n",
        "\n",
        "totalScore = korScore + engScore + mathScore\n",
        "scoreAvg = totalScore / 3\n",
        "\n",
        "print('국어 : PASS') if operator.ge(korScore, passScore1) else print('국어 : FAIL')\n",
        "print('영어 : PASS') if operator.ge(engScore, passScore1) else print('영어 : FAIL')\n",
        "print('수학 : PASS') if operator.ge(mathScore, passScore1) else print('수학 : FAIL')\n",
        "print('시험 : PASS') if operator.ge(totalScore, passScore2) else print('시험 : FAIL')\n",
        "\n",
        "print('총점 : %d, 평균 : %.2f' % (totalScore, scoreAvg))"
      ]
    }
  ]
}