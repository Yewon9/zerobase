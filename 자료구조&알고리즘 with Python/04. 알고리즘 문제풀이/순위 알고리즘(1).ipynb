{
 "cells": [
  {
   "cell_type": "markdown",
   "id": "903f8da6-fc15-4f15-b792-5f83a2e04cbe",
   "metadata": {},
   "source": [
    "### 숫자로 이루어진 리스트에서 아이템의 순위를 출력하고 순위에 따라 아이템을 정렬하는 모듈을 만들어보자. 리스트는 50부터 100까지의 난수 20개를 이용하자."
   ]
  },
  {
   "cell_type": "code",
   "execution_count": 1,
   "id": "58d0a560-9acd-44ca-8448-1a84e37064d2",
   "metadata": {},
   "outputs": [],
   "source": [
    "import random"
   ]
  },
  {
   "cell_type": "code",
   "execution_count": null,
   "id": "45cf8279-ca3e-43fc-a90f-ef1fcd1654cb",
   "metadata": {},
   "outputs": [],
   "source": [
    "if __name__ == '__main__':\n",
    "    nums = random.sample(range(50, 101), 20)"
   ]
  }
 ],
 "metadata": {
  "kernelspec": {
   "display_name": "Python 3 (ipykernel)",
   "language": "python",
   "name": "python3"
  },
  "language_info": {
   "codemirror_mode": {
    "name": "ipython",
    "version": 3
   },
   "file_extension": ".py",
   "mimetype": "text/x-python",
   "name": "python",
   "nbconvert_exporter": "python",
   "pygments_lexer": "ipython3",
   "version": "3.9.7"
  }
 },
 "nbformat": 4,
 "nbformat_minor": 5
}
