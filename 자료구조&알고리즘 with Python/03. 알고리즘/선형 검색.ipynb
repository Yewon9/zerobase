{
 "cells": [
  {
   "cell_type": "markdown",
   "id": "93bd6790-7653-4630-9c0b-749a4f035308",
   "metadata": {},
   "source": [
    "### 선형검색"
   ]
  },
  {
   "cell_type": "code",
   "execution_count": 1,
   "id": "5aabd01e-7841-4ebc-8c27-92f1ffba9f28",
   "metadata": {},
   "outputs": [
    {
     "name": "stdout",
     "output_type": "stream",
     "text": [
      "datas : [3, 2, 5, 7, 9, 1, 0, 8, 6, 4]\n",
      "datas length : 10\n"
     ]
    }
   ],
   "source": [
    "datas = [3, 2, 5, 7, 9, 1, 0, 8, 6, 4]\n",
    "print(f'datas : {datas}')\n",
    "print(f'datas length : {len(datas)}')"
   ]
  },
  {
   "cell_type": "code",
   "execution_count": 2,
   "id": "f87dc67c-d02b-42f6-a8a4-6d9ee106a613",
   "metadata": {},
   "outputs": [
    {
     "name": "stdin",
     "output_type": "stream",
     "text": [
      "찾으려는 숫자 입력 :  1\n"
     ]
    }
   ],
   "source": [
    "searchData = int(input('찾으려는 숫자 입력 : '))\n",
    "searchResultIdx = -1"
   ]
  },
  {
   "cell_type": "code",
   "execution_count": 5,
   "id": "ff82cab9-47fe-4244-85ee-7d7a32dacb9e",
   "metadata": {},
   "outputs": [
    {
     "name": "stdout",
     "output_type": "stream",
     "text": [
      "searchResultIdx : 5\n"
     ]
    }
   ],
   "source": [
    "n = 0\n",
    "while True:\n",
    "    if n == len(datas):\n",
    "        searchResultIdx = -1\n",
    "        break\n",
    "    elif datas[n] == searchData:\n",
    "        searchResultIdx = n\n",
    "        break\n",
    "    n += 1\n",
    "\n",
    "print(f'searchResultIdx : {searchResultIdx}')"
   ]
  },
  {
   "cell_type": "markdown",
   "id": "d9a0ea79-35a7-4b2a-9fad-549272ae4512",
   "metadata": {},
   "source": [
    "### 보초법"
   ]
  },
  {
   "cell_type": "code",
   "execution_count": 11,
   "id": "a3514949-f131-40a6-800f-61c7ad10dc71",
   "metadata": {},
   "outputs": [
    {
     "name": "stdout",
     "output_type": "stream",
     "text": [
      "datas : [3, 2, 5, 7, 9, 1, 0, 8, 6, 4]\n",
      "datas length : 10\n"
     ]
    }
   ],
   "source": [
    "datas = [3, 2, 5, 7, 9, 1, 0, 8, 6, 4]\n",
    "print(f'datas : {datas}')\n",
    "print(f'datas length : {len(datas)}')"
   ]
  },
  {
   "cell_type": "code",
   "execution_count": 12,
   "id": "0f10706e-438b-43c9-a648-f2d0d2b49ba5",
   "metadata": {},
   "outputs": [
    {
     "name": "stdin",
     "output_type": "stream",
     "text": [
      "찾으려는 숫자 입력 :  11\n"
     ]
    }
   ],
   "source": [
    "searchData = int(input('찾으려는 숫자 입력 : '))\n",
    "searchResultIdx = -1"
   ]
  },
  {
   "cell_type": "code",
   "execution_count": 13,
   "id": "7814886a-da85-4947-80b1-740c1863f733",
   "metadata": {},
   "outputs": [],
   "source": [
    "datas.append(searchData)"
   ]
  },
  {
   "cell_type": "code",
   "execution_count": 14,
   "id": "642eff3f-4d0b-4a21-bbbb-37a2e5dfe543",
   "metadata": {},
   "outputs": [],
   "source": [
    "n = 0\n",
    "while True:\n",
    "    if datas[n] == searchData:\n",
    "        if n != len(datas) - 1:\n",
    "            searchResultIdx = n\n",
    "        break\n",
    "    n += 1"
   ]
  },
  {
   "cell_type": "code",
   "execution_count": 15,
   "id": "5529366e-6470-40ff-8bbd-2d26557ccca3",
   "metadata": {},
   "outputs": [
    {
     "name": "stdout",
     "output_type": "stream",
     "text": [
      "datas : [3, 2, 5, 7, 9, 1, 0, 8, 6, 4, 11]\n",
      "datas length : 11\n",
      "searchResultIdx : -1\n"
     ]
    }
   ],
   "source": [
    "print(f'datas : {datas}')\n",
    "print(f'datas length : {len(datas)}')\n",
    "print(f'searchResultIdx : {searchResultIdx}')"
   ]
  }
 ],
 "metadata": {
  "kernelspec": {
   "display_name": "Python 3 (ipykernel)",
   "language": "python",
   "name": "python3"
  },
  "language_info": {
   "codemirror_mode": {
    "name": "ipython",
    "version": 3
   },
   "file_extension": ".py",
   "mimetype": "text/x-python",
   "name": "python",
   "nbconvert_exporter": "python",
   "pygments_lexer": "ipython3",
   "version": "3.9.7"
  }
 },
 "nbformat": 4,
 "nbformat_minor": 5
}
