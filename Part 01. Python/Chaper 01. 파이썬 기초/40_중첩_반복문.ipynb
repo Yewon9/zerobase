{
  "nbformat": 4,
  "nbformat_minor": 0,
  "metadata": {
    "colab": {
      "provenance": []
    },
    "kernelspec": {
      "name": "python3",
      "display_name": "Python 3"
    },
    "language_info": {
      "name": "python"
    }
  },
  "cells": [
    {
      "cell_type": "code",
      "source": [
        "for i in range(10, 0, -1):\n",
        "  for j in range(i):\n",
        "    print('*', end = '')\n",
        "  print()"
      ],
      "metadata": {
        "colab": {
          "base_uri": "https://localhost:8080/"
        },
        "id": "m0IpjVgYPpDC",
        "outputId": "8562162f-c0b7-4bfc-ff37-de55a45fbe4c"
      },
      "execution_count": 29,
      "outputs": [
        {
          "output_type": "stream",
          "name": "stdout",
          "text": [
            "**********\n",
            "*********\n",
            "********\n",
            "*******\n",
            "******\n",
            "*****\n",
            "****\n",
            "***\n",
            "**\n",
            "*\n"
          ]
        }
      ]
    },
    {
      "cell_type": "markdown",
      "source": [
        "구구단 전체를 출력하자."
      ],
      "metadata": {
        "id": "89aAuBFKcLzh"
      }
    },
    {
      "cell_type": "code",
      "source": [
        "for i in range(1, 10):\n",
        "  for j in range(2, 10):\n",
        "    result = j * i\n",
        "    print('{} * {} = {} \\t'.format(j, i, result), end = '')\n",
        "\n",
        "  print()"
      ],
      "metadata": {
        "colab": {
          "base_uri": "https://localhost:8080/"
        },
        "id": "ac2tFPMyb_Cn",
        "outputId": "828abece-5899-416c-ff11-e46674c62207"
      },
      "execution_count": 30,
      "outputs": [
        {
          "output_type": "stream",
          "name": "stdout",
          "text": [
            "2 * 1 = 2 \t3 * 1 = 3 \t4 * 1 = 4 \t5 * 1 = 5 \t6 * 1 = 6 \t7 * 1 = 7 \t8 * 1 = 8 \t9 * 1 = 9 \t\n",
            "2 * 2 = 4 \t3 * 2 = 6 \t4 * 2 = 8 \t5 * 2 = 10 \t6 * 2 = 12 \t7 * 2 = 14 \t8 * 2 = 16 \t9 * 2 = 18 \t\n",
            "2 * 3 = 6 \t3 * 3 = 9 \t4 * 3 = 12 \t5 * 3 = 15 \t6 * 3 = 18 \t7 * 3 = 21 \t8 * 3 = 24 \t9 * 3 = 27 \t\n",
            "2 * 4 = 8 \t3 * 4 = 12 \t4 * 4 = 16 \t5 * 4 = 20 \t6 * 4 = 24 \t7 * 4 = 28 \t8 * 4 = 32 \t9 * 4 = 36 \t\n",
            "2 * 5 = 10 \t3 * 5 = 15 \t4 * 5 = 20 \t5 * 5 = 25 \t6 * 5 = 30 \t7 * 5 = 35 \t8 * 5 = 40 \t9 * 5 = 45 \t\n",
            "2 * 6 = 12 \t3 * 6 = 18 \t4 * 6 = 24 \t5 * 6 = 30 \t6 * 6 = 36 \t7 * 6 = 42 \t8 * 6 = 48 \t9 * 6 = 54 \t\n",
            "2 * 7 = 14 \t3 * 7 = 21 \t4 * 7 = 28 \t5 * 7 = 35 \t6 * 7 = 42 \t7 * 7 = 49 \t8 * 7 = 56 \t9 * 7 = 63 \t\n",
            "2 * 8 = 16 \t3 * 8 = 24 \t4 * 8 = 32 \t5 * 8 = 40 \t6 * 8 = 48 \t7 * 8 = 56 \t8 * 8 = 64 \t9 * 8 = 72 \t\n",
            "2 * 9 = 18 \t3 * 9 = 27 \t4 * 9 = 36 \t5 * 9 = 45 \t6 * 9 = 54 \t7 * 9 = 63 \t8 * 9 = 72 \t9 * 9 = 81 \t\n"
          ]
        }
      ]
    }
  ]
}