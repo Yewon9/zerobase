{
  "nbformat": 4,
  "nbformat_minor": 0,
  "metadata": {
    "colab": {
      "provenance": []
    },
    "kernelspec": {
      "name": "python3",
      "display_name": "Python 3"
    },
    "language_info": {
      "name": "python"
    }
  },
  "cells": [
    {
      "cell_type": "markdown",
      "source": [
        "다음과 같이 구구단 출력 함수가 연쇄적으로 호출되도록 함수를 선언해보자."
      ],
      "metadata": {
        "id": "xqb8fwC-8oeU"
      }
    },
    {
      "cell_type": "code",
      "source": [
        "def guguDan2():\n",
        "  for i in range(1, 10):\n",
        "    print('2 * {} = {}'.format(i, 2 * i))\n",
        "\n",
        "  guguDan3()\n",
        "\n",
        "def guguDan3():\n",
        "  for i in range(1, 10):\n",
        "    print('3 * {} = {}'.format(i, 3 * i))\n",
        "\n",
        "  guguDan4()\n",
        "\n",
        "def guguDan4():\n",
        "  for i in range(1, 10):\n",
        "    print('4 * {} = {}'.format(i, 4 * i))\n",
        "\n",
        "  guguDan5()\n",
        "\n",
        "def guguDan5():\n",
        "  for i in range(1, 10):\n",
        "    print('5 * {} = {}'.format(i, 5 * i))\n",
        "\n",
        "guguDan2()"
      ],
      "metadata": {
        "colab": {
          "base_uri": "https://localhost:8080/"
        },
        "id": "tLCPo9nZ8r7E",
        "outputId": "891766c1-2297-4e72-8eb0-3039018de3c0"
      },
      "execution_count": 3,
      "outputs": [
        {
          "output_type": "stream",
          "name": "stdout",
          "text": [
            "2 * 1 = 2\n",
            "2 * 2 = 4\n",
            "2 * 3 = 6\n",
            "2 * 4 = 8\n",
            "2 * 5 = 10\n",
            "2 * 6 = 12\n",
            "2 * 7 = 14\n",
            "2 * 8 = 16\n",
            "2 * 9 = 18\n",
            "3 * 1 = 3\n",
            "3 * 2 = 6\n",
            "3 * 3 = 9\n",
            "3 * 4 = 12\n",
            "3 * 5 = 15\n",
            "3 * 6 = 18\n",
            "3 * 7 = 21\n",
            "3 * 8 = 24\n",
            "3 * 9 = 27\n",
            "4 * 1 = 4\n",
            "4 * 2 = 8\n",
            "4 * 3 = 12\n",
            "4 * 4 = 16\n",
            "4 * 5 = 20\n",
            "4 * 6 = 24\n",
            "4 * 7 = 28\n",
            "4 * 8 = 32\n",
            "4 * 9 = 36\n",
            "5 * 1 = 5\n",
            "5 * 2 = 10\n",
            "5 * 3 = 15\n",
            "5 * 4 = 20\n",
            "5 * 5 = 25\n",
            "5 * 6 = 30\n",
            "5 * 7 = 35\n",
            "5 * 8 = 40\n",
            "5 * 9 = 45\n"
          ]
        }
      ]
    }
  ]
}