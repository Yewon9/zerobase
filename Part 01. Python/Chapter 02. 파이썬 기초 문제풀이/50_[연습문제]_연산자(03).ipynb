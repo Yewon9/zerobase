{
  "nbformat": 4,
  "nbformat_minor": 0,
  "metadata": {
    "colab": {
      "provenance": []
    },
    "kernelspec": {
      "name": "python3",
      "display_name": "Python 3"
    },
    "language_info": {
      "name": "python"
    }
  },
  "cells": [
    {
      "cell_type": "markdown",
      "source": [
        "시, 분, 초를 입력하면 초로 환산하는 프로그램을 만들어보자."
      ],
      "metadata": {
        "id": "KfZtGzqtXYJM"
      }
    },
    {
      "cell_type": "code",
      "source": [
        "hou = int(input('시간 입력 : '))\n",
        "min = int(input('분 입력 : '))\n",
        "sec = int(input('초 입력 : '))\n",
        "\n",
        "print('{}초'.format(format(hou * 60 * 60 + min * 60 + sec, ',')))"
      ],
      "metadata": {
        "colab": {
          "base_uri": "https://localhost:8080/"
        },
        "id": "HBrr5AQrXboh",
        "outputId": "4d16090e-b89f-43a6-cea8-ef197e77db6f"
      },
      "execution_count": 18,
      "outputs": [
        {
          "output_type": "stream",
          "name": "stdout",
          "text": [
            "시간 입력 : 9\n",
            "분 입력 : 45\n",
            "초 입력 : 51\n",
            "35,151초\n"
          ]
        }
      ]
    },
    {
      "cell_type": "markdown",
      "source": [
        "금액, 이율, 거치기간을 입력하면 복리계산하는 복리계산기 프로그램을 만들어보자."
      ],
      "metadata": {
        "id": "VnF0sg1hzA6I"
      }
    },
    {
      "cell_type": "code",
      "source": [
        "money = int(input('금액 입력: '))\n",
        "rate = float(input('이율 입력: '))\n",
        "term = int(input('기간 입력: '))\n",
        "\n",
        "targetMoney = money\n",
        "\n",
        "for i in range(term):\n",
        "    targetMoney += (targetMoney * rate * 0.01)\n",
        "\n",
        "targetMoneyFormated = format(int(targetMoney), ',')\n",
        "\n",
        "print('-' * 30)\n",
        "print('이율 : {}%'.format(rate))\n",
        "print('원금 : {}원'.format(format(money, ',')))\n",
        "print('{}년 후 금액 : {}원'.format(term, targetMoneyFormated))\n",
        "print('-' * 30)"
      ],
      "metadata": {
        "colab": {
          "base_uri": "https://localhost:8080/"
        },
        "id": "GCVxDGNCzF2k",
        "outputId": "9254d234-3b7f-4af5-a584-d54d1c225939"
      },
      "execution_count": 19,
      "outputs": [
        {
          "output_type": "stream",
          "name": "stdout",
          "text": [
            "금액 입력: 1500000\n",
            "이율 입력: 4.3\n",
            "기간 입력: 5\n",
            "------------------------------\n",
            "이율 : 4.3%\n",
            "원금 : 1,500,000원\n",
            "5년 후 금액 : 1,851,453원\n",
            "------------------------------\n"
          ]
        }
      ]
    }
  ]
}