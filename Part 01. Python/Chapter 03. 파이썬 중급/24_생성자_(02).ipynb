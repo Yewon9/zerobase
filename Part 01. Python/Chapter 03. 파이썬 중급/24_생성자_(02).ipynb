{
  "nbformat": 4,
  "nbformat_minor": 0,
  "metadata": {
    "colab": {
      "provenance": []
    },
    "kernelspec": {
      "name": "python3",
      "display_name": "Python 3"
    },
    "language_info": {
      "name": "python"
    }
  },
  "cells": [
    {
      "cell_type": "markdown",
      "source": [
        "중간고사 클래스와 기말고사 클래스를 상속관계로 만들고 각각의 점수를 초기화하자. \\\n",
        "또한 총점 및 평균을 반환하는 기능도 만들어보자."
      ],
      "metadata": {
        "id": "viRnKNXVF0H7"
      }
    },
    {
      "cell_type": "code",
      "source": [
        "from re import S\n",
        "class MidExam:\n",
        "\n",
        "  def __init__(self, s1, s2, s3):\n",
        "    print('[MidExam] __init__()')\n",
        "\n",
        "    self.mid_kor_score = s1\n",
        "    self.mid_eng_score = s2\n",
        "    self.mid_mat_score = s3\n",
        "\n",
        "  def printScores(self):\n",
        "    print(f'mid_kor_score : {self.mid_kor_score}')\n",
        "    print(f'mid_eng_score : {self.mid_eng_score}')\n",
        "    print(f'mid_mat_score : {self.mid_mat_score}')"
      ],
      "metadata": {
        "id": "Fic9kzyTF7Lz"
      },
      "execution_count": 7,
      "outputs": []
    },
    {
      "cell_type": "code",
      "source": [
        "class EndExam(MidExam):\n",
        "\n",
        "  def __init__(self, s1, s2, s3, s4, s5, s6):\n",
        "    print('[EndExam] __init__()')\n",
        "\n",
        "    super().__init__(s1, s2, s3)\n",
        "\n",
        "    self.end_kor_score = s4\n",
        "    self.end_eng_score = s5\n",
        "    self.end_mat_score = s6\n",
        "\n",
        "  def printScores(self):\n",
        "    super().printScores()\n",
        "    print(f'end_kor_score : {self.end_kor_score}')\n",
        "    print(f'end_eng_score : {self.end_eng_score}')\n",
        "    print(f'end_mat_score : {self.end_mat_score}')\n",
        "\n",
        "  def getTotalScore(self):\n",
        "    total = self.mid_kor_score + self.mid_eng_score + self.mid_mat_score\n",
        "    total += self.end_kor_score + self.end_eng_score + self.end_mat_score\n",
        "\n",
        "    return total\n",
        "\n",
        "  def getAverageScore(self):\n",
        "    return self.getTotalScore() / 6"
      ],
      "metadata": {
        "id": "la0yVcedHPaL"
      },
      "execution_count": 15,
      "outputs": []
    },
    {
      "cell_type": "code",
      "source": [
        "exam = EndExam(85, 90, 88, 75, 85, 95)\n",
        "exam.printScores()\n",
        "\n",
        "print(f'Total : {exam.getTotalScore()}')\n",
        "print(f'Average : {exam.getAverageScore()}')"
      ],
      "metadata": {
        "colab": {
          "base_uri": "https://localhost:8080/"
        },
        "id": "qPwhkUvPIJLa",
        "outputId": "5fa695ee-4a4f-4583-8978-1704bd132839"
      },
      "execution_count": 16,
      "outputs": [
        {
          "output_type": "stream",
          "name": "stdout",
          "text": [
            "[EndExam] __init__()\n",
            "[MidExam] __init__()\n",
            "mid_kor_score : 85\n",
            "mid_eng_score : 90\n",
            "mid_mat_score : 88\n",
            "end_kor_score : 75\n",
            "end_eng_score : 85\n",
            "end_mat_score : 95\n",
            "Total : 518\n",
            "Average : 86.33333333333333\n"
          ]
        }
      ]
    }
  ]
}