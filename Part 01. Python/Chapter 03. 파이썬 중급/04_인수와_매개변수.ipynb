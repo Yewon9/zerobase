{
  "nbformat": 4,
  "nbformat_minor": 0,
  "metadata": {
    "colab": {
      "provenance": []
    },
    "kernelspec": {
      "name": "python3",
      "display_name": "Python 3"
    },
    "language_info": {
      "name": "python"
    }
  },
  "cells": [
    {
      "cell_type": "markdown",
      "source": [
        "국어, 영어, 수학 점수를 입력받고, 입력받은 점수를 이용해서 총점과 평균을 출력하는 함수를 만들어보자."
      ],
      "metadata": {
        "id": "xqb8fwC-8oeU"
      }
    },
    {
      "cell_type": "code",
      "source": [
        "def printScore(kor, eng, mat):\n",
        "  sum = kor + eng + mat\n",
        "  avg = sum / 3\n",
        "\n",
        "  print(f'총점 : {sum}')\n",
        "  print(f'평균 : {round(avg, 2)}')\n",
        "\n",
        "korScore = int(input('국어 점수 입력 : '))\n",
        "engScore = int(input('영어 점수 입력 : '))\n",
        "matScore = int(input('수학 점수 입력 : '))\n",
        "\n",
        "printScore(korScore, engScore, matScore)"
      ],
      "metadata": {
        "colab": {
          "base_uri": "https://localhost:8080/"
        },
        "id": "RK1YHCr1NA04",
        "outputId": "14c23168-aeef-46e6-813e-f9145d77c592"
      },
      "execution_count": 5,
      "outputs": [
        {
          "output_type": "stream",
          "name": "stdout",
          "text": [
            "국어 점수 입력 : 85\n",
            "영어 점수 입력 : 92\n",
            "수학 점수 입력 : 79\n",
            "총점 : 256\n",
            "평균 : 85.33\n"
          ]
        }
      ]
    }
  ]
}