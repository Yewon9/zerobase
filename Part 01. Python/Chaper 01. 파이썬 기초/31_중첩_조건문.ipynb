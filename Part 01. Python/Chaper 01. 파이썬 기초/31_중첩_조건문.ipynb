{
  "nbformat": 4,
  "nbformat_minor": 0,
  "metadata": {
    "colab": {
      "provenance": []
    },
    "kernelspec": {
      "name": "python3",
      "display_name": "Python 3"
    },
    "language_info": {
      "name": "python"
    }
  },
  "cells": [
    {
      "cell_type": "markdown",
      "source": [
        "출퇴근 시 이용하는 교통 수단에 따라 세금을 감면해 주는 정책을 세우려고 한다. 다음 내용에 맞게 프로그램을 만들어 보자. \\\n",
        "[의사코드] \\\n",
        "출퇴근 대상인가? \\\n",
        "출퇴근 대상자이면 \\\n",
        "  도보, 자전거 -> 세금 감면 5% \\\n",
        "  버스, 지하철 -> 세금 감면 3% \\\n",
        "  자가용 -> 추가 세금 1% \\\n",
        "출퇴근 대상자가 아니면 \\\n",
        "  세금 변동 없음 \\"
      ],
      "metadata": {
        "id": "JtXFlTtmPilK"
      }
    },
    {
      "cell_type": "code",
      "source": [
        "selectNum = int(input('출퇴근 대상자 인가요? 1.Yes \\t 2.No'))\n",
        "\n",
        "if selectNum == 1:\n",
        "  print('교통수단을 선택하세요.')\n",
        "  trans = int(input('1.도보, 자전거 \\t 2.버스, 지하철 \\t 3.자가용'))\n",
        "\n",
        "  if trans == 1:\n",
        "    print('세금 감면 5%')\n",
        "  elif trans == 2:\n",
        "    print('세금 감면 3%')\n",
        "  elif trans == 3:\n",
        "    print('추가 세금 1%')\n",
        "\n",
        "elif selectNum == 2:\n",
        "  print('세금 변동 없습니다.')\n",
        "else:\n",
        "  print('잘못 입력했습니다.')"
      ],
      "metadata": {
        "colab": {
          "base_uri": "https://localhost:8080/"
        },
        "id": "m0IpjVgYPpDC",
        "outputId": "644fda09-4b08-4948-a368-ad4b0c9fdab1"
      },
      "execution_count": 9,
      "outputs": [
        {
          "output_type": "stream",
          "name": "stdout",
          "text": [
            "출퇴근 대상자 인가요? 1.Yes \t 2.No1\n",
            "교통수단을 선택하세요.\n",
            "1.도보, 자전거 \t 2.버스, 지하철 \t 3.자가용2\n",
            "세금 감면 3%\n"
          ]
        }
      ]
    }
  ]
}