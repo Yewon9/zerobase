{
 "cells": [
  {
   "cell_type": "markdown",
   "id": "f35c663f-1ec9-4bc3-b0b5-03ccbcf632c3",
   "metadata": {},
   "source": [
    "# 01. 산술 연산자"
   ]
  },
  {
   "cell_type": "markdown",
   "id": "e503ed7f-3c31-4902-afe8-26e07b2eb022",
   "metadata": {},
   "source": [
    "## 산술 연산자 실습"
   ]
  },
  {
   "cell_type": "markdown",
   "id": "9fd5b97d-fdfc-4c25-b5ab-c56b8beb2507",
   "metadata": {},
   "source": [
    "### 덧셈과 뺄셈"
   ]
  },
  {
   "cell_type": "code",
   "execution_count": 1,
   "id": "2eb0d614-62ea-4875-b6f0-38bd2a032e9f",
   "metadata": {},
   "outputs": [
    {
     "name": "stdout",
     "output_type": "stream",
     "text": [
      "13\n",
      "7\n"
     ]
    }
   ],
   "source": [
    "a = 10\n",
    "b = 3\n",
    "print(a + b)\n",
    "print(a - b)"
   ]
  },
  {
   "cell_type": "markdown",
   "id": "6e07c9cc-4992-47e0-8c12-d3a46a547a2e",
   "metadata": {},
   "source": [
    "### 곱셈과 나눗셈"
   ]
  },
  {
   "cell_type": "code",
   "execution_count": 2,
   "id": "7c8fbdc1-ba01-4f42-8e8a-8e9c37ad178e",
   "metadata": {},
   "outputs": [
    {
     "name": "stdout",
     "output_type": "stream",
     "text": [
      "30\n",
      "3.3333333333333335\n"
     ]
    }
   ],
   "source": [
    "print(a * b)\n",
    "print(a / b)"
   ]
  },
  {
   "cell_type": "code",
   "execution_count": 4,
   "id": "3b623b74-a06f-4c93-8fe3-d87531a385e1",
   "metadata": {},
   "outputs": [
    {
     "name": "stdout",
     "output_type": "stream",
     "text": [
      "2.0\n"
     ]
    }
   ],
   "source": [
    "print(4/2)"
   ]
  },
  {
   "cell_type": "markdown",
   "id": "e29b4c68-4a8d-4fce-993f-ac2f5060099f",
   "metadata": {},
   "source": [
    "### 몫과 나머지"
   ]
  },
  {
   "cell_type": "code",
   "execution_count": 3,
   "id": "79e7dce7-b8f1-4ee7-bf38-2794f981c11c",
   "metadata": {},
   "outputs": [
    {
     "name": "stdout",
     "output_type": "stream",
     "text": [
      "3\n",
      "1\n"
     ]
    }
   ],
   "source": [
    "print(a // b)\n",
    "print(a % b)"
   ]
  },
  {
   "cell_type": "markdown",
   "id": "68097722-7f55-4086-b7ba-8dab1831cd18",
   "metadata": {},
   "source": [
    "### 거듭제곱"
   ]
  },
  {
   "cell_type": "code",
   "execution_count": 5,
   "id": "1015e31e-51a8-4be9-a4a1-4e38981f705a",
   "metadata": {},
   "outputs": [
    {
     "name": "stdout",
     "output_type": "stream",
     "text": [
      "8\n",
      "3.0\n"
     ]
    }
   ],
   "source": [
    "print(2 ** 3)\n",
    "print(9 ** 0.5)"
   ]
  },
  {
   "cell_type": "markdown",
   "id": "a9a56803-0063-4a02-ba06-227d569d2005",
   "metadata": {},
   "source": [
    "## 암시적 형변환 실습"
   ]
  },
  {
   "cell_type": "markdown",
   "id": "695be61e-a53a-4df2-9efb-fa3e46c00ded",
   "metadata": {},
   "source": [
    "### int와 float 연산"
   ]
  },
  {
   "cell_type": "code",
   "execution_count": 6,
   "id": "70ff1611-424e-417e-8a4b-00b4163ce8f0",
   "metadata": {},
   "outputs": [
    {
     "name": "stdout",
     "output_type": "stream",
     "text": [
      "3.0 <class 'float'>\n",
      "2.0 <class 'float'>\n",
      "0.5 <class 'float'>\n",
      "1.0 <class 'float'>\n"
     ]
    }
   ],
   "source": [
    "a = 1\n",
    "b = 2.0\n",
    "c = a + b\n",
    "d = a * b\n",
    "e = a / b\n",
    "f = a ** b\n",
    "print(c, type(c))\n",
    "print(d, type(d))\n",
    "print(e, type(e))\n",
    "print(f, type(f))"
   ]
  },
  {
   "cell_type": "markdown",
   "id": "c6ae7662-1356-424c-a125-841058e98af5",
   "metadata": {},
   "source": [
    "### bool과 int / float 연산"
   ]
  },
  {
   "cell_type": "code",
   "execution_count": 7,
   "id": "3f2132fa-e148-424d-a46a-928567b19098",
   "metadata": {},
   "outputs": [
    {
     "name": "stdout",
     "output_type": "stream",
     "text": [
      "2 <class 'int'>\n",
      "2.0 <class 'float'>\n",
      "0 <class 'int'>\n",
      "0.0 <class 'float'>\n"
     ]
    }
   ],
   "source": [
    "a = True\n",
    "b = False\n",
    "c = 1\n",
    "d = 1.0\n",
    "print(a+c, type(a+c))\n",
    "print(a+d, type(a+d))\n",
    "print(b*c, type(b*c))\n",
    "print(b*d, type(b*d))"
   ]
  },
  {
   "cell_type": "markdown",
   "id": "e6afd115-fbbe-42d5-b5a7-8e94c844fe52",
   "metadata": {},
   "source": [
    "## 산술 연산자의 특별한 활용 실습"
   ]
  },
  {
   "cell_type": "markdown",
   "id": "8eb93480-d64a-43f0-a0a3-7af07d726fe0",
   "metadata": {},
   "source": [
    "### 문자열 복사"
   ]
  },
  {
   "cell_type": "code",
   "execution_count": 8,
   "id": "8e1a24b1-2a5c-4df5-acae-d9f207586ed0",
   "metadata": {},
   "outputs": [
    {
     "name": "stdout",
     "output_type": "stream",
     "text": [
      "HelloHelloHello\n"
     ]
    }
   ],
   "source": [
    "text = \"Hello\"\n",
    "print(text * 3)"
   ]
  },
  {
   "cell_type": "markdown",
   "id": "b24c5d79-5942-4b46-bcd1-2511975fe58a",
   "metadata": {},
   "source": [
    "### 문자열 연결"
   ]
  },
  {
   "cell_type": "code",
   "execution_count": 9,
   "id": "433cfff9-62aa-45b1-b679-2e30e1778090",
   "metadata": {},
   "outputs": [
    {
     "name": "stdout",
     "output_type": "stream",
     "text": [
      "Hello World\n"
     ]
    }
   ],
   "source": [
    "first = \"Hello\"\n",
    "second = \"World\"\n",
    "print(first + \" \" + second)"
   ]
  },
  {
   "cell_type": "markdown",
   "id": "cacc6a16-d001-4421-adb4-679d28bbb559",
   "metadata": {},
   "source": [
    "### 리스트 복사"
   ]
  },
  {
   "cell_type": "code",
   "execution_count": 10,
   "id": "8efb481e-8a75-4fdf-a7e6-6486a2d5e7b4",
   "metadata": {},
   "outputs": [
    {
     "name": "stdout",
     "output_type": "stream",
     "text": [
      "[1, 2, 3, 1, 2, 3]\n"
     ]
    }
   ],
   "source": [
    "lst = [1, 2, 3]\n",
    "print(lst * 2)"
   ]
  },
  {
   "cell_type": "code",
   "execution_count": 11,
   "id": "d4c8e325-44b2-4eb9-9595-71c5b1680390",
   "metadata": {},
   "outputs": [
    {
     "name": "stdout",
     "output_type": "stream",
     "text": [
      "[0, 0, 0, 0, 0, 0, 0, 0, 0, 0, 0, 0, 0, 0, 0, 0, 0, 0, 0, 0, 0, 0, 0, 0, 0, 0, 0, 0, 0, 0, 0, 0, 0, 0, 0, 0, 0, 0, 0, 0, 0, 0, 0, 0, 0, 0, 0, 0, 0, 0, 0, 0, 0, 0, 0, 0, 0, 0, 0, 0, 0, 0, 0, 0, 0, 0, 0, 0, 0, 0, 0, 0, 0, 0, 0, 0, 0, 0, 0, 0, 0, 0, 0, 0, 0, 0, 0, 0, 0, 0, 0, 0, 0, 0, 0, 0, 0, 0, 0, 0]\n"
     ]
    }
   ],
   "source": [
    "L = [0] * 100\n",
    "print(L)"
   ]
  },
  {
   "cell_type": "markdown",
   "id": "b2081510-0ce9-4b34-a237-a157def5ab2a",
   "metadata": {},
   "source": [
    "### 리스트 연결"
   ]
  },
  {
   "cell_type": "code",
   "execution_count": 12,
   "id": "ff26f9fd-dec4-4e82-8c8f-bafc0b6930ca",
   "metadata": {},
   "outputs": [
    {
     "name": "stdout",
     "output_type": "stream",
     "text": [
      "[1, 2, 3, 4]\n"
     ]
    }
   ],
   "source": [
    "lst1 = [1, 2]\n",
    "lst2 = [3, 4]\n",
    "print(lst1 + lst2)"
   ]
  },
  {
   "cell_type": "markdown",
   "id": "e92c6b7a-d75f-4bba-be50-1afff96da64f",
   "metadata": {},
   "source": [
    "# 02. 비교 및 멤버십 연산자"
   ]
  },
  {
   "cell_type": "markdown",
   "id": "fa519da5-1f10-4ff4-85d7-bbac364fe792",
   "metadata": {},
   "source": [
    "## 비교 연산자 실습"
   ]
  },
  {
   "cell_type": "code",
   "execution_count": 13,
   "id": "3a128deb-4b52-412b-b47d-73818ccc220b",
   "metadata": {},
   "outputs": [
    {
     "name": "stdout",
     "output_type": "stream",
     "text": [
      "False\n",
      "True\n",
      "True\n",
      "False\n",
      "True\n",
      "False\n"
     ]
    }
   ],
   "source": [
    "a = 5\n",
    "b = 10\n",
    "\n",
    "# 1. 같음 비교\n",
    "print(a == b)\n",
    "\n",
    "# 2. 다름 비교\n",
    "print(a != b)\n",
    "\n",
    "# 3. 작음 비교\n",
    "print(a < b)\n",
    "\n",
    "# 4. 큼 비교\n",
    "print(a > b)\n",
    "\n",
    "# 5. 작거나 같음 비교\n",
    "print(a <= b)\n",
    "\n",
    "# 6. 크거나 같음 비교\n",
    "print(a >= b)"
   ]
  },
  {
   "cell_type": "markdown",
   "id": "ee5812af-0037-4c9f-836d-ecbe1af59dfe",
   "metadata": {},
   "source": [
    "## 특별한 비교 연산자 실습"
   ]
  },
  {
   "cell_type": "markdown",
   "id": "e0391455-c987-494e-8f54-7d0163a20877",
   "metadata": {},
   "source": [
    "### 문자열 비교"
   ]
  },
  {
   "cell_type": "code",
   "execution_count": 14,
   "id": "9aa73cae-4bb2-4f1b-9a5a-fc9e4676b304",
   "metadata": {},
   "outputs": [
    {
     "name": "stdout",
     "output_type": "stream",
     "text": [
      "False\n",
      "True\n",
      "True\n"
     ]
    }
   ],
   "source": [
    "str1 = \"apple\"\n",
    "str2 = \"banana\"\n",
    "\n",
    "# 1. 같음 비교\n",
    "print(str1 == str2)\n",
    "\n",
    "# 2. 다름 비교\n",
    "print(str1 != str2)\n",
    "\n",
    "# 3. 작음 비교 (사전순 비교)\n",
    "print(str1 < str2)"
   ]
  },
  {
   "cell_type": "markdown",
   "id": "a8c83a26-b979-43ac-9dfe-8f3ee0f91067",
   "metadata": {},
   "source": [
    "### 리스트 비교"
   ]
  },
  {
   "cell_type": "code",
   "execution_count": 15,
   "id": "1f93d273-12df-4147-91ee-65c00c27137d",
   "metadata": {},
   "outputs": [
    {
     "name": "stdout",
     "output_type": "stream",
     "text": [
      "True\n",
      "True\n",
      "True\n"
     ]
    }
   ],
   "source": [
    "list1 = [1, 2, 3]\n",
    "list2 = [1, 2, 3]\n",
    "list3 = [3, 2, 1]\n",
    "\n",
    "# 1. 같음 비교\n",
    "print(list1 == list2)\n",
    "\n",
    "# 2. 다름 비교\n",
    "print(list1 != list3)\n",
    "\n",
    "# 3. 작음 비교 (리스트 비교는 첫 번째 요소부터 순차적으로 비교)\n",
    "print(list1 < list3)"
   ]
  },
  {
   "cell_type": "markdown",
   "id": "c540b494-e296-4497-b988-f0afc859e782",
   "metadata": {},
   "source": [
    "### 복합 연산자"
   ]
  },
  {
   "cell_type": "code",
   "execution_count": 16,
   "id": "b0ab9ccd-1768-49e6-844c-d1140b403bd9",
   "metadata": {},
   "outputs": [
    {
     "name": "stdout",
     "output_type": "stream",
     "text": [
      "True\n",
      "False\n"
     ]
    }
   ],
   "source": [
    "a = 1\n",
    "b = 2\n",
    "c = 2\n",
    "print(a <= b <= c)\n",
    "print(a < b < c)"
   ]
  },
  {
   "cell_type": "markdown",
   "id": "ab943db9-a94d-4624-9c78-6a021396c1c8",
   "metadata": {},
   "source": [
    "## 멤버십 연산자 실습"
   ]
  },
  {
   "cell_type": "code",
   "execution_count": 17,
   "id": "8ef8d9e7-9468-4202-b2d6-527725cd325c",
   "metadata": {},
   "outputs": [
    {
     "name": "stdout",
     "output_type": "stream",
     "text": [
      "True\n",
      "True\n"
     ]
    }
   ],
   "source": [
    "fruits = ['apple', 'banana', 'cherry' ]\n",
    "print('apple' in fruits)\n",
    "print('orange' not in fruits)"
   ]
  },
  {
   "cell_type": "code",
   "execution_count": 18,
   "id": "a00490f8-b146-47a4-bf6b-59a44d29819b",
   "metadata": {},
   "outputs": [
    {
     "name": "stdout",
     "output_type": "stream",
     "text": [
      "True\n",
      "True\n"
     ]
    }
   ],
   "source": [
    "word = \"hello\"\n",
    "print('h' in word)\n",
    "print('z' not in word)"
   ]
  },
  {
   "cell_type": "code",
   "execution_count": 19,
   "id": "bbc0d737-365e-42f3-b3ca-1ea77504e8c5",
   "metadata": {},
   "outputs": [
    {
     "name": "stdout",
     "output_type": "stream",
     "text": [
      "True\n",
      "True\n"
     ]
    }
   ],
   "source": [
    "person = {'name': 'Alice', 'age' : 30}\n",
    "print('name' in person.keys())\n",
    "print('gender' not in person.keys())"
   ]
  },
  {
   "cell_type": "markdown",
   "id": "37d73c4e-6187-4eec-9195-0c0e7fb4bd49",
   "metadata": {},
   "source": [
    "# 03. 논리 연산자"
   ]
  },
  {
   "cell_type": "code",
   "execution_count": 21,
   "id": "5e2d2946-f5f9-446e-9a30-8fcfeb040725",
   "metadata": {},
   "outputs": [
    {
     "name": "stdout",
     "output_type": "stream",
     "text": [
      "True\n",
      "True\n",
      "False\n",
      "True\n"
     ]
    }
   ],
   "source": [
    "a = 5\n",
    "b = 10\n",
    "\n",
    "# 1. and 연산자\n",
    "print(a > 3 and b < 20)\n",
    "\n",
    "# 2. or 연산자\n",
    "print(a < 3 or b > 5)\n",
    "\n",
    "# 3. not 연산자\n",
    "print(not (a == 5))\n",
    "\n",
    "# 4. and, or 결합\n",
    "print(a > 3 and (b > 5 or a < 4))"
   ]
  }
 ],
 "metadata": {
  "kernelspec": {
   "display_name": "Python 3 (ipykernel)",
   "language": "python",
   "name": "python3"
  },
  "language_info": {
   "codemirror_mode": {
    "name": "ipython",
    "version": 3
   },
   "file_extension": ".py",
   "mimetype": "text/x-python",
   "name": "python",
   "nbconvert_exporter": "python",
   "pygments_lexer": "ipython3",
   "version": "3.9.7"
  }
 },
 "nbformat": 4,
 "nbformat_minor": 5
}
