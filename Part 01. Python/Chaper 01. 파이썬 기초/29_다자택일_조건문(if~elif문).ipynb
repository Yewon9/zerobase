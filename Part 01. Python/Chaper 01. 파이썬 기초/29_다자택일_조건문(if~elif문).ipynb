{
  "nbformat": 4,
  "nbformat_minor": 0,
  "metadata": {
    "colab": {
      "provenance": []
    },
    "kernelspec": {
      "name": "python3",
      "display_name": "Python 3"
    },
    "language_info": {
      "name": "python"
    }
  },
  "cells": [
    {
      "cell_type": "markdown",
      "source": [
        "계절을 입력하면 영어로 번역되는 프로그램을 만들어 보자."
      ],
      "metadata": {
        "id": "JtXFlTtmPilK"
      }
    },
    {
      "cell_type": "code",
      "source": [
        "print('계절 : 봄, 여름, 가을, 겨울')\n",
        "seasonStr = input('계절 입력 : ')\n",
        "\n",
        "if seasonStr == '봄':\n",
        "  print('{} : {}'.format('봄', 'Spring'))\n",
        "elif seasonStr == '여름':\n",
        "  print('{} : {}'.format('여름', 'Summer'))\n",
        "elif seasonStr == '가을':\n",
        "  print('{} : {}'.format('가을', 'Fall'))\n",
        "elif seasonStr == '겨울':\n",
        "  print('{} : {}'.format('겨울', 'Winter'))\n",
        "else:\n",
        "  print('검색할 수 없습니다.')"
      ],
      "metadata": {
        "colab": {
          "base_uri": "https://localhost:8080/"
        },
        "id": "m0IpjVgYPpDC",
        "outputId": "a3d293ce-3708-4f22-f7d7-fe84ce55d45b"
      },
      "execution_count": 3,
      "outputs": [
        {
          "output_type": "stream",
          "name": "stdout",
          "text": [
            "계절 : 봄, 여름, 가을, 겨울\n",
            "계절 입력 : 겨울\n",
            "겨울 : Winter\n"
          ]
        }
      ]
    },
    {
      "cell_type": "markdown",
      "source": [
        "키오스크에서 메뉴를 선택하면 영수증이 출력되는 프로그램을 만들어 보자."
      ],
      "metadata": {
        "id": "EzdroG-H4Ge7"
      }
    },
    {
      "cell_type": "code",
      "execution_count": 6,
      "metadata": {
        "colab": {
          "base_uri": "https://localhost:8080/"
        },
        "id": "1sHJLeQ130Et",
        "outputId": "d4ba6ea0-50a1-4d6a-8a6d-7e5640807518"
      },
      "outputs": [
        {
          "output_type": "stream",
          "name": "stdout",
          "text": [
            "1.카페라떼(3.5) \t 2.에스프레소(3.0) \t 3.아메리카노(2.0) \t 4.곡물라떼(4.0) \t 5.밀크티(4.3)\n",
            "메뉴 선택 : 4\n",
            "-------------------------\n",
            "메뉴 : 곡물라떼\n",
            "가격 : 4,000원\n",
            "-------------------------\n"
          ]
        }
      ],
      "source": [
        "print('1.카페라떼(3.5) \\t 2.에스프레소(3.0) \\t 3.아메리카노(2.0) \\t 4.곡물라떼(4.0) \\t 5.밀크티(4.3)')\n",
        "userSelectNumber = int(input('메뉴 선택 : '))\n",
        "\n",
        "print('-' * 25)\n",
        "if userSelectNumber == 1:\n",
        "  print('메뉴 : 카페라떼')\n",
        "  print('가격 : 3,500원')\n",
        "elif userSelectNumber == 2:\n",
        "  print('메뉴 : 에스프레소')\n",
        "  print('가격 : 3,000원')\n",
        "elif userSelectNumber == 3:\n",
        "  print('메뉴 : 아메리카노')\n",
        "  print('가격 : 2,000원')\n",
        "elif userSelectNumber == 4:\n",
        "  print('메뉴 : 곡물라떼')\n",
        "  print('가격 : 4,000원')\n",
        "elif userSelectNumber == 5:\n",
        "  print('메뉴 : 밀크티')\n",
        "  print('가격 : 4,300원')\n",
        "print('-' * 25)"
      ]
    }
  ]
}