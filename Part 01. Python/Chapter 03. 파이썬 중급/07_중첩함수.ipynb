{
  "nbformat": 4,
  "nbformat_minor": 0,
  "metadata": {
    "colab": {
      "provenance": []
    },
    "kernelspec": {
      "name": "python3",
      "display_name": "Python 3"
    },
    "language_info": {
      "name": "python"
    }
  },
  "cells": [
    {
      "cell_type": "markdown",
      "source": [
        "calculator() 함수를 선언하고 calculator() 안에 덧셈, 뺄셈, 곱셈, 나눗셈 함수를 선언하자."
      ],
      "metadata": {
        "id": "SmHKm6gFORRe"
      }
    },
    {
      "cell_type": "code",
      "source": [
        "def calculator(n1, n2, operator):\n",
        "\n",
        "  def addCal():\n",
        "    print(f'덧셈 연산 : {round(n1+ n2, 2)}')\n",
        "\n",
        "  def subCal():\n",
        "    print(f'뺄셈 연산 : {round(n1 - n2, 2)}')\n",
        "\n",
        "  def mulCal():\n",
        "    print(f'곱셈 연산 : {round(n1 * n2, 2)}')\n",
        "\n",
        "  def divCal():\n",
        "    print(f'나눗셈 연산 : {round(n1 / n2, 2)}')\n",
        "\n",
        "  if operator == 1:\n",
        "    addCal()\n",
        "  elif operator == 2:\n",
        "    subCal()\n",
        "  elif operator == 3:\n",
        "    mulCal()\n",
        "  elif operator == 4:\n",
        "    divCal()\n",
        "\n",
        "while True:\n",
        "  num1 = float(input('실수(n1) 입력 : '))\n",
        "  num2 = float(input('실수(n2) 입력 : '))\n",
        "  operatorNum = int(input('1.덧셈, 2.뺄셈, 3.곱셈, 4.나눗셈, 5.종료'))\n",
        "\n",
        "  if operatorNum == 5:\n",
        "    print('Bye~')\n",
        "    break\n",
        "\n",
        "  calculator(num1, num2, operatorNum)"
      ],
      "metadata": {
        "colab": {
          "base_uri": "https://localhost:8080/"
        },
        "id": "4MPG6CwiOXLx",
        "outputId": "24a5e180-0263-4bac-a622-81204b52488b"
      },
      "execution_count": 4,
      "outputs": [
        {
          "output_type": "stream",
          "name": "stdout",
          "text": [
            "실수(n1) 입력 : 3\n",
            "실수(n2) 입력 : 5\n",
            "1.덧셈, 2.뺄셈, 3.곱셈, 4.나눗셈, 5.종료1\n",
            "덧셈 연산 : 8.0\n",
            "실수(n1) 입력 : 10\n",
            "실수(n2) 입력 : 20\n",
            "1.덧셈, 2.뺄셈, 3.곱셈, 4.나눗셈, 5.종료2\n",
            "뺄셈 연산 : -10.0\n",
            "실수(n1) 입력 : 20\n",
            "실수(n2) 입력 : 4\n",
            "1.덧셈, 2.뺄셈, 3.곱셈, 4.나눗셈, 5.종료3\n",
            "곱셈 연산 : 80.0\n",
            "실수(n1) 입력 : 10\n",
            "실수(n2) 입력 : 20\n",
            "1.덧셈, 2.뺄셈, 3.곱셈, 4.나눗셈, 5.종료4\n",
            "나눗셈 연산 : 0.5\n",
            "실수(n1) 입력 : 10\n",
            "실수(n2) 입력 : 2\n",
            "1.덧셈, 2.뺄셈, 3.곱셈, 4.나눗셈, 5.종료5\n",
            "Bye~\n"
          ]
        }
      ]
    }
  ]
}