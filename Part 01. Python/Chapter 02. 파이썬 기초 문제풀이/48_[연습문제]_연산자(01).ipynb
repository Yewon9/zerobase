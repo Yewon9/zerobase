{
  "nbformat": 4,
  "nbformat_minor": 0,
  "metadata": {
    "colab": {
      "provenance": []
    },
    "kernelspec": {
      "name": "python3",
      "display_name": "Python 3"
    },
    "language_info": {
      "name": "python"
    }
  },
  "cells": [
    {
      "cell_type": "markdown",
      "source": [
        "상품 가격과 지불 금액을 입력하면 거스름돈을 계산하는 프로그램을 만들어보자. \\\n",
        "단, 거스름돈은 지폐와 동전의 개수를 최소로 하고, 1원 단위 절사한다."
      ],
      "metadata": {
        "id": "KfZtGzqtXYJM"
      }
    },
    {
      "cell_type": "code",
      "source": [
        "money50000 = 50000; money10000 = 10000; money5000 = 5000; money1000 = 1000; money500 = 500; money100 = 100; money10 = 10\n",
        "money50000Cnt = 0; money10000Cnt = 0; money5000Cnt = 0; money1000Cnt = 0; money500Cnt = 0; money100Cnt = 0; money10Cnt = 0\n",
        "\n",
        "productPrice = int(input('상품 가격 입력 : '))\n",
        "payPrice = int(input('지불 금액 : '))\n",
        "\n",
        "if payPrice > productPrice:\n",
        "  changeMoney = payPrice - productPrice\n",
        "  changeMoney = (changeMoney // 10) * 10\n",
        "  print('거스름돈 : {}(원단위 절사)'.format(changeMoney))\n",
        "\n",
        "if changeMoney > money50000:\n",
        "  money50000Cnt = changeMoney // money50000\n",
        "  changeMoney %= money50000\n",
        "\n",
        "if changeMoney > money10000:\n",
        "  money10000Cnt = changeMoney // money10000\n",
        "  changeMoney %= money10000\n",
        "\n",
        "if changeMoney > money5000:\n",
        "  money5000Cnt = changeMoney // money5000\n",
        "  changeMoney %= money5000\n",
        "\n",
        "if changeMoney > money1000:\n",
        "  money1000Cnt = changeMoney // money1000\n",
        "  changeMoney %= money1000\n",
        "\n",
        "if changeMoney > money500:\n",
        "  money500Cnt = changeMoney // money500\n",
        "  changeMoney %= money500\n",
        "\n",
        "if changeMoney > money100:\n",
        "  money100Cnt = changeMoney // money100\n",
        "  changeMoney %= money100\n",
        "\n",
        "if changeMoney > money10:\n",
        "  money10Cnt = changeMoney // money10\n",
        "  changeMoney %= money10\n",
        "\n",
        "print('-' * 30)\n",
        "print('50,000 {}장'.format(money50000Cnt))\n",
        "print('10,000 {}장'.format(money10000Cnt))\n",
        "print('5,000 {}장'.format(money5000Cnt))\n",
        "print('1,000 {}장'.format(money1000Cnt))\n",
        "print('500 {}개'.format(money500Cnt))\n",
        "print('100 {}개'.format(money100Cnt))\n",
        "print('10 {}'.format(money10Cnt))\n",
        "print('-' * 30)"
      ],
      "metadata": {
        "colab": {
          "base_uri": "https://localhost:8080/"
        },
        "id": "HBrr5AQrXboh",
        "outputId": "9f6a8b3d-34e1-4c60-bc40-a63f6ef9b404"
      },
      "execution_count": 15,
      "outputs": [
        {
          "output_type": "stream",
          "name": "stdout",
          "text": [
            "상품 가격 입력 : 65845\n",
            "지불 금액 : 100000\n",
            "거스름돈 : 34150(원단위 절사)\n",
            "------------------------------\n",
            "50,000 0장\n",
            "10,000 3장\n",
            "5,000 0장\n",
            "1,000 4장\n",
            "500 0개\n",
            "100 1개\n",
            "10 5\n",
            "------------------------------\n"
          ]
        }
      ]
    }
  ]
}