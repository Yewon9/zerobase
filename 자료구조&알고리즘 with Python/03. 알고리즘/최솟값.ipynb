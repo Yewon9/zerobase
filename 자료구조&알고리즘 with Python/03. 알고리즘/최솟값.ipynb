{
 "cells": [
  {
   "cell_type": "markdown",
   "id": "43f94cf7-1eac-4993-9a41-13ceb5b03b2c",
   "metadata": {},
   "source": [
    "### 최솟값"
   ]
  },
  {
   "cell_type": "code",
   "execution_count": 1,
   "id": "6c61a208-f7e6-4ccf-943c-6526fa5303c0",
   "metadata": {},
   "outputs": [],
   "source": [
    "class MinAlgorithm:\n",
    "    def __init__(self, ns):\n",
    "        self.nums = ns\n",
    "        self.minNum = 0\n",
    "\n",
    "    def getMinNum(self):\n",
    "        self.minNum = self.nums[0]\n",
    "\n",
    "        for n in self.nums:\n",
    "            if self.minNum > n:\n",
    "                self.minNum = n\n",
    "\n",
    "        return self.minNum"
   ]
  },
  {
   "cell_type": "code",
   "execution_count": 2,
   "id": "6cac0c41-8b49-4308-8236-35bb1ee358eb",
   "metadata": {},
   "outputs": [
    {
     "name": "stdout",
     "output_type": "stream",
     "text": [
      "minNum : -11\n"
     ]
    }
   ],
   "source": [
    "ma = MinAlgorithm([-2, -4, 5, 7, 10, 0, 8, 20, -11])\n",
    "minNum = ma.getMinNum()\n",
    "print(f'minNum : {minNum}')"
   ]
  }
 ],
 "metadata": {
  "kernelspec": {
   "display_name": "Python 3 (ipykernel)",
   "language": "python",
   "name": "python3"
  },
  "language_info": {
   "codemirror_mode": {
    "name": "ipython",
    "version": 3
   },
   "file_extension": ".py",
   "mimetype": "text/x-python",
   "name": "python",
   "nbconvert_exporter": "python",
   "pygments_lexer": "ipython3",
   "version": "3.9.7"
  }
 },
 "nbformat": 4,
 "nbformat_minor": 5
}
