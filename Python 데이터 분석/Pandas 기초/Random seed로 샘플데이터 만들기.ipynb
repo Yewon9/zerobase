{
 "cells": [
  {
   "cell_type": "code",
   "execution_count": 1,
   "id": "a79713e9-6e04-48ad-91de-27fb4db295f1",
   "metadata": {},
   "outputs": [],
   "source": [
    "import random"
   ]
  },
  {
   "cell_type": "code",
   "execution_count": 2,
   "id": "90b912d1-8ed6-43d3-a0be-7e771d3ad608",
   "metadata": {},
   "outputs": [
    {
     "data": {
      "text/plain": [
       "3"
      ]
     },
     "execution_count": 2,
     "metadata": {},
     "output_type": "execute_result"
    }
   ],
   "source": [
    "random.randint(0, 10)"
   ]
  },
  {
   "cell_type": "code",
   "execution_count": 7,
   "id": "b9bb31d9-d52c-49aa-b842-819cc5c3de5d",
   "metadata": {},
   "outputs": [
    {
     "name": "stdout",
     "output_type": "stream",
     "text": [
      "10\n",
      "1\n",
      "0\n",
      "4\n",
      "3\n"
     ]
    }
   ],
   "source": [
    "random.seed(42)\n",
    "\n",
    "for _ in range(5):\n",
    "    print(random.randint(0, 10))"
   ]
  },
  {
   "cell_type": "code",
   "execution_count": 12,
   "id": "4ed822da-6520-4260-82bb-cb7038371033",
   "metadata": {},
   "outputs": [
    {
     "name": "stdout",
     "output_type": "stream",
     "text": [
      "F\n",
      "B\n",
      "F\n",
      "D\n",
      "B\n"
     ]
    }
   ],
   "source": [
    "grade = [l for l in 'ABCDF']\n",
    "\n",
    "for _ in range(5):\n",
    "    # print(grade[random.randint(0, len(grade) - 1)])\n",
    "    print(random.choice(grade))"
   ]
  },
  {
   "cell_type": "code",
   "execution_count": 13,
   "id": "37e7ce9c-8702-4048-b824-b2120a843459",
   "metadata": {},
   "outputs": [
    {
     "data": {
      "text/plain": [
       "['C', 'B', 'F', 'D', 'A']"
      ]
     },
     "execution_count": 13,
     "metadata": {},
     "output_type": "execute_result"
    }
   ],
   "source": [
    "data = random.choices(grade, k = 5)\n",
    "data"
   ]
  },
  {
   "cell_type": "code",
   "execution_count": 26,
   "id": "5d706410-b841-4191-ba7e-debf5101aaa9",
   "metadata": {},
   "outputs": [],
   "source": [
    "# pip install Faker"
   ]
  },
  {
   "cell_type": "code",
   "execution_count": 15,
   "id": "875bf090-e2e0-4d1c-9719-30501fed01f9",
   "metadata": {},
   "outputs": [],
   "source": [
    "from faker import Faker"
   ]
  },
  {
   "cell_type": "code",
   "execution_count": 24,
   "id": "59d4de39-8f3e-486e-a8e5-df1f7cffcbb4",
   "metadata": {},
   "outputs": [],
   "source": [
    "fake = Faker('ko_KR')"
   ]
  },
  {
   "cell_type": "code",
   "execution_count": 25,
   "id": "ac38fcb5-59b1-4e05-b917-ef37bcaf55e9",
   "metadata": {},
   "outputs": [
    {
     "name": "stdout",
     "output_type": "stream",
     "text": [
      "['이춘자', '김상훈', '구영호', '이서윤', '김민재', '김정호', '서상훈', '김광수', '구시우', '황지후']\n",
      "['서연', '정희', '민서', '미영', '은주', '경자', '수민', '미숙', '수민', '경숙']\n",
      "['영상/녹화 및 편집 기사', '자산 운용가', '조경원', '광석 및 석제품 가공기 조작원', '법무사 및 집행관', '통신/방송 및 인터넷 케이블 설치 및 수리원', '선박 및 열차 객실승무원', '결혼 상담원 및 웨딩플래너', '일반기계 조립원', '공업 배관공']\n"
     ]
    }
   ],
   "source": [
    "names = [fake.name() for _ in range(10)]\n",
    "first_names = [fake.first_name_female() for _ in range(10)]\n",
    "jobs = [fake.job() for _ in range(10)]\n",
    "print(names)\n",
    "print(first_names)\n",
    "print(jobs)"
   ]
  }
 ],
 "metadata": {
  "kernelspec": {
   "display_name": "Python 3 (ipykernel)",
   "language": "python",
   "name": "python3"
  },
  "language_info": {
   "codemirror_mode": {
    "name": "ipython",
    "version": 3
   },
   "file_extension": ".py",
   "mimetype": "text/x-python",
   "name": "python",
   "nbconvert_exporter": "python",
   "pygments_lexer": "ipython3",
   "version": "3.9.7"
  }
 },
 "nbformat": 4,
 "nbformat_minor": 5
}
