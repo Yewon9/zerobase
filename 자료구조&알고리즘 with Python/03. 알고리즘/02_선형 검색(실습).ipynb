{
 "cells": [
  {
   "cell_type": "markdown",
   "id": "8efdb865-fd62-4a87-b128-57b2c280058a",
   "metadata": {},
   "source": [
    "### 리스트에서 가장 앞에 있는 숫자 '7'을 검색하고 위치(인덱스)를 출력하자."
   ]
  },
  {
   "cell_type": "code",
   "execution_count": 2,
   "id": "b4af434c-9b00-421c-b2c3-08f3a5bd6af9",
   "metadata": {},
   "outputs": [
    {
     "name": "stdout",
     "output_type": "stream",
     "text": [
      "nums : [4, 7, 10, 2, 4, 7, 0, 2, 7, 3, 9]\n",
      "nums length : 11\n"
     ]
    }
   ],
   "source": [
    "nums = [4, 7, 10, 2, 4, 7, 0, 2, 7, 3, 9]\n",
    "print(f'nums : {nums}')\n",
    "print(f'nums length : {len(nums)}')"
   ]
  },
  {
   "cell_type": "code",
   "execution_count": 4,
   "id": "be3132f2-bfa7-4b9c-b7d5-c8e711240295",
   "metadata": {},
   "outputs": [
    {
     "name": "stdin",
     "output_type": "stream",
     "text": [
      "input search number :  7\n"
     ]
    }
   ],
   "source": [
    "searchData = int(input('input search number : '))\n",
    "searchResultIdx = -1"
   ]
  },
  {
   "cell_type": "code",
   "execution_count": 5,
   "id": "076dda62-08d5-4d66-a380-a30e68ab3e67",
   "metadata": {},
   "outputs": [],
   "source": [
    "nums.append(searchData)"
   ]
  },
  {
   "cell_type": "code",
   "execution_count": 6,
   "id": "64c19986-e2ad-4683-acea-4e595e08a30a",
   "metadata": {},
   "outputs": [],
   "source": [
    "n = 0\n",
    "while True:\n",
    "    if nums[n] == searchData:\n",
    "        if n != len(nums) - 1:\n",
    "            searchResultIdx = n\n",
    "        break\n",
    "    \n",
    "    n += 1"
   ]
  },
  {
   "cell_type": "code",
   "execution_count": 7,
   "id": "f2f52f0d-a9c7-48e6-ad48-a2a7af427c13",
   "metadata": {},
   "outputs": [
    {
     "name": "stdout",
     "output_type": "stream",
     "text": [
      "nums : [4, 7, 10, 2, 4, 7, 0, 2, 7, 3, 9, 7]\n",
      "nums length : 12\n",
      "searchResultIdx : 1\n"
     ]
    }
   ],
   "source": [
    "print(f'nums : {nums}')\n",
    "print(f'nums length : {len(nums)}')\n",
    "print(f'searchResultIdx : {searchResultIdx}')"
   ]
  },
  {
   "cell_type": "code",
   "execution_count": 8,
   "id": "92f0e229-f3b4-45a0-bf7a-33ad2e77ff86",
   "metadata": {},
   "outputs": [
    {
     "name": "stdout",
     "output_type": "stream",
     "text": [
      "search index : 1\n"
     ]
    }
   ],
   "source": [
    "if searchResultIdx < 0:\n",
    "    print('not search index')\n",
    "else:\n",
    "    print(f'search index : {searchResultIdx}')"
   ]
  },
  {
   "cell_type": "markdown",
   "id": "8de3106c-9034-422d-bb96-5653c7e04e5d",
   "metadata": {},
   "source": [
    "### 리스트에서 숫자 '7'을 모두 검색하고 각각의 위치(인덱스)와 검색 개수를 출력하자."
   ]
  },
  {
   "cell_type": "code",
   "execution_count": 17,
   "id": "9761da0e-6212-40cd-a2c4-8ea00463f2ed",
   "metadata": {},
   "outputs": [
    {
     "name": "stdout",
     "output_type": "stream",
     "text": [
      "nums : [4, 7, 10, 2, 4, 7, 0, 2, 7, 3, 9]\n",
      "nums length : 11\n"
     ]
    }
   ],
   "source": [
    "nums = [4, 7, 10, 2, 4, 7, 0, 2, 7, 3, 9]\n",
    "print(f'nums : {nums}')\n",
    "print(f'nums length : {len(nums)}')"
   ]
  },
  {
   "cell_type": "code",
   "execution_count": 18,
   "id": "64d6fcf9-1485-48b1-b428-281fff46517b",
   "metadata": {},
   "outputs": [
    {
     "name": "stdin",
     "output_type": "stream",
     "text": [
      "input search number :  7\n"
     ]
    }
   ],
   "source": [
    "searchData = int(input('input search number : '))\n",
    "searchResultIdxs = []"
   ]
  },
  {
   "cell_type": "code",
   "execution_count": 19,
   "id": "f49f320d-1b94-4267-80a8-00e22dab6ff8",
   "metadata": {},
   "outputs": [],
   "source": [
    "nums.append(searchData)"
   ]
  },
  {
   "cell_type": "code",
   "execution_count": 20,
   "id": "2d6179f0-661f-4f37-b307-32c8f224c039",
   "metadata": {},
   "outputs": [],
   "source": [
    "n = 0\n",
    "while True:\n",
    "    if nums[n] == searchData:\n",
    "        if n != len(nums) - 1:\n",
    "            searchResultIdxs.append(n)\n",
    "        else:\n",
    "            break\n",
    "    \n",
    "    n += 1"
   ]
  },
  {
   "cell_type": "code",
   "execution_count": 21,
   "id": "d5b2149a-e844-4c63-bfdc-304ca41bdd4c",
   "metadata": {},
   "outputs": [
    {
     "name": "stdout",
     "output_type": "stream",
     "text": [
      "nums : [4, 7, 10, 2, 4, 7, 0, 2, 7, 3, 9, 7]\n",
      "nums length : 12\n",
      "searchResultIdxs : [1, 5, 8]\n",
      "numssearchResultCnts : 3\n"
     ]
    }
   ],
   "source": [
    "print(f'nums : {nums}')\n",
    "print(f'nums length : {len(nums)}')\n",
    "print(f'searchResultIdxs : {searchResultIdxs}')\n",
    "print(f'numssearchResultCnts : {len(searchResultIdxs)}')"
   ]
  }
 ],
 "metadata": {
  "kernelspec": {
   "display_name": "Python 3 (ipykernel)",
   "language": "python",
   "name": "python3"
  },
  "language_info": {
   "codemirror_mode": {
    "name": "ipython",
    "version": 3
   },
   "file_extension": ".py",
   "mimetype": "text/x-python",
   "name": "python",
   "nbconvert_exporter": "python",
   "pygments_lexer": "ipython3",
   "version": "3.9.7"
  }
 },
 "nbformat": 4,
 "nbformat_minor": 5
}
