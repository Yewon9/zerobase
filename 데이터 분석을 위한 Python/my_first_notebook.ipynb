{
 "cells": [
  {
   "cell_type": "code",
   "execution_count": 1,
   "id": "3bfc7f4d-8ce3-42ac-b761-da6525d7f608",
   "metadata": {},
   "outputs": [
    {
     "name": "stdout",
     "output_type": "stream",
     "text": [
      "Hello World!\n"
     ]
    }
   ],
   "source": [
    "print(\"Hello World!\")"
   ]
  },
  {
   "cell_type": "code",
   "execution_count": 2,
   "id": "a3efe253-c19c-4ecc-bc6d-0f9232202a70",
   "metadata": {},
   "outputs": [],
   "source": [
    "x = 5"
   ]
  },
  {
   "cell_type": "code",
   "execution_count": 3,
   "id": "729face0-8251-471b-bbf1-87519e578257",
   "metadata": {},
   "outputs": [
    {
     "name": "stdout",
     "output_type": "stream",
     "text": [
      "5\n"
     ]
    }
   ],
   "source": [
    "print(x)"
   ]
  },
  {
   "cell_type": "markdown",
   "id": "17ff5498-05e0-4c2c-882c-bcc2f5323e92",
   "metadata": {},
   "source": [
    "### 나의 첫 번째 파이썬"
   ]
  },
  {
   "cell_type": "markdown",
   "id": "3f454f3c-a963-407d-bfff-25694bf14f25",
   "metadata": {},
   "source": [
    "## 두 번째 제목"
   ]
  },
  {
   "cell_type": "markdown",
   "id": "5d33b327-84aa-47dd-93f3-9113c4e5202b",
   "metadata": {},
   "source": [
    "### 세 번째 제목"
   ]
  }
 ],
 "metadata": {
  "kernelspec": {
   "display_name": "Python 3 (ipykernel)",
   "language": "python",
   "name": "python3"
  },
  "language_info": {
   "codemirror_mode": {
    "name": "ipython",
    "version": 3
   },
   "file_extension": ".py",
   "mimetype": "text/x-python",
   "name": "python",
   "nbconvert_exporter": "python",
   "pygments_lexer": "ipython3",
   "version": "3.9.7"
  }
 },
 "nbformat": 4,
 "nbformat_minor": 5
}
