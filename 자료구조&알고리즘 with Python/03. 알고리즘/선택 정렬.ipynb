{
 "cells": [
  {
   "cell_type": "markdown",
   "id": "4b18f138-6c9f-4683-85ff-c3e6e59e549c",
   "metadata": {},
   "source": [
    "### 선택정렬"
   ]
  },
  {
   "cell_type": "code",
   "execution_count": 7,
   "id": "3511000c-5598-4634-83a8-ff8987fccb5f",
   "metadata": {},
   "outputs": [
    {
     "name": "stdout",
     "output_type": "stream",
     "text": [
      "nums : [4, 2, 5, 1, 3]\n"
     ]
    }
   ],
   "source": [
    "nums = [4, 2, 5, 1, 3]\n",
    "print(f'nums : {nums}')"
   ]
  },
  {
   "cell_type": "code",
   "execution_count": 8,
   "id": "9e5eb523-cd7b-4021-b86d-7070eb57fbe3",
   "metadata": {},
   "outputs": [
    {
     "name": "stdout",
     "output_type": "stream",
     "text": [
      "nums : [1, 2, 5, 4, 3]\n",
      "nums : [1, 2, 5, 4, 3]\n",
      "nums : [1, 2, 3, 4, 5]\n",
      "nums : [1, 2, 3, 4, 5]\n",
      "nums : [1, 2, 3, 4, 5]\n"
     ]
    }
   ],
   "source": [
    "for i in range(len(nums) - 1):\n",
    "    minIdx = i\n",
    "\n",
    "    for j in range(i + 1, len(nums)):\n",
    "        if nums[minIdx] > nums[j]:\n",
    "            minIdx = j\n",
    "\n",
    "    nums[i], nums[minIdx] = nums[minIdx], nums[i]\n",
    "    print(f'nums : {nums}')\n",
    "\n",
    "print(f'nums : {nums}')"
   ]
  }
 ],
 "metadata": {
  "kernelspec": {
   "display_name": "Python 3 (ipykernel)",
   "language": "python",
   "name": "python3"
  },
  "language_info": {
   "codemirror_mode": {
    "name": "ipython",
    "version": 3
   },
   "file_extension": ".py",
   "mimetype": "text/x-python",
   "name": "python",
   "nbconvert_exporter": "python",
   "pygments_lexer": "ipython3",
   "version": "3.9.7"
  }
 },
 "nbformat": 4,
 "nbformat_minor": 5
}
