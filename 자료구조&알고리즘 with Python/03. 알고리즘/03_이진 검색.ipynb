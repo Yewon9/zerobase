{
 "cells": [
  {
   "cell_type": "markdown",
   "id": "bb67a335-2e86-4307-b68a-6d2ac52a04a1",
   "metadata": {},
   "source": [
    "### 이진검색"
   ]
  },
  {
   "cell_type": "code",
   "execution_count": 1,
   "id": "47e0319d-f5bd-45b8-ac3e-d4868df32bf6",
   "metadata": {},
   "outputs": [
    {
     "name": "stdout",
     "output_type": "stream",
     "text": [
      "datas : [1, 2, 3, 4, 5, 6, 7, 8, 9, 10, 11]\n",
      "datas length : 11\n"
     ]
    }
   ],
   "source": [
    "datas = [1, 2, 3, 4, 5, 6, 7, 8, 9, 10, 11]\n",
    "print(f'datas : {datas}')\n",
    "print(f'datas length : {len(datas)}')"
   ]
  },
  {
   "cell_type": "code",
   "execution_count": 6,
   "id": "29b05620-ba10-4806-9db5-20ad4a7f2974",
   "metadata": {},
   "outputs": [
    {
     "name": "stdin",
     "output_type": "stream",
     "text": [
      "찾으려는 숫자 입력 :  10\n"
     ]
    }
   ],
   "source": [
    "searchData = int(input('찾으려는 숫자 입력 : '))\n",
    "searchResultIdx = -1"
   ]
  },
  {
   "cell_type": "code",
   "execution_count": 7,
   "id": "cec2524e-5d41-45f1-b686-65fb4e46de27",
   "metadata": {},
   "outputs": [],
   "source": [
    "staIdx = 0\n",
    "endIdx = len(datas) - 1\n",
    "midIdx = (staIdx + endIdx) // 2\n",
    "midVal = datas[midIdx]"
   ]
  },
  {
   "cell_type": "code",
   "execution_count": 8,
   "id": "94a388ca-0876-4531-a94f-8ad9fe7745b8",
   "metadata": {},
   "outputs": [
    {
     "name": "stdout",
     "output_type": "stream",
     "text": [
      "midIdx : 7\n",
      "midVal : 8\n",
      "midIdx : 8\n",
      "midVal : 9\n",
      "midIdx : 9\n",
      "midVal : 10\n",
      "searchResultIdx : 9\n"
     ]
    }
   ],
   "source": [
    "while searchData <= datas[len(datas) - 1] and searchData >= datas[0]:\n",
    "    if searchData > midVal:\n",
    "        staIdx = midIdx\n",
    "        midIdx = (staIdx + endIdx) // 2\n",
    "        midVal = datas[midIdx]\n",
    "        print(f'midIdx : {midIdx}')\n",
    "        print(f'midVal : {midVal}')\n",
    "    elif searchData < midVal:\n",
    "        endIdx = midIdx\n",
    "        midIdx = (staIdx + endIdx) // 2\n",
    "        midVal = datas[midIdx]\n",
    "        print(f'midIdx : {midIdx}')\n",
    "        print(f'midVal : {midVal}')\n",
    "    elif searchData == midVal:\n",
    "        searchResultIdx = midIdx\n",
    "        break\n",
    "\n",
    "print(f'searchResultIdx : {searchResultIdx}')"
   ]
  }
 ],
 "metadata": {
  "kernelspec": {
   "display_name": "Python 3 (ipykernel)",
   "language": "python",
   "name": "python3"
  },
  "language_info": {
   "codemirror_mode": {
    "name": "ipython",
    "version": 3
   },
   "file_extension": ".py",
   "mimetype": "text/x-python",
   "name": "python",
   "nbconvert_exporter": "python",
   "pygments_lexer": "ipython3",
   "version": "3.9.7"
  }
 },
 "nbformat": 4,
 "nbformat_minor": 5
}
