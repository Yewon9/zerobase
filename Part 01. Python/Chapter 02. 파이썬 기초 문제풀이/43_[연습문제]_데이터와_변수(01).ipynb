{
  "nbformat": 4,
  "nbformat_minor": 0,
  "metadata": {
    "colab": {
      "provenance": []
    },
    "kernelspec": {
      "name": "python3",
      "display_name": "Python 3"
    },
    "language_info": {
      "name": "python"
    }
  },
  "cells": [
    {
      "cell_type": "markdown",
      "source": [
        "다음은 온라인에서 상품 구매 후 메일로 발송되는 '주문확인서'이다. \\\n",
        "'주문확인서' 템플릿으로 만들고, 변경되는 정보만 입력하면 '주문확인서'가 완성될 수 있도록 프로그램을 만들어 보자."
      ],
      "metadata": {
        "id": "c3Z7oaysW9T4"
      }
    },
    {
      "cell_type": "code",
      "source": [
        "name = '홍길동'\n",
        "product = '야구글러브'\n",
        "orderNo = 2568956\n",
        "payMethod = '신용카드'\n",
        "productPrice = 110000\n",
        "payPrice = 100000\n",
        "usePoint = 10000\n",
        "payDate = '2021/08/03 21:50:12'\n",
        "payDiv = 6\n",
        "payDivCategory = '무'\n",
        "phone = '02-1234-5678'\n",
        "\n",
        "print(name, '고객님 안녕하세요.')\n",
        "print(name, '고객님의 주문이 완료되었습니다.')\n",
        "print('다음은 주문건에 대한 상세 내역입니다.')\n",
        "print('-' * 50)\n",
        "print('상품명\\t: ', product)\n",
        "print('주문번호\\t: ', orderNo)\n",
        "print('결제방법\\t: ', payMethod)\n",
        "print('상품금액\\t: ', productPrice)\n",
        "print('결제금액\\t: ', payPrice)\n",
        "print('포인트\\t: ', usePoint)\n",
        "print('결제일시\\t: ', payDate)\n",
        "print('할부\\t\\t: ', payDiv)\n",
        "print('할부유형\\t: ', payDivCategory)\n",
        "print('문의\\t\\t: ', phone)\n",
        "print('-' * 50)\n",
        "print('저희 사이트를 이용해 주셔서 감사합니다.')"
      ],
      "metadata": {
        "colab": {
          "base_uri": "https://localhost:8080/"
        },
        "id": "m0IpjVgYPpDC",
        "outputId": "da7093a9-226c-4105-ad64-fab0c8a23a73"
      },
      "execution_count": null,
      "outputs": [
        {
          "output_type": "stream",
          "name": "stdout",
          "text": [
            "홍길동 고객님 안녕하세요.\n",
            "홍길동 고객님의 주문이 완료되었습니다.\n",
            "다음은 주문건에 대한 상세 내역입니다.\n",
            "--------------------------------------------------\n",
            "상품명\t:  야구글러브\n",
            "주문번호\t:  2568956\n",
            "결제방법\t:  신용카드\n",
            "상품금액\t:  110000\n",
            "결제금액\t:  100000\n",
            "포인트\t:  10000\n",
            "결제일시\t:  2021/08/03 21:50:12\n",
            "할부\t\t:  6\n",
            "할부유형\t:  무\n",
            "문의\t\t:  02-1234-5678\n",
            "--------------------------------------------------\n",
            "저희 사이트를 이용해 주셔서 감사합니다.\n"
          ]
        }
      ]
    }
  ]
}