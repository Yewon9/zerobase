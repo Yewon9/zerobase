{
  "nbformat": 4,
  "nbformat_minor": 0,
  "metadata": {
    "colab": {
      "provenance": []
    },
    "kernelspec": {
      "name": "python3",
      "display_name": "Python 3"
    },
    "language_info": {
      "name": "python"
    }
  },
  "cells": [
    {
      "cell_type": "markdown",
      "source": [
        "아들이 엄마한테 용돈을 받는데, 첫 달에는 200원을 받고 매월 이전 달의 2배씩 인상하기로 했다. 12개월째 되는 달에는 얼마를 받을 수 있는지 계산해 보자."
      ],
      "metadata": {
        "id": "EzdroG-H4Ge7"
      }
    },
    {
      "cell_type": "code",
      "execution_count": 10,
      "metadata": {
        "colab": {
          "base_uri": "https://localhost:8080/"
        },
        "id": "1sHJLeQ130Et",
        "outputId": "db89346e-f01b-4367-d480-96fccc6bbf14"
      },
      "outputs": [
        {
          "output_type": "stream",
          "name": "stdout",
          "text": [
            "12개월 후 용돈 : 409600원\n",
            "12개월 후 용돈 : 409,600원\n"
          ]
        }
      ],
      "source": [
        "firstMonthMoney = 200\n",
        "after12Month = ((firstMonthMoney * 0.01) ** 12) * 100\n",
        "print('12개월 후 용돈 : %.f원' % after12Month)\n",
        "\n",
        "after12Month = int(after12Month)\n",
        "after12MonthFormated = format(after12Month, ',')\n",
        "print('12개월 후 용돈 : %s원' % after12MonthFormated)"
      ]
    }
  ]
}