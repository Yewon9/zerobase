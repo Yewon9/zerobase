{
  "nbformat": 4,
  "nbformat_minor": 0,
  "metadata": {
    "colab": {
      "provenance": []
    },
    "kernelspec": {
      "name": "python3",
      "display_name": "Python 3"
    },
    "language_info": {
      "name": "python"
    }
  },
  "cells": [
    {
      "cell_type": "markdown",
      "source": [
        "계산기 추상 클래스를 만들고 이를 이용해서 새로운 계산기 클래스를 만들어보자. \\\n",
        "추상 클래스에는 덧셈, 뺄셈, 곱셈, 나눗셈 기능이 선언되어 있어야 한다."
      ],
      "metadata": {
        "id": "Ni6yd0IsV3VN"
      }
    },
    {
      "cell_type": "code",
      "source": [
        "from abc import ABCMeta\n",
        "from abc import abstractmethod"
      ],
      "metadata": {
        "id": "Idwx0cMfWhJ8"
      },
      "execution_count": 25,
      "outputs": []
    },
    {
      "cell_type": "code",
      "source": [
        "class Calculator(metaclass = ABCMeta):\n",
        "\n",
        "  @abstractmethod\n",
        "  def add(self, n1, n2):\n",
        "    pass\n",
        "\n",
        "  @abstractmethod\n",
        "  def sub(self, n1, n2):\n",
        "    pass\n",
        "\n",
        "  @abstractmethod\n",
        "  def mul(self, n1, n2):\n",
        "    pass\n",
        "\n",
        "  @abstractmethod\n",
        "  def div(self, n1, n2):\n",
        "    pass"
      ],
      "metadata": {
        "id": "VC4dwJHSWJRl"
      },
      "execution_count": 26,
      "outputs": []
    },
    {
      "cell_type": "code",
      "source": [
        "class DeveloperCalculator(Calculator):\n",
        "\n",
        "  def add(self, n1, n2):\n",
        "    print(n1 + n2)\n",
        "\n",
        "  def sub(self, n1, n2):\n",
        "    print(n1 - n2)\n",
        "\n",
        "  def mul(self, n1, n2):\n",
        "    print(n1 * n2)\n",
        "\n",
        "  def div(self, n1, n2):\n",
        "    print(n1 / n2)\n",
        "\n",
        "  def mod(self, n1, n2):\n",
        "    print(n1 % n2)\n",
        "\n",
        "  def flo(self, n1, n2):\n",
        "    print(n1 // n2)"
      ],
      "metadata": {
        "id": "94lcmLLmWedM"
      },
      "execution_count": 29,
      "outputs": []
    },
    {
      "cell_type": "code",
      "source": [
        "devCal = DeveloperCalculator()\n",
        "devCal.add(10, 20)\n",
        "devCal.sub(10, 20)\n",
        "devCal.mul(10, 20)\n",
        "devCal.div(10, 20)\n",
        "devCal.mod(10, 20)\n",
        "devCal.flo(10, 20)"
      ],
      "metadata": {
        "id": "-7PLKu3uX17F",
        "outputId": "4868bfcb-b7f7-45b2-e049-637cb82b45a7",
        "colab": {
          "base_uri": "https://localhost:8080/"
        }
      },
      "execution_count": 30,
      "outputs": [
        {
          "output_type": "stream",
          "name": "stdout",
          "text": [
            "30\n",
            "-10\n",
            "200\n",
            "0.5\n",
            "10\n",
            "0\n"
          ]
        }
      ]
    }
  ]
}