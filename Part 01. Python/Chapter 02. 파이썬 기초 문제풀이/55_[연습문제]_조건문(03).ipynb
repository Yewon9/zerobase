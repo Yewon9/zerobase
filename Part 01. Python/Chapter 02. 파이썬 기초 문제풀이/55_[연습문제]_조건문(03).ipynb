{
  "nbformat": 4,
  "nbformat_minor": 0,
  "metadata": {
    "colab": {
      "provenance": []
    },
    "kernelspec": {
      "name": "python3",
      "display_name": "Python 3"
    },
    "language_info": {
      "name": "python"
    }
  },
  "cells": [
    {
      "cell_type": "markdown",
      "source": [
        "난수를 이용해서 홀/짝 게임을 만들어보자."
      ],
      "metadata": {
        "id": "KfZtGzqtXYJM"
      }
    },
    {
      "cell_type": "code",
      "source": [
        "import random\n",
        "\n",
        "comNum = random.randint(1, 2)\n",
        "userSelect = int(input('홀/짝 선택: 1.홀 \\t 2.짝'))\n",
        "\n",
        "if comNum == 1 and userSelect == 1:\n",
        "  print('빙고!! 홀수!!')\n",
        "elif comNum == 2 and userSelect == 2:\n",
        "  print('빙고!! 짝수!!')\n",
        "elif comNum == 1 and userSelect == 2:\n",
        "  print('실패!! 홀수!!')\n",
        "elif comNum == 2 and userSelect == 1:\n",
        "  print('실패!! 짝수!!')"
      ],
      "metadata": {
        "colab": {
          "base_uri": "https://localhost:8080/"
        },
        "id": "HBrr5AQrXboh",
        "outputId": "d44202f4-f5f0-4320-bc11-b0bf9091beaa"
      },
      "execution_count": 1,
      "outputs": [
        {
          "output_type": "stream",
          "name": "stdout",
          "text": [
            "홀/짝 선택: 1.홀 \t 2.짝1\n",
            "빙고!! 홀수!!\n"
          ]
        }
      ]
    },
    {
      "cell_type": "markdown",
      "source": [
        "난수를 이용해서 가위, 바위, 보 게임을 만들어보자."
      ],
      "metadata": {
        "id": "vB1epryPHVQY"
      }
    },
    {
      "cell_type": "code",
      "source": [
        "import random\n",
        "\n",
        "comNumber = random.randint(1, 3)\n",
        "userNumber = int(input('가위, 바위, 보 선택 : 1.가위 \\t 2.바위 \\t 3.보'))\n",
        "\n",
        "if (comNumber == 1 and userNumber == 2) or (comNumber == 2 and userNumber == 3) or (comNumber == 3 and userNumber == 1):\n",
        "  print('컴퓨터 : 패, 유저 : 승')\n",
        "elif comNumber == userNumber:\n",
        "  print('무승부')\n",
        "else:\n",
        "  print('컴퓨터 : 승, 유저 : 패')\n",
        "\n",
        "print('컴퓨터 : {}, 유저 : {}'.format(comNumber, userNumber))"
      ],
      "metadata": {
        "colab": {
          "base_uri": "https://localhost:8080/"
        },
        "id": "qlJoQBl0HXwt",
        "outputId": "4f7b0a21-1610-41bf-a8a9-51d0e0b493dc"
      },
      "execution_count": 3,
      "outputs": [
        {
          "output_type": "stream",
          "name": "stdout",
          "text": [
            "가위, 바위, 보 선택 : 1.가위 \t 2.바위 \t 3.보2\n",
            "컴퓨터 : 승, 유저 : 패\n",
            "컴퓨터 : 3, 유저 : 2\n"
          ]
        }
      ]
    }
  ]
}