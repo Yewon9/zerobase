{
  "nbformat": 4,
  "nbformat_minor": 0,
  "metadata": {
    "colab": {
      "provenance": []
    },
    "kernelspec": {
      "name": "python3",
      "display_name": "Python 3"
    },
    "language_info": {
      "name": "python"
    }
  },
  "cells": [
    {
      "cell_type": "markdown",
      "source": [
        "교통 과속 위반 프로그램을 만들어보자."
      ],
      "metadata": {
        "id": "KfZtGzqtXYJM"
      }
    },
    {
      "cell_type": "code",
      "source": [
        "carSpeed = int(input('속도 입력 : '))\n",
        "limitSpeed = 50\n",
        "\n",
        "if carSpeed > limitSpeed:\n",
        "  print('안전속도 위반!! 과태료 50,000원 부과 대상!!!')\n",
        "else:\n",
        "  print('안전속도 준수!!')"
      ],
      "metadata": {
        "colab": {
          "base_uri": "https://localhost:8080/"
        },
        "id": "HBrr5AQrXboh",
        "outputId": "78b2f500-9080-47db-de13-54a332271368"
      },
      "execution_count": 27,
      "outputs": [
        {
          "output_type": "stream",
          "name": "stdout",
          "text": [
            "속도 입력 : 55\n",
            "안전속도 위반!! 과태료 50,000원 부과 대상!!!\n"
          ]
        }
      ]
    },
    {
      "cell_type": "markdown",
      "source": [
        "문자 메시지 길이에 따라 문자 요금이 결정되는 프로그램을 만들어보자."
      ],
      "metadata": {
        "id": "VnF0sg1hzA6I"
      }
    },
    {
      "cell_type": "code",
      "source": [
        "message = input('메시지 입력 : ')\n",
        "lenMessage = len(message)\n",
        "msgPrice = 50\n",
        "\n",
        "if lenMessage <= 50:\n",
        "  msgPrice = 50\n",
        "  print('SMS 발송!!')\n",
        "else:\n",
        "  msgPrice = 100\n",
        "  print('MMS 발송!!')\n",
        "\n",
        "print('메시지 길이 : {}'.format(lenMessage))\n",
        "print('메시지 발송 요금 : {}'.format(msgPrice))"
      ],
      "metadata": {
        "colab": {
          "base_uri": "https://localhost:8080/"
        },
        "id": "GCVxDGNCzF2k",
        "outputId": "4565eb13-7333-44f2-bb8d-e559c37b7260"
      },
      "execution_count": 29,
      "outputs": [
        {
          "output_type": "stream",
          "name": "stdout",
          "text": [
            "메시지 입력 : 안녕하세요.\n",
            "SMS 발송!!\n",
            "메시지 길이 : 6\n",
            "메시지 발송 요금 : 50\n"
          ]
        }
      ]
    }
  ]
}