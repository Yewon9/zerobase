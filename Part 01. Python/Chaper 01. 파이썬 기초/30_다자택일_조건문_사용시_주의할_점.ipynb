{
  "nbformat": 4,
  "nbformat_minor": 0,
  "metadata": {
    "colab": {
      "provenance": []
    },
    "kernelspec": {
      "name": "python3",
      "display_name": "Python 3"
    },
    "language_info": {
      "name": "python"
    }
  },
  "cells": [
    {
      "cell_type": "markdown",
      "source": [
        "자동차 배기량에 따라 세금을 부과한다고 할 때, 다음 표를 보고 배기량을 입력하면 세금이 출력되는 프로그램을 만들어 보자."
      ],
      "metadata": {
        "id": "JtXFlTtmPilK"
      }
    },
    {
      "cell_type": "code",
      "source": [
        "carDisplacement = int(input('자동차 배기량 입력 : '))\n",
        "\n",
        "if carDisplacement < 1000:\n",
        "  print('세금 : 100,000원')\n",
        "elif carDisplacement < 2000 and carDisplacement >= 1000:\n",
        "  print('세금 : 200,000원')\n",
        "elif carDisplacement < 3000 and carDisplacement >= 2000:\n",
        "  print('세금 : 300,000원')\n",
        "elif carDisplacement < 4000 and carDisplacement >= 3000:\n",
        "  print('세금 : 400,000원')\n",
        "elif carDisplacement >= 4000:\n",
        "  print('세금 : 500,000원')\n",
        "elif carDisplacement >= 5000:\n",
        "  print('세금 : 600,000원')"
      ],
      "metadata": {
        "colab": {
          "base_uri": "https://localhost:8080/"
        },
        "id": "m0IpjVgYPpDC",
        "outputId": "f65e6db1-063d-47b8-eea5-d8c29a291598"
      },
      "execution_count": 7,
      "outputs": [
        {
          "output_type": "stream",
          "name": "stdout",
          "text": [
            "자동차 배기량 입력 : 4200\n",
            "세금 : 500,000원\n"
          ]
        }
      ]
    }
  ]
}