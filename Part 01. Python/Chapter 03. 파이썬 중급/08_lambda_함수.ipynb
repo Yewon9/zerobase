{
  "nbformat": 4,
  "nbformat_minor": 0,
  "metadata": {
    "colab": {
      "provenance": []
    },
    "kernelspec": {
      "name": "python3",
      "display_name": "Python 3"
    },
    "language_info": {
      "name": "python"
    }
  },
  "cells": [
    {
      "cell_type": "markdown",
      "source": [
        "삼각형, 사각형, 원의 넓이를 반환하는 lambda 함수를 만들어보자."
      ],
      "metadata": {
        "id": "ZBOtxG9UQ4C3"
      }
    },
    {
      "cell_type": "code",
      "source": [
        "getTriangleArea = lambda n1, n2 : n1 * n1 / 2\n",
        "getSquareArea = lambda n1, n2 : n1 * n2\n",
        "getCircleArea = lambda r : r * r * 3.14\n",
        "\n",
        "width = int(input('가로 길이 입력 : '))\n",
        "height = int(input('세로 길이 입력 : '))\n",
        "radius = int(input('반지름 길이 입력 : '))\n",
        "\n",
        "triangleValue = getTriangleArea(width, height)\n",
        "squareValue = getSquareArea(width, height)\n",
        "radiusValue = getCircleArea(radius)\n",
        "\n",
        "print(f'삼각형 넓이 : {triangleValue}')\n",
        "print(f'사각형 넓이 : {squareValue}')\n",
        "print(f'원 넓이 : {radiusValue}')"
      ],
      "metadata": {
        "colab": {
          "base_uri": "https://localhost:8080/"
        },
        "id": "6iJPgfrSQ9PN",
        "outputId": "35ea29a4-aa4e-40da-92f3-ff67763dffa7"
      },
      "execution_count": 5,
      "outputs": [
        {
          "output_type": "stream",
          "name": "stdout",
          "text": [
            "가로 길이 입력 : 20\n",
            "세로 길이 입력 : 30\n",
            "반지름 길이 입력 : 6\n",
            "삼각형 넓이 : 200.0\n",
            "사각형 넓이 : 600\n",
            "원 넓이 : 113.04\n"
          ]
        }
      ]
    }
  ]
}