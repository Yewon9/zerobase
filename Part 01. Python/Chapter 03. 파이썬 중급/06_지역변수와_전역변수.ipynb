{
  "nbformat": 4,
  "nbformat_minor": 0,
  "metadata": {
    "colab": {
      "provenance": []
    },
    "kernelspec": {
      "name": "python3",
      "display_name": "Python 3"
    },
    "language_info": {
      "name": "python"
    }
  },
  "cells": [
    {
      "cell_type": "markdown",
      "source": [
        "사용자가 가로, 세로 길이를 입력하면 삼각형과 사각형의 넓이를 출력하는 함수를 만들어보자."
      ],
      "metadata": {
        "id": "d-V5tTWjP1G8"
      }
    },
    {
      "cell_type": "code",
      "source": [
        "def printArea():\n",
        "  triangleArea = width * height / 2\n",
        "  squareArea = width * height\n",
        "\n",
        "  print(f'삼각형 넓이 : {triangleArea}')\n",
        "  print(f'사각형 넓이 : {squareArea}')\n",
        "\n",
        "width = int(input('가로 길이 입력 : '))\n",
        "height = int(input('세로 길이 입력 : '))\n",
        "printArea()"
      ],
      "metadata": {
        "colab": {
          "base_uri": "https://localhost:8080/"
        },
        "id": "M01cOX52P59c",
        "outputId": "e49c298d-6063-4e29-fa58-00d55c3a737d"
      },
      "execution_count": 8,
      "outputs": [
        {
          "output_type": "stream",
          "name": "stdout",
          "text": [
            "가로 길이 입력 : 10\n",
            "세로 길이 입력 : 20\n",
            "삼각형 넓이 : 100.0\n",
            "사각형 넓이 : 200\n"
          ]
        }
      ]
    },
    {
      "cell_type": "markdown",
      "source": [
        "방문객 수를 카운트하는 함수를 만들어보자."
      ],
      "metadata": {
        "id": "rrek4WJ4QLbz"
      }
    },
    {
      "cell_type": "code",
      "source": [
        "totalVisit = 0\n",
        "\n",
        "def countTotalVisit():\n",
        "  global totalVisit\n",
        "\n",
        "  totalVisit = totalVisit + 1\n",
        "  print(f'누적 방문객 : {totalVisit}')\n",
        "\n",
        "countTotalVisit()\n",
        "countTotalVisit()\n",
        "countTotalVisit()\n",
        "countTotalVisit()\n",
        "countTotalVisit()"
      ],
      "metadata": {
        "colab": {
          "base_uri": "https://localhost:8080/"
        },
        "id": "E-EEAV55QPoH",
        "outputId": "7a48e52a-9579-45b2-8086-5d71cf678310"
      },
      "execution_count": 9,
      "outputs": [
        {
          "output_type": "stream",
          "name": "stdout",
          "text": [
            "누적 방문객 : 1\n",
            "누적 방문객 : 2\n",
            "누적 방문객 : 3\n",
            "누적 방문객 : 4\n",
            "누적 방문객 : 5\n"
          ]
        }
      ]
    }
  ]
}