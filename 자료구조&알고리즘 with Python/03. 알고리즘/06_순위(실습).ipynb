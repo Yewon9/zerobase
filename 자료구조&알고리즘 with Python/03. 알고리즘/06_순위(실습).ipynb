{
 "cells": [
  {
   "cell_type": "markdown",
   "id": "1a384541-859e-47f6-9e22-2b99c3142166",
   "metadata": {},
   "source": [
    "### 학급 학생(20명)들의 중간고사와 기말고사 성적을 이용해서 각각의 순위를 구하고, 중간고사 대비 기말고사 순위 변화(편차)를 출력하는 프로그램을 만들어보자. (시험 성적은 난수를 이용한다.)"
   ]
  },
  {
   "cell_type": "code",
   "execution_count": 8,
   "id": "1d60fcc4-4cb6-41cc-b4d0-b3bb93e1a3ae",
   "metadata": {},
   "outputs": [],
   "source": [
    "class RankDeviation:\n",
    "    def __init__(self, mss, ess):\n",
    "        self.midStuScos = mss\n",
    "        self.endStuScos = ess\n",
    "        self.midRanks = [0 for i in range(len(mss))]\n",
    "        self.endRanks = [0 for i in range(len(mss))]\n",
    "        self.rankDeviation = [0 for i in range(len(mss))]\n",
    "\n",
    "    def setRank(self, ss, rs):\n",
    "        for idx, sco1 in enumerate(ss):\n",
    "            for sco2 in ss:\n",
    "                if sco1 < sco2:\n",
    "                    rs[idx] += 1\n",
    "\n",
    "    def setMidRank(self):\n",
    "        self.setRank(self.midStuScos, self.midRanks)\n",
    "\n",
    "    def getMidRank(self):\n",
    "        return self.midRanks\n",
    "\n",
    "    def setEndRank(self):\n",
    "        self.setRank(self.endStuScos, self.endRanks)\n",
    "\n",
    "    def getEndRank(self):\n",
    "        return self.endRanks\n",
    "\n",
    "    def printRankDeviation(self):\n",
    "        for idx, mRank in enumerate(self.midRanks):\n",
    "            deviation = mRank - self.endRanks[idx]\n",
    "\n",
    "            if deviation > 0:\n",
    "                deviation = '↑' + str(abs(deviation))\n",
    "            elif deviation < 0:\n",
    "                deviation = '↓' + str(abs(deviation))\n",
    "            else:\n",
    "                deviation = '=' + str(abs(deviation))\n",
    "\n",
    "            print(f'mid_rank : {mRank} \\t end_rank : {self.endRanks[idx]} \\t Deviation : {deviation}')"
   ]
  },
  {
   "cell_type": "code",
   "execution_count": 3,
   "id": "5275bc20-ffa2-4ec0-8b9a-f1ffa97a0042",
   "metadata": {},
   "outputs": [],
   "source": [
    "import random"
   ]
  },
  {
   "cell_type": "code",
   "execution_count": 5,
   "id": "8a9c03fd-4f4a-40c9-b250-8260a3fb6c01",
   "metadata": {},
   "outputs": [],
   "source": [
    "midStuScos = random.sample(range(50, 101), 20)\n",
    "endStuScos = random.sample(range(50, 101), 20)"
   ]
  },
  {
   "cell_type": "code",
   "execution_count": 10,
   "id": "2c9fa6c3-6738-422f-80ab-a31062417540",
   "metadata": {},
   "outputs": [
    {
     "name": "stdout",
     "output_type": "stream",
     "text": [
      "midStuScos : [91, 97, 86, 76, 83, 67, 55, 52, 84, 94, 69, 64, 100, 93, 56, 74, 92, 61, 99, 50]\n",
      "mid_rank : [6, 2, 7, 10, 9, 13, 17, 18, 8, 3, 12, 14, 0, 4, 16, 11, 5, 15, 1, 19]\n",
      "endStuScos : [71, 68, 87, 69, 90, 93, 100, 65, 66, 51, 86, 56, 79, 84, 73, 64, 62, 54, 74, 92]\n",
      "end_rank : [10, 12, 4, 11, 3, 1, 0, 14, 13, 19, 5, 17, 7, 6, 9, 15, 16, 18, 8, 2]\n",
      "mid_rank : 6 \t end_rank : 10 \t Deviation : ↓4\n",
      "mid_rank : 2 \t end_rank : 12 \t Deviation : ↓10\n",
      "mid_rank : 7 \t end_rank : 4 \t Deviation : ↑3\n",
      "mid_rank : 10 \t end_rank : 11 \t Deviation : ↓1\n",
      "mid_rank : 9 \t end_rank : 3 \t Deviation : ↑6\n",
      "mid_rank : 13 \t end_rank : 1 \t Deviation : ↑12\n",
      "mid_rank : 17 \t end_rank : 0 \t Deviation : ↑17\n",
      "mid_rank : 18 \t end_rank : 14 \t Deviation : ↑4\n",
      "mid_rank : 8 \t end_rank : 13 \t Deviation : ↓5\n",
      "mid_rank : 3 \t end_rank : 19 \t Deviation : ↓16\n",
      "mid_rank : 12 \t end_rank : 5 \t Deviation : ↑7\n",
      "mid_rank : 14 \t end_rank : 17 \t Deviation : ↓3\n",
      "mid_rank : 0 \t end_rank : 7 \t Deviation : ↓7\n",
      "mid_rank : 4 \t end_rank : 6 \t Deviation : ↓2\n",
      "mid_rank : 16 \t end_rank : 9 \t Deviation : ↑7\n",
      "mid_rank : 11 \t end_rank : 15 \t Deviation : ↓4\n",
      "mid_rank : 5 \t end_rank : 16 \t Deviation : ↓11\n",
      "mid_rank : 15 \t end_rank : 18 \t Deviation : ↓3\n",
      "mid_rank : 1 \t end_rank : 8 \t Deviation : ↓7\n",
      "mid_rank : 19 \t end_rank : 2 \t Deviation : ↑17\n"
     ]
    }
   ],
   "source": [
    "rd = RankDeviation(midStuScos, endStuScos)\n",
    "\n",
    "rd.setMidRank()\n",
    "print(f'midStuScos : {midStuScos}')\n",
    "print(f'mid_rank : {rd.getMidRank()}')\n",
    "\n",
    "rd.setEndRank()\n",
    "print(f'endStuScos : {endStuScos}')\n",
    "print(f'end_rank : {rd.getEndRank()}')\n",
    "\n",
    "rd.printRankDeviation()"
   ]
  }
 ],
 "metadata": {
  "kernelspec": {
   "display_name": "Python 3 (ipykernel)",
   "language": "python",
   "name": "python3"
  },
  "language_info": {
   "codemirror_mode": {
    "name": "ipython",
    "version": 3
   },
   "file_extension": ".py",
   "mimetype": "text/x-python",
   "name": "python",
   "nbconvert_exporter": "python",
   "pygments_lexer": "ipython3",
   "version": "3.9.7"
  }
 },
 "nbformat": 4,
 "nbformat_minor": 5
}
