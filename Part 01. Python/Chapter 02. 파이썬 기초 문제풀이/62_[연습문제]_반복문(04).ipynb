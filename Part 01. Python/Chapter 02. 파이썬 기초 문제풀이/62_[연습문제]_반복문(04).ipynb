{
  "nbformat": 4,
  "nbformat_minor": 0,
  "metadata": {
    "colab": {
      "provenance": []
    },
    "kernelspec": {
      "name": "python3",
      "display_name": "Python 3"
    },
    "language_info": {
      "name": "python"
    }
  },
  "cells": [
    {
      "cell_type": "markdown",
      "source": [
        "집 앞 버스 정류장에서 학교까지 가는 버스 A, B, C의 운행정보가 다음과 같을 때, 2대 이상의 버스가 정차하는 시간대를 출력해보자. \\\n",
        "- 버스 A, B 운행 정보\n",
        "- 오전 6시 첫 차 : 오후 23시 운행 종료\n",
        "- 버스A : 15분 간격 운행\n",
        "- 버스B : 13분 간격 운행\n",
        "- 버스 C 운행 정보\n",
        "- 6시 20분 첫차 : 오후 22시 운행 종료\n",
        "- 버스C : 8분 간격 운행"
      ],
      "metadata": {
        "id": "KfZtGzqtXYJM"
      }
    },
    {
      "cell_type": "code",
      "source": [
        "busA = 15\n",
        "busB = 13\n",
        "busC = 8\n",
        "\n",
        "totalMin = 60 * 17\n",
        "for i in range(totalMin + 1):\n",
        "  if i < 20 or i > (totalMin - 60):\n",
        "    if i % busA == 0 and i % busB == 0:\n",
        "      print('busA와 busB 동시 정차!!', end = '')\n",
        "      hour = 6 + i // 60\n",
        "      min = i % 60\n",
        "      print('\\t{} : {}'.format(hour, min))\n",
        "  else:\n",
        "    if i % busA == 0 and i % busB == 0:\n",
        "      print('busA와 busB 동시 정차!!', end = '')\n",
        "      hour = 6 + i // 60\n",
        "      min = i % 60\n",
        "      print('\\t{} : {}'.format(hour, min))\n",
        "    elif i % busA == 0 and i % busC == 0:\n",
        "      print('busA와 busC 동시 정차!!', end = '')\n",
        "      hour = 6 + i // 60\n",
        "      min = i % 60\n",
        "      print('\\t{} : {}'.format(hour, min))\n",
        "    elif i % busB == 0 and i % busC == 0:\n",
        "      print('busB와 busC 동시 정차!!', end = '')\n",
        "      hour = 6 + i // 60\n",
        "      min = i % 60\n",
        "      print('\\t{} : {}'.format(hour, min))"
      ],
      "metadata": {
        "colab": {
          "base_uri": "https://localhost:8080/"
        },
        "id": "KRMNkEKqn0N1",
        "outputId": "b0dcf48f-ce6b-4ff4-a9a7-3f84283c8c68"
      },
      "execution_count": 43,
      "outputs": [
        {
          "output_type": "stream",
          "name": "stdout",
          "text": [
            "busA와 busB 동시 정차!!\t6 : 0\n",
            "busB와 busC 동시 정차!!\t7 : 44\n",
            "busA와 busC 동시 정차!!\t8 : 0\n",
            "busA와 busB 동시 정차!!\t9 : 15\n",
            "busB와 busC 동시 정차!!\t9 : 28\n",
            "busA와 busC 동시 정차!!\t10 : 0\n",
            "busB와 busC 동시 정차!!\t11 : 12\n",
            "busA와 busC 동시 정차!!\t12 : 0\n",
            "busA와 busB 동시 정차!!\t12 : 30\n",
            "busB와 busC 동시 정차!!\t12 : 56\n",
            "busA와 busC 동시 정차!!\t14 : 0\n",
            "busB와 busC 동시 정차!!\t14 : 40\n",
            "busA와 busB 동시 정차!!\t15 : 45\n",
            "busA와 busC 동시 정차!!\t16 : 0\n",
            "busB와 busC 동시 정차!!\t16 : 24\n",
            "busA와 busC 동시 정차!!\t18 : 0\n",
            "busB와 busC 동시 정차!!\t18 : 8\n",
            "busA와 busB 동시 정차!!\t19 : 0\n",
            "busB와 busC 동시 정차!!\t19 : 52\n",
            "busA와 busC 동시 정차!!\t20 : 0\n",
            "busB와 busC 동시 정차!!\t21 : 36\n",
            "busA와 busC 동시 정차!!\t22 : 0\n",
            "busA와 busB 동시 정차!!\t22 : 15\n"
          ]
        }
      ]
    }
  ]
}