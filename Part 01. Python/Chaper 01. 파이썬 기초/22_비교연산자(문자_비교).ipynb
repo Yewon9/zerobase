{
  "nbformat": 4,
  "nbformat_minor": 0,
  "metadata": {
    "colab": {
      "provenance": []
    },
    "kernelspec": {
      "name": "python3",
      "display_name": "Python 3"
    },
    "language_info": {
      "name": "python"
    }
  },
  "cells": [
    {
      "cell_type": "markdown",
      "source": [
        "알파벳을 입력하면 아스키 코드를 출력하는 코드를 작성하자."
      ],
      "metadata": {
        "id": "EzdroG-H4Ge7"
      }
    },
    {
      "cell_type": "code",
      "execution_count": 24,
      "metadata": {
        "colab": {
          "base_uri": "https://localhost:8080/"
        },
        "id": "1sHJLeQ130Et",
        "outputId": "42ac6521-bdc7-4e2d-c13f-96db4ff89d42"
      },
      "outputs": [
        {
          "output_type": "stream",
          "name": "stdout",
          "text": [
            "알파벳 입력 : h\n",
            "h : 104\n"
          ]
        }
      ],
      "source": [
        "userInputAlphabet = input('알파벳 입력 : ')\n",
        "print('{} : {}'.format(userInputAlphabet, ord(userInputAlphabet)))"
      ]
    },
    {
      "cell_type": "markdown",
      "source": [
        "아스키 코드를 입력하면 문자를 출력하는 코드를 작성하자."
      ],
      "metadata": {
        "id": "19wWeJPuF_r8"
      }
    },
    {
      "cell_type": "code",
      "source": [
        "userInputASCII = int(input('아스키 코드 입력 : '))\n",
        "print('{} : {}'.format(userInputASCII, chr(userInputASCII)))"
      ],
      "metadata": {
        "colab": {
          "base_uri": "https://localhost:8080/"
        },
        "id": "9qApyhdFGLYc",
        "outputId": "14af45da-7f12-427a-fa6d-8c48baacce80"
      },
      "execution_count": 25,
      "outputs": [
        {
          "output_type": "stream",
          "name": "stdout",
          "text": [
            "아스키 코드 입력 : 104\n",
            "104 : h\n"
          ]
        }
      ]
    },
    {
      "cell_type": "markdown",
      "source": [
        "아이디와 패스워드를 입력한 후 비교 결과를 출력하자."
      ],
      "metadata": {
        "id": "ZXu6l6P9M-AM"
      }
    },
    {
      "cell_type": "code",
      "source": [
        "systemID = 'administrator@gmail.com'\n",
        "sysoutPW = '!@#$%qwertyQWERTY'\n",
        "\n",
        "userInputId = input('아이디 입력 : ')\n",
        "userInputPw = input('비번 입력 : ')\n",
        "\n",
        "print('아이디 비교 결과 : {}'.format(systemID == userInputId))\n",
        "print('비번 비교 결과 : {}'.format(sysoutPW == userInputPw))"
      ],
      "metadata": {
        "colab": {
          "base_uri": "https://localhost:8080/"
        },
        "id": "0b7a9CdlNBUg",
        "outputId": "b9104c83-43c6-47b5-b246-56d4484de1d6"
      },
      "execution_count": 26,
      "outputs": [
        {
          "output_type": "stream",
          "name": "stdout",
          "text": [
            "아이디 입력 : admin@gmail.com\n",
            "비번 입력 : !@#$%qwertyQWERTY\n",
            "아이디 비교 결과 : False\n",
            "비번 비교 결과 : True\n"
          ]
        }
      ]
    }
  ]
}