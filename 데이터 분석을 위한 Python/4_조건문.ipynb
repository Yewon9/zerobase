{
 "cells": [
  {
   "cell_type": "markdown",
   "id": "1ad41806-e9ea-448c-8124-5474501732cd",
   "metadata": {},
   "source": [
    "# 01. 조건문 기초"
   ]
  },
  {
   "cell_type": "markdown",
   "id": "3245cfb0-6c0d-4acb-b242-75e4e418cad5",
   "metadata": {},
   "source": [
    "## if문 작성하기"
   ]
  },
  {
   "cell_type": "markdown",
   "id": "c65f87ed-4cb7-4a0d-b6da-9847674befef",
   "metadata": {},
   "source": [
    "### 양수 확인"
   ]
  },
  {
   "cell_type": "code",
   "execution_count": 1,
   "id": "a81a64c2-dda8-407e-a699-4b2b24fc5d8f",
   "metadata": {},
   "outputs": [
    {
     "name": "stdout",
     "output_type": "stream",
     "text": [
      "양수입니다.\n"
     ]
    }
   ],
   "source": [
    "number = 10\n",
    "\n",
    "if number > 0:\n",
    "    print(\"양수입니다.\")"
   ]
  },
  {
   "cell_type": "code",
   "execution_count": 2,
   "id": "3cc7670f-7fba-4300-b862-2a4c2a287889",
   "metadata": {},
   "outputs": [],
   "source": [
    "number = -10\n",
    "if number > 0:\n",
    "    print(\"양수입니다\")"
   ]
  },
  {
   "cell_type": "markdown",
   "id": "3bec67ed-193b-4aca-bd85-cd7c5f393d4f",
   "metadata": {},
   "source": [
    "### 특정 문자 포함 여부"
   ]
  },
  {
   "cell_type": "code",
   "execution_count": 3,
   "id": "5c203023-69ab-4685-af0e-eee8f6b7ac81",
   "metadata": {},
   "outputs": [
    {
     "name": "stdout",
     "output_type": "stream",
     "text": [
      "'a'가 포함되어 있습니다.\n"
     ]
    }
   ],
   "source": [
    "word = \"apple\"\n",
    "\n",
    "if \"a\" in word:\n",
    "    print(\"'a'가 포함되어 있습니다.\")"
   ]
  },
  {
   "cell_type": "markdown",
   "id": "90d9268a-6da4-44f1-b3fb-3572dea38ce3",
   "metadata": {},
   "source": [
    "### 리스트에서 특정 값 존재 확인"
   ]
  },
  {
   "cell_type": "code",
   "execution_count": 4,
   "id": "1d17304d-adcd-4be8-acb4-0e436d5528ee",
   "metadata": {},
   "outputs": [
    {
     "name": "stdout",
     "output_type": "stream",
     "text": [
      "종료\n"
     ]
    }
   ],
   "source": [
    "fruits = [\"apple\", \"banana\", \"cherry\"]\n",
    "\n",
    "if \"kiwi\" in fruits:\n",
    "    print(\"키위가 리스트에 있습니다.\")\n",
    "\n",
    "print(\"종료\")"
   ]
  },
  {
   "cell_type": "markdown",
   "id": "fe67cd5a-8490-4747-9bd0-d95d1b282c3f",
   "metadata": {},
   "source": [
    "### 리스트에 중복되지 않은 요소 추가"
   ]
  },
  {
   "cell_type": "code",
   "execution_count": 5,
   "id": "0cb67f6c-b390-4eed-86f7-143e3fd3f429",
   "metadata": {},
   "outputs": [
    {
     "name": "stdout",
     "output_type": "stream",
     "text": [
      "4\n",
      "[1, 2, 3, 4]\n"
     ]
    }
   ],
   "source": [
    "L = [1,2,3]\n",
    "num1 = 3\n",
    "num2 = 4\n",
    "if num1 not in L:\n",
    "    L.append(num1)\n",
    "    print(num1)\n",
    "\n",
    "if num2 not in L:\n",
    "    L.append(num2)\n",
    "    print(num2)\n",
    "\n",
    "print(L)"
   ]
  },
  {
   "cell_type": "markdown",
   "id": "a20b5c66-6772-468a-b770-092ec5a34c71",
   "metadata": {},
   "source": [
    "# 02. elif와 else문"
   ]
  },
  {
   "cell_type": "markdown",
   "id": "800d3993-bfdb-411a-99c0-15176a3064b2",
   "metadata": {},
   "source": [
    "## else문 실습"
   ]
  },
  {
   "cell_type": "markdown",
   "id": "7d51b5ff-521f-4b8a-9af1-ea4aec133584",
   "metadata": {},
   "source": [
    "### 홀짝 판별"
   ]
  },
  {
   "cell_type": "code",
   "execution_count": 6,
   "id": "82215258-6367-4e32-b49b-921001d354a5",
   "metadata": {},
   "outputs": [
    {
     "name": "stdout",
     "output_type": "stream",
     "text": [
      "홀수입니다.\n"
     ]
    }
   ],
   "source": [
    "number = 5\n",
    "\n",
    "if number % 2 == 0:\n",
    "    print(\"짝수입니다.\")\n",
    "else:\n",
    "    print(\"홀수입니다.\")"
   ]
  },
  {
   "cell_type": "markdown",
   "id": "65869197-95c5-459f-9d87-bacb0139cc22",
   "metadata": {},
   "source": [
    "### 성별 예측 모델"
   ]
  },
  {
   "cell_type": "code",
   "execution_count": 7,
   "id": "0a7e9e9c-c842-4f6f-a76a-ac56786db4fd",
   "metadata": {},
   "outputs": [
    {
     "name": "stdout",
     "output_type": "stream",
     "text": [
      "Male\n"
     ]
    }
   ],
   "source": [
    "height = 175\n",
    "\n",
    "if height > 170:\n",
    "    gender = 'Male'\n",
    "else:\n",
    "    gender = 'Female'\n",
    "print(gender)"
   ]
  },
  {
   "cell_type": "markdown",
   "id": "32484c6a-a922-41a1-9350-2ca6e9b8aadb",
   "metadata": {},
   "source": [
    "### 비밀번호 확인"
   ]
  },
  {
   "cell_type": "code",
   "execution_count": 8,
   "id": "15b6b729-808b-4cdd-8653-bc1ff23e01bd",
   "metadata": {},
   "outputs": [
    {
     "name": "stdout",
     "output_type": "stream",
     "text": [
      "로그인 성공\n"
     ]
    }
   ],
   "source": [
    "password = \"1234\"\n",
    "\n",
    "if password == \"1234\":\n",
    "    print(\"로그인 성공\")\n",
    "else:\n",
    "    print(\"비밀번호가 틀렸습니다.\")"
   ]
  },
  {
   "cell_type": "markdown",
   "id": "84e93757-2636-4c88-b597-862bac90f58c",
   "metadata": {},
   "source": [
    "## elif문 실습"
   ]
  },
  {
   "cell_type": "markdown",
   "id": "2fd2f292-668b-4fea-a728-8c8cec12e97d",
   "metadata": {},
   "source": [
    "### 숫자 크기 분류"
   ]
  },
  {
   "cell_type": "code",
   "execution_count": 9,
   "id": "9286f6fb-d28c-444d-9140-d60e03b5ba19",
   "metadata": {},
   "outputs": [
    {
     "name": "stdout",
     "output_type": "stream",
     "text": [
      "10 이상이고 100보다 작습니다.\n"
     ]
    }
   ],
   "source": [
    "number = 50\n",
    "\n",
    "if number < 10:\n",
    "    print(\"10보다 작습니다.\")\n",
    "elif number < 100:\n",
    "    print(\"10 이상이고 100보다 작습니다.\")\n",
    "else:\n",
    "    print(\"100 이상입니다.\")"
   ]
  },
  {
   "cell_type": "markdown",
   "id": "b3b82e6c-9d29-4579-b240-fff4b60e8ec8",
   "metadata": {},
   "source": [
    "### 학점 계산"
   ]
  },
  {
   "cell_type": "code",
   "execution_count": 10,
   "id": "6fd7741f-3d44-4fe4-99ec-3caedd7d12e3",
   "metadata": {},
   "outputs": [
    {
     "name": "stdout",
     "output_type": "stream",
     "text": [
      "C 학점\n"
     ]
    }
   ],
   "source": [
    "score = 72\n",
    "\n",
    "if score >= 90:\n",
    "    print(\"A 학점\")\n",
    "elif score >= 80:\n",
    "    print(\"B 학점\")\n",
    "elif score >= 70:\n",
    "    print(\"C 학점\")\n",
    "elif score >= 60:\n",
    "    print(\"D 학점\")\n",
    "else:\n",
    "    print(\"F 학점\")"
   ]
  },
  {
   "cell_type": "code",
   "execution_count": 11,
   "id": "5e12f730-d2d5-40f4-a57f-62a3bd6cd5fc",
   "metadata": {},
   "outputs": [
    {
     "name": "stdout",
     "output_type": "stream",
     "text": [
      "C 학점\n",
      "D 학점\n"
     ]
    }
   ],
   "source": [
    "score = 72\n",
    "\n",
    "if score >= 90:\n",
    "    print(\"A 학점\")\n",
    "if score >= 80:\n",
    "    print(\"B 학점\")\n",
    "if score >= 70:\n",
    "    print(\"C 학점\")\n",
    "if score >= 60:\n",
    "    print(\"D 학점\")"
   ]
  },
  {
   "cell_type": "markdown",
   "id": "9db384b0-3843-4b88-80f9-643fc460d155",
   "metadata": {},
   "source": [
    "### 날씨에 따른 활동 추천"
   ]
  },
  {
   "cell_type": "code",
   "execution_count": 12,
   "id": "17ca5ab9-d278-4f37-bdb6-122c02fe5bb9",
   "metadata": {},
   "outputs": [
    {
     "name": "stdout",
     "output_type": "stream",
     "text": [
      "영화를 추천합니다.\n"
     ]
    }
   ],
   "source": [
    "weather = \"cloudy\"\n",
    "\n",
    "if weather == \"sunny\":\n",
    "    print(\"산책을 추천합니다.\")\n",
    "elif weather == \"rainy\":\n",
    "    print(\"실내에서 독서를 추천합니다.\")\n",
    "elif weather == \"cloudy\":\n",
    "    print(\"영화를 추천합니다.\")\n",
    "else:\n",
    "    print(\"날씨 정보가 없습니다.\")"
   ]
  },
  {
   "cell_type": "markdown",
   "id": "0cc9fadf-d109-40fa-8005-2f031ed9f1bf",
   "metadata": {},
   "source": [
    "### 숫자 판별"
   ]
  },
  {
   "cell_type": "code",
   "execution_count": 13,
   "id": "c8bfcc8c-ef5b-4a26-90e8-fdc2740b8214",
   "metadata": {},
   "outputs": [
    {
     "name": "stdout",
     "output_type": "stream",
     "text": [
      "0입니다.\n"
     ]
    }
   ],
   "source": [
    "number = 0\n",
    "\n",
    "if number > 0:\n",
    "    print(\"양수입니다.\")\n",
    "elif number < 0:\n",
    "    print(\"음수입니다.\")\n",
    "else:\n",
    "    print(\"0입니다.\")"
   ]
  }
 ],
 "metadata": {
  "kernelspec": {
   "display_name": "Python 3 (ipykernel)",
   "language": "python",
   "name": "python3"
  },
  "language_info": {
   "codemirror_mode": {
    "name": "ipython",
    "version": 3
   },
   "file_extension": ".py",
   "mimetype": "text/x-python",
   "name": "python",
   "nbconvert_exporter": "python",
   "pygments_lexer": "ipython3",
   "version": "3.9.7"
  }
 },
 "nbformat": 4,
 "nbformat_minor": 5
}
