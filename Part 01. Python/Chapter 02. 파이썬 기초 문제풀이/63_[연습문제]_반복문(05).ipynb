{
  "nbformat": 4,
  "nbformat_minor": 0,
  "metadata": {
    "colab": {
      "provenance": []
    },
    "kernelspec": {
      "name": "python3",
      "display_name": "Python 3"
    },
    "language_info": {
      "name": "python"
    }
  },
  "cells": [
    {
      "cell_type": "markdown",
      "source": [
        "톱니가 각각 n1개와 n2개의 톱니바퀴가 서로 맞물려 회전할 때, 회전을 시작한 후 처음 맞물린 톱니가 최초로 다시 만나게 될 때까지의 톱니의 수와 각각의 바퀴 회전 수를 출력해보자. (단, n2는 n1보다 크다.)"
      ],
      "metadata": {
        "id": "KfZtGzqtXYJM"
      }
    },
    {
      "cell_type": "code",
      "source": [
        "gearATCnt = int(input('GearA 톱니수 입력 : '))\n",
        "gearBTCnt = int(input('GearB 톱니수 입력 : '))\n",
        "\n",
        "gearA = 0\n",
        "gearB = 0\n",
        "leastNum = 0\n",
        "\n",
        "flag = True\n",
        "while flag:\n",
        "  if gearA != 0:\n",
        "    if gearA != leastNum:\n",
        "      gearA += gearATCnt\n",
        "    else:\n",
        "      flag = False\n",
        "  else:\n",
        "    gearA += gearATCnt\n",
        "\n",
        "  if gearB != 0 and gearB % gearATCnt == 0:\n",
        "    leastNum = gearB\n",
        "  else:\n",
        "    gearB += gearBTCnt\n",
        "\n",
        "print('최초 만나는 톱니수(최소공배수) : {}톱니'.format(leastNum))\n",
        "print('gearA 회전수 : {}회전'.format(int(leastNum / gearATCnt)))\n",
        "print('gearB 회전수 : {}회전'.format(int(leastNum / gearBTCnt)))"
      ],
      "metadata": {
        "colab": {
          "base_uri": "https://localhost:8080/"
        },
        "id": "u2KngAbPrRmw",
        "outputId": "a4dfa788-2a38-4728-b27d-6ee52ecbd7a1"
      },
      "execution_count": 44,
      "outputs": [
        {
          "output_type": "stream",
          "name": "stdout",
          "text": [
            "GearA 톱니수 입력 : 8\n",
            "GearB 톱니수 입력 : 18\n",
            "최초 만나는 톱니수(최소공배수) : 72톱니\n",
            "gearA 회전수 : 9회전\n",
            "gearB 회전수 : 4회전\n"
          ]
        }
      ]
    }
  ]
}