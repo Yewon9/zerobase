{
  "nbformat": 4,
  "nbformat_minor": 0,
  "metadata": {
    "colab": {
      "provenance": []
    },
    "kernelspec": {
      "name": "python3",
      "display_name": "Python 3"
    },
    "language_info": {
      "name": "python"
    }
  },
  "cells": [
    {
      "cell_type": "markdown",
      "source": [
        "선수의 원본 점수를 이용해서 평균을 출력하고, 최고값과 최저값을 제외한 평균을 출력하는 프로그램을 만들어보자."
      ],
      "metadata": {
        "id": "f2Z3XUN-4mVu"
      }
    },
    {
      "cell_type": "code",
      "source": [
        "plaOriSco = [8.7, 9.1, 8.9, 9.0, 7.9, 9.5, 8.8, 8.3]\n",
        "plaCopSco = plaOriSco.copy()\n",
        "\n",
        "plaOriSco.sort()\n",
        "\n",
        "plaCopSco.sort()\n",
        "plaCopSco.pop(0)\n",
        "plaCopSco.pop()\n",
        "\n",
        "print(f'plaOriSco : {plaOriSco}')\n",
        "print(f'plaCopSco : {plaCopSco}')\n",
        "\n",
        "oriTot = round(sum(plaOriSco), 2)\n",
        "oriAvg = round(oriTot / len(plaOriSco), 2)\n",
        "print(f'Original Total : {oriTot}')\n",
        "print(f'Original Average : {oriAvg}')\n",
        "\n",
        "copTot = round(sum(plaCopSco), 2)\n",
        "copAvg = round(oriTot / len(plaCopSco), 2)\n",
        "print(f'Copy Total : {copTot}')\n",
        "print(f'Copy Average : {copAvg}')\n",
        "\n",
        "print(f'oriAvg - copAvg : {oriAvg - copAvg}')"
      ],
      "metadata": {
        "colab": {
          "base_uri": "https://localhost:8080/"
        },
        "id": "sVmsTUn94rCn",
        "outputId": "38614c3b-8622-4be7-809e-d2b0bbd51f5f"
      },
      "execution_count": 3,
      "outputs": [
        {
          "output_type": "stream",
          "name": "stdout",
          "text": [
            "plaOriSco : [7.9, 8.3, 8.7, 8.8, 8.9, 9.0, 9.1, 9.5]\n",
            "plaCopSco : [8.3, 8.7, 8.8, 8.9, 9.0, 9.1]\n",
            "Original Total : 70.2\n",
            "Original Average : 8.78\n",
            "Copy Total : 52.8\n",
            "Copy Average : 11.7\n",
            "oriAvg - copAvg : -2.92\n"
          ]
        }
      ]
    }
  ]
}