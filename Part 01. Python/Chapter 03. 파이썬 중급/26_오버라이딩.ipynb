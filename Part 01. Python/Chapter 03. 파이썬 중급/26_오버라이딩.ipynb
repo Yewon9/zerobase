{
  "nbformat": 4,
  "nbformat_minor": 0,
  "metadata": {
    "colab": {
      "provenance": []
    },
    "kernelspec": {
      "name": "python3",
      "display_name": "Python 3"
    },
    "language_info": {
      "name": "python"
    }
  },
  "cells": [
    {
      "cell_type": "markdown",
      "source": [
        "삼각형 넓이를 계산하는 클래스를 만들고 이를 상속하는 클래스에서 getArea()를 오버라이딩해서 출력 결과가 다음과 같을 수 있도록 클래스를 만들어보자."
      ],
      "metadata": {
        "id": "sKV4gMMkTU11"
      }
    },
    {
      "cell_type": "code",
      "source": [
        "class TriangleArea:\n",
        "\n",
        "  def __init__(self, w, h):\n",
        "    self.width = w\n",
        "    self.height = h\n",
        "\n",
        "  def printTriangleAreaInfo(self):\n",
        "    print(f'width : {self.width}')\n",
        "    print(f'height : {self.height}')\n",
        "\n",
        "  def getArea(self):\n",
        "    return self.width * self.height / 2"
      ],
      "metadata": {
        "id": "TdjzMjIUTbPF"
      },
      "execution_count": 21,
      "outputs": []
    },
    {
      "cell_type": "code",
      "source": [
        "class NewTriangleArea(TriangleArea):\n",
        "\n",
        "  def __init__(self, w, h):\n",
        "    super().__init__(w, h)\n",
        "\n",
        "  def getArea(self):\n",
        "    return str(super().getArea()) + 'cm^2'"
      ],
      "metadata": {
        "id": "Kqqqm2idTse1"
      },
      "execution_count": 22,
      "outputs": []
    },
    {
      "cell_type": "code",
      "source": [
        "ta = NewTriangleArea(7, 5)\n",
        "ta.printTriangleAreaInfo()\n",
        "triangleArea = ta.getArea()\n",
        "print(f'triangleArea : {triangleArea}')"
      ],
      "metadata": {
        "colab": {
          "base_uri": "https://localhost:8080/"
        },
        "id": "X0TKiP56T8G_",
        "outputId": "94029f4d-b216-490a-fcfe-7b3c2d50d271"
      },
      "execution_count": 23,
      "outputs": [
        {
          "output_type": "stream",
          "name": "stdout",
          "text": [
            "width : 7\n",
            "height : 5\n",
            "triangleArea : 17.5cm^2\n"
          ]
        }
      ]
    }
  ]
}