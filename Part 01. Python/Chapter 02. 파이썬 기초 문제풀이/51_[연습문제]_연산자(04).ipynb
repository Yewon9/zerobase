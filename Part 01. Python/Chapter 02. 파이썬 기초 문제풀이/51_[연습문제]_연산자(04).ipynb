{
  "nbformat": 4,
  "nbformat_minor": 0,
  "metadata": {
    "colab": {
      "provenance": []
    },
    "kernelspec": {
      "name": "python3",
      "display_name": "Python 3"
    },
    "language_info": {
      "name": "python"
    }
  },
  "cells": [
    {
      "cell_type": "markdown",
      "source": [
        "고도가 60m 올라갈 때마다 기온이 0.8도 내려간다고 할 때 고도를 입력하면 기온이 출력되는 프로그램을 만들어보자. (지면온도 : 29도)"
      ],
      "metadata": {
        "id": "KfZtGzqtXYJM"
      }
    },
    {
      "cell_type": "code",
      "source": [
        "baseTemp = 29\n",
        "step = 60\n",
        "stepTemp = 0.8\n",
        "\n",
        "height = int(input('고도 입력 : '))\n",
        "\n",
        "targetTemp = baseTemp - (height // step * 0.8)\n",
        "\n",
        "if height % step != 0:\n",
        "  targetTemp -= stepTemp\n",
        "\n",
        "print('지면 온도 : {}'.format(baseTemp))\n",
        "print('고도 {}m의 기온 : {}'.format(height, targetTemp))"
      ],
      "metadata": {
        "colab": {
          "base_uri": "https://localhost:8080/"
        },
        "id": "HBrr5AQrXboh",
        "outputId": "cbc1af0e-7701-4e8a-d273-5fd14df17a5b"
      },
      "execution_count": 21,
      "outputs": [
        {
          "output_type": "stream",
          "name": "stdout",
          "text": [
            "고도 입력 : 720\n",
            "지면 온도 : 29\n",
            "고도 720m의 기온 : 19.4\n"
          ]
        }
      ]
    },
    {
      "cell_type": "markdown",
      "source": [
        "197개의 빵과 152개의 우유를 17명의 학생한테 동일하게 나눠준다고 할 때, 한 명의 학생이 갖게 되는 빵과 우유 개수를 구하고 남는 빵과 우유 개수를 출력하자."
      ],
      "metadata": {
        "id": "VnF0sg1hzA6I"
      }
    },
    {
      "cell_type": "code",
      "source": [
        "bread = 197\n",
        "milk = 152\n",
        "studentCnt = 17\n",
        "\n",
        "print('학생 한 명이 갖게되는 빵 개수 : {}'.format(bread // studentCnt))\n",
        "print('학생 한 명이 갖게되는 우유 개수 : {}'.format(milk // studentCnt))\n",
        "\n",
        "print('남는 빵 개수 : {}'.format(bread % studentCnt))\n",
        "print('남는 우유 개수 : {}'.format(milk % studentCnt))"
      ],
      "metadata": {
        "colab": {
          "base_uri": "https://localhost:8080/"
        },
        "id": "GCVxDGNCzF2k",
        "outputId": "d7c18ce3-af5d-4e76-f98e-3adbb9063a9f"
      },
      "execution_count": 22,
      "outputs": [
        {
          "output_type": "stream",
          "name": "stdout",
          "text": [
            "학생 한 명이 갖게되는 빵 개수 : 11\n",
            "학생 한 명이 갖게되는 우유 개수 : 8\n",
            "남는 빵 개수 : 10\n",
            "남는 우유 개수 : 16\n"
          ]
        }
      ]
    }
  ]
}