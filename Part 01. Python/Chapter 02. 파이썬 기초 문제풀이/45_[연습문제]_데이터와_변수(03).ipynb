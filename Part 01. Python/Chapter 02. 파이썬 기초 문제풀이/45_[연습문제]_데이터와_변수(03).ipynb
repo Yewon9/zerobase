{
  "nbformat": 4,
  "nbformat_minor": 0,
  "metadata": {
    "colab": {
      "provenance": []
    },
    "kernelspec": {
      "name": "python3",
      "display_name": "Python 3"
    },
    "language_info": {
      "name": "python"
    }
  },
  "cells": [
    {
      "cell_type": "markdown",
      "source": [
        "원의 반지름을 입력하면 원의 넓이와 둘레 길이를 출력하되, 아래와 같은 형식으로 출력해보자."
      ],
      "metadata": {
        "id": "u87v059-Vvfj"
      }
    },
    {
      "cell_type": "code",
      "source": [
        "pi = 3.14\n",
        "radius = float(input('반지름(cm) 입력 : '))\n",
        "\n",
        "circleArea = pi * radius * radius\n",
        "circleLength = 2 * pi * radius\n",
        "\n",
        "print('원의 넓이 : %d' % circleArea)\n",
        "print('원의 둘레길이 : %d' % circleLength)\n",
        "\n",
        "print('원의 넓이 : %.1f' % circleArea)\n",
        "print('원의 둘레길이 : %.1f' % circleLength)"
      ],
      "metadata": {
        "colab": {
          "base_uri": "https://localhost:8080/"
        },
        "id": "m0IpjVgYPpDC",
        "outputId": "92d7384d-e3ef-470f-9818-cf9c90319819"
      },
      "execution_count": 4,
      "outputs": [
        {
          "output_type": "stream",
          "name": "stdout",
          "text": [
            "반지름(cm) 입력 : 3\n",
            "원의 넓이 : 28\n",
            "원의 둘레길이 : 18\n",
            "원의 넓이 : 28.3\n",
            "원의 둘레길이 : 18.8\n"
          ]
        }
      ]
    },
    {
      "cell_type": "markdown",
      "source": [
        "사용자로부터 입력받은 개인정보를 포맷문자열을 이용해서 다음과 같이 출력해보자. \\\n",
        "(단, 비밀번호와 주민번호 뒷자리는 별표로 처리하자)"
      ],
      "metadata": {
        "id": "dpqtxEmcV1My"
      }
    },
    {
      "cell_type": "code",
      "source": [
        "name = input('이름 입력 : ')\n",
        "mail = input('메일 입력 : ')\n",
        "id = input('아이디 입력 : ')\n",
        "pw = input('비밀번호 입력 : ')\n",
        "privateNumber1 = input('주민번호 앞자리 입력 : ')\n",
        "privateNumber2 = input('주민번호 뒷자리 입력 : ')\n",
        "address = input('주소 입력')\n",
        "\n",
        "print('-' * 30)\n",
        "print(f'이름 : {name}')\n",
        "print(f'메일 : {mail}')\n",
        "print(f'아이디 : {id}')\n",
        "pwStar = '*' * len(pw)\n",
        "print(f'비밀번호 : {pwStar}')\n",
        "privateNumberStar = privateNumber2[0] + ('*' * 6)\n",
        "print(f'주민번호 : {privateNumber1}-{privateNumberStar}')\n",
        "print(f'주소 : {address}')\n",
        "print('-' * 30)"
      ],
      "metadata": {
        "colab": {
          "base_uri": "https://localhost:8080/"
        },
        "id": "6ItGuEPoVIT-",
        "outputId": "bd6198f4-12ad-48aa-aa89-7a88819c5046"
      },
      "execution_count": 5,
      "outputs": [
        {
          "output_type": "stream",
          "name": "stdout",
          "text": [
            "이름 입력 : hong gil dong\n",
            "메일 입력 : hong@gmail.com\n",
            "아이디 입력 : hongID\n",
            "비밀번호 입력 : 12345678\n",
            "주민번호 앞자리 입력 : 840921\n",
            "주민번호 뒷자리 입력 : 2018543\n",
            "주소 입력korea seoul\n",
            "------------------------------\n",
            "이름 : hong gil dong\n",
            "메일 : hong@gmail.com\n",
            "아이디 : hongID\n",
            "비밀번호 : ********\n",
            "주민번호 : 840921-2******\n",
            "주소 : korea seoul\n",
            "------------------------------\n"
          ]
        }
      ]
    }
  ]
}