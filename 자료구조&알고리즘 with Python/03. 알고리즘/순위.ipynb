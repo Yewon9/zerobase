{
 "cells": [
  {
   "cell_type": "markdown",
   "id": "0a9b3d9c-88cc-4520-9ce2-292a4bee56cd",
   "metadata": {},
   "source": [
    "### 순위"
   ]
  },
  {
   "cell_type": "code",
   "execution_count": 1,
   "id": "5e9bcb8d-3672-4e6b-bbe3-dc8fee09251d",
   "metadata": {},
   "outputs": [],
   "source": [
    "import random"
   ]
  },
  {
   "cell_type": "code",
   "execution_count": 3,
   "id": "2de3d4d5-acfe-4b3b-9085-386516d58a19",
   "metadata": {},
   "outputs": [
    {
     "name": "stdout",
     "output_type": "stream",
     "text": [
      "nums : [94, 93, 52, 80, 51, 99, 73, 74, 100, 91, 81, 96, 78, 95, 82, 84, 63, 75, 60, 59]\n",
      "ranks : [0, 0, 0, 0, 0, 0, 0, 0, 0, 0, 0, 0, 0, 0, 0, 0, 0, 0, 0, 0]\n"
     ]
    }
   ],
   "source": [
    "nums = random.sample(range(50, 101), 20)\n",
    "ranks = [0 for i in range(20)]\n",
    "\n",
    "print(f'nums : {nums}')\n",
    "print(f'ranks : {ranks}')"
   ]
  },
  {
   "cell_type": "code",
   "execution_count": 4,
   "id": "d4c422ed-aee3-41a6-829b-a5392e6b6968",
   "metadata": {},
   "outputs": [
    {
     "name": "stdout",
     "output_type": "stream",
     "text": [
      "nums : [94, 93, 52, 80, 51, 99, 73, 74, 100, 91, 81, 96, 78, 95, 82, 84, 63, 75, 60, 59]\n",
      "ranks : [4, 5, 18, 10, 19, 1, 14, 13, 0, 6, 9, 2, 11, 3, 8, 7, 15, 12, 16, 17]\n"
     ]
    }
   ],
   "source": [
    "for idx, num1 in enumerate(nums):\n",
    "    for num2 in nums:\n",
    "        if num1 < num2:\n",
    "            ranks[idx] += 1\n",
    "\n",
    "print(f'nums : {nums}')\n",
    "print(f'ranks : {ranks}')"
   ]
  },
  {
   "cell_type": "code",
   "execution_count": 6,
   "id": "32fd9ae5-ab6f-4064-bcbe-b30208872fa9",
   "metadata": {},
   "outputs": [
    {
     "name": "stdout",
     "output_type": "stream",
     "text": [
      "num : 94 \t rank : 5\n",
      "num : 93 \t rank : 6\n",
      "num : 52 \t rank : 19\n",
      "num : 80 \t rank : 11\n",
      "num : 51 \t rank : 20\n",
      "num : 99 \t rank : 2\n",
      "num : 73 \t rank : 15\n",
      "num : 74 \t rank : 14\n",
      "num : 100 \t rank : 1\n",
      "num : 91 \t rank : 7\n",
      "num : 81 \t rank : 10\n",
      "num : 96 \t rank : 3\n",
      "num : 78 \t rank : 12\n",
      "num : 95 \t rank : 4\n",
      "num : 82 \t rank : 9\n",
      "num : 84 \t rank : 8\n",
      "num : 63 \t rank : 16\n",
      "num : 75 \t rank : 13\n",
      "num : 60 \t rank : 17\n",
      "num : 59 \t rank : 18\n"
     ]
    }
   ],
   "source": [
    "for idx, num in enumerate(nums):\n",
    "    print(f'num : {num} \\t rank : {ranks[idx] + 1}')"
   ]
  }
 ],
 "metadata": {
  "kernelspec": {
   "display_name": "Python 3 (ipykernel)",
   "language": "python",
   "name": "python3"
  },
  "language_info": {
   "codemirror_mode": {
    "name": "ipython",
    "version": 3
   },
   "file_extension": ".py",
   "mimetype": "text/x-python",
   "name": "python",
   "nbconvert_exporter": "python",
   "pygments_lexer": "ipython3",
   "version": "3.9.7"
  }
 },
 "nbformat": 4,
 "nbformat_minor": 5
}
