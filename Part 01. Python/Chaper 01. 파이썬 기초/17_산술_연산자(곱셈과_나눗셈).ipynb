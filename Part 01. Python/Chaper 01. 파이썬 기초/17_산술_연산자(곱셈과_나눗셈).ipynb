{
  "nbformat": 4,
  "nbformat_minor": 0,
  "metadata": {
    "colab": {
      "provenance": []
    },
    "kernelspec": {
      "name": "python3",
      "display_name": "Python 3"
    },
    "language_info": {
      "name": "python"
    }
  },
  "cells": [
    {
      "cell_type": "markdown",
      "source": [
        "국어, 영어, 수학 점수를 입력하고 합계와 평균을 출력해 보자."
      ],
      "metadata": {
        "id": "W8Q6erDWwhzZ"
      }
    },
    {
      "cell_type": "code",
      "source": [
        "kor = int(input('국어 점수 : '))\n",
        "eng = int(input('영어 점수 : '))\n",
        "mat = int(input('수학 점수 : '))\n",
        "\n",
        "total = kor + eng + mat\n",
        "print('국어 점수 {}'.format(kor))\n",
        "print('영어 점수 {}'.format(eng))\n",
        "print('수학 점수 {}'.format(mat))\n",
        "print('합계 : {}'.format(total))\n",
        "print('평균 : {}'.format(total / 3))\n",
        "print('평균 %.2f' % (total / 3))"
      ],
      "metadata": {
        "colab": {
          "base_uri": "https://localhost:8080/"
        },
        "id": "tfiUaxt-wli0",
        "outputId": "c624ca86-ec5e-4543-ac51-dcb12490eb49"
      },
      "execution_count": 48,
      "outputs": [
        {
          "output_type": "stream",
          "name": "stdout",
          "text": [
            "국어 점수 : 85\n",
            "영어 점수 : 90\n",
            "수학 점수 : 85\n",
            "국어 점수 85\n",
            "영어 점수 90\n",
            "수학 점수 85\n",
            "합계 : 260\n",
            "평균 : 86.66666666666667\n",
            "평균 86.67\n"
          ]
        }
      ]
    },
    {
      "cell_type": "markdown",
      "source": [
        "- 학급 전체 학생 수 입력\n",
        "- 한 모둠에 속하는 학생 수 입력\n",
        "- 전체 모둠 수 출력"
      ],
      "metadata": {
        "id": "0xi0w_R4ym57"
      }
    },
    {
      "cell_type": "code",
      "source": [
        "allStuCnt = int(input('전체 학생 수 : '))\n",
        "stuCntGroup = int(input('한 모둠 학생 수 : '))\n",
        "groupCnt = allStuCnt / stuCntGroup\n",
        "\n",
        "print('전체 학생 수 : {}'.format(allStuCnt))\n",
        "print('한 모둠 학생 수 : {}'.format(stuCntGroup))\n",
        "print('모둠 수 : {}'.format(groupCnt))\n",
        "print('모둠 수 : {}'.format(int(groupCnt)))"
      ],
      "metadata": {
        "colab": {
          "base_uri": "https://localhost:8080/"
        },
        "id": "FdebYS0Iys5I",
        "outputId": "90e32e0c-6ede-485c-a4c3-a8d7aa005c0e"
      },
      "execution_count": 49,
      "outputs": [
        {
          "output_type": "stream",
          "name": "stdout",
          "text": [
            "전체 학생 수 : 25\n",
            "한 모둠 학생 수 : 4\n",
            "전체 학생 수 : 25\n",
            "한 모둠 학생 수 : 4\n",
            "모둠 수 : 6.25\n",
            "모둠 수 : 6\n"
          ]
        }
      ]
    }
  ]
}
