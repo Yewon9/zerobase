{
  "nbformat": 4,
  "nbformat_minor": 0,
  "metadata": {
    "colab": {
      "provenance": []
    },
    "kernelspec": {
      "name": "python3",
      "display_name": "Python 3"
    },
    "language_info": {
      "name": "python"
    }
  },
  "cells": [
    {
      "cell_type": "markdown",
      "source": [
        "국어, 영어, 수학 점수를 입력받아 리스트에 저장하고 원본을 유지한 상태로, 복사본을 만들어 과목별 점수를 10% 올렸을 경우에 평균을 출력해보자."
      ],
      "metadata": {
        "id": "hB6CdWvr0w8s"
      }
    },
    {
      "cell_type": "code",
      "source": [
        "scores = [int(input('국어 점수 입력 : ')),\n",
        "          int(input('영어 점수 입력 : ')),\n",
        "          int(input('수학 점수 입력 : '))]\n",
        "\n",
        "print(scores)\n",
        "\n",
        "copyScores = scores.copy()\n",
        "\n",
        "for idx, score in enumerate(copyScores):\n",
        "  result = score * 1.1\n",
        "  copyScores[idx] = 100 if result > 100 else result\n",
        "\n",
        "print(f'이전 평균 : {sum(scores) / len(scores)}')\n",
        "print(f'이후 평균 : {sum(copyScores) / len(copyScores)}')"
      ],
      "metadata": {
        "colab": {
          "base_uri": "https://localhost:8080/"
        },
        "id": "nlvd-Ggy04bj",
        "outputId": "60032367-8807-4503-aa7f-670faa350e95"
      },
      "execution_count": 2,
      "outputs": [
        {
          "output_type": "stream",
          "name": "stdout",
          "text": [
            "국어 점수 입력 : 77\n",
            "영어 점수 입력 : 82\n",
            "수학 점수 입력 : 91\n",
            "[77, 82, 91]\n",
            "이전 평균 : 83.33333333333333\n",
            "이후 평균 : 91.63333333333333\n"
          ]
        }
      ]
    }
  ]
}