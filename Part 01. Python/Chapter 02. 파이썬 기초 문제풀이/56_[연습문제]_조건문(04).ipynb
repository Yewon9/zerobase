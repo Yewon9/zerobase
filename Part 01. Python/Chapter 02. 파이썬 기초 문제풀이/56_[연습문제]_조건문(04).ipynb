{
  "nbformat": 4,
  "nbformat_minor": 0,
  "metadata": {
    "colab": {
      "provenance": []
    },
    "kernelspec": {
      "name": "python3",
      "display_name": "Python 3"
    },
    "language_info": {
      "name": "python"
    }
  },
  "cells": [
    {
      "cell_type": "markdown",
      "source": [
        "아래 요금표를 참고해서 상수도 요금 계산기를 만들어보자."
      ],
      "metadata": {
        "id": "KfZtGzqtXYJM"
      }
    },
    {
      "cell_type": "code",
      "source": [
        "part = int(input('업종 선택 (1.가정용 2.대중탕용 3.공업용) : '))\n",
        "useWater = int(input('사용량 입력 : '))\n",
        "unitPrice = 0\n",
        "\n",
        "if part == 1:\n",
        "  unitPrice = 540\n",
        "\n",
        "elif part == 2:\n",
        "  if useWater <= 50:\n",
        "    unitPrice = 820\n",
        "  elif useWater > 50 and useWater <= 300:\n",
        "    unitPrice = 1920\n",
        "  elif useWater > 300:\n",
        "    unitPrice = 2400\n",
        "\n",
        "elif part == 3:\n",
        "  if useWater <= 500:\n",
        "    unitPrice = 240\n",
        "  else:\n",
        "    unitPrice = 470\n",
        "\n",
        "print('=' * 30)\n",
        "print('상수도 요금표')\n",
        "print('-' * 30)\n",
        "print('사용량 : 요금')\n",
        "userPrice = useWater * unitPrice\n",
        "print('{} : {}원'.format(useWater, userPrice))\n",
        "print('=' * 30)"
      ],
      "metadata": {
        "colab": {
          "base_uri": "https://localhost:8080/"
        },
        "id": "HBrr5AQrXboh",
        "outputId": "57dec17d-f060-49d4-99d8-9781c81a2292"
      },
      "execution_count": 4,
      "outputs": [
        {
          "output_type": "stream",
          "name": "stdout",
          "text": [
            "업종 선택 (1.가정용 2.대중탕용 3.공업용) : 2\n",
            "사용량 입력 : 270\n",
            "==============================\n",
            "상수도 요금표\n",
            "------------------------------\n",
            "사용량 : 요금\n",
            "270 : 518400원\n",
            "==============================\n"
          ]
        }
      ]
    }
  ]
}