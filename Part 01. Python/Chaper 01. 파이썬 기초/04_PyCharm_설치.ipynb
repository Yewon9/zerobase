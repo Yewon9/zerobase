{
  "nbformat": 4,
  "nbformat_minor": 0,
  "metadata": {
    "colab": {
      "provenance": []
    },
    "kernelspec": {
      "name": "python3",
      "display_name": "Python 3"
    },
    "language_info": {
      "name": "python"
    }
  },
  "cells": [
    {
      "cell_type": "markdown",
      "source": [
        "PyCharm을 이용해서 날씨 예보 프로그램을 만들어 보자."
      ],
      "metadata": {
        "id": "EzdroG-H4Ge7"
      }
    },
    {
      "cell_type": "code",
      "execution_count": 1,
      "metadata": {
        "colab": {
          "base_uri": "https://localhost:8080/"
        },
        "id": "1sHJLeQ130Et",
        "outputId": "cc19d873-376a-4917-9cb4-911241b90006"
      },
      "outputs": [
        {
          "output_type": "stream",
          "name": "stdout",
          "text": [
            "일요일인 1일은 전국이 대체로 흐린 가운데 새벽에 전라권 서부와 충남 서해안, 경기 서해안 지역을 시작으로 비가 내리겠다.\n",
            "비는 오전 들어 수도권과 강원도, 충청권 내륙, 경북 동부, 전남권으로 확대되겠고 오후에는 전국에 비가 오겠다.\n",
            "예상 강수량은 20~70mm다.\n",
            "비가 오는 지역에서는 가시거리가 짧고 도로가 미끄러운 곳이 많아 교통안전에 유의해야 한다.\n",
            "아침 최저기온은 23~27도, 낮 최고기온은 29~34도로 예보됐다.\n",
            "강수의 영향으로 습도가 높아 체감온도가 대부분 지역에서 33도 이상으로 오르겠고 열대야 현상도 지속되겠다.\n"
          ]
        }
      ],
      "source": [
        "print('일요일인 1일은 전국이 대체로 흐린 가운데 새벽에 전라권 서부와 충남 서해안, 경기 서해안 지역을 시작으로 비가 내리겠다.')\n",
        "print('비는 오전 들어 수도권과 강원도, 충청권 내륙, 경북 동부, 전남권으로 확대되겠고 오후에는 전국에 비가 오겠다.')\n",
        "print('예상 강수량은 20~70mm다.')\n",
        "print('비가 오는 지역에서는 가시거리가 짧고 도로가 미끄러운 곳이 많아 교통안전에 유의해야 한다.')\n",
        "print('아침 최저기온은 23~27도, 낮 최고기온은 29~34도로 예보됐다.')\n",
        "print('강수의 영향으로 습도가 높아 체감온도가 대부분 지역에서 33도 이상으로 오르겠고 열대야 현상도 지속되겠다.')"
      ]
    }
  ]
}