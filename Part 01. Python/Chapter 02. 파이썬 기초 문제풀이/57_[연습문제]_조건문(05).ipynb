{
  "nbformat": 4,
  "nbformat_minor": 0,
  "metadata": {
    "colab": {
      "provenance": []
    },
    "kernelspec": {
      "name": "python3",
      "display_name": "Python 3"
    },
    "language_info": {
      "name": "python"
    }
  },
  "cells": [
    {
      "cell_type": "markdown",
      "source": [
        "미세먼지 비상저감조치로 차량 운행제한 프로그램을 다음 내용에 맞게 만들어 보자. \\\n",
        "- 미세먼지 측정 수치가 150 이하면 차량 5부제 실시\n",
        "- 미세먼지 측정 수치가 150을 초과하면 차량 2부제 실시\n",
        "- 차량 2부제를 실시하더라도 영업용차량은 5부제 실시\n",
        "- 미세먼지 수치, 차량 종류, 차량 번호를 입력하면 운행 가능 여부 출력"
      ],
      "metadata": {
        "id": "KfZtGzqtXYJM"
      }
    },
    {
      "cell_type": "code",
      "source": [
        "import datetime\n",
        "\n",
        "today = datetime.datetime.today()\n",
        "day = today.day\n",
        "\n",
        "limitDust = 150\n",
        "dustNum = int(input('미세먼지 수치 입력 : '))\n",
        "carType = int(input('차량 종류 선택 : 1.승용차 2.영업용차'))\n",
        "carNumber = int(input('차량 번호 입력 : '))\n",
        "\n",
        "print('-' * 30)\n",
        "print(today)\n",
        "print('-' * 30)\n",
        "if dustNum > limitDust and carType == 1:\n",
        "  if (day % 2) == (carNumber %2):\n",
        "    print('차량 2부제 적용')\n",
        "    print('차량 2부제로 금일 운행제한 대상 차량입니다!!')\n",
        "  else:\n",
        "    print('금일 운행 가능합니다.')\n",
        "\n",
        "if dustNum >= limitDust and carType == 2:\n",
        "  if (day % 5) == (carNumber %5):\n",
        "    print('차량 5부제 적용')\n",
        "    print('차량 5부제로 금일 운행제한 대상 차량입니다!!')\n",
        "  else:\n",
        "    print('금일 운행 가능합니다.')\n",
        "\n",
        "if dustNum <= limitDust:\n",
        "  if (day % 5) == (carNumber %5):\n",
        "    print('차량 5부제 적용')\n",
        "    print('차량 5부제로 금일 운행제한 대상 차량입니다!!')\n",
        "  else:\n",
        "    print('금일 운행 가능합니다.')\n",
        "\n",
        "print('-' * 30)"
      ],
      "metadata": {
        "colab": {
          "base_uri": "https://localhost:8080/"
        },
        "id": "HBrr5AQrXboh",
        "outputId": "a0c9c432-c6b9-4ceb-cf2b-5b70b89d63b6"
      },
      "execution_count": 8,
      "outputs": [
        {
          "output_type": "stream",
          "name": "stdout",
          "text": [
            "미세먼지 수치 입력 : 155\n",
            "차량 종류 선택 : 1.승용차 2.영업용차1\n",
            "차량 번호 입력 : 7456\n",
            "------------------------------\n",
            "2024-07-08 07:21:37.916412\n",
            "------------------------------\n",
            "차량 2부제 적용\n",
            "차량 2부제로 금일 운행제한 대상 차량입니다!!\n",
            "------------------------------\n"
          ]
        }
      ]
    }
  ]
}