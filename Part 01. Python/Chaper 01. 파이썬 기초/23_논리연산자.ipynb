{
  "nbformat": 4,
  "nbformat_minor": 0,
  "metadata": {
    "colab": {
      "provenance": []
    },
    "kernelspec": {
      "name": "python3",
      "display_name": "Python 3"
    },
    "language_info": {
      "name": "python"
    }
  },
  "cells": [
    {
      "cell_type": "markdown",
      "source": [
        "'백신 접종 대상자는 20세 미만 또는 65세 이상자에 한합니다.'를 논리연산자를 이용해서 코딩해 보자."
      ],
      "metadata": {
        "id": "JtXFlTtmPilK"
      }
    },
    {
      "cell_type": "code",
      "source": [
        "age = int(input('나이 입력 : '))\n",
        "vaccine = (age < 20) or (age >= 65)\n",
        "print('age : {}, result : {}'.format(age, vaccine))"
      ],
      "metadata": {
        "colab": {
          "base_uri": "https://localhost:8080/"
        },
        "id": "m0IpjVgYPpDC",
        "outputId": "4c733705-4531-40fd-e8ad-338a8b0af41b"
      },
      "execution_count": 27,
      "outputs": [
        {
          "output_type": "stream",
          "name": "stdout",
          "text": [
            "나이 입력 : 24\n",
            "age : 24, result : False\n"
          ]
        }
      ]
    },
    {
      "cell_type": "markdown",
      "source": [
        "국어, 영어, 수학 점수를 입력하고 평균이 70점 이상이면 True를 출력하는 코드를 작성해 보자. \\\n",
        "(단, 과목별 점수가 최소 60이상인 경우에 True를 출력한다.)"
      ],
      "metadata": {
        "id": "EzdroG-H4Ge7"
      }
    },
    {
      "cell_type": "code",
      "execution_count": 28,
      "metadata": {
        "colab": {
          "base_uri": "https://localhost:8080/"
        },
        "id": "1sHJLeQ130Et",
        "outputId": "380246f1-33e6-43ee-898f-be1c029a1a4f"
      },
      "outputs": [
        {
          "output_type": "stream",
          "name": "stdout",
          "text": [
            "국어 점수 : 85\n",
            "영어 점수 : 90\n",
            "수학 점수 : 55\n",
            "평균 : 76.66666666666667, 결과 : True\n",
            "국어 : 85, 결과 : True\n",
            "영어 : 90, 결과 : True\n",
            "수학 : 55, 결과 : False\n",
            "과락 결과 : False\n",
            "최종 결과 : False\n"
          ]
        }
      ],
      "source": [
        "passScore1 = 60\n",
        "passScore2 = 70\n",
        "\n",
        "korScore = int(input('국어 점수 : '))\n",
        "engScore = int(input('영어 점수 : '))\n",
        "mathScore = int(input('수학 점수 : '))\n",
        "\n",
        "scoreAvg = (korScore + engScore + mathScore) / 3\n",
        "scoreAvgResult = scoreAvg >= passScore2\n",
        "\n",
        "korResult = korScore >= passScore1\n",
        "engResult = engScore >= passScore1\n",
        "mathResult = mathScore >= passScore1\n",
        "\n",
        "subjectResult = korResult and engResult and mathResult\n",
        "\n",
        "print('평균 : {}, 결과 : {}'.format(scoreAvg, scoreAvgResult))\n",
        "print('국어 : {}, 결과 : {}'.format(korScore, korResult))\n",
        "print('영어 : {}, 결과 : {}'.format(engScore, engResult))\n",
        "print('수학 : {}, 결과 : {}'.format(mathScore, mathResult))\n",
        "print('과락 결과 : {}'.format(subjectResult))\n",
        "print('최종 결과 : {}'.format(scoreAvgResult and subjectResult))"
      ]
    }
  ]
}