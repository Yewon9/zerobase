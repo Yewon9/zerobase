{
  "nbformat": 4,
  "nbformat_minor": 0,
  "metadata": {
    "colab": {
      "provenance": []
    },
    "kernelspec": {
      "name": "python3",
      "display_name": "Python 3"
    },
    "language_info": {
      "name": "python"
    }
  },
  "cells": [
    {
      "cell_type": "markdown",
      "source": [
        "체중(g)과 신장(cm)을 입력하면 BMI지수가 출력되는 프로그램을 만들어 보자."
      ],
      "metadata": {
        "id": "KfZtGzqtXYJM"
      }
    },
    {
      "cell_type": "code",
      "source": [
        "# BMI = 몸무게(kg) / (신장(m) * 신장(m))\n",
        "\n",
        "weight = input('체중 입력(g) : ')\n",
        "height = input('신장 입력(cm) : ')\n",
        "\n",
        "if weight.isdigit():\n",
        "  weight = int(weight) / 10\n",
        "\n",
        "if height.isdigit():\n",
        "  height = int(height) / 100\n",
        "\n",
        "print('체중 : {}kg'.format(weight))\n",
        "print('신장 : {}cm'.format(height))\n",
        "\n",
        "bmi = weight / (height * height)\n",
        "print('BMI : %.2f' % bmi)"
      ],
      "metadata": {
        "colab": {
          "base_uri": "https://localhost:8080/"
        },
        "id": "HBrr5AQrXboh",
        "outputId": "4a048905-cf08-46a5-e723-f469c4ac5362"
      },
      "execution_count": 5,
      "outputs": [
        {
          "output_type": "stream",
          "name": "stdout",
          "text": [
            "체중 입력(g) : 855\n",
            "신장 입력(cm) : 187\n",
            "체중 : 85.5kg\n",
            "신장 : 1.87cm\n",
            "BMI : 24.45\n"
          ]
        }
      ]
    },
    {
      "cell_type": "markdown",
      "source": [
        "다음 코드에서 num1과 num2의 값을 서로 바꾸고 각각 출력해보자."
      ],
      "metadata": {
        "id": "3SRwS-avXo70"
      }
    },
    {
      "cell_type": "code",
      "source": [
        "num1 = 10\n",
        "num2 = 20\n",
        "\n",
        "print('num1 : {}, num2 : {}'.format(num1, num2))\n",
        "\n",
        "tempNum = num1\n",
        "num1 = num2\n",
        "num2 = tempNum\n",
        "print('num1 : {}, num2 : {}'.format(num1, num2))"
      ],
      "metadata": {
        "colab": {
          "base_uri": "https://localhost:8080/"
        },
        "id": "PObWqks3XuCv",
        "outputId": "8c0ca807-6138-4430-a7bd-06aeabeb4fb4"
      },
      "execution_count": 6,
      "outputs": [
        {
          "output_type": "stream",
          "name": "stdout",
          "text": [
            "num1 : 10, num2 : 20\n",
            "num1 : 20, num2 : 10\n"
          ]
        }
      ]
    },
    {
      "cell_type": "markdown",
      "source": [
        "중간, 기말고사 점수를 입력하면 총점과 평균이 출력되는 프로그램을 만들어보자."
      ],
      "metadata": {
        "id": "xERaNJNcYXbP"
      }
    },
    {
      "cell_type": "code",
      "source": [
        "score1 = input('중간 고사 점수 : ')\n",
        "score2 = input('기말 고사 점수 : ')\n",
        "\n",
        "if score1.isdigit() and score2.isdigit():\n",
        "  score1 = int(score1)\n",
        "  score2 = int(score2)\n",
        "\n",
        "  totalScore = score1 + score2\n",
        "  avgScore = totalScore / 2\n",
        "\n",
        "  print('총점 : {}, 평균 : {}'.format(totalScore, avgScore))\n",
        "\n",
        "else:\n",
        "  print('잘못 입력했습니다.')"
      ],
      "metadata": {
        "colab": {
          "base_uri": "https://localhost:8080/"
        },
        "id": "m0IpjVgYPpDC",
        "outputId": "b65486df-9207-4c76-8317-94143acccab8"
      },
      "execution_count": 8,
      "outputs": [
        {
          "output_type": "stream",
          "name": "stdout",
          "text": [
            "중간 고사 점수 : 89\n",
            "기말 고사 점수 : 94\n",
            "총점 : 183, 평균 : 91.5\n"
          ]
        }
      ]
    }
  ]
}