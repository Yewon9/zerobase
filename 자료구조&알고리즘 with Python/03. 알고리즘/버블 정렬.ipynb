{
 "cells": [
  {
   "cell_type": "markdown",
   "id": "0fc6ec0f-23bd-4401-ac09-da2a3b56cde9",
   "metadata": {},
   "source": [
    "### 버블정렬"
   ]
  },
  {
   "cell_type": "code",
   "execution_count": 1,
   "id": "6895a8dc-0c20-4560-bbdd-3226ef6f51c7",
   "metadata": {},
   "outputs": [
    {
     "name": "stdout",
     "output_type": "stream",
     "text": [
      "not sorted nums : [10, 2, 7, 21, 0]\n"
     ]
    }
   ],
   "source": [
    "nums = [10, 2, 7, 21, 0]\n",
    "print(f'not sorted nums : {nums}')"
   ]
  },
  {
   "cell_type": "code",
   "execution_count": 3,
   "id": "39ae6379-3734-44cf-bf92-460c40eced7b",
   "metadata": {},
   "outputs": [
    {
     "name": "stdout",
     "output_type": "stream",
     "text": [
      "sorted nums : [0, 2, 7, 10, 21]\n"
     ]
    }
   ],
   "source": [
    "length = len(nums) - 1\n",
    "for i in range(length):\n",
    "    for j in range(length - i):\n",
    "        if nums[j] > nums[j + 1]:\n",
    "            nums[j], nums[j + 1] = nums[j + 1], nums[j]\n",
    "\n",
    "print(f'sorted nums : {nums}')"
   ]
  }
 ],
 "metadata": {
  "kernelspec": {
   "display_name": "Python 3 (ipykernel)",
   "language": "python",
   "name": "python3"
  },
  "language_info": {
   "codemirror_mode": {
    "name": "ipython",
    "version": 3
   },
   "file_extension": ".py",
   "mimetype": "text/x-python",
   "name": "python",
   "nbconvert_exporter": "python",
   "pygments_lexer": "ipython3",
   "version": "3.9.7"
  }
 },
 "nbformat": 4,
 "nbformat_minor": 5
}
