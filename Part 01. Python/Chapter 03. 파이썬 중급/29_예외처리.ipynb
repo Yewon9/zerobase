{
  "nbformat": 4,
  "nbformat_minor": 0,
  "metadata": {
    "colab": {
      "provenance": []
    },
    "kernelspec": {
      "name": "python3",
      "display_name": "Python 3"
    },
    "language_info": {
      "name": "python"
    }
  },
  "cells": [
    {
      "cell_type": "markdown",
      "source": [
        "사용자로부터 숫자 5개를 입력받을 때 숫자가 아닌 자료형이 입력되면 예외 처리하는 프로그램을 만들어보자."
      ],
      "metadata": {
        "id": "48nGlwzvhUby"
      }
    },
    {
      "cell_type": "code",
      "source": [
        "nums = []\n",
        "\n",
        "n = 1\n",
        "while n < 6:\n",
        "  try :\n",
        "    num = int(input('input number : '))\n",
        "  except:\n",
        "    print('예외 발생!')\n",
        "    continue\n",
        "\n",
        "  nums.append(num)\n",
        "  n += 1\n",
        "\n",
        "print(f'nums : {nums}')"
      ],
      "metadata": {
        "colab": {
          "base_uri": "https://localhost:8080/"
        },
        "id": "3jUGcVw9hYg7",
        "outputId": "2b4b7cce-f6a5-4f15-feff-22a36e4d67ac"
      },
      "execution_count": 31,
      "outputs": [
        {
          "output_type": "stream",
          "name": "stdout",
          "text": [
            "input number : 1\n",
            "input number : ㅁ\n",
            "예외 발생!\n",
            "input number : 2\n",
            "input number : ㄴ\n",
            "예외 발생!\n",
            "input number : 3\n",
            "input number : 4\n",
            "input number : ㅇ\n",
            "예외 발생!\n",
            "input number : ㄹ\n",
            "예외 발생!\n",
            "input number : 5\n",
            "nums : [1, 2, 3, 4, 5]\n"
          ]
        }
      ]
    }
  ]
}