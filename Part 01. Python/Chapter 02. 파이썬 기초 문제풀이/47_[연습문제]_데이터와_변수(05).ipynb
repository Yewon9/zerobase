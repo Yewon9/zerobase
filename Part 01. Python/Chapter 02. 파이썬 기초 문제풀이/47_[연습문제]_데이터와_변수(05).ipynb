{
  "nbformat": 4,
  "nbformat_minor": 0,
  "metadata": {
    "colab": {
      "provenance": []
    },
    "kernelspec": {
      "name": "python3",
      "display_name": "Python 3"
    },
    "language_info": {
      "name": "python"
    }
  },
  "cells": [
    {
      "cell_type": "markdown",
      "source": [
        "키오스크에서 사용하는 언어 선택 프로그램을 만들어보자."
      ],
      "metadata": {
        "id": "KfZtGzqtXYJM"
      }
    },
    {
      "cell_type": "code",
      "source": [
        "selectNumber = input('언어 선택 (Choose your language) : 1.한국어 \\t 2.English')\n",
        "\n",
        "if selectNumber == '1':\n",
        "  menu = '1.샌드위치 \\t 2.햄버거 \\t 3.쥬스 \\t 4.커피 \\t 5.아이스크림'\n",
        "elif selectNumber == '2':\n",
        "  menu = '1.Sandwich \\t 2.Hamburger \\t 3.Juice \\t 4.Coffee \\t 5.Ice Cream'\n",
        "\n",
        "print(menu)"
      ],
      "metadata": {
        "colab": {
          "base_uri": "https://localhost:8080/"
        },
        "id": "HBrr5AQrXboh",
        "outputId": "4a0ce83d-07e0-4fd9-b89f-5e8b7efb3743"
      },
      "execution_count": 9,
      "outputs": [
        {
          "output_type": "stream",
          "name": "stdout",
          "text": [
            "언어 선택 (Choose your language) : 1.한국어 \t 2.English1\n",
            "1.샌드위치 \t 2.햄버거 \t 3.쥬스 \t 4.커피 \t 5.아이스크림\n"
          ]
        }
      ]
    },
    {
      "cell_type": "markdown",
      "source": [
        "나의 나이가 100살 되는 해의 연도를 구하는 프로그램을 만들어보자."
      ],
      "metadata": {
        "id": "3SRwS-avXo70"
      }
    },
    {
      "cell_type": "code",
      "source": [
        "import datetime\n",
        "\n",
        "today = datetime.datetime.today()\n",
        "\n",
        "myAge = input('나이 입력 : ')\n",
        "if myAge.isdigit():\n",
        "  afterAge = 100 - int(myAge)\n",
        "  myHundred = today.year + afterAge\n",
        "\n",
        "  print('{}년 ({}년후)에 100살!!'.format(myHundred, afterAge))\n",
        "\n",
        "else:\n",
        "  print('잘못 입력했습니다.')"
      ],
      "metadata": {
        "colab": {
          "base_uri": "https://localhost:8080/"
        },
        "id": "PObWqks3XuCv",
        "outputId": "8ca06eb0-65e7-4866-c49a-0c448c8da9ad"
      },
      "execution_count": 10,
      "outputs": [
        {
          "output_type": "stream",
          "name": "stdout",
          "text": [
            "나이 입력 : 24\n",
            "2100년 (76년후)에 100살!!\n"
          ]
        }
      ]
    }
  ]
}