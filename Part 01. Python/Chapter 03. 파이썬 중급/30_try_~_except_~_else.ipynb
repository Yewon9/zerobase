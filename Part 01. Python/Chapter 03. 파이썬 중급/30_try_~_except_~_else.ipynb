{
  "nbformat": 4,
  "nbformat_minor": 0,
  "metadata": {
    "colab": {
      "provenance": []
    },
    "kernelspec": {
      "name": "python3",
      "display_name": "Python 3"
    },
    "language_info": {
      "name": "python"
    }
  },
  "cells": [
    {
      "cell_type": "markdown",
      "source": [
        "사용자로부터 숫자 5개를 입력받아 짝수, 홀수, 실수로 구분해서 각각을 리스트에 저장하는 프로그램을 만들어보자."
      ],
      "metadata": {
        "id": "c8y0dnNPkj_q"
      }
    },
    {
      "cell_type": "code",
      "source": [
        "eveList = []; oddList = []; floatList = []\n",
        "\n",
        "n = 1\n",
        "while n < 6:\n",
        "\n",
        "  try:\n",
        "    num = float(input('input number : '))\n",
        "\n",
        "  except:\n",
        "    print('exception raise!!')\n",
        "    print('input number again!!')\n",
        "    continue\n",
        "\n",
        "  else:\n",
        "    if num - int(num) != 0:\n",
        "      print('float number!')\n",
        "      floatList.append(num)\n",
        "    else:\n",
        "      if num % 2 == 0:\n",
        "        print('even number!')\n",
        "        eveList.append(int(num))\n",
        "      else:\n",
        "        print('odd number!')\n",
        "        oddList.append(int(num))\n",
        "\n",
        "    n += 1\n",
        "\n",
        "print(f'eveList : {eveList}')\n",
        "print(f'oddList : {oddList}')\n",
        "print(f'floatList : {floatList}')"
      ],
      "metadata": {
        "colab": {
          "base_uri": "https://localhost:8080/"
        },
        "id": "xNRLG41jkolF",
        "outputId": "954ca435-2e46-4a7c-9197-470d5a0e81e1"
      },
      "execution_count": 33,
      "outputs": [
        {
          "output_type": "stream",
          "name": "stdout",
          "text": [
            "input number : 6\n",
            "even number!\n",
            "input number : abc\n",
            "exception raise!!\n",
            "input number again!!\n",
            "input number : 3.14\n",
            "float number!\n",
            "input number : 0\n",
            "even number!\n",
            "input number : 가나다\n",
            "exception raise!!\n",
            "input number again!!\n",
            "input number : 17\n",
            "odd number!\n",
            "input number : 6\n",
            "even number!\n",
            "eveList : [6, 0, 6]\n",
            "oddList : [17]\n",
            "floatList : [3.14]\n"
          ]
        }
      ]
    }
  ]
}