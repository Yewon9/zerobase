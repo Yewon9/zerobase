{
  "nbformat": 4,
  "nbformat_minor": 0,
  "metadata": {
    "colab": {
      "provenance": []
    },
    "kernelspec": {
      "name": "python3",
      "display_name": "Python 3"
    },
    "language_info": {
      "name": "python"
    }
  },
  "cells": [
    {
      "cell_type": "markdown",
      "source": [
        "PC에서 난수를 발생하면 사용자가 맞추는 게임을 만들어보자. \\\n",
        "- PC가 난수(1~1000)를 발생하면 사용자가 숫자(정수)를 입력한다.\n",
        "- 사용자가 난수를 맞추면 게임이 종료된다.\n",
        "- 만약, 못 맞추게 되면 난수와 사용자 숫자의 크고 작음을 출력한 후 사용자한테 다시 기회를 준다.\n",
        "- 최종적으로 사용자가 시도한 횟수를 출력한다."
      ],
      "metadata": {
        "id": "KfZtGzqtXYJM"
      }
    },
    {
      "cell_type": "code",
      "source": [
        "import random\n",
        "\n",
        "rNum = random.randint(1, 1000)\n",
        "tryCount = 0\n",
        "gameFlag = True\n",
        "\n",
        "while gameFlag:\n",
        "  tryCount += 1\n",
        "  pNum = int(input('1에서 1,000까지의 정수 입력 : '))\n",
        "\n",
        "  if rNum == pNum:\n",
        "    print('빙고!')\n",
        "    gameFlag = False\n",
        "  else:\n",
        "    if rNum > pNum:\n",
        "      print('난수가 크다!')\n",
        "    else:\n",
        "      print('난수가 작다!')\n",
        "\n",
        "print('난수 : {}, 시도 횟수 : {}'.format(rNum, tryCount))"
      ],
      "metadata": {
        "colab": {
          "base_uri": "https://localhost:8080/"
        },
        "id": "HBrr5AQrXboh",
        "outputId": "75a35eb7-b8b7-499f-f1be-0bfdda9ea097"
      },
      "execution_count": 9,
      "outputs": [
        {
          "output_type": "stream",
          "name": "stdout",
          "text": [
            "1에서 1,000까지의 정수 입력 : 500\n",
            "난수가 크다!\n",
            "1에서 1,000까지의 정수 입력 : 750\n",
            "난수가 크다!\n",
            "1에서 1,000까지의 정수 입력 : 850\n",
            "난수가 작다!\n",
            "1에서 1,000까지의 정수 입력 : 800\n",
            "난수가 작다!\n",
            "1에서 1,000까지의 정수 입력 : 770\n",
            "난수가 크다!\n",
            "1에서 1,000까지의 정수 입력 : 785\n",
            "빙고!\n",
            "난수 : 785, 시도 횟수 : 6\n"
          ]
        }
      ]
    },
    {
      "cell_type": "markdown",
      "source": [
        "실내온도를 입력하면 스마트에어컨 상태가 자동으로 설정되는 프로그램을 만들어보자."
      ],
      "metadata": {
        "id": "JfdY-Bj2U19y"
      }
    },
    {
      "cell_type": "code",
      "source": [
        "innerTemp = int(input('실내온도 입력 : '))\n",
        "\n",
        "if innerTemp <= 18:\n",
        "  print('에어컨: OFF!!')\n",
        "elif innerTemp > 18 and innerTemp <= 22:\n",
        "  print('에어컨: 매우 약!!')\n",
        "elif innerTemp > 22 and innerTemp <= 24:\n",
        "  print('에어컨: 약!!')\n",
        "elif innerTemp > 24 and innerTemp <= 26:\n",
        "  print('에어컨: 중!!')\n",
        "elif innerTemp > 26 and innerTemp <= 28:\n",
        "  print('에어컨: 강!!')\n",
        "elif innerTemp > 28:\n",
        "  print('에어컨: 매우 강!!')"
      ],
      "metadata": {
        "colab": {
          "base_uri": "https://localhost:8080/"
        },
        "id": "DA3FL2pPU54k",
        "outputId": "a5115203-4992-42ff-c5f9-43e8763ad627"
      },
      "execution_count": 10,
      "outputs": [
        {
          "output_type": "stream",
          "name": "stdout",
          "text": [
            "실내온도 입력 : 27\n",
            "에어컨: 강!!\n"
          ]
        }
      ]
    }
  ]
}