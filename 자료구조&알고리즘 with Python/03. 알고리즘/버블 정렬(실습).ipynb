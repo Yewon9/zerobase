{
 "cells": [
  {
   "cell_type": "markdown",
   "id": "2fb6dc98-0171-4ae9-b8fe-346909f43eab",
   "metadata": {},
   "source": [
    "### 새 학년이 되어 학급에 20명의 새로운 학생들이 모였다. 학생들을 키 순서로 줄 세워 보자. 학생들의 키는 random 모듈을 이용해서 170 ~ 185 사이로 생성한다."
   ]
  },
  {
   "cell_type": "code",
   "execution_count": 6,
   "id": "cc9f8478-df5e-4205-9deb-fff17a255746",
   "metadata": {},
   "outputs": [],
   "source": [
    "import copy"
   ]
  },
  {
   "cell_type": "code",
   "execution_count": 13,
   "id": "352955b9-82a2-45af-b62c-a3e74c321798",
   "metadata": {},
   "outputs": [],
   "source": [
    "def bubbleSort(ns, deepCopy = True):\n",
    "    if deepCopy:\n",
    "        cns = copy.copy(ns)\n",
    "    else:\n",
    "        cns = ns\n",
    "        \n",
    "    length = len(cns) - 1\n",
    "    for i in range(length):\n",
    "        for j in range(length - i):\n",
    "            if cns[j] > cns[j + 1]:\n",
    "                cns[j], cns[j + 1] = cns[j + 1], cns[j]\n",
    "\n",
    "    return cns"
   ]
  },
  {
   "cell_type": "code",
   "execution_count": 8,
   "id": "3f137c02-d5a7-4f12-baad-7a5c69ba38ac",
   "metadata": {},
   "outputs": [],
   "source": [
    "import random"
   ]
  },
  {
   "cell_type": "code",
   "execution_count": 14,
   "id": "475a5d93-1a36-4d07-aa24-33d528fe4c46",
   "metadata": {},
   "outputs": [
    {
     "name": "stdout",
     "output_type": "stream",
     "text": [
      "students : [184, 180, 170, 171, 182, 177, 176, 177, 181, 178, 178, 185, 184, 183, 176, 183, 180, 181, 183, 182]\n"
     ]
    }
   ],
   "source": [
    "students = []\n",
    "\n",
    "for i in range(20):\n",
    "    students.append(random.randint(170, 185))\n",
    "\n",
    "print(f'students : {students}')"
   ]
  },
  {
   "cell_type": "code",
   "execution_count": 15,
   "id": "4b06cd85-5472-4d91-88d5-62ed1d2552e8",
   "metadata": {},
   "outputs": [
    {
     "name": "stdout",
     "output_type": "stream",
     "text": [
      "students : [184, 180, 170, 171, 182, 177, 176, 177, 181, 178, 178, 185, 184, 183, 176, 183, 180, 181, 183, 182]\n",
      "sortedStudents : [170, 171, 176, 176, 177, 177, 178, 178, 180, 180, 181, 181, 182, 182, 183, 183, 183, 184, 184, 185]\n"
     ]
    }
   ],
   "source": [
    "sortedStudents = bubbleSort(students)\n",
    "print(f'students : {students}')\n",
    "print(f'sortedStudents : {sortedStudents}')"
   ]
  }
 ],
 "metadata": {
  "kernelspec": {
   "display_name": "Python 3 (ipykernel)",
   "language": "python",
   "name": "python3"
  },
  "language_info": {
   "codemirror_mode": {
    "name": "ipython",
    "version": 3
   },
   "file_extension": ".py",
   "mimetype": "text/x-python",
   "name": "python",
   "nbconvert_exporter": "python",
   "pygments_lexer": "ipython3",
   "version": "3.9.7"
  }
 },
 "nbformat": 4,
 "nbformat_minor": 5
}
