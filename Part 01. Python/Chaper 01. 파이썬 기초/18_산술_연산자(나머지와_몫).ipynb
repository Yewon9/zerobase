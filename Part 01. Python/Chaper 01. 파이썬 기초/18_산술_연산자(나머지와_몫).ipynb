{
  "nbformat": 4,
  "nbformat_minor": 0,
  "metadata": {
    "colab": {
      "provenance": []
    },
    "kernelspec": {
      "name": "python3",
      "display_name": "Python 3"
    },
    "language_info": {
      "name": "python"
    }
  },
  "cells": [
    {
      "cell_type": "markdown",
      "source": [
        "학급 전체 학생 수 입력\n",
        "한 모둠에 속하는 학생 수 입력\n",
        "전체 모둠 수와 남는 학생 수 출력"
      ],
      "metadata": {
        "id": "EzdroG-H4Ge7"
      }
    },
    {
      "cell_type": "code",
      "execution_count": 6,
      "metadata": {
        "colab": {
          "base_uri": "https://localhost:8080/"
        },
        "id": "1sHJLeQ130Et",
        "outputId": "5ddb3e85-070e-4542-a488-c53d1cf94699"
      },
      "outputs": [
        {
          "output_type": "stream",
          "name": "stdout",
          "text": [
            "전체 학생 수 : 25\n",
            "한 모둠 학생 수 : 4\n",
            "전체 학생 수 : 25\n",
            "한 모둠 학생 수 : 4\n",
            "모둠 수 : 6\n",
            "남는 학생 수 : 1\n"
          ]
        }
      ],
      "source": [
        "allStuCnt = int(input('전체 학생 수 : '))\n",
        "stuCntOfGroup = int(input('한 모둠 학생 수 : '))\n",
        "groupCnt = allStuCnt // stuCntOfGroup\n",
        "overStuCnt = allStuCnt % stuCntOfGroup\n",
        "\n",
        "print('전체 학생 수 : {}'.format(allStuCnt))\n",
        "print('한 모둠 학생 수 : {}'.format(stuCntOfGroup))\n",
        "print('모둠 수 : {}'.format(groupCnt))\n",
        "print('남는 학생 수 : {}'.format(overStuCnt))"
      ]
    },
    {
      "cell_type": "markdown",
      "source": [
        "123개의 사과를 4개씩 직원들한테 나누어 주려고 한다. 최대 나누어 줄 수 있는 직원수와 남는 사과 개수를 출력해 보자."
      ],
      "metadata": {
        "id": "HlZ3XJ__-FjS"
      }
    },
    {
      "cell_type": "code",
      "source": [
        "employee = 123\n",
        "apple = 4\n",
        "result = divmod(employee, apple)\n",
        "print('사과를 나누어 줄 수 있는 최대 직원 수 : {}명'.format(result[0]))\n",
        "print('남는 사과 개수 : {}개'.format(result[1]))"
      ],
      "metadata": {
        "colab": {
          "base_uri": "https://localhost:8080/"
        },
        "id": "zZ997c62-CS9",
        "outputId": "01f24cdc-f5c0-4817-cd13-5a6754a6c49d"
      },
      "execution_count": 8,
      "outputs": [
        {
          "output_type": "stream",
          "name": "stdout",
          "text": [
            "사과를 나누어 줄 수 있는 최대 직원 수 : 30명\n",
            "남는 사과 개수 : 3개\n"
          ]
        }
      ]
    }
  ]
}