{
  "nbformat": 4,
  "nbformat_minor": 0,
  "metadata": {
    "colab": {
      "provenance": []
    },
    "kernelspec": {
      "name": "python3",
      "display_name": "Python 3"
    },
    "language_info": {
      "name": "python"
    }
  },
  "cells": [
    {
      "cell_type": "markdown",
      "source": [
        "random 모듈을 이용해서 1부터 10까지의 정수 중 난수 1개를 발생시켜 보자."
      ],
      "metadata": {
        "id": "Oom3lqw_UVqy"
      }
    },
    {
      "cell_type": "code",
      "source": [
        "import random\n",
        "\n",
        "rNum = random.randint(1, 11)\n",
        "print(f'rNum : {rNum}')"
      ],
      "metadata": {
        "colab": {
          "base_uri": "https://localhost:8080/"
        },
        "id": "lr5wX1yDUZ1F",
        "outputId": "f03697c3-b349-489c-fb05-b0bcf3bd9b4b"
      },
      "execution_count": 10,
      "outputs": [
        {
          "output_type": "stream",
          "name": "stdout",
          "text": [
            "rNum : 10\n"
          ]
        }
      ]
    },
    {
      "cell_type": "markdown",
      "source": [
        "random 모듈을 이용해서 0부터 100 사이의 난수 10개를 발생시켜 보자."
      ],
      "metadata": {
        "id": "nf_8SueXUf2q"
      }
    },
    {
      "cell_type": "code",
      "source": [
        "import random\n",
        "\n",
        "rNums = random.sample(range(1, 101), 10)\n",
        "print(f'rNums : {rNums}')"
      ],
      "metadata": {
        "colab": {
          "base_uri": "https://localhost:8080/"
        },
        "id": "2FSa7mSkUfRF",
        "outputId": "1afe1ebf-d2b5-4406-c137-b20723b30689"
      },
      "execution_count": 11,
      "outputs": [
        {
          "output_type": "stream",
          "name": "stdout",
          "text": [
            "rNums : [68, 27, 31, 63, 57, 16, 19, 81, 40, 71]\n"
          ]
        }
      ]
    }
  ]
}