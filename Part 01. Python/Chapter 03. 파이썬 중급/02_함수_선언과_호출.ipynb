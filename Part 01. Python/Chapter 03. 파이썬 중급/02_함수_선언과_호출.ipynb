{
  "nbformat": 4,
  "nbformat_minor": 0,
  "metadata": {
    "colab": {
      "provenance": []
    },
    "kernelspec": {
      "name": "python3",
      "display_name": "Python 3"
    },
    "language_info": {
      "name": "python"
    }
  },
  "cells": [
    {
      "cell_type": "markdown",
      "source": [
        "오눌 날씨를 출력하는 함수를 선언하고 3번 호출해보자."
      ],
      "metadata": {
        "id": "xqb8fwC-8oeU"
      }
    },
    {
      "cell_type": "code",
      "source": [
        "def printWeatherInfo():\n",
        "  print('오늘 날씨는 맑습니다. 기온은 25도입니다.')\n",
        "\n",
        "printWeatherInfo()\n",
        "printWeatherInfo()\n",
        "printWeatherInfo()"
      ],
      "metadata": {
        "colab": {
          "base_uri": "https://localhost:8080/"
        },
        "id": "tLCPo9nZ8r7E",
        "outputId": "c4f136e0-fd37-40be-c30d-3051a7492391"
      },
      "execution_count": 1,
      "outputs": [
        {
          "output_type": "stream",
          "name": "stdout",
          "text": [
            "오늘 날씨는 맑습니다. 기온은 25도입니다.\n",
            "오늘 날씨는 맑습니다. 기온은 25도입니다.\n",
            "오늘 날씨는 맑습니다. 기온은 25도입니다.\n"
          ]
        }
      ]
    },
    {
      "cell_type": "markdown",
      "source": [
        "정수 두 개를 입력하면 곱셈과 나눗셈 연산 결과를 출력하는 함수를 만들고 호출해보자."
      ],
      "metadata": {
        "id": "vLicagVt83u9"
      }
    },
    {
      "cell_type": "code",
      "source": [
        "def calFun():\n",
        "  n1 = int(input('n1 입력 : '))\n",
        "  n2 = int(input('n2 입력 : '))\n",
        "\n",
        "  print(f'n1 * n2 = {n1 * n2}')\n",
        "  print(f'n1 / n2 = {n1 / n2}')\n",
        "\n",
        "calFun()"
      ],
      "metadata": {
        "colab": {
          "base_uri": "https://localhost:8080/"
        },
        "id": "cubhN31P8ykU",
        "outputId": "e5d06da6-244d-4d09-b075-ca3d6e4a88dc"
      },
      "execution_count": 2,
      "outputs": [
        {
          "output_type": "stream",
          "name": "stdout",
          "text": [
            "n1 입력 : 10\n",
            "n2 입력 : 20\n",
            "n1 * n2 = 200\n",
            "n1 / n2 = 0.5\n"
          ]
        }
      ]
    }
  ]
}