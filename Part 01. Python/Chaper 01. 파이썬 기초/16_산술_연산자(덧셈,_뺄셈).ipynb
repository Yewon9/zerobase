{
  "nbformat": 4,
  "nbformat_minor": 0,
  "metadata": {
    "colab": {
      "provenance": []
    },
    "kernelspec": {
      "name": "python3",
      "display_name": "Python 3"
    },
    "language_info": {
      "name": "python"
    }
  },
  "cells": [
    {
      "cell_type": "markdown",
      "source": [
        "국어, 영어, 수학 점수를 입력하고 합계를 출력해 보자."
      ],
      "metadata": {
        "id": "W8Q6erDWwhzZ"
      }
    },
    {
      "cell_type": "code",
      "source": [
        "kor = int(input('국어 점수 : '))\n",
        "eng = int(input('영어 점수 : '))\n",
        "mat = int(input('수학 점수 : '))\n",
        "\n",
        "total = kor + eng + mat\n",
        "print('국어 점수 {}'.format(kor))\n",
        "print('영어 점수 {}'.format(eng))\n",
        "print('수학 점수 {}'.format(mat))\n",
        "print('합계 : {}'.format(total))"
      ],
      "metadata": {
        "colab": {
          "base_uri": "https://localhost:8080/"
        },
        "id": "tfiUaxt-wli0",
        "outputId": "4a39660c-62b4-4477-d53c-d5cad52f5404"
      },
      "execution_count": 50,
      "outputs": [
        {
          "output_type": "stream",
          "name": "stdout",
          "text": [
            "국어 점수 : 85\n",
            "영어 점수 : 90\n",
            "수학 점수 : 95\n",
            "국어 점수 85\n",
            "영어 점수 90\n",
            "수학 점수 95\n",
            "합계 : 270\n"
          ]
        }
      ]
    },
    {
      "cell_type": "markdown",
      "source": [
        "이번달 알바비와 카드값을 입력하고 남은 금액이 얼마인지 출력해 보자."
      ],
      "metadata": {
        "id": "0xi0w_R4ym57"
      }
    },
    {
      "cell_type": "code",
      "source": [
        "partTimeMoney = int(input('이번달 알바비 : '))\n",
        "cardMoney = int(input('카드값 : '))\n",
        "result = partTimeMoney - cardMoney\n",
        "print('partTimeMoney : {}원'.format(partTimeMoney))\n",
        "print('cardMoney : {}원'.format(cardMoney))\n",
        "print('남는 돈 : {}원'.format(result))"
      ],
      "metadata": {
        "colab": {
          "base_uri": "https://localhost:8080/"
        },
        "id": "FdebYS0Iys5I",
        "outputId": "ea09cebd-1352-4281-dbb5-2cc197c8782c"
      },
      "execution_count": 51,
      "outputs": [
        {
          "output_type": "stream",
          "name": "stdout",
          "text": [
            "이번달 알바비 : 800000\n",
            "카드값 : 453000\n",
            "partTimeMoney : 800000원\n",
            "cardMoney : 453000원\n",
            "남는 돈 : 347000원\n"
          ]
        }
      ]
    }
  ]
}