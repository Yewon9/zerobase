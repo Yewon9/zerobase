{
 "cells": [
  {
   "cell_type": "markdown",
   "id": "de18a8da-b149-4481-a303-023b45706d7b",
   "metadata": {},
   "source": [
    "### 최댓값"
   ]
  },
  {
   "cell_type": "code",
   "execution_count": 1,
   "id": "2f1ea2f9-eaad-438e-ac9d-7777242d3ee9",
   "metadata": {},
   "outputs": [],
   "source": [
    "class MaxAlgorithm:\n",
    "    def __init__(self, ns):\n",
    "        self.nums = ns\n",
    "        self.maxNum = 0\n",
    "\n",
    "    def getMaxNum(self):\n",
    "        self.maxNum = self.nums[0]\n",
    "\n",
    "        for n in self.nums:\n",
    "            if self.maxNum < n:\n",
    "                self.maxNum = n\n",
    "\n",
    "        return self.maxNum"
   ]
  },
  {
   "cell_type": "code",
   "execution_count": 2,
   "id": "8ca09498-a34d-4849-b3ad-97ef4f59f2ff",
   "metadata": {},
   "outputs": [
    {
     "name": "stdout",
     "output_type": "stream",
     "text": [
      "maxNum : 20\n"
     ]
    }
   ],
   "source": [
    "ma = MaxAlgorithm([-2, -4, 5, 7, 10, 0, 8, 20, -11])\n",
    "maxNum = ma.getMaxNum()\n",
    "print(f'maxNum : {maxNum}')"
   ]
  }
 ],
 "metadata": {
  "kernelspec": {
   "display_name": "Python 3 (ipykernel)",
   "language": "python",
   "name": "python3"
  },
  "language_info": {
   "codemirror_mode": {
    "name": "ipython",
    "version": 3
   },
   "file_extension": ".py",
   "mimetype": "text/x-python",
   "name": "python",
   "nbconvert_exporter": "python",
   "pygments_lexer": "ipython3",
   "version": "3.9.7"
  }
 },
 "nbformat": 4,
 "nbformat_minor": 5
}
