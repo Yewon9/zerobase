{
  "nbformat": 4,
  "nbformat_minor": 0,
  "metadata": {
    "colab": {
      "provenance": []
    },
    "kernelspec": {
      "name": "python3",
      "display_name": "Python 3"
    },
    "language_info": {
      "name": "python"
    }
  },
  "cells": [
    {
      "cell_type": "markdown",
      "source": [
        "국어, 영어, 수학 점수 입력 후 총점, 평균, 최고점수 과목, 최저점수 과목, 그리고 최고 점수와 최저 점수의 차이를 각각 출력해보자."
      ],
      "metadata": {
        "id": "KfZtGzqtXYJM"
      }
    },
    {
      "cell_type": "code",
      "source": [
        "korScore = int(input('국어 점수 입력 : '))\n",
        "engScore = int(input('영어 점수 입력 : '))\n",
        "mathScore = int(input('수학 점수 입력 : '))\n",
        "\n",
        "totalScore = korScore + engScore + mathScore\n",
        "avgScore = totalScore / 3\n",
        "\n",
        "maxScore = korScore\n",
        "maxSubject = '국어'\n",
        "if engScore > maxScore:\n",
        "  maxScore = engScore\n",
        "  maxSubject = '영어'\n",
        "\n",
        "if mathScore > maxScore:\n",
        "  maxScore = mathScore\n",
        "  maxSubject = '수학'\n",
        "\n",
        "minScore = korScore\n",
        "minSubject = '국어'\n",
        "if engScore < minScore:\n",
        "  minScore = engScore\n",
        "  minSubject = '영어'\n",
        "\n",
        "if mathScore < minScore:\n",
        "  minScore = mathScore\n",
        "  minSubject = '수학'\n",
        "\n",
        "difScore = maxScore - minScore\n",
        "\n",
        "print('총점 : {}'.format(totalScore))\n",
        "print('평균 : %.2f' % avgScore)\n",
        "print('-' * 30)\n",
        "print('최고 점수 과목(점수) : {}({})'.format(maxSubject, maxScore))\n",
        "print('최저 점수 과목(점수) : {}({})'.format(minSubject, minScore))\n",
        "print('최고, 최저 점수 차이 : {}'.format(difScore))\n",
        "print('-' * 30)"
      ],
      "metadata": {
        "colab": {
          "base_uri": "https://localhost:8080/"
        },
        "id": "HBrr5AQrXboh",
        "outputId": "f92b4fe8-1a9f-4ac4-9fd6-2e2234003e5c"
      },
      "execution_count": 17,
      "outputs": [
        {
          "output_type": "stream",
          "name": "stdout",
          "text": [
            "국어 점수 입력 : 84\n",
            "영어 점수 입력 : 90\n",
            "수학 점수 입력 : 79\n",
            "총점 : 253\n",
            "평균 : 84.33\n",
            "------------------------------\n",
            "최고 점수 과목(점수) : 영어(90)\n",
            "최저 점수 과목(점수) : 수학(79)\n",
            "최고, 최저 점수 차이 : 11\n",
            "------------------------------\n"
          ]
        }
      ]
    }
  ]
}