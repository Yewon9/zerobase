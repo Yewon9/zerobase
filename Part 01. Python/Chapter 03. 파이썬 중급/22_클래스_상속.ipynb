{
  "nbformat": 4,
  "nbformat_minor": 0,
  "metadata": {
    "colab": {
      "provenance": []
    },
    "kernelspec": {
      "name": "python3",
      "display_name": "Python 3"
    },
    "language_info": {
      "name": "python"
    }
  },
  "cells": [
    {
      "cell_type": "markdown",
      "source": [
        "덧셈, 뺄셈 기능이 있는 클래스를 만들고, 이를 상속하는 클래스를 만들어서 곱셈과 나눗셈 기능을 추가해보자."
      ],
      "metadata": {
        "id": "iJPufh8qCaGz"
      }
    },
    {
      "cell_type": "code",
      "source": [
        "class CalculatorSuper:\n",
        "\n",
        "  def add(self, n1, n2):\n",
        "    return n1 + n2\n",
        "\n",
        "  def sub(self, n1, n2):\n",
        "    return n1 - n2"
      ],
      "metadata": {
        "id": "fNZ5lDOyCf0p"
      },
      "execution_count": 4,
      "outputs": []
    },
    {
      "cell_type": "code",
      "source": [
        "class CalculatorChild(CalculatorSuper):\n",
        "\n",
        "  def mul(self, n1, n2):\n",
        "    return n1 * n2\n",
        "\n",
        "  def div(self, n1, n2):\n",
        "    return n1 / n2"
      ],
      "metadata": {
        "id": "s2joRc4ACl1E"
      },
      "execution_count": 5,
      "outputs": []
    },
    {
      "cell_type": "code",
      "source": [
        "cal = CalculatorChild()\n",
        "\n",
        "print(f'cal.add(10, 20): {cal.add(10, 20)}')\n",
        "print(f'cal.sub(10, 20): {cal.sub(10, 20)}')\n",
        "print(f'cal.mul(10, 20): {cal.mul(10, 20)}')\n",
        "print(f'cal.div(10, 20): {cal.div(10, 20)}')"
      ],
      "metadata": {
        "colab": {
          "base_uri": "https://localhost:8080/"
        },
        "id": "lcSE3IhECwgs",
        "outputId": "493786ac-ad64-47c0-8bad-a68f56c85e36"
      },
      "execution_count": 6,
      "outputs": [
        {
          "output_type": "stream",
          "name": "stdout",
          "text": [
            "cal.add(10, 20): 30\n",
            "cal.sub(10, 20): -10\n",
            "cal.mul(10, 20): 200\n",
            "cal.div(10, 20): 0.5\n"
          ]
        }
      ]
    }
  ]
}