{
  "nbformat": 4,
  "nbformat_minor": 0,
  "metadata": {
    "colab": {
      "provenance": []
    },
    "kernelspec": {
      "name": "python3",
      "display_name": "Python 3"
    },
    "language_info": {
      "name": "python"
    }
  },
  "cells": [
    {
      "cell_type": "markdown",
      "source": [
        "1부터 사용자가 입력한 정수까지의 합, 홀수의 합, 짝수의 합 그리고 팩토리얼을 출력하는 프로그램을 만들어보자."
      ],
      "metadata": {
        "id": "KfZtGzqtXYJM"
      }
    },
    {
      "cell_type": "code",
      "source": [
        "fNum = int(input('정수 입력 : '))\n",
        "\n",
        "addSum = 0\n",
        "for i in range(1, (fNum + 1)):\n",
        "  addSum += i\n",
        "\n",
        "addSumFormated = format(addSum, ',')\n",
        "print('합 결과 : {}'.format(addSumFormated))\n",
        "\n",
        "oddSum = 0\n",
        "for i in range(1, (fNum + 1)):\n",
        "  if i % 2 != 0:\n",
        "    oddSum += i\n",
        "\n",
        "oddSumFormated = format(oddSum, ',')\n",
        "print('합 결과 : {}'.format(oddSumFormated))\n",
        "\n",
        "evenSum = 0\n",
        "for i in range(1, (fNum + 1)):\n",
        "  if i % 2 == 0:\n",
        "    evenSum += i\n",
        "\n",
        "evenSumFormated = format(evenSum, ',')\n",
        "print('합 결과 : {}'.format(evenSumFormated))\n",
        "\n",
        "factorialResult = 1\n",
        "for i in range(1, (fNum + 1)):\n",
        "  factorialResult *= i\n",
        "\n",
        "factorialResultFormated = format(factorialResult, ',')\n",
        "print('합 결과 : {}'.format(factorialResultFormated))"
      ],
      "metadata": {
        "colab": {
          "base_uri": "https://localhost:8080/"
        },
        "id": "aUu0m3eIchWl",
        "outputId": "488f5067-f2b6-4402-d2e6-6d72f78d5db5"
      },
      "execution_count": 16,
      "outputs": [
        {
          "output_type": "stream",
          "name": "stdout",
          "text": [
            "정수 입력 : 10\n",
            "합 결과 : 55\n",
            "합 결과 : 25\n",
            "합 결과 : 30\n",
            "합 결과 : 3,628,800\n"
          ]
        }
      ]
    }
  ]
}