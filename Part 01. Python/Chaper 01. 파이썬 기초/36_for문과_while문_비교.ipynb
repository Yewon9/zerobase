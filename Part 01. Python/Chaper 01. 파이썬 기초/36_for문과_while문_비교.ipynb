{
  "nbformat": 4,
  "nbformat_minor": 0,
  "metadata": {
    "colab": {
      "provenance": []
    },
    "kernelspec": {
      "name": "python3",
      "display_name": "Python 3"
    },
    "language_info": {
      "name": "python"
    }
  },
  "cells": [
    {
      "cell_type": "markdown",
      "source": [
        "다음 반복 실행을 위해서 for문과 while문 중 가장 적합한 구문을 이용해서 프로그램을 만들어 보자. \\\n",
        "자동차 바퀴가 한 번 구를 때마다 0.15mm씩 마모된다고 한다. \\\n",
        "현재의 바퀴 두께가 30mm이고 최소 운행 가능 바퀴 두께가 20mm라고 할 때 앞으로 구를 수 있는 횟수를 구해보자."
      ],
      "metadata": {
        "id": "JtXFlTtmPilK"
      }
    },
    {
      "cell_type": "code",
      "source": [
        "currentThickness = 30\n",
        "rotationCount = 0\n",
        "removeThickness = 0.15\n",
        "\n",
        "while currentThickness >= 20:\n",
        "  rotationCount += 1\n",
        "  currentThickness -= removeThickness\n",
        "\n",
        "safeRotationCount = rotationCount - 1\n",
        "print('운행 가능 횟수 : {}'.format(safeRotationCount))"
      ],
      "metadata": {
        "colab": {
          "base_uri": "https://localhost:8080/"
        },
        "id": "m0IpjVgYPpDC",
        "outputId": "2a8406f1-176e-4e65-b4f2-e4df490963a7"
      },
      "execution_count": 19,
      "outputs": [
        {
          "output_type": "stream",
          "name": "stdout",
          "text": [
            "운행 가능 횟수 : 66\n"
          ]
        }
      ]
    }
  ]
}