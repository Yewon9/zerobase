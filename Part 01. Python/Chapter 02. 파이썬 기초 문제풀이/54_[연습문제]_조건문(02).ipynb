{
  "nbformat": 4,
  "nbformat_minor": 0,
  "metadata": {
    "colab": {
      "provenance": []
    },
    "kernelspec": {
      "name": "python3",
      "display_name": "Python 3"
    },
    "language_info": {
      "name": "python"
    }
  },
  "cells": [
    {
      "cell_type": "markdown",
      "source": [
        "국어, 영어, 수학, 과학, 국사 점수를 입력하면 총점을 비롯한 각종 데이터가 출력되는 프로그램을 만들어보자."
      ],
      "metadata": {
        "id": "KfZtGzqtXYJM"
      }
    },
    {
      "cell_type": "code",
      "source": [
        "korAvg = 85; engAvg = 82; matAvg = 89\n",
        "sciAvg = 75; hisAvg = 94\n",
        "totalAvg = korAvg + engAvg + matAvg + sciAvg + hisAvg\n",
        "avgAvg = int(totalAvg / 5)\n",
        "\n",
        "korScore = int(input('국어 점수 : '))\n",
        "engScore = int(input('영어 점수 : '))\n",
        "matScore = int(input('수학 점수 : '))\n",
        "sciScore = int(input('과학 점수 : '))\n",
        "hisScore = int(input('국사 점수 : '))\n",
        "\n",
        "totalScore = korScore + engScore + matScore + sciScore + hisScore\n",
        "avgScore = int(totalScore / 5)\n",
        "\n",
        "korGap = korScore - korAvg\n",
        "engGap = engScore - engAvg\n",
        "matGap = matScore - matAvg\n",
        "sciGap = sciScore - sciAvg\n",
        "hisGap = hisScore - hisAvg\n",
        "\n",
        "totalGap = totalScore - totalAvg\n",
        "avgGap = avgScore - avgAvg\n",
        "\n",
        "print('-' * 70)\n",
        "print('총점 : {}({}), 평균 : {}({})'.format(totalScore, totalGap, avgScore, avgGap))\n",
        "print('국어 : {}({}), 영어 : {}({}), 수학 : {}({}), 과학 : {}({}), 국사 : {}({})'.format(korScore, korGap, engScore, engGap, matScore, matGap, sciScore, sciGap, hisScore, hisGap))\n",
        "print('-' * 70)\n",
        "str = '+' if korGap > 0 else '-'\n",
        "print('국어 편차 : {}({})'.format(str * abs(korGap), korGap))\n",
        "str = '+' if engGap > 0 else '-'\n",
        "print('영어 편차 : {}({})'.format(str * abs(engGap), engGap))\n",
        "str = '+' if matGap > 0 else '-'\n",
        "print('수학 편차 : {}({})'.format(str * abs(matGap), matGap))\n",
        "str = '+' if sciGap > 0 else '-'\n",
        "print('과학 편차 : {}({})'.format(str * abs(sciGap), sciGap))\n",
        "str = '+' if hisGap > 0 else '-'\n",
        "print('국사 편차 : {}({})'.format(str * abs(hisGap), hisGap))\n",
        "str = '+' if totalGap > 0 else '-'\n",
        "print('총점 편차 : {}({})'.format(str * abs(totalGap), totalGap))\n",
        "str = '+' if avgGap > 0 else '-'\n",
        "print('평균 편차 : {}({})'.format(str * abs(avgGap), avgGap))\n",
        "print('-' * 70)"
      ],
      "metadata": {
        "colab": {
          "base_uri": "https://localhost:8080/"
        },
        "id": "HBrr5AQrXboh",
        "outputId": "b5c98486-1df1-41f7-c983-a15542b379ec"
      },
      "execution_count": 31,
      "outputs": [
        {
          "output_type": "stream",
          "name": "stdout",
          "text": [
            "국어 점수 : 95\n",
            "영어 점수 : 81\n",
            "수학 점수 : 100\n",
            "과학 점수 : 51\n",
            "국사 점수 : 67\n",
            "----------------------------------------------------------------------\n",
            "총점 : 394(-31), 평균 : 78(-7)\n",
            "국어 : 95(10), 영어 : 81(-1), 수학 : 100(11), 과학 : 51(-24), 국사 : 67(-27)\n",
            "----------------------------------------------------------------------\n",
            "국어 편차 : ++++++++++(10)\n",
            "영어 편차 : -(-1)\n",
            "수학 편차 : +++++++++++(11)\n",
            "과학 편차 : ------------------------(-24)\n",
            "국사 편차 : ---------------------------(-27)\n",
            "총점 편차 : -------------------------------(-31)\n",
            "평균 편차 : -------(-7)\n",
            "----------------------------------------------------------------------\n"
          ]
        }
      ]
    }
  ]
}