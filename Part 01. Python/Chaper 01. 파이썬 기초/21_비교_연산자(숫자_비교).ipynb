{
  "nbformat": 4,
  "nbformat_minor": 0,
  "metadata": {
    "colab": {
      "provenance": []
    },
    "kernelspec": {
      "name": "python3",
      "display_name": "Python 3"
    },
    "language_info": {
      "name": "python"
    }
  },
  "cells": [
    {
      "cell_type": "markdown",
      "source": [
        "숫자 두 개를 입력한 후 비교 연산 결과를 출력하는 코드를 작성하자."
      ],
      "metadata": {
        "id": "EzdroG-H4Ge7"
      }
    },
    {
      "cell_type": "code",
      "execution_count": 22,
      "metadata": {
        "colab": {
          "base_uri": "https://localhost:8080/"
        },
        "id": "1sHJLeQ130Et",
        "outputId": "84cd9a07-f67f-4095-bc66-a0590888c86a"
      },
      "outputs": [
        {
          "output_type": "stream",
          "name": "stdout",
          "text": [
            "첫 번째 숫자 입력 : 10\n",
            "두 번째 숫자 입력 : 5\n",
            "10 > 5 : True\n",
            "10 >= 5 : True\n",
            "10 < 5 : False\n",
            "10 <= 5 : False\n",
            "10 == 5 : False\n",
            "10 != 5 : True\n"
          ]
        }
      ],
      "source": [
        "userInputNumber1 = int(input('첫 번째 숫자 입력 : '))\n",
        "userInputNumber2 = int(input('두 번째 숫자 입력 : '))\n",
        "\n",
        "print('{} > {} : {}'.format(userInputNumber1, userInputNumber2, (userInputNumber1 > userInputNumber2)))\n",
        "print('{} >= {} : {}'.format(userInputNumber1, userInputNumber2, (userInputNumber1 >= userInputNumber2)))\n",
        "print('{} < {} : {}'.format(userInputNumber1, userInputNumber2, (userInputNumber1 < userInputNumber2)))\n",
        "print('{} <= {} : {}'.format(userInputNumber1, userInputNumber2, (userInputNumber1 <= userInputNumber2)))\n",
        "print('{} == {} : {}'.format(userInputNumber1, userInputNumber2, (userInputNumber1 == userInputNumber2)))\n",
        "print('{} != {} : {}'.format(userInputNumber1, userInputNumber2, (userInputNumber1 != userInputNumber2)))"
      ]
    },
    {
      "cell_type": "markdown",
      "source": [
        "자동차의 전장과 전폭을 입력하면 자동차 기계 세차 가능 여부를 출력하는 코드를 작성해 보자. \\\n",
        "(최대 전장 길이 : 5200mm, 최대 전폭 길이 : 1985mm)"
      ],
      "metadata": {
        "id": "19wWeJPuF_r8"
      }
    },
    {
      "cell_type": "code",
      "source": [
        "maxLength = 5200\n",
        "maxWidth = 1985\n",
        "\n",
        "myCarLength = int(input('전장 길이 입력 : '))\n",
        "myCarWidth = int(input('전폭 길이 입력 : '))\n",
        "\n",
        "print('전장 가능 여부 : {}'.format(myCarLength <= maxLength))\n",
        "print('전폭 가능 여부 : {}'.format(myCarWidth <= maxWidth))"
      ],
      "metadata": {
        "colab": {
          "base_uri": "https://localhost:8080/"
        },
        "id": "9qApyhdFGLYc",
        "outputId": "c2da5209-df30-40c2-a85b-dc961e55aac1"
      },
      "execution_count": 23,
      "outputs": [
        {
          "output_type": "stream",
          "name": "stdout",
          "text": [
            "전장 길이 입력 : 5201\n",
            "전폭 길이 입력 : 1985\n",
            "전장 가능 여부 : False\n",
            "전폭 가능 여부 : True\n"
          ]
        }
      ]
    }
  ]
}
