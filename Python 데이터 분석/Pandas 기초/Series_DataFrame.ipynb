{
 "cells": [
  {
   "cell_type": "code",
   "execution_count": 2,
   "id": "7e99648d-3992-4d41-8962-e16fd8594027",
   "metadata": {},
   "outputs": [],
   "source": [
    "import pandas as pd\n",
    "import numpy as np\n",
    "import random\n",
    "from faker import Faker"
   ]
  },
  {
   "cell_type": "markdown",
   "id": "80a36eb6-a1d0-4fa5-9cd1-ae19b220165b",
   "metadata": {},
   "source": [
    "# Series 만들기"
   ]
  },
  {
   "cell_type": "code",
   "execution_count": 3,
   "id": "9db897de-2365-4f19-92f1-66b3b3899b21",
   "metadata": {},
   "outputs": [
    {
     "name": "stdout",
     "output_type": "stream",
     "text": [
      "[0, 1, 2, 3, 4]\n",
      "['a', 'b', 'c', 'd', 'e']\n"
     ]
    }
   ],
   "source": [
    "values = list(range(5))\n",
    "index = [letter for letter in 'abcde']\n",
    "\n",
    "print(values)\n",
    "print(index)"
   ]
  },
  {
   "cell_type": "code",
   "execution_count": 4,
   "id": "a696d80b-babe-46fd-a0d6-01542bdb7379",
   "metadata": {},
   "outputs": [
    {
     "data": {
      "text/plain": [
       "a    0\n",
       "b    1\n",
       "c    2\n",
       "d    3\n",
       "e    4\n",
       "dtype: int64"
      ]
     },
     "execution_count": 4,
     "metadata": {},
     "output_type": "execute_result"
    }
   ],
   "source": [
    "series = pd.Series(values, index = index)\n",
    "series"
   ]
  },
  {
   "cell_type": "code",
   "execution_count": 5,
   "id": "2cb5ec74-7b42-4962-a50a-9ad104c2ece2",
   "metadata": {},
   "outputs": [
    {
     "data": {
      "text/plain": [
       "a     True\n",
       "b    False\n",
       "c    False\n",
       "d    False\n",
       "e    False\n",
       "dtype: bool"
      ]
     },
     "execution_count": 5,
     "metadata": {},
     "output_type": "execute_result"
    }
   ],
   "source": [
    "values[0] == series"
   ]
  },
  {
   "cell_type": "code",
   "execution_count": 6,
   "id": "65e29eb4-546f-4861-ae2e-e94e14ad9a2d",
   "metadata": {},
   "outputs": [
    {
     "data": {
      "text/plain": [
       "{'a': 0, 'b': 1, 'c': 2, 'd': 3, 'e': 4}"
      ]
     },
     "execution_count": 6,
     "metadata": {},
     "output_type": "execute_result"
    }
   ],
   "source": [
    "py_dict = dict(zip(index, values))\n",
    "py_dict"
   ]
  },
  {
   "cell_type": "code",
   "execution_count": 7,
   "id": "8c09dcc2-a386-4e14-a54d-892863a0908a",
   "metadata": {},
   "outputs": [
    {
     "data": {
      "text/plain": [
       "a    0\n",
       "b    1\n",
       "c    2\n",
       "d    3\n",
       "e    4\n",
       "dtype: int64"
      ]
     },
     "execution_count": 7,
     "metadata": {},
     "output_type": "execute_result"
    }
   ],
   "source": [
    "series_dict = pd.Series(py_dict)\n",
    "series_dict"
   ]
  },
  {
   "cell_type": "code",
   "execution_count": 8,
   "id": "fa070dcb-b0a4-4fac-b484-389c26476719",
   "metadata": {},
   "outputs": [
    {
     "data": {
      "text/plain": [
       "a    False\n",
       "b    False\n",
       "c    False\n",
       "d    False\n",
       "e    False\n",
       "dtype: bool"
      ]
     },
     "execution_count": 8,
     "metadata": {},
     "output_type": "execute_result"
    }
   ],
   "source": [
    "py_dict.values() == series_dict"
   ]
  },
  {
   "cell_type": "code",
   "execution_count": 9,
   "id": "f305df2d-df9b-469b-a16c-be8fa5245f68",
   "metadata": {},
   "outputs": [
    {
     "data": {
      "text/plain": [
       "a    True\n",
       "b    True\n",
       "c    True\n",
       "d    True\n",
       "e    True\n",
       "dtype: bool"
      ]
     },
     "execution_count": 9,
     "metadata": {},
     "output_type": "execute_result"
    }
   ],
   "source": [
    "list(py_dict.values()) == series_dict"
   ]
  },
  {
   "cell_type": "markdown",
   "id": "44d36b3e-3654-42be-9221-dba249200c75",
   "metadata": {},
   "source": [
    "# Series 인덱싱과 슬라이싱"
   ]
  },
  {
   "cell_type": "code",
   "execution_count": 10,
   "id": "5c777c9a-40f2-4b58-889f-b2ecfb745007",
   "metadata": {},
   "outputs": [],
   "source": [
    "random_seed = 42"
   ]
  },
  {
   "cell_type": "code",
   "execution_count": 11,
   "id": "b898c431-1915-467d-abf1-e04457fd7743",
   "metadata": {},
   "outputs": [],
   "source": [
    "fake = Faker('ko_KR')\n",
    "Faker.seed(random_seed)"
   ]
  },
  {
   "cell_type": "code",
   "execution_count": 12,
   "id": "348bfe32-7dcc-4875-8169-dceda20c7af1",
   "metadata": {},
   "outputs": [
    {
     "name": "stdout",
     "output_type": "stream",
     "text": [
      "['김수민', '서정남', '김영자', '김영일', '김재호', '김은서', '김지원', '이민지', '이미숙', '홍예준']\n",
      "[42, 42, 43, 49, 25, 30, 45, 40, 41, 35]\n",
      "['A', 'B', 'C', 'D', 'E', 'F', 'G', 'H', 'I', 'J']\n"
     ]
    }
   ],
   "source": [
    "names = [fake.name() for _ in range(10)]\n",
    "ages = [random.randint(25, 50) for _ in range(10)]\n",
    "index = [chr(ord('A') + i) for i in range(10)]\n",
    "\n",
    "print(names)\n",
    "print(ages)\n",
    "print(index)"
   ]
  },
  {
   "cell_type": "code",
   "execution_count": 13,
   "id": "ced4125d-1e06-471b-aa77-ced305f3944b",
   "metadata": {},
   "outputs": [
    {
     "data": {
      "text/plain": [
       "A    김수민\n",
       "B    서정남\n",
       "C    김영자\n",
       "D    김영일\n",
       "E    김재호\n",
       "F    김은서\n",
       "G    김지원\n",
       "H    이민지\n",
       "I    이미숙\n",
       "J    홍예준\n",
       "dtype: object"
      ]
     },
     "execution_count": 13,
     "metadata": {},
     "output_type": "execute_result"
    }
   ],
   "source": [
    "ns = pd.Series(names, index = index)\n",
    "ns"
   ]
  },
  {
   "cell_type": "code",
   "execution_count": 14,
   "id": "5634dc1b-b0f6-4f45-973a-27bc9fe03e8b",
   "metadata": {},
   "outputs": [
    {
     "name": "stdout",
     "output_type": "stream",
     "text": [
      "ns[2] :  김영자\n",
      "ns['D'] :  김영일\n",
      "ns.loc['D'] :  김영일\n",
      "ns.iloc[2] :  김영자\n",
      "ns.at['D'] :  김영일\n",
      "ns.iat[2] :  김영자\n"
     ]
    },
    {
     "name": "stderr",
     "output_type": "stream",
     "text": [
      "C:\\Users\\laura\\AppData\\Local\\Temp\\ipykernel_17232\\2933955269.py:1: FutureWarning: Series.__getitem__ treating keys as positions is deprecated. In a future version, integer keys will always be treated as labels (consistent with DataFrame behavior). To access a value by position, use `ser.iloc[pos]`\n",
      "  print('ns[2] : ', ns[2])\n"
     ]
    }
   ],
   "source": [
    "print('ns[2] : ', ns[2])\n",
    "print(\"ns['D'] : \", ns['D'])\n",
    "\n",
    "print(\"ns.loc['D'] : \", ns.loc['D'])\n",
    "print(\"ns.iloc[2] : \", ns.iloc[2])\n",
    "\n",
    "print(\"ns.at['D'] : \", ns.at['D'])\n",
    "print(\"ns.iat[2] : \", ns.iat[2])"
   ]
  },
  {
   "cell_type": "code",
   "execution_count": 15,
   "id": "b1029a52-53fc-4983-a9c3-a70dd96b8139",
   "metadata": {},
   "outputs": [
    {
     "data": {
      "text/plain": [
       "0    김수민\n",
       "2    서정남\n",
       "5    김영자\n",
       "dtype: object"
      ]
     },
     "metadata": {},
     "output_type": "display_data"
    },
    {
     "name": "stdout",
     "output_type": "stream",
     "text": [
      "tmp[0] :  김수민\n",
      "tmp.loc[2] :  서정남\n",
      "tmp.iloc[2] :  김영자\n",
      "tmp[2] :  서정남\n"
     ]
    }
   ],
   "source": [
    "tmp = pd.Series(names[:3], index = [0, 2, 5])\n",
    "display(tmp)\n",
    "print('tmp[0] : ', tmp[0])\n",
    "print('tmp.loc[2] : ', tmp.loc[2])\n",
    "print('tmp.iloc[2] : ', tmp.iloc[2])\n",
    "print('tmp[2] : ', tmp[2])"
   ]
  },
  {
   "cell_type": "code",
   "execution_count": 16,
   "id": "aa484a93-edd2-47a9-baf3-01df79f09db8",
   "metadata": {},
   "outputs": [
    {
     "data": {
      "text/plain": [
       "B    서정남\n",
       "C    김영자\n",
       "D    김영일\n",
       "E    김재호\n",
       "dtype: object"
      ]
     },
     "execution_count": 16,
     "metadata": {},
     "output_type": "execute_result"
    }
   ],
   "source": [
    "ns.loc['B':'E']"
   ]
  },
  {
   "cell_type": "code",
   "execution_count": 17,
   "id": "d5564084-b874-4311-8684-d49a319a6152",
   "metadata": {},
   "outputs": [
    {
     "data": {
      "text/plain": [
       "B    서정남\n",
       "C    김영자\n",
       "D    김영일\n",
       "E    김재호\n",
       "dtype: object"
      ]
     },
     "execution_count": 17,
     "metadata": {},
     "output_type": "execute_result"
    }
   ],
   "source": [
    "ns.iloc[1:5]"
   ]
  },
  {
   "cell_type": "markdown",
   "id": "ae12f3e2-30f3-458d-baf7-bfd6b12d64b1",
   "metadata": {},
   "source": [
    "# Series 속성"
   ]
  },
  {
   "cell_type": "code",
   "execution_count": 18,
   "id": "e37772f9-3438-4e19-81a2-17b062f3f79d",
   "metadata": {},
   "outputs": [
    {
     "data": {
      "text/plain": [
       "A    김수민\n",
       "B    서정남\n",
       "C    김영자\n",
       "D    김영일\n",
       "E    김재호\n",
       "F    김은서\n",
       "G    김지원\n",
       "H    이민지\n",
       "I    이미숙\n",
       "J    홍예준\n",
       "dtype: object"
      ]
     },
     "execution_count": 18,
     "metadata": {},
     "output_type": "execute_result"
    }
   ],
   "source": [
    "ns"
   ]
  },
  {
   "cell_type": "code",
   "execution_count": 19,
   "id": "371c5a7a-cbf8-4064-bd96-c3658d95a116",
   "metadata": {},
   "outputs": [
    {
     "data": {
      "text/plain": [
       "Index(['A', 'B', 'C', 'D', 'E', 'F', 'G', 'H', 'I', 'J'], dtype='object')"
      ]
     },
     "execution_count": 19,
     "metadata": {},
     "output_type": "execute_result"
    }
   ],
   "source": [
    "ns.index"
   ]
  },
  {
   "cell_type": "code",
   "execution_count": 20,
   "id": "df19a7ed-246b-4892-8a1d-09574d5f89bf",
   "metadata": {},
   "outputs": [
    {
     "data": {
      "text/plain": [
       "array(['김수민', '서정남', '김영자', '김영일', '김재호', '김은서', '김지원', '이민지', '이미숙',\n",
       "       '홍예준'], dtype=object)"
      ]
     },
     "execution_count": 20,
     "metadata": {},
     "output_type": "execute_result"
    }
   ],
   "source": [
    "ns.values"
   ]
  },
  {
   "cell_type": "code",
   "execution_count": 21,
   "id": "7d643bfd-3e7d-434e-b7be-38d02352a0b1",
   "metadata": {},
   "outputs": [
    {
     "data": {
      "text/plain": [
       "dtype('O')"
      ]
     },
     "execution_count": 21,
     "metadata": {},
     "output_type": "execute_result"
    }
   ],
   "source": [
    "ns.dtype"
   ]
  },
  {
   "cell_type": "code",
   "execution_count": 22,
   "id": "8d3e10bb-027c-48fb-a3f6-0620712df05a",
   "metadata": {},
   "outputs": [
    {
     "data": {
      "text/plain": [
       "(10,)"
      ]
     },
     "execution_count": 22,
     "metadata": {},
     "output_type": "execute_result"
    }
   ],
   "source": [
    "ns.shape"
   ]
  },
  {
   "cell_type": "code",
   "execution_count": 23,
   "id": "a45179b3-da39-4d1e-b846-a3e6656bf926",
   "metadata": {},
   "outputs": [
    {
     "data": {
      "text/plain": [
       "10"
      ]
     },
     "execution_count": 23,
     "metadata": {},
     "output_type": "execute_result"
    }
   ],
   "source": [
    "ns.size"
   ]
  },
  {
   "cell_type": "code",
   "execution_count": 24,
   "id": "a97cf0fd-b55b-46c2-8c65-3f26b0ad7117",
   "metadata": {},
   "outputs": [
    {
     "data": {
      "text/plain": [
       "False"
      ]
     },
     "execution_count": 24,
     "metadata": {},
     "output_type": "execute_result"
    }
   ],
   "source": [
    "ns.hasnans"
   ]
  },
  {
   "cell_type": "code",
   "execution_count": 26,
   "id": "e44b4a47-8a34-46c1-b8b0-139f2c9f6589",
   "metadata": {},
   "outputs": [
    {
     "name": "stdout",
     "output_type": "stream",
     "text": [
      "A    NaN\n",
      "B    서정남\n",
      "C    김영자\n",
      "D    김영일\n",
      "E    김재호\n",
      "F    김은서\n",
      "G    김지원\n",
      "H    이민지\n",
      "I    이미숙\n",
      "J    홍예준\n",
      "dtype: object\n"
     ]
    },
    {
     "name": "stderr",
     "output_type": "stream",
     "text": [
      "C:\\Users\\laura\\AppData\\Local\\Temp\\ipykernel_17232\\1154971313.py:1: FutureWarning: Series.__setitem__ treating keys as positions is deprecated. In a future version, integer keys will always be treated as labels (consistent with DataFrame behavior). To set a value by position, use `ser.iloc[pos] = value`\n",
      "  ns[0] = np.nan\n"
     ]
    },
    {
     "data": {
      "text/plain": [
       "True"
      ]
     },
     "execution_count": 26,
     "metadata": {},
     "output_type": "execute_result"
    }
   ],
   "source": [
    "ns[0] = np.nan\n",
    "print(ns)\n",
    "ns.hasnans"
   ]
  },
  {
   "cell_type": "code",
   "execution_count": 27,
   "id": "1704d708-0256-450e-8e4f-45ad9069e77e",
   "metadata": {},
   "outputs": [
    {
     "data": {
      "text/plain": [
       "True"
      ]
     },
     "execution_count": 27,
     "metadata": {},
     "output_type": "execute_result"
    }
   ],
   "source": [
    "ns.is_unique"
   ]
  },
  {
   "cell_type": "code",
   "execution_count": 28,
   "id": "915a6be0-07f6-4ddb-a1dd-7e19e8f0d0fd",
   "metadata": {},
   "outputs": [
    {
     "name": "stdout",
     "output_type": "stream",
     "text": [
      "A    NaN\n",
      "B    서정남\n",
      "C    김영자\n",
      "D    김영일\n",
      "E    김재호\n",
      "F    김은서\n",
      "G    김지원\n",
      "H    이민지\n",
      "I    강상구\n",
      "J    강상구\n",
      "dtype: object\n"
     ]
    },
    {
     "data": {
      "text/plain": [
       "False"
      ]
     },
     "execution_count": 28,
     "metadata": {},
     "output_type": "execute_result"
    }
   ],
   "source": [
    "ns['I':'J'] = '강상구'\n",
    "print(ns)\n",
    "ns.is_unique"
   ]
  },
  {
   "cell_type": "code",
   "execution_count": 29,
   "id": "5666c33d-d790-4e0b-8e74-daa3d8fe23b4",
   "metadata": {},
   "outputs": [
    {
     "data": {
      "text/plain": [
       "A    NaN\n",
       "B    서정남\n",
       "C    김영자\n",
       "D    김영일\n",
       "E    김재호\n",
       "F    김은서\n",
       "G    김지원\n",
       "H    이민지\n",
       "I    강상구\n",
       "J    강상구\n",
       "Name: 시리즈 테스트 - 이름, dtype: object"
      ]
     },
     "execution_count": 29,
     "metadata": {},
     "output_type": "execute_result"
    }
   ],
   "source": [
    "ns.name = '시리즈 테스트 - 이름'\n",
    "ns"
   ]
  },
  {
   "cell_type": "markdown",
   "id": "17925aed-af16-419c-82c9-daa5516c3cf2",
   "metadata": {},
   "source": [
    "# Series 기능"
   ]
  },
  {
   "cell_type": "code",
   "execution_count": 30,
   "id": "771cb6f6-b991-4b17-9d35-52a9ce946c6c",
   "metadata": {},
   "outputs": [
    {
     "data": {
      "text/plain": [
       "A    NaN\n",
       "B    서정남\n",
       "C    김영자\n",
       "D    김영일\n",
       "E    김재호\n",
       "Name: 시리즈 테스트 - 이름, dtype: object"
      ]
     },
     "execution_count": 30,
     "metadata": {},
     "output_type": "execute_result"
    }
   ],
   "source": [
    "ns.head()"
   ]
  },
  {
   "cell_type": "code",
   "execution_count": 31,
   "id": "db53d202-85b9-41b7-8c50-4d6225791146",
   "metadata": {},
   "outputs": [
    {
     "data": {
      "text/plain": [
       "F    김은서\n",
       "G    김지원\n",
       "H    이민지\n",
       "I    강상구\n",
       "J    강상구\n",
       "Name: 시리즈 테스트 - 이름, dtype: object"
      ]
     },
     "execution_count": 31,
     "metadata": {},
     "output_type": "execute_result"
    }
   ],
   "source": [
    "ns.tail()"
   ]
  },
  {
   "cell_type": "code",
   "execution_count": 32,
   "id": "a83e0d7e-d50d-485f-b68c-56d1844ced9d",
   "metadata": {},
   "outputs": [
    {
     "data": {
      "text/plain": [
       "array([nan, '서정남', '김영자', '김영일', '김재호', '김은서', '김지원', '이민지', '강상구'],\n",
       "      dtype=object)"
      ]
     },
     "execution_count": 32,
     "metadata": {},
     "output_type": "execute_result"
    }
   ],
   "source": [
    "ns.unique()"
   ]
  },
  {
   "cell_type": "code",
   "execution_count": 34,
   "id": "8709ce4c-1df5-4dd8-9911-25fd9aa0475d",
   "metadata": {},
   "outputs": [
    {
     "data": {
      "text/plain": [
       "A    False\n",
       "B    False\n",
       "C    False\n",
       "D    False\n",
       "E    False\n",
       "F    False\n",
       "G    False\n",
       "H    False\n",
       "I     True\n",
       "J    False\n",
       "Name: 시리즈 테스트 - 이름, dtype: bool"
      ]
     },
     "execution_count": 34,
     "metadata": {},
     "output_type": "execute_result"
    }
   ],
   "source": [
    "ns.duplicated(keep = 'last')"
   ]
  },
  {
   "cell_type": "code",
   "execution_count": 39,
   "id": "f83d989a-972d-4259-8e3e-5d3b7ea1c321",
   "metadata": {},
   "outputs": [
    {
     "data": {
      "text/plain": [
       "시리즈 테스트 - 이름\n",
       "NaN    0.1\n",
       "서정남    0.1\n",
       "김영자    0.1\n",
       "김영일    0.1\n",
       "김재호    0.1\n",
       "김은서    0.1\n",
       "김지원    0.1\n",
       "이민지    0.1\n",
       "강상구    0.2\n",
       "Name: proportion, dtype: float64"
      ]
     },
     "execution_count": 39,
     "metadata": {},
     "output_type": "execute_result"
    }
   ],
   "source": [
    "ns.value_counts(normalize = True, dropna = False, ascending = True)"
   ]
  },
  {
   "cell_type": "code",
   "execution_count": 43,
   "id": "682b4b74-589c-46fd-849c-7a569433f96d",
   "metadata": {},
   "outputs": [
    {
     "data": {
      "text/plain": [
       "A    NaN\n",
       "B    서정남\n",
       "C    김영자\n",
       "D    김영일\n",
       "E    김재호\n",
       "F    김은서\n",
       "G    김지원\n",
       "H    이민지\n",
       "I    강상구\n",
       "J    강상구\n",
       "Name: 시리즈 테스트 - 이름, dtype: object"
      ]
     },
     "metadata": {},
     "output_type": "display_data"
    },
    {
     "data": {
      "text/plain": [
       "A    NaN\n",
       "I    강상구\n",
       "J    강상구\n",
       "D    김영일\n",
       "C    김영자\n",
       "F    김은서\n",
       "E    김재호\n",
       "G    김지원\n",
       "B    서정남\n",
       "H    이민지\n",
       "Name: 시리즈 테스트 - 이름, dtype: object"
      ]
     },
     "metadata": {},
     "output_type": "display_data"
    }
   ],
   "source": [
    "display(ns)\n",
    "sorted_ns = ns.sort_values(na_position = 'first')\n",
    "display(sorted_ns)"
   ]
  },
  {
   "cell_type": "code",
   "execution_count": 44,
   "id": "ecf2e052-e5e3-426c-85f8-391f660a070b",
   "metadata": {},
   "outputs": [
    {
     "data": {
      "text/plain": [
       "count       9\n",
       "unique      8\n",
       "top       강상구\n",
       "freq        2\n",
       "Name: 시리즈 테스트 - 이름, dtype: object"
      ]
     },
     "execution_count": 44,
     "metadata": {},
     "output_type": "execute_result"
    }
   ],
   "source": [
    "ns.describe()"
   ]
  },
  {
   "cell_type": "code",
   "execution_count": 46,
   "id": "96f4b597-8ea1-4ec5-9d90-7d21caa31cc7",
   "metadata": {},
   "outputs": [
    {
     "data": {
      "text/plain": [
       "A    42\n",
       "B    42\n",
       "C    43\n",
       "D    49\n",
       "E    25\n",
       "F    30\n",
       "G    45\n",
       "H    40\n",
       "I    41\n",
       "J    35\n",
       "dtype: int64"
      ]
     },
     "execution_count": 46,
     "metadata": {},
     "output_type": "execute_result"
    }
   ],
   "source": [
    "ages_sr = pd.Series(ages, index = index)\n",
    "ages_sr"
   ]
  },
  {
   "cell_type": "code",
   "execution_count": 48,
   "id": "95d6628f-e366-4926-8b8b-aa6f8c61e6f3",
   "metadata": {},
   "outputs": [
    {
     "data": {
      "text/plain": [
       "array([25, 30, 35, 40, 41, 42, 42, 43, 45, 49])"
      ]
     },
     "execution_count": 48,
     "metadata": {},
     "output_type": "execute_result"
    }
   ],
   "source": [
    "ages_sr.sort_values().values"
   ]
  },
  {
   "cell_type": "code",
   "execution_count": 47,
   "id": "6130390c-92e6-4724-a044-f63ef09b03da",
   "metadata": {},
   "outputs": [
    {
     "data": {
      "text/plain": [
       "count    10.00000\n",
       "mean     39.20000\n",
       "std       7.20802\n",
       "min      25.00000\n",
       "25%      36.25000\n",
       "50%      41.50000\n",
       "75%      42.75000\n",
       "max      49.00000\n",
       "dtype: float64"
      ]
     },
     "execution_count": 47,
     "metadata": {},
     "output_type": "execute_result"
    }
   ],
   "source": [
    "ages_sr.describe()"
   ]
  },
  {
   "cell_type": "code",
   "execution_count": 49,
   "id": "f1ba2ce4-cc1d-4a2b-a029-d5a9c7248ad8",
   "metadata": {},
   "outputs": [
    {
     "data": {
      "text/plain": [
       "A    42\n",
       "B    42\n",
       "C    43\n",
       "D    49\n",
       "E    25\n",
       "F    30\n",
       "G    45\n",
       "H    40\n",
       "I    41\n",
       "J    35\n",
       "dtype: int64"
      ]
     },
     "execution_count": 49,
     "metadata": {},
     "output_type": "execute_result"
    }
   ],
   "source": [
    "ages_sr"
   ]
  },
  {
   "cell_type": "code",
   "execution_count": 50,
   "id": "340b4fea-3fe9-4eaa-a3c6-12542ac6bf8d",
   "metadata": {},
   "outputs": [
    {
     "data": {
      "text/plain": [
       "'D'"
      ]
     },
     "execution_count": 50,
     "metadata": {},
     "output_type": "execute_result"
    }
   ],
   "source": [
    "ages_sr.idxmax()"
   ]
  },
  {
   "cell_type": "code",
   "execution_count": 51,
   "id": "f1a4d2d8-bb5a-461e-914d-4e3879dfc4b1",
   "metadata": {},
   "outputs": [
    {
     "data": {
      "text/plain": [
       "'A'"
      ]
     },
     "execution_count": 51,
     "metadata": {},
     "output_type": "execute_result"
    }
   ],
   "source": [
    "ages_sr['A'] = 49\n",
    "ages_sr.idxmax()"
   ]
  },
  {
   "cell_type": "code",
   "execution_count": 54,
   "id": "b5a9ce6f-4b43-4d8b-b4a6-8d28668bff56",
   "metadata": {},
   "outputs": [
    {
     "data": {
      "text/plain": [
       "A    False\n",
       "B    False\n",
       "C    False\n",
       "D    False\n",
       "E     True\n",
       "F    False\n",
       "G    False\n",
       "H     True\n",
       "I    False\n",
       "J    False\n",
       "dtype: bool"
      ]
     },
     "execution_count": 54,
     "metadata": {},
     "output_type": "execute_result"
    }
   ],
   "source": [
    "ages_sr.isin([25, 50, 40])"
   ]
  },
  {
   "cell_type": "code",
   "execution_count": 55,
   "id": "af01d93b-d349-414a-b8cc-822a9703d111",
   "metadata": {},
   "outputs": [
    {
     "data": {
      "text/plain": [
       "A    2401\n",
       "B    1764\n",
       "C    1849\n",
       "D    2401\n",
       "E     625\n",
       "F     900\n",
       "G    2025\n",
       "H    1600\n",
       "I    1681\n",
       "J    1225\n",
       "dtype: int64"
      ]
     },
     "execution_count": 55,
     "metadata": {},
     "output_type": "execute_result"
    }
   ],
   "source": [
    "def square(x):\n",
    "    return x**2\n",
    "    \n",
    "ages_sr.apply(square)"
   ]
  },
  {
   "cell_type": "code",
   "execution_count": 56,
   "id": "2a6251be-c8cb-4763-9725-f3d15b139cb8",
   "metadata": {},
   "outputs": [
    {
     "data": {
      "text/plain": [
       "A    149\n",
       "B    142\n",
       "C    143\n",
       "D    149\n",
       "E    125\n",
       "F    130\n",
       "G    145\n",
       "H    140\n",
       "I    141\n",
       "J    135\n",
       "dtype: int64"
      ]
     },
     "execution_count": 56,
     "metadata": {},
     "output_type": "execute_result"
    }
   ],
   "source": [
    "ages_sr.apply(lambda x: x + 100)"
   ]
  },
  {
   "cell_type": "code",
   "execution_count": 58,
   "id": "e6faaf18-9b63-435b-86c1-a90215e7537e",
   "metadata": {},
   "outputs": [
    {
     "data": {
      "text/plain": [
       "A    199\n",
       "B    192\n",
       "C    193\n",
       "D    199\n",
       "E    175\n",
       "F    180\n",
       "G    195\n",
       "H    190\n",
       "I    191\n",
       "J    185\n",
       "dtype: int64"
      ]
     },
     "execution_count": 58,
     "metadata": {},
     "output_type": "execute_result"
    }
   ],
   "source": [
    "ages_sr.add(150)"
   ]
  },
  {
   "cell_type": "code",
   "execution_count": 61,
   "id": "d7662c47-94f9-4004-a102-104676ce3506",
   "metadata": {},
   "outputs": [
    {
     "data": {
      "text/plain": [
       "A      NaN\n",
       "B    서정남 님\n",
       "C    김영자 님\n",
       "D    김영일 님\n",
       "E    김재호 님\n",
       "F    김은서 님\n",
       "G    김지원 님\n",
       "H    이민지 님\n",
       "I    강상구 님\n",
       "J    강상구 님\n",
       "Name: 시리즈 테스트 - 이름, dtype: object"
      ]
     },
     "execution_count": 61,
     "metadata": {},
     "output_type": "execute_result"
    }
   ],
   "source": [
    "ns.add(' 님')"
   ]
  },
  {
   "cell_type": "code",
   "execution_count": 62,
   "id": "c4f94bb5-88c1-4be4-899d-63213ad7ae95",
   "metadata": {},
   "outputs": [
    {
     "data": {
      "text/plain": [
       "A      NaN\n",
       "B    False\n",
       "C    False\n",
       "D    False\n",
       "E    False\n",
       "F    False\n",
       "G    False\n",
       "H    False\n",
       "I     True\n",
       "J     True\n",
       "Name: 시리즈 테스트 - 이름, dtype: object"
      ]
     },
     "execution_count": 62,
     "metadata": {},
     "output_type": "execute_result"
    }
   ],
   "source": [
    "ns.str.contains('구')"
   ]
  },
  {
   "cell_type": "code",
   "execution_count": 63,
   "id": "6caefb44-34cb-4ac0-b756-970510e7ee12",
   "metadata": {},
   "outputs": [
    {
     "data": {
      "text/plain": [
       "A      NaN\n",
       "B    False\n",
       "C    False\n",
       "D    False\n",
       "E    False\n",
       "F    False\n",
       "G    False\n",
       "H    False\n",
       "I    False\n",
       "J    False\n",
       "Name: 시리즈 테스트 - 이름, dtype: object"
      ]
     },
     "execution_count": 63,
     "metadata": {},
     "output_type": "execute_result"
    }
   ],
   "source": [
    "ns.str.contains('.', regex = False)"
   ]
  },
  {
   "cell_type": "markdown",
   "id": "fbbdeeb8-99fa-4b42-b5df-1c4559f0a441",
   "metadata": {},
   "source": [
    "# DataFrame 만들기"
   ]
  },
  {
   "cell_type": "code",
   "execution_count": 67,
   "id": "348e5f0c-ae35-49a6-b911-f29fc7a5f7fb",
   "metadata": {},
   "outputs": [
    {
     "data": {
      "text/plain": [
       "A    김수민\n",
       "B    서정남\n",
       "C    김영자\n",
       "D    김영일\n",
       "E    김재호\n",
       "F    김은서\n",
       "G    김지원\n",
       "H    이민지\n",
       "I    이미숙\n",
       "J    홍예준\n",
       "Name: 이름, dtype: object"
      ]
     },
     "metadata": {},
     "output_type": "display_data"
    },
    {
     "data": {
      "text/plain": [
       "A    42\n",
       "B    42\n",
       "C    43\n",
       "D    49\n",
       "E    25\n",
       "F    30\n",
       "G    45\n",
       "H    40\n",
       "I    41\n",
       "J    35\n",
       "Name: 나이, dtype: int64"
      ]
     },
     "metadata": {},
     "output_type": "display_data"
    }
   ],
   "source": [
    "names_sr = pd.Series(names, index = index, name = '이름')\n",
    "ages_sr = pd.Series(ages, index = index, name = '나이')\n",
    "display(name_sr)\n",
    "display(ages_sr)"
   ]
  },
  {
   "cell_type": "code",
   "execution_count": 68,
   "id": "36a82e54-25b6-46c7-91db-17000b1c0392",
   "metadata": {},
   "outputs": [
    {
     "data": {
      "text/html": [
       "<div>\n",
       "<style scoped>\n",
       "    .dataframe tbody tr th:only-of-type {\n",
       "        vertical-align: middle;\n",
       "    }\n",
       "\n",
       "    .dataframe tbody tr th {\n",
       "        vertical-align: top;\n",
       "    }\n",
       "\n",
       "    .dataframe thead th {\n",
       "        text-align: right;\n",
       "    }\n",
       "</style>\n",
       "<table border=\"1\" class=\"dataframe\">\n",
       "  <thead>\n",
       "    <tr style=\"text-align: right;\">\n",
       "      <th></th>\n",
       "      <th>이름</th>\n",
       "    </tr>\n",
       "  </thead>\n",
       "  <tbody>\n",
       "    <tr>\n",
       "      <th>A</th>\n",
       "      <td>김수민</td>\n",
       "    </tr>\n",
       "    <tr>\n",
       "      <th>B</th>\n",
       "      <td>서정남</td>\n",
       "    </tr>\n",
       "    <tr>\n",
       "      <th>C</th>\n",
       "      <td>김영자</td>\n",
       "    </tr>\n",
       "    <tr>\n",
       "      <th>D</th>\n",
       "      <td>김영일</td>\n",
       "    </tr>\n",
       "    <tr>\n",
       "      <th>E</th>\n",
       "      <td>김재호</td>\n",
       "    </tr>\n",
       "    <tr>\n",
       "      <th>F</th>\n",
       "      <td>김은서</td>\n",
       "    </tr>\n",
       "    <tr>\n",
       "      <th>G</th>\n",
       "      <td>김지원</td>\n",
       "    </tr>\n",
       "    <tr>\n",
       "      <th>H</th>\n",
       "      <td>이민지</td>\n",
       "    </tr>\n",
       "    <tr>\n",
       "      <th>I</th>\n",
       "      <td>이미숙</td>\n",
       "    </tr>\n",
       "    <tr>\n",
       "      <th>J</th>\n",
       "      <td>홍예준</td>\n",
       "    </tr>\n",
       "  </tbody>\n",
       "</table>\n",
       "</div>"
      ],
      "text/plain": [
       "    이름\n",
       "A  김수민\n",
       "B  서정남\n",
       "C  김영자\n",
       "D  김영일\n",
       "E  김재호\n",
       "F  김은서\n",
       "G  김지원\n",
       "H  이민지\n",
       "I  이미숙\n",
       "J  홍예준"
      ]
     },
     "execution_count": 68,
     "metadata": {},
     "output_type": "execute_result"
    }
   ],
   "source": [
    "df1 = pd.DataFrame(names_sr)\n",
    "df1"
   ]
  },
  {
   "cell_type": "code",
   "execution_count": 70,
   "id": "0c790ac8-b7f5-4392-ada3-cfb3f7a60cf1",
   "metadata": {},
   "outputs": [
    {
     "data": {
      "text/html": [
       "<div>\n",
       "<style scoped>\n",
       "    .dataframe tbody tr th:only-of-type {\n",
       "        vertical-align: middle;\n",
       "    }\n",
       "\n",
       "    .dataframe tbody tr th {\n",
       "        vertical-align: top;\n",
       "    }\n",
       "\n",
       "    .dataframe thead th {\n",
       "        text-align: right;\n",
       "    }\n",
       "</style>\n",
       "<table border=\"1\" class=\"dataframe\">\n",
       "  <thead>\n",
       "    <tr style=\"text-align: right;\">\n",
       "      <th></th>\n",
       "      <th>이름</th>\n",
       "      <th>나이</th>\n",
       "    </tr>\n",
       "  </thead>\n",
       "  <tbody>\n",
       "    <tr>\n",
       "      <th>A</th>\n",
       "      <td>김수민</td>\n",
       "      <td>42</td>\n",
       "    </tr>\n",
       "    <tr>\n",
       "      <th>B</th>\n",
       "      <td>서정남</td>\n",
       "      <td>42</td>\n",
       "    </tr>\n",
       "    <tr>\n",
       "      <th>C</th>\n",
       "      <td>김영자</td>\n",
       "      <td>43</td>\n",
       "    </tr>\n",
       "    <tr>\n",
       "      <th>D</th>\n",
       "      <td>김영일</td>\n",
       "      <td>49</td>\n",
       "    </tr>\n",
       "    <tr>\n",
       "      <th>E</th>\n",
       "      <td>김재호</td>\n",
       "      <td>25</td>\n",
       "    </tr>\n",
       "    <tr>\n",
       "      <th>F</th>\n",
       "      <td>김은서</td>\n",
       "      <td>30</td>\n",
       "    </tr>\n",
       "    <tr>\n",
       "      <th>G</th>\n",
       "      <td>김지원</td>\n",
       "      <td>45</td>\n",
       "    </tr>\n",
       "    <tr>\n",
       "      <th>H</th>\n",
       "      <td>이민지</td>\n",
       "      <td>40</td>\n",
       "    </tr>\n",
       "    <tr>\n",
       "      <th>I</th>\n",
       "      <td>이미숙</td>\n",
       "      <td>41</td>\n",
       "    </tr>\n",
       "    <tr>\n",
       "      <th>J</th>\n",
       "      <td>홍예준</td>\n",
       "      <td>35</td>\n",
       "    </tr>\n",
       "  </tbody>\n",
       "</table>\n",
       "</div>"
      ],
      "text/plain": [
       "    이름  나이\n",
       "A  김수민  42\n",
       "B  서정남  42\n",
       "C  김영자  43\n",
       "D  김영일  49\n",
       "E  김재호  25\n",
       "F  김은서  30\n",
       "G  김지원  45\n",
       "H  이민지  40\n",
       "I  이미숙  41\n",
       "J  홍예준  35"
      ]
     },
     "execution_count": 70,
     "metadata": {},
     "output_type": "execute_result"
    }
   ],
   "source": [
    "df1['나이'] = ages_sr\n",
    "df1"
   ]
  },
  {
   "cell_type": "code",
   "execution_count": 71,
   "id": "ce2a808b-519f-4850-85c5-1dcdb9895c91",
   "metadata": {},
   "outputs": [
    {
     "data": {
      "text/plain": [
       "[14, 15, 42, 42, 43, 49, 25, 30, 45, 40, 41, 35]"
      ]
     },
     "execution_count": 71,
     "metadata": {},
     "output_type": "execute_result"
    }
   ],
   "source": [
    "extended_ages = [14, 15, *ages]\n",
    "extended_ages"
   ]
  },
  {
   "cell_type": "code",
   "execution_count": 72,
   "id": "e8fe13f7-1065-4e2e-9bb1-8771be1c68ef",
   "metadata": {},
   "outputs": [
    {
     "ename": "ValueError",
     "evalue": "Length of values (12) does not match length of index (10)",
     "output_type": "error",
     "traceback": [
      "\u001b[1;31m---------------------------------------------------------------------------\u001b[0m",
      "\u001b[1;31mValueError\u001b[0m                                Traceback (most recent call last)",
      "Cell \u001b[1;32mIn[72], line 1\u001b[0m\n\u001b[1;32m----> 1\u001b[0m \u001b[43mdf1\u001b[49m\u001b[43m[\u001b[49m\u001b[38;5;124;43m'\u001b[39;49m\u001b[38;5;124;43m나이2\u001b[39;49m\u001b[38;5;124;43m'\u001b[39;49m\u001b[43m]\u001b[49m \u001b[38;5;241m=\u001b[39m extended_ages\n\u001b[0;32m      2\u001b[0m df1\n",
      "File \u001b[1;32m~\\Desktop\\제로베이스\\env\\lib\\site-packages\\pandas\\core\\frame.py:4311\u001b[0m, in \u001b[0;36mDataFrame.__setitem__\u001b[1;34m(self, key, value)\u001b[0m\n\u001b[0;32m   4308\u001b[0m     \u001b[38;5;28mself\u001b[39m\u001b[38;5;241m.\u001b[39m_setitem_array([key], value)\n\u001b[0;32m   4309\u001b[0m \u001b[38;5;28;01melse\u001b[39;00m:\n\u001b[0;32m   4310\u001b[0m     \u001b[38;5;66;03m# set column\u001b[39;00m\n\u001b[1;32m-> 4311\u001b[0m     \u001b[38;5;28;43mself\u001b[39;49m\u001b[38;5;241;43m.\u001b[39;49m\u001b[43m_set_item\u001b[49m\u001b[43m(\u001b[49m\u001b[43mkey\u001b[49m\u001b[43m,\u001b[49m\u001b[43m \u001b[49m\u001b[43mvalue\u001b[49m\u001b[43m)\u001b[49m\n",
      "File \u001b[1;32m~\\Desktop\\제로베이스\\env\\lib\\site-packages\\pandas\\core\\frame.py:4524\u001b[0m, in \u001b[0;36mDataFrame._set_item\u001b[1;34m(self, key, value)\u001b[0m\n\u001b[0;32m   4514\u001b[0m \u001b[38;5;28;01mdef\u001b[39;00m\u001b[38;5;250m \u001b[39m\u001b[38;5;21m_set_item\u001b[39m(\u001b[38;5;28mself\u001b[39m, key, value) \u001b[38;5;241m-\u001b[39m\u001b[38;5;241m>\u001b[39m \u001b[38;5;28;01mNone\u001b[39;00m:\n\u001b[0;32m   4515\u001b[0m \u001b[38;5;250m    \u001b[39m\u001b[38;5;124;03m\"\"\"\u001b[39;00m\n\u001b[0;32m   4516\u001b[0m \u001b[38;5;124;03m    Add series to DataFrame in specified column.\u001b[39;00m\n\u001b[0;32m   4517\u001b[0m \n\u001b[1;32m   (...)\u001b[0m\n\u001b[0;32m   4522\u001b[0m \u001b[38;5;124;03m    ensure homogeneity.\u001b[39;00m\n\u001b[0;32m   4523\u001b[0m \u001b[38;5;124;03m    \"\"\"\u001b[39;00m\n\u001b[1;32m-> 4524\u001b[0m     value, refs \u001b[38;5;241m=\u001b[39m \u001b[38;5;28;43mself\u001b[39;49m\u001b[38;5;241;43m.\u001b[39;49m\u001b[43m_sanitize_column\u001b[49m\u001b[43m(\u001b[49m\u001b[43mvalue\u001b[49m\u001b[43m)\u001b[49m\n\u001b[0;32m   4526\u001b[0m     \u001b[38;5;28;01mif\u001b[39;00m (\n\u001b[0;32m   4527\u001b[0m         key \u001b[38;5;129;01min\u001b[39;00m \u001b[38;5;28mself\u001b[39m\u001b[38;5;241m.\u001b[39mcolumns\n\u001b[0;32m   4528\u001b[0m         \u001b[38;5;129;01mand\u001b[39;00m value\u001b[38;5;241m.\u001b[39mndim \u001b[38;5;241m==\u001b[39m \u001b[38;5;241m1\u001b[39m\n\u001b[0;32m   4529\u001b[0m         \u001b[38;5;129;01mand\u001b[39;00m \u001b[38;5;129;01mnot\u001b[39;00m \u001b[38;5;28misinstance\u001b[39m(value\u001b[38;5;241m.\u001b[39mdtype, ExtensionDtype)\n\u001b[0;32m   4530\u001b[0m     ):\n\u001b[0;32m   4531\u001b[0m         \u001b[38;5;66;03m# broadcast across multiple columns if necessary\u001b[39;00m\n\u001b[0;32m   4532\u001b[0m         \u001b[38;5;28;01mif\u001b[39;00m \u001b[38;5;129;01mnot\u001b[39;00m \u001b[38;5;28mself\u001b[39m\u001b[38;5;241m.\u001b[39mcolumns\u001b[38;5;241m.\u001b[39mis_unique \u001b[38;5;129;01mor\u001b[39;00m \u001b[38;5;28misinstance\u001b[39m(\u001b[38;5;28mself\u001b[39m\u001b[38;5;241m.\u001b[39mcolumns, MultiIndex):\n",
      "File \u001b[1;32m~\\Desktop\\제로베이스\\env\\lib\\site-packages\\pandas\\core\\frame.py:5266\u001b[0m, in \u001b[0;36mDataFrame._sanitize_column\u001b[1;34m(self, value)\u001b[0m\n\u001b[0;32m   5263\u001b[0m     \u001b[38;5;28;01mreturn\u001b[39;00m _reindex_for_setitem(value, \u001b[38;5;28mself\u001b[39m\u001b[38;5;241m.\u001b[39mindex)\n\u001b[0;32m   5265\u001b[0m \u001b[38;5;28;01mif\u001b[39;00m is_list_like(value):\n\u001b[1;32m-> 5266\u001b[0m     \u001b[43mcom\u001b[49m\u001b[38;5;241;43m.\u001b[39;49m\u001b[43mrequire_length_match\u001b[49m\u001b[43m(\u001b[49m\u001b[43mvalue\u001b[49m\u001b[43m,\u001b[49m\u001b[43m \u001b[49m\u001b[38;5;28;43mself\u001b[39;49m\u001b[38;5;241;43m.\u001b[39;49m\u001b[43mindex\u001b[49m\u001b[43m)\u001b[49m\n\u001b[0;32m   5267\u001b[0m arr \u001b[38;5;241m=\u001b[39m sanitize_array(value, \u001b[38;5;28mself\u001b[39m\u001b[38;5;241m.\u001b[39mindex, copy\u001b[38;5;241m=\u001b[39m\u001b[38;5;28;01mTrue\u001b[39;00m, allow_2d\u001b[38;5;241m=\u001b[39m\u001b[38;5;28;01mTrue\u001b[39;00m)\n\u001b[0;32m   5268\u001b[0m \u001b[38;5;28;01mif\u001b[39;00m (\n\u001b[0;32m   5269\u001b[0m     \u001b[38;5;28misinstance\u001b[39m(value, Index)\n\u001b[0;32m   5270\u001b[0m     \u001b[38;5;129;01mand\u001b[39;00m value\u001b[38;5;241m.\u001b[39mdtype \u001b[38;5;241m==\u001b[39m \u001b[38;5;124m\"\u001b[39m\u001b[38;5;124mobject\u001b[39m\u001b[38;5;124m\"\u001b[39m\n\u001b[1;32m   (...)\u001b[0m\n\u001b[0;32m   5273\u001b[0m     \u001b[38;5;66;03m# TODO: Remove kludge in sanitize_array for string mode when enforcing\u001b[39;00m\n\u001b[0;32m   5274\u001b[0m     \u001b[38;5;66;03m# this deprecation\u001b[39;00m\n",
      "File \u001b[1;32m~\\Desktop\\제로베이스\\env\\lib\\site-packages\\pandas\\core\\common.py:573\u001b[0m, in \u001b[0;36mrequire_length_match\u001b[1;34m(data, index)\u001b[0m\n\u001b[0;32m    569\u001b[0m \u001b[38;5;250m\u001b[39m\u001b[38;5;124;03m\"\"\"\u001b[39;00m\n\u001b[0;32m    570\u001b[0m \u001b[38;5;124;03mCheck the length of data matches the length of the index.\u001b[39;00m\n\u001b[0;32m    571\u001b[0m \u001b[38;5;124;03m\"\"\"\u001b[39;00m\n\u001b[0;32m    572\u001b[0m \u001b[38;5;28;01mif\u001b[39;00m \u001b[38;5;28mlen\u001b[39m(data) \u001b[38;5;241m!=\u001b[39m \u001b[38;5;28mlen\u001b[39m(index):\n\u001b[1;32m--> 573\u001b[0m     \u001b[38;5;28;01mraise\u001b[39;00m \u001b[38;5;167;01mValueError\u001b[39;00m(\n\u001b[0;32m    574\u001b[0m         \u001b[38;5;124m\"\u001b[39m\u001b[38;5;124mLength of values \u001b[39m\u001b[38;5;124m\"\u001b[39m\n\u001b[0;32m    575\u001b[0m         \u001b[38;5;124mf\u001b[39m\u001b[38;5;124m\"\u001b[39m\u001b[38;5;124m(\u001b[39m\u001b[38;5;132;01m{\u001b[39;00m\u001b[38;5;28mlen\u001b[39m(data)\u001b[38;5;132;01m}\u001b[39;00m\u001b[38;5;124m) \u001b[39m\u001b[38;5;124m\"\u001b[39m\n\u001b[0;32m    576\u001b[0m         \u001b[38;5;124m\"\u001b[39m\u001b[38;5;124mdoes not match length of index \u001b[39m\u001b[38;5;124m\"\u001b[39m\n\u001b[0;32m    577\u001b[0m         \u001b[38;5;124mf\u001b[39m\u001b[38;5;124m\"\u001b[39m\u001b[38;5;124m(\u001b[39m\u001b[38;5;132;01m{\u001b[39;00m\u001b[38;5;28mlen\u001b[39m(index)\u001b[38;5;132;01m}\u001b[39;00m\u001b[38;5;124m)\u001b[39m\u001b[38;5;124m\"\u001b[39m\n\u001b[0;32m    578\u001b[0m     )\n",
      "\u001b[1;31mValueError\u001b[0m: Length of values (12) does not match length of index (10)"
     ]
    }
   ],
   "source": [
    "df1['나이2'] = extended_ages\n",
    "df1"
   ]
  },
  {
   "cell_type": "code",
   "execution_count": 73,
   "id": "5839ba0e-2674-4306-8117-e95aeccbd5fc",
   "metadata": {},
   "outputs": [
    {
     "data": {
      "text/plain": [
       "['주유원',\n",
       " '환경/청소 및 경비 관련 관리자',\n",
       " '금속기계부품 조립원',\n",
       " '기타 음식서비스 종사원',\n",
       " '모피 및 가죽의복 제조원',\n",
       " '선장/항해사 및 도선사',\n",
       " '보험 심사원 및 사무원',\n",
       " '웹 개발자',\n",
       " '주조원',\n",
       " '감독 및 기술감독']"
      ]
     },
     "execution_count": 73,
     "metadata": {},
     "output_type": "execute_result"
    }
   ],
   "source": [
    "jobs = [fake.job() for _ in range(10)]\n",
    "jobs"
   ]
  },
  {
   "cell_type": "code",
   "execution_count": 74,
   "id": "2a6cbbec-cb43-4bdd-a076-37f4878798fc",
   "metadata": {},
   "outputs": [
    {
     "data": {
      "text/plain": [
       "{'이름': A    김수민\n",
       " B    서정남\n",
       " C    김영자\n",
       " D    김영일\n",
       " E    김재호\n",
       " F    김은서\n",
       " G    김지원\n",
       " H    이민지\n",
       " I    이미숙\n",
       " J    홍예준\n",
       " Name: 이름, dtype: object,\n",
       " '나이': A    42\n",
       " B    42\n",
       " C    43\n",
       " D    49\n",
       " E    25\n",
       " F    30\n",
       " G    45\n",
       " H    40\n",
       " I    41\n",
       " J    35\n",
       " Name: 나이, dtype: int64,\n",
       " '직업': ['주유원',\n",
       "  '환경/청소 및 경비 관련 관리자',\n",
       "  '금속기계부품 조립원',\n",
       "  '기타 음식서비스 종사원',\n",
       "  '모피 및 가죽의복 제조원',\n",
       "  '선장/항해사 및 도선사',\n",
       "  '보험 심사원 및 사무원',\n",
       "  '웹 개발자',\n",
       "  '주조원',\n",
       "  '감독 및 기술감독']}"
      ]
     },
     "execution_count": 74,
     "metadata": {},
     "output_type": "execute_result"
    }
   ],
   "source": [
    "df_dict = {'이름' : names_sr, '나이' : ages_sr, '직업' : jobs}\n",
    "df_dict"
   ]
  },
  {
   "cell_type": "code",
   "execution_count": 75,
   "id": "0720754e-6796-48ae-ade2-4d0a4413bb83",
   "metadata": {},
   "outputs": [
    {
     "data": {
      "text/html": [
       "<div>\n",
       "<style scoped>\n",
       "    .dataframe tbody tr th:only-of-type {\n",
       "        vertical-align: middle;\n",
       "    }\n",
       "\n",
       "    .dataframe tbody tr th {\n",
       "        vertical-align: top;\n",
       "    }\n",
       "\n",
       "    .dataframe thead th {\n",
       "        text-align: right;\n",
       "    }\n",
       "</style>\n",
       "<table border=\"1\" class=\"dataframe\">\n",
       "  <thead>\n",
       "    <tr style=\"text-align: right;\">\n",
       "      <th></th>\n",
       "      <th>이름</th>\n",
       "      <th>나이</th>\n",
       "      <th>직업</th>\n",
       "    </tr>\n",
       "  </thead>\n",
       "  <tbody>\n",
       "    <tr>\n",
       "      <th>A</th>\n",
       "      <td>김수민</td>\n",
       "      <td>42</td>\n",
       "      <td>주유원</td>\n",
       "    </tr>\n",
       "    <tr>\n",
       "      <th>B</th>\n",
       "      <td>서정남</td>\n",
       "      <td>42</td>\n",
       "      <td>환경/청소 및 경비 관련 관리자</td>\n",
       "    </tr>\n",
       "    <tr>\n",
       "      <th>C</th>\n",
       "      <td>김영자</td>\n",
       "      <td>43</td>\n",
       "      <td>금속기계부품 조립원</td>\n",
       "    </tr>\n",
       "    <tr>\n",
       "      <th>D</th>\n",
       "      <td>김영일</td>\n",
       "      <td>49</td>\n",
       "      <td>기타 음식서비스 종사원</td>\n",
       "    </tr>\n",
       "    <tr>\n",
       "      <th>E</th>\n",
       "      <td>김재호</td>\n",
       "      <td>25</td>\n",
       "      <td>모피 및 가죽의복 제조원</td>\n",
       "    </tr>\n",
       "    <tr>\n",
       "      <th>F</th>\n",
       "      <td>김은서</td>\n",
       "      <td>30</td>\n",
       "      <td>선장/항해사 및 도선사</td>\n",
       "    </tr>\n",
       "    <tr>\n",
       "      <th>G</th>\n",
       "      <td>김지원</td>\n",
       "      <td>45</td>\n",
       "      <td>보험 심사원 및 사무원</td>\n",
       "    </tr>\n",
       "    <tr>\n",
       "      <th>H</th>\n",
       "      <td>이민지</td>\n",
       "      <td>40</td>\n",
       "      <td>웹 개발자</td>\n",
       "    </tr>\n",
       "    <tr>\n",
       "      <th>I</th>\n",
       "      <td>이미숙</td>\n",
       "      <td>41</td>\n",
       "      <td>주조원</td>\n",
       "    </tr>\n",
       "    <tr>\n",
       "      <th>J</th>\n",
       "      <td>홍예준</td>\n",
       "      <td>35</td>\n",
       "      <td>감독 및 기술감독</td>\n",
       "    </tr>\n",
       "  </tbody>\n",
       "</table>\n",
       "</div>"
      ],
      "text/plain": [
       "    이름  나이                 직업\n",
       "A  김수민  42                주유원\n",
       "B  서정남  42  환경/청소 및 경비 관련 관리자\n",
       "C  김영자  43         금속기계부품 조립원\n",
       "D  김영일  49       기타 음식서비스 종사원\n",
       "E  김재호  25      모피 및 가죽의복 제조원\n",
       "F  김은서  30       선장/항해사 및 도선사\n",
       "G  김지원  45       보험 심사원 및 사무원\n",
       "H  이민지  40              웹 개발자\n",
       "I  이미숙  41                주조원\n",
       "J  홍예준  35          감독 및 기술감독"
      ]
     },
     "execution_count": 75,
     "metadata": {},
     "output_type": "execute_result"
    }
   ],
   "source": [
    "df2 = pd.DataFrame(df_dict)\n",
    "df2"
   ]
  },
  {
   "cell_type": "code",
   "execution_count": 76,
   "id": "436d9f48-0da0-48dd-92b6-6d63c3a25e50",
   "metadata": {},
   "outputs": [
    {
     "ename": "ValueError",
     "evalue": "Can only compare identically-labeled (both index and columns) DataFrame objects",
     "output_type": "error",
     "traceback": [
      "\u001b[1;31m---------------------------------------------------------------------------\u001b[0m",
      "\u001b[1;31mValueError\u001b[0m                                Traceback (most recent call last)",
      "Cell \u001b[1;32mIn[76], line 1\u001b[0m\n\u001b[1;32m----> 1\u001b[0m \u001b[43mdf1\u001b[49m\u001b[43m \u001b[49m\u001b[38;5;241;43m==\u001b[39;49m\u001b[43m \u001b[49m\u001b[43mdf2\u001b[49m\n",
      "File \u001b[1;32m~\\Desktop\\제로베이스\\env\\lib\\site-packages\\pandas\\core\\ops\\common.py:76\u001b[0m, in \u001b[0;36m_unpack_zerodim_and_defer.<locals>.new_method\u001b[1;34m(self, other)\u001b[0m\n\u001b[0;32m     72\u001b[0m             \u001b[38;5;28;01mreturn\u001b[39;00m \u001b[38;5;28mNotImplemented\u001b[39m\n\u001b[0;32m     74\u001b[0m other \u001b[38;5;241m=\u001b[39m item_from_zerodim(other)\n\u001b[1;32m---> 76\u001b[0m \u001b[38;5;28;01mreturn\u001b[39;00m \u001b[43mmethod\u001b[49m\u001b[43m(\u001b[49m\u001b[38;5;28;43mself\u001b[39;49m\u001b[43m,\u001b[49m\u001b[43m \u001b[49m\u001b[43mother\u001b[49m\u001b[43m)\u001b[49m\n",
      "File \u001b[1;32m~\\Desktop\\제로베이스\\env\\lib\\site-packages\\pandas\\core\\arraylike.py:40\u001b[0m, in \u001b[0;36mOpsMixin.__eq__\u001b[1;34m(self, other)\u001b[0m\n\u001b[0;32m     38\u001b[0m \u001b[38;5;129m@unpack_zerodim_and_defer\u001b[39m(\u001b[38;5;124m\"\u001b[39m\u001b[38;5;124m__eq__\u001b[39m\u001b[38;5;124m\"\u001b[39m)\n\u001b[0;32m     39\u001b[0m \u001b[38;5;28;01mdef\u001b[39;00m\u001b[38;5;250m \u001b[39m\u001b[38;5;21m__eq__\u001b[39m(\u001b[38;5;28mself\u001b[39m, other):\n\u001b[1;32m---> 40\u001b[0m     \u001b[38;5;28;01mreturn\u001b[39;00m \u001b[38;5;28;43mself\u001b[39;49m\u001b[38;5;241;43m.\u001b[39;49m\u001b[43m_cmp_method\u001b[49m\u001b[43m(\u001b[49m\u001b[43mother\u001b[49m\u001b[43m,\u001b[49m\u001b[43m \u001b[49m\u001b[43moperator\u001b[49m\u001b[38;5;241;43m.\u001b[39;49m\u001b[43meq\u001b[49m\u001b[43m)\u001b[49m\n",
      "File \u001b[1;32m~\\Desktop\\제로베이스\\env\\lib\\site-packages\\pandas\\core\\frame.py:7897\u001b[0m, in \u001b[0;36mDataFrame._cmp_method\u001b[1;34m(self, other, op)\u001b[0m\n\u001b[0;32m   7894\u001b[0m \u001b[38;5;28;01mdef\u001b[39;00m\u001b[38;5;250m \u001b[39m\u001b[38;5;21m_cmp_method\u001b[39m(\u001b[38;5;28mself\u001b[39m, other, op):\n\u001b[0;32m   7895\u001b[0m     axis: Literal[\u001b[38;5;241m1\u001b[39m] \u001b[38;5;241m=\u001b[39m \u001b[38;5;241m1\u001b[39m  \u001b[38;5;66;03m# only relevant for Series other case\u001b[39;00m\n\u001b[1;32m-> 7897\u001b[0m     \u001b[38;5;28mself\u001b[39m, other \u001b[38;5;241m=\u001b[39m \u001b[38;5;28;43mself\u001b[39;49m\u001b[38;5;241;43m.\u001b[39;49m\u001b[43m_align_for_op\u001b[49m\u001b[43m(\u001b[49m\u001b[43mother\u001b[49m\u001b[43m,\u001b[49m\u001b[43m \u001b[49m\u001b[43maxis\u001b[49m\u001b[43m,\u001b[49m\u001b[43m \u001b[49m\u001b[43mflex\u001b[49m\u001b[38;5;241;43m=\u001b[39;49m\u001b[38;5;28;43;01mFalse\u001b[39;49;00m\u001b[43m,\u001b[49m\u001b[43m \u001b[49m\u001b[43mlevel\u001b[49m\u001b[38;5;241;43m=\u001b[39;49m\u001b[38;5;28;43;01mNone\u001b[39;49;00m\u001b[43m)\u001b[49m\n\u001b[0;32m   7899\u001b[0m     \u001b[38;5;66;03m# See GH#4537 for discussion of scalar op behavior\u001b[39;00m\n\u001b[0;32m   7900\u001b[0m     new_data \u001b[38;5;241m=\u001b[39m \u001b[38;5;28mself\u001b[39m\u001b[38;5;241m.\u001b[39m_dispatch_frame_op(other, op, axis\u001b[38;5;241m=\u001b[39maxis)\n",
      "File \u001b[1;32m~\\Desktop\\제로베이스\\env\\lib\\site-packages\\pandas\\core\\frame.py:8196\u001b[0m, in \u001b[0;36mDataFrame._align_for_op\u001b[1;34m(self, other, axis, flex, level)\u001b[0m\n\u001b[0;32m   8192\u001b[0m             left, right \u001b[38;5;241m=\u001b[39m left\u001b[38;5;241m.\u001b[39malign(\n\u001b[0;32m   8193\u001b[0m                 right, join\u001b[38;5;241m=\u001b[39m\u001b[38;5;124m\"\u001b[39m\u001b[38;5;124mouter\u001b[39m\u001b[38;5;124m\"\u001b[39m, level\u001b[38;5;241m=\u001b[39mlevel, copy\u001b[38;5;241m=\u001b[39m\u001b[38;5;28;01mFalse\u001b[39;00m\n\u001b[0;32m   8194\u001b[0m             )\n\u001b[0;32m   8195\u001b[0m         \u001b[38;5;28;01melse\u001b[39;00m:\n\u001b[1;32m-> 8196\u001b[0m             \u001b[38;5;28;01mraise\u001b[39;00m \u001b[38;5;167;01mValueError\u001b[39;00m(\n\u001b[0;32m   8197\u001b[0m                 \u001b[38;5;124m\"\u001b[39m\u001b[38;5;124mCan only compare identically-labeled (both index and columns) \u001b[39m\u001b[38;5;124m\"\u001b[39m\n\u001b[0;32m   8198\u001b[0m                 \u001b[38;5;124m\"\u001b[39m\u001b[38;5;124mDataFrame objects\u001b[39m\u001b[38;5;124m\"\u001b[39m\n\u001b[0;32m   8199\u001b[0m             )\n\u001b[0;32m   8200\u001b[0m \u001b[38;5;28;01melif\u001b[39;00m \u001b[38;5;28misinstance\u001b[39m(right, Series):\n\u001b[0;32m   8201\u001b[0m     \u001b[38;5;66;03m# axis=1 is default for DataFrame-with-Series op\u001b[39;00m\n\u001b[0;32m   8202\u001b[0m     axis \u001b[38;5;241m=\u001b[39m axis \u001b[38;5;28;01mif\u001b[39;00m axis \u001b[38;5;129;01mis\u001b[39;00m \u001b[38;5;129;01mnot\u001b[39;00m \u001b[38;5;28;01mNone\u001b[39;00m \u001b[38;5;28;01melse\u001b[39;00m \u001b[38;5;241m1\u001b[39m\n",
      "\u001b[1;31mValueError\u001b[0m: Can only compare identically-labeled (both index and columns) DataFrame objects"
     ]
    }
   ],
   "source": [
    "df1 == df2"
   ]
  },
  {
   "cell_type": "code",
   "execution_count": 78,
   "id": "3c94d2bc-02a2-41de-841b-885864189650",
   "metadata": {},
   "outputs": [
    {
     "data": {
      "text/html": [
       "<div>\n",
       "<style scoped>\n",
       "    .dataframe tbody tr th:only-of-type {\n",
       "        vertical-align: middle;\n",
       "    }\n",
       "\n",
       "    .dataframe tbody tr th {\n",
       "        vertical-align: top;\n",
       "    }\n",
       "\n",
       "    .dataframe thead th {\n",
       "        text-align: right;\n",
       "    }\n",
       "</style>\n",
       "<table border=\"1\" class=\"dataframe\">\n",
       "  <thead>\n",
       "    <tr style=\"text-align: right;\">\n",
       "      <th></th>\n",
       "      <th>이름</th>\n",
       "      <th>나이</th>\n",
       "      <th>직업</th>\n",
       "    </tr>\n",
       "  </thead>\n",
       "  <tbody>\n",
       "    <tr>\n",
       "      <th>A</th>\n",
       "      <td>True</td>\n",
       "      <td>True</td>\n",
       "      <td>True</td>\n",
       "    </tr>\n",
       "    <tr>\n",
       "      <th>B</th>\n",
       "      <td>True</td>\n",
       "      <td>True</td>\n",
       "      <td>True</td>\n",
       "    </tr>\n",
       "    <tr>\n",
       "      <th>C</th>\n",
       "      <td>True</td>\n",
       "      <td>True</td>\n",
       "      <td>True</td>\n",
       "    </tr>\n",
       "    <tr>\n",
       "      <th>D</th>\n",
       "      <td>True</td>\n",
       "      <td>True</td>\n",
       "      <td>True</td>\n",
       "    </tr>\n",
       "    <tr>\n",
       "      <th>E</th>\n",
       "      <td>True</td>\n",
       "      <td>True</td>\n",
       "      <td>True</td>\n",
       "    </tr>\n",
       "    <tr>\n",
       "      <th>F</th>\n",
       "      <td>True</td>\n",
       "      <td>True</td>\n",
       "      <td>True</td>\n",
       "    </tr>\n",
       "    <tr>\n",
       "      <th>G</th>\n",
       "      <td>True</td>\n",
       "      <td>True</td>\n",
       "      <td>True</td>\n",
       "    </tr>\n",
       "    <tr>\n",
       "      <th>H</th>\n",
       "      <td>True</td>\n",
       "      <td>True</td>\n",
       "      <td>True</td>\n",
       "    </tr>\n",
       "    <tr>\n",
       "      <th>I</th>\n",
       "      <td>True</td>\n",
       "      <td>True</td>\n",
       "      <td>True</td>\n",
       "    </tr>\n",
       "    <tr>\n",
       "      <th>J</th>\n",
       "      <td>True</td>\n",
       "      <td>True</td>\n",
       "      <td>True</td>\n",
       "    </tr>\n",
       "  </tbody>\n",
       "</table>\n",
       "</div>"
      ],
      "text/plain": [
       "     이름    나이    직업\n",
       "A  True  True  True\n",
       "B  True  True  True\n",
       "C  True  True  True\n",
       "D  True  True  True\n",
       "E  True  True  True\n",
       "F  True  True  True\n",
       "G  True  True  True\n",
       "H  True  True  True\n",
       "I  True  True  True\n",
       "J  True  True  True"
      ]
     },
     "execution_count": 78,
     "metadata": {},
     "output_type": "execute_result"
    }
   ],
   "source": [
    "df1['직업'] = jobs\n",
    "df1 == df2"
   ]
  },
  {
   "cell_type": "markdown",
   "id": "74654e67-c7f9-45df-87e0-c4ff5e88169e",
   "metadata": {},
   "source": [
    "# DataFrame 인덱싱과 슬라이싱"
   ]
  },
  {
   "cell_type": "code",
   "execution_count": 79,
   "id": "37147ab0-0493-45a6-ab5c-8290dc65f8b1",
   "metadata": {},
   "outputs": [
    {
     "data": {
      "text/plain": [
       "A    42\n",
       "B    42\n",
       "C    43\n",
       "D    49\n",
       "E    25\n",
       "F    30\n",
       "G    45\n",
       "H    40\n",
       "I    41\n",
       "J    35\n",
       "Name: 나이, dtype: int64"
      ]
     },
     "execution_count": 79,
     "metadata": {},
     "output_type": "execute_result"
    }
   ],
   "source": [
    "df2['나이']"
   ]
  },
  {
   "cell_type": "code",
   "execution_count": 80,
   "id": "1c1cb2e4-96e4-4547-a697-b9df1391cfee",
   "metadata": {},
   "outputs": [
    {
     "ename": "KeyError",
     "evalue": "'A'",
     "output_type": "error",
     "traceback": [
      "\u001b[1;31m---------------------------------------------------------------------------\u001b[0m",
      "\u001b[1;31mKeyError\u001b[0m                                  Traceback (most recent call last)",
      "File \u001b[1;32m~\\Desktop\\제로베이스\\env\\lib\\site-packages\\pandas\\core\\indexes\\base.py:3805\u001b[0m, in \u001b[0;36mIndex.get_loc\u001b[1;34m(self, key)\u001b[0m\n\u001b[0;32m   3804\u001b[0m \u001b[38;5;28;01mtry\u001b[39;00m:\n\u001b[1;32m-> 3805\u001b[0m     \u001b[38;5;28;01mreturn\u001b[39;00m \u001b[38;5;28;43mself\u001b[39;49m\u001b[38;5;241;43m.\u001b[39;49m\u001b[43m_engine\u001b[49m\u001b[38;5;241;43m.\u001b[39;49m\u001b[43mget_loc\u001b[49m\u001b[43m(\u001b[49m\u001b[43mcasted_key\u001b[49m\u001b[43m)\u001b[49m\n\u001b[0;32m   3806\u001b[0m \u001b[38;5;28;01mexcept\u001b[39;00m \u001b[38;5;167;01mKeyError\u001b[39;00m \u001b[38;5;28;01mas\u001b[39;00m err:\n",
      "File \u001b[1;32mindex.pyx:167\u001b[0m, in \u001b[0;36mpandas._libs.index.IndexEngine.get_loc\u001b[1;34m()\u001b[0m\n",
      "File \u001b[1;32mindex.pyx:196\u001b[0m, in \u001b[0;36mpandas._libs.index.IndexEngine.get_loc\u001b[1;34m()\u001b[0m\n",
      "File \u001b[1;32mpandas\\\\_libs\\\\hashtable_class_helper.pxi:7081\u001b[0m, in \u001b[0;36mpandas._libs.hashtable.PyObjectHashTable.get_item\u001b[1;34m()\u001b[0m\n",
      "File \u001b[1;32mpandas\\\\_libs\\\\hashtable_class_helper.pxi:7089\u001b[0m, in \u001b[0;36mpandas._libs.hashtable.PyObjectHashTable.get_item\u001b[1;34m()\u001b[0m\n",
      "\u001b[1;31mKeyError\u001b[0m: 'A'",
      "\nThe above exception was the direct cause of the following exception:\n",
      "\u001b[1;31mKeyError\u001b[0m                                  Traceback (most recent call last)",
      "Cell \u001b[1;32mIn[80], line 1\u001b[0m\n\u001b[1;32m----> 1\u001b[0m \u001b[43mdf2\u001b[49m\u001b[43m[\u001b[49m\u001b[38;5;124;43m'\u001b[39;49m\u001b[38;5;124;43mA\u001b[39;49m\u001b[38;5;124;43m'\u001b[39;49m\u001b[43m]\u001b[49m\n",
      "File \u001b[1;32m~\\Desktop\\제로베이스\\env\\lib\\site-packages\\pandas\\core\\frame.py:4102\u001b[0m, in \u001b[0;36mDataFrame.__getitem__\u001b[1;34m(self, key)\u001b[0m\n\u001b[0;32m   4100\u001b[0m \u001b[38;5;28;01mif\u001b[39;00m \u001b[38;5;28mself\u001b[39m\u001b[38;5;241m.\u001b[39mcolumns\u001b[38;5;241m.\u001b[39mnlevels \u001b[38;5;241m>\u001b[39m \u001b[38;5;241m1\u001b[39m:\n\u001b[0;32m   4101\u001b[0m     \u001b[38;5;28;01mreturn\u001b[39;00m \u001b[38;5;28mself\u001b[39m\u001b[38;5;241m.\u001b[39m_getitem_multilevel(key)\n\u001b[1;32m-> 4102\u001b[0m indexer \u001b[38;5;241m=\u001b[39m \u001b[38;5;28;43mself\u001b[39;49m\u001b[38;5;241;43m.\u001b[39;49m\u001b[43mcolumns\u001b[49m\u001b[38;5;241;43m.\u001b[39;49m\u001b[43mget_loc\u001b[49m\u001b[43m(\u001b[49m\u001b[43mkey\u001b[49m\u001b[43m)\u001b[49m\n\u001b[0;32m   4103\u001b[0m \u001b[38;5;28;01mif\u001b[39;00m is_integer(indexer):\n\u001b[0;32m   4104\u001b[0m     indexer \u001b[38;5;241m=\u001b[39m [indexer]\n",
      "File \u001b[1;32m~\\Desktop\\제로베이스\\env\\lib\\site-packages\\pandas\\core\\indexes\\base.py:3812\u001b[0m, in \u001b[0;36mIndex.get_loc\u001b[1;34m(self, key)\u001b[0m\n\u001b[0;32m   3807\u001b[0m     \u001b[38;5;28;01mif\u001b[39;00m \u001b[38;5;28misinstance\u001b[39m(casted_key, \u001b[38;5;28mslice\u001b[39m) \u001b[38;5;129;01mor\u001b[39;00m (\n\u001b[0;32m   3808\u001b[0m         \u001b[38;5;28misinstance\u001b[39m(casted_key, abc\u001b[38;5;241m.\u001b[39mIterable)\n\u001b[0;32m   3809\u001b[0m         \u001b[38;5;129;01mand\u001b[39;00m \u001b[38;5;28many\u001b[39m(\u001b[38;5;28misinstance\u001b[39m(x, \u001b[38;5;28mslice\u001b[39m) \u001b[38;5;28;01mfor\u001b[39;00m x \u001b[38;5;129;01min\u001b[39;00m casted_key)\n\u001b[0;32m   3810\u001b[0m     ):\n\u001b[0;32m   3811\u001b[0m         \u001b[38;5;28;01mraise\u001b[39;00m InvalidIndexError(key)\n\u001b[1;32m-> 3812\u001b[0m     \u001b[38;5;28;01mraise\u001b[39;00m \u001b[38;5;167;01mKeyError\u001b[39;00m(key) \u001b[38;5;28;01mfrom\u001b[39;00m\u001b[38;5;250m \u001b[39m\u001b[38;5;21;01merr\u001b[39;00m\n\u001b[0;32m   3813\u001b[0m \u001b[38;5;28;01mexcept\u001b[39;00m \u001b[38;5;167;01mTypeError\u001b[39;00m:\n\u001b[0;32m   3814\u001b[0m     \u001b[38;5;66;03m# If we have a listlike key, _check_indexing_error will raise\u001b[39;00m\n\u001b[0;32m   3815\u001b[0m     \u001b[38;5;66;03m#  InvalidIndexError. Otherwise we fall through and re-raise\u001b[39;00m\n\u001b[0;32m   3816\u001b[0m     \u001b[38;5;66;03m#  the TypeError.\u001b[39;00m\n\u001b[0;32m   3817\u001b[0m     \u001b[38;5;28mself\u001b[39m\u001b[38;5;241m.\u001b[39m_check_indexing_error(key)\n",
      "\u001b[1;31mKeyError\u001b[0m: 'A'"
     ]
    }
   ],
   "source": [
    "df2['A']"
   ]
  },
  {
   "cell_type": "code",
   "execution_count": 81,
   "id": "598939b4-f6cd-42a9-addf-9515a552ad20",
   "metadata": {},
   "outputs": [
    {
     "data": {
      "text/plain": [
       "np.int64(42)"
      ]
     },
     "execution_count": 81,
     "metadata": {},
     "output_type": "execute_result"
    }
   ],
   "source": [
    "df2['나이']['A']"
   ]
  },
  {
   "cell_type": "code",
   "execution_count": 82,
   "id": "e8ab3f6b-6a6d-494a-857c-04106c67996d",
   "metadata": {},
   "outputs": [
    {
     "data": {
      "text/plain": [
       "이름    김수민\n",
       "나이     42\n",
       "직업    주유원\n",
       "Name: A, dtype: object"
      ]
     },
     "execution_count": 82,
     "metadata": {},
     "output_type": "execute_result"
    }
   ],
   "source": [
    "df2.loc['A']"
   ]
  },
  {
   "cell_type": "code",
   "execution_count": 83,
   "id": "808deb70-0eba-458b-a543-039e5e236f0a",
   "metadata": {},
   "outputs": [
    {
     "data": {
      "text/plain": [
       "이름             김영일\n",
       "나이              49\n",
       "직업    기타 음식서비스 종사원\n",
       "Name: D, dtype: object"
      ]
     },
     "execution_count": 83,
     "metadata": {},
     "output_type": "execute_result"
    }
   ],
   "source": [
    "df2.iloc[3]"
   ]
  },
  {
   "cell_type": "code",
   "execution_count": 84,
   "id": "928b5a65-185a-4677-8d9b-89cc05439ffd",
   "metadata": {},
   "outputs": [
    {
     "ename": "KeyError",
     "evalue": "'나이'",
     "output_type": "error",
     "traceback": [
      "\u001b[1;31m---------------------------------------------------------------------------\u001b[0m",
      "\u001b[1;31mKeyError\u001b[0m                                  Traceback (most recent call last)",
      "File \u001b[1;32m~\\Desktop\\제로베이스\\env\\lib\\site-packages\\pandas\\core\\indexes\\base.py:3805\u001b[0m, in \u001b[0;36mIndex.get_loc\u001b[1;34m(self, key)\u001b[0m\n\u001b[0;32m   3804\u001b[0m \u001b[38;5;28;01mtry\u001b[39;00m:\n\u001b[1;32m-> 3805\u001b[0m     \u001b[38;5;28;01mreturn\u001b[39;00m \u001b[38;5;28;43mself\u001b[39;49m\u001b[38;5;241;43m.\u001b[39;49m\u001b[43m_engine\u001b[49m\u001b[38;5;241;43m.\u001b[39;49m\u001b[43mget_loc\u001b[49m\u001b[43m(\u001b[49m\u001b[43mcasted_key\u001b[49m\u001b[43m)\u001b[49m\n\u001b[0;32m   3806\u001b[0m \u001b[38;5;28;01mexcept\u001b[39;00m \u001b[38;5;167;01mKeyError\u001b[39;00m \u001b[38;5;28;01mas\u001b[39;00m err:\n",
      "File \u001b[1;32mindex.pyx:167\u001b[0m, in \u001b[0;36mpandas._libs.index.IndexEngine.get_loc\u001b[1;34m()\u001b[0m\n",
      "File \u001b[1;32mindex.pyx:196\u001b[0m, in \u001b[0;36mpandas._libs.index.IndexEngine.get_loc\u001b[1;34m()\u001b[0m\n",
      "File \u001b[1;32mpandas\\\\_libs\\\\hashtable_class_helper.pxi:7081\u001b[0m, in \u001b[0;36mpandas._libs.hashtable.PyObjectHashTable.get_item\u001b[1;34m()\u001b[0m\n",
      "File \u001b[1;32mpandas\\\\_libs\\\\hashtable_class_helper.pxi:7089\u001b[0m, in \u001b[0;36mpandas._libs.hashtable.PyObjectHashTable.get_item\u001b[1;34m()\u001b[0m\n",
      "\u001b[1;31mKeyError\u001b[0m: '나이'",
      "\nThe above exception was the direct cause of the following exception:\n",
      "\u001b[1;31mKeyError\u001b[0m                                  Traceback (most recent call last)",
      "Cell \u001b[1;32mIn[84], line 1\u001b[0m\n\u001b[1;32m----> 1\u001b[0m \u001b[43mdf2\u001b[49m\u001b[38;5;241;43m.\u001b[39;49m\u001b[43mloc\u001b[49m\u001b[43m[\u001b[49m\u001b[38;5;124;43m'\u001b[39;49m\u001b[38;5;124;43m나이\u001b[39;49m\u001b[38;5;124;43m'\u001b[39;49m\u001b[43m]\u001b[49m\n",
      "File \u001b[1;32m~\\Desktop\\제로베이스\\env\\lib\\site-packages\\pandas\\core\\indexing.py:1191\u001b[0m, in \u001b[0;36m_LocationIndexer.__getitem__\u001b[1;34m(self, key)\u001b[0m\n\u001b[0;32m   1189\u001b[0m maybe_callable \u001b[38;5;241m=\u001b[39m com\u001b[38;5;241m.\u001b[39mapply_if_callable(key, \u001b[38;5;28mself\u001b[39m\u001b[38;5;241m.\u001b[39mobj)\n\u001b[0;32m   1190\u001b[0m maybe_callable \u001b[38;5;241m=\u001b[39m \u001b[38;5;28mself\u001b[39m\u001b[38;5;241m.\u001b[39m_check_deprecated_callable_usage(key, maybe_callable)\n\u001b[1;32m-> 1191\u001b[0m \u001b[38;5;28;01mreturn\u001b[39;00m \u001b[38;5;28;43mself\u001b[39;49m\u001b[38;5;241;43m.\u001b[39;49m\u001b[43m_getitem_axis\u001b[49m\u001b[43m(\u001b[49m\u001b[43mmaybe_callable\u001b[49m\u001b[43m,\u001b[49m\u001b[43m \u001b[49m\u001b[43maxis\u001b[49m\u001b[38;5;241;43m=\u001b[39;49m\u001b[43maxis\u001b[49m\u001b[43m)\u001b[49m\n",
      "File \u001b[1;32m~\\Desktop\\제로베이스\\env\\lib\\site-packages\\pandas\\core\\indexing.py:1431\u001b[0m, in \u001b[0;36m_LocIndexer._getitem_axis\u001b[1;34m(self, key, axis)\u001b[0m\n\u001b[0;32m   1429\u001b[0m \u001b[38;5;66;03m# fall thru to straight lookup\u001b[39;00m\n\u001b[0;32m   1430\u001b[0m \u001b[38;5;28mself\u001b[39m\u001b[38;5;241m.\u001b[39m_validate_key(key, axis)\n\u001b[1;32m-> 1431\u001b[0m \u001b[38;5;28;01mreturn\u001b[39;00m \u001b[38;5;28;43mself\u001b[39;49m\u001b[38;5;241;43m.\u001b[39;49m\u001b[43m_get_label\u001b[49m\u001b[43m(\u001b[49m\u001b[43mkey\u001b[49m\u001b[43m,\u001b[49m\u001b[43m \u001b[49m\u001b[43maxis\u001b[49m\u001b[38;5;241;43m=\u001b[39;49m\u001b[43maxis\u001b[49m\u001b[43m)\u001b[49m\n",
      "File \u001b[1;32m~\\Desktop\\제로베이스\\env\\lib\\site-packages\\pandas\\core\\indexing.py:1381\u001b[0m, in \u001b[0;36m_LocIndexer._get_label\u001b[1;34m(self, label, axis)\u001b[0m\n\u001b[0;32m   1379\u001b[0m \u001b[38;5;28;01mdef\u001b[39;00m\u001b[38;5;250m \u001b[39m\u001b[38;5;21m_get_label\u001b[39m(\u001b[38;5;28mself\u001b[39m, label, axis: AxisInt):\n\u001b[0;32m   1380\u001b[0m     \u001b[38;5;66;03m# GH#5567 this will fail if the label is not present in the axis.\u001b[39;00m\n\u001b[1;32m-> 1381\u001b[0m     \u001b[38;5;28;01mreturn\u001b[39;00m \u001b[38;5;28;43mself\u001b[39;49m\u001b[38;5;241;43m.\u001b[39;49m\u001b[43mobj\u001b[49m\u001b[38;5;241;43m.\u001b[39;49m\u001b[43mxs\u001b[49m\u001b[43m(\u001b[49m\u001b[43mlabel\u001b[49m\u001b[43m,\u001b[49m\u001b[43m \u001b[49m\u001b[43maxis\u001b[49m\u001b[38;5;241;43m=\u001b[39;49m\u001b[43maxis\u001b[49m\u001b[43m)\u001b[49m\n",
      "File \u001b[1;32m~\\Desktop\\제로베이스\\env\\lib\\site-packages\\pandas\\core\\generic.py:4301\u001b[0m, in \u001b[0;36mNDFrame.xs\u001b[1;34m(self, key, axis, level, drop_level)\u001b[0m\n\u001b[0;32m   4299\u001b[0m             new_index \u001b[38;5;241m=\u001b[39m index[loc]\n\u001b[0;32m   4300\u001b[0m \u001b[38;5;28;01melse\u001b[39;00m:\n\u001b[1;32m-> 4301\u001b[0m     loc \u001b[38;5;241m=\u001b[39m \u001b[43mindex\u001b[49m\u001b[38;5;241;43m.\u001b[39;49m\u001b[43mget_loc\u001b[49m\u001b[43m(\u001b[49m\u001b[43mkey\u001b[49m\u001b[43m)\u001b[49m\n\u001b[0;32m   4303\u001b[0m     \u001b[38;5;28;01mif\u001b[39;00m \u001b[38;5;28misinstance\u001b[39m(loc, np\u001b[38;5;241m.\u001b[39mndarray):\n\u001b[0;32m   4304\u001b[0m         \u001b[38;5;28;01mif\u001b[39;00m loc\u001b[38;5;241m.\u001b[39mdtype \u001b[38;5;241m==\u001b[39m np\u001b[38;5;241m.\u001b[39mbool_:\n",
      "File \u001b[1;32m~\\Desktop\\제로베이스\\env\\lib\\site-packages\\pandas\\core\\indexes\\base.py:3812\u001b[0m, in \u001b[0;36mIndex.get_loc\u001b[1;34m(self, key)\u001b[0m\n\u001b[0;32m   3807\u001b[0m     \u001b[38;5;28;01mif\u001b[39;00m \u001b[38;5;28misinstance\u001b[39m(casted_key, \u001b[38;5;28mslice\u001b[39m) \u001b[38;5;129;01mor\u001b[39;00m (\n\u001b[0;32m   3808\u001b[0m         \u001b[38;5;28misinstance\u001b[39m(casted_key, abc\u001b[38;5;241m.\u001b[39mIterable)\n\u001b[0;32m   3809\u001b[0m         \u001b[38;5;129;01mand\u001b[39;00m \u001b[38;5;28many\u001b[39m(\u001b[38;5;28misinstance\u001b[39m(x, \u001b[38;5;28mslice\u001b[39m) \u001b[38;5;28;01mfor\u001b[39;00m x \u001b[38;5;129;01min\u001b[39;00m casted_key)\n\u001b[0;32m   3810\u001b[0m     ):\n\u001b[0;32m   3811\u001b[0m         \u001b[38;5;28;01mraise\u001b[39;00m InvalidIndexError(key)\n\u001b[1;32m-> 3812\u001b[0m     \u001b[38;5;28;01mraise\u001b[39;00m \u001b[38;5;167;01mKeyError\u001b[39;00m(key) \u001b[38;5;28;01mfrom\u001b[39;00m\u001b[38;5;250m \u001b[39m\u001b[38;5;21;01merr\u001b[39;00m\n\u001b[0;32m   3813\u001b[0m \u001b[38;5;28;01mexcept\u001b[39;00m \u001b[38;5;167;01mTypeError\u001b[39;00m:\n\u001b[0;32m   3814\u001b[0m     \u001b[38;5;66;03m# If we have a listlike key, _check_indexing_error will raise\u001b[39;00m\n\u001b[0;32m   3815\u001b[0m     \u001b[38;5;66;03m#  InvalidIndexError. Otherwise we fall through and re-raise\u001b[39;00m\n\u001b[0;32m   3816\u001b[0m     \u001b[38;5;66;03m#  the TypeError.\u001b[39;00m\n\u001b[0;32m   3817\u001b[0m     \u001b[38;5;28mself\u001b[39m\u001b[38;5;241m.\u001b[39m_check_indexing_error(key)\n",
      "\u001b[1;31mKeyError\u001b[0m: '나이'"
     ]
    }
   ],
   "source": [
    "df2.loc['나이']"
   ]
  },
  {
   "cell_type": "code",
   "execution_count": 85,
   "id": "32a1ca7f-4da6-4271-8ed5-86728865e14a",
   "metadata": {},
   "outputs": [
    {
     "data": {
      "text/plain": [
       "A    42\n",
       "B    42\n",
       "C    43\n",
       "D    49\n",
       "E    25\n",
       "F    30\n",
       "G    45\n",
       "H    40\n",
       "I    41\n",
       "J    35\n",
       "Name: 나이, dtype: int64"
      ]
     },
     "execution_count": 85,
     "metadata": {},
     "output_type": "execute_result"
    }
   ],
   "source": [
    "df2.loc[:, '나이']"
   ]
  },
  {
   "cell_type": "code",
   "execution_count": 86,
   "id": "28d27936-ed1c-4246-978c-98eafe21a1b3",
   "metadata": {},
   "outputs": [
    {
     "data": {
      "text/plain": [
       "A    42\n",
       "B    42\n",
       "C    43\n",
       "D    49\n",
       "E    25\n",
       "F    30\n",
       "Name: 나이, dtype: int64"
      ]
     },
     "execution_count": 86,
     "metadata": {},
     "output_type": "execute_result"
    }
   ],
   "source": [
    "df2.loc['A':'F', '나이']"
   ]
  },
  {
   "cell_type": "code",
   "execution_count": 90,
   "id": "72cd58ca-bf89-4751-9078-e826b881d58c",
   "metadata": {},
   "outputs": [
    {
     "data": {
      "text/plain": [
       "B    환경/청소 및 경비 관련 관리자\n",
       "C           금속기계부품 조립원\n",
       "D         기타 음식서비스 종사원\n",
       "Name: 직업, dtype: object"
      ]
     },
     "execution_count": 90,
     "metadata": {},
     "output_type": "execute_result"
    }
   ],
   "source": [
    "df2.iloc[1:4, 2]"
   ]
  },
  {
   "cell_type": "code",
   "execution_count": 91,
   "id": "c692b596-ab5a-475f-9c62-98a308485cbd",
   "metadata": {},
   "outputs": [
    {
     "data": {
      "text/plain": [
       "A    42\n",
       "B    42\n",
       "C    43\n",
       "D    49\n",
       "E    25\n",
       "F    30\n",
       "G    45\n",
       "H    40\n",
       "I    41\n",
       "J    35\n",
       "Name: 나이, dtype: int64"
      ]
     },
     "execution_count": 91,
     "metadata": {},
     "output_type": "execute_result"
    }
   ],
   "source": [
    "df2.나이"
   ]
  },
  {
   "cell_type": "code",
   "execution_count": 94,
   "id": "b80577ca-322e-46af-9405-a2983dae70a5",
   "metadata": {},
   "outputs": [
    {
     "data": {
      "text/plain": [
       "A     True\n",
       "B     True\n",
       "C     True\n",
       "D     True\n",
       "E    False\n",
       "F    False\n",
       "G     True\n",
       "H    False\n",
       "I     True\n",
       "J    False\n",
       "Name: 나이, dtype: bool"
      ]
     },
     "execution_count": 94,
     "metadata": {},
     "output_type": "execute_result"
    }
   ],
   "source": [
    "age_above_40 = df2['나이'] >40\n",
    "age_above_40"
   ]
  },
  {
   "cell_type": "code",
   "execution_count": 93,
   "id": "8bc4c5ab-2c93-4583-91c8-6c65477384b3",
   "metadata": {},
   "outputs": [
    {
     "data": {
      "text/html": [
       "<div>\n",
       "<style scoped>\n",
       "    .dataframe tbody tr th:only-of-type {\n",
       "        vertical-align: middle;\n",
       "    }\n",
       "\n",
       "    .dataframe tbody tr th {\n",
       "        vertical-align: top;\n",
       "    }\n",
       "\n",
       "    .dataframe thead th {\n",
       "        text-align: right;\n",
       "    }\n",
       "</style>\n",
       "<table border=\"1\" class=\"dataframe\">\n",
       "  <thead>\n",
       "    <tr style=\"text-align: right;\">\n",
       "      <th></th>\n",
       "      <th>이름</th>\n",
       "      <th>나이</th>\n",
       "      <th>직업</th>\n",
       "    </tr>\n",
       "  </thead>\n",
       "  <tbody>\n",
       "    <tr>\n",
       "      <th>A</th>\n",
       "      <td>김수민</td>\n",
       "      <td>42</td>\n",
       "      <td>주유원</td>\n",
       "    </tr>\n",
       "    <tr>\n",
       "      <th>B</th>\n",
       "      <td>서정남</td>\n",
       "      <td>42</td>\n",
       "      <td>환경/청소 및 경비 관련 관리자</td>\n",
       "    </tr>\n",
       "    <tr>\n",
       "      <th>C</th>\n",
       "      <td>김영자</td>\n",
       "      <td>43</td>\n",
       "      <td>금속기계부품 조립원</td>\n",
       "    </tr>\n",
       "    <tr>\n",
       "      <th>D</th>\n",
       "      <td>김영일</td>\n",
       "      <td>49</td>\n",
       "      <td>기타 음식서비스 종사원</td>\n",
       "    </tr>\n",
       "    <tr>\n",
       "      <th>G</th>\n",
       "      <td>김지원</td>\n",
       "      <td>45</td>\n",
       "      <td>보험 심사원 및 사무원</td>\n",
       "    </tr>\n",
       "    <tr>\n",
       "      <th>I</th>\n",
       "      <td>이미숙</td>\n",
       "      <td>41</td>\n",
       "      <td>주조원</td>\n",
       "    </tr>\n",
       "  </tbody>\n",
       "</table>\n",
       "</div>"
      ],
      "text/plain": [
       "    이름  나이                 직업\n",
       "A  김수민  42                주유원\n",
       "B  서정남  42  환경/청소 및 경비 관련 관리자\n",
       "C  김영자  43         금속기계부품 조립원\n",
       "D  김영일  49       기타 음식서비스 종사원\n",
       "G  김지원  45       보험 심사원 및 사무원\n",
       "I  이미숙  41                주조원"
      ]
     },
     "execution_count": 93,
     "metadata": {},
     "output_type": "execute_result"
    }
   ],
   "source": [
    "df2[age_above_40]"
   ]
  },
  {
   "cell_type": "code",
   "execution_count": 95,
   "id": "8a5937ac-53dd-46f1-aa8a-6110db6b75cc",
   "metadata": {},
   "outputs": [
    {
     "data": {
      "text/html": [
       "<div>\n",
       "<style scoped>\n",
       "    .dataframe tbody tr th:only-of-type {\n",
       "        vertical-align: middle;\n",
       "    }\n",
       "\n",
       "    .dataframe tbody tr th {\n",
       "        vertical-align: top;\n",
       "    }\n",
       "\n",
       "    .dataframe thead th {\n",
       "        text-align: right;\n",
       "    }\n",
       "</style>\n",
       "<table border=\"1\" class=\"dataframe\">\n",
       "  <thead>\n",
       "    <tr style=\"text-align: right;\">\n",
       "      <th></th>\n",
       "      <th>이름</th>\n",
       "      <th>나이</th>\n",
       "      <th>직업</th>\n",
       "    </tr>\n",
       "  </thead>\n",
       "  <tbody>\n",
       "    <tr>\n",
       "      <th>H</th>\n",
       "      <td>이민지</td>\n",
       "      <td>40</td>\n",
       "      <td>웹 개발자</td>\n",
       "    </tr>\n",
       "  </tbody>\n",
       "</table>\n",
       "</div>"
      ],
      "text/plain": [
       "    이름  나이     직업\n",
       "H  이민지  40  웹 개발자"
      ]
     },
     "execution_count": 95,
     "metadata": {},
     "output_type": "execute_result"
    }
   ],
   "source": [
    "df2[df2['직업'] == '웹 개발자']"
   ]
  },
  {
   "cell_type": "code",
   "execution_count": 100,
   "id": "f9326c20-e595-4091-872b-aa653b438a09",
   "metadata": {},
   "outputs": [
    {
     "data": {
      "text/plain": [
       "B    서정남\n",
       "Name: 이름, dtype: object"
      ]
     },
     "execution_count": 100,
     "metadata": {},
     "output_type": "execute_result"
    }
   ],
   "source": [
    "names_sr[names_sr.values == '서정남']"
   ]
  },
  {
   "cell_type": "code",
   "execution_count": 103,
   "id": "a34f5980-121b-4d7e-af55-5c81354e4d08",
   "metadata": {},
   "outputs": [
    {
     "data": {
      "text/html": [
       "<div>\n",
       "<style scoped>\n",
       "    .dataframe tbody tr th:only-of-type {\n",
       "        vertical-align: middle;\n",
       "    }\n",
       "\n",
       "    .dataframe tbody tr th {\n",
       "        vertical-align: top;\n",
       "    }\n",
       "\n",
       "    .dataframe thead th {\n",
       "        text-align: right;\n",
       "    }\n",
       "</style>\n",
       "<table border=\"1\" class=\"dataframe\">\n",
       "  <thead>\n",
       "    <tr style=\"text-align: right;\">\n",
       "      <th></th>\n",
       "      <th>직업</th>\n",
       "      <th>이름</th>\n",
       "    </tr>\n",
       "  </thead>\n",
       "  <tbody>\n",
       "    <tr>\n",
       "      <th>A</th>\n",
       "      <td>주유원</td>\n",
       "      <td>김수민</td>\n",
       "    </tr>\n",
       "    <tr>\n",
       "      <th>B</th>\n",
       "      <td>환경/청소 및 경비 관련 관리자</td>\n",
       "      <td>서정남</td>\n",
       "    </tr>\n",
       "    <tr>\n",
       "      <th>C</th>\n",
       "      <td>금속기계부품 조립원</td>\n",
       "      <td>김영자</td>\n",
       "    </tr>\n",
       "    <tr>\n",
       "      <th>D</th>\n",
       "      <td>기타 음식서비스 종사원</td>\n",
       "      <td>김영일</td>\n",
       "    </tr>\n",
       "    <tr>\n",
       "      <th>E</th>\n",
       "      <td>모피 및 가죽의복 제조원</td>\n",
       "      <td>김재호</td>\n",
       "    </tr>\n",
       "    <tr>\n",
       "      <th>F</th>\n",
       "      <td>선장/항해사 및 도선사</td>\n",
       "      <td>김은서</td>\n",
       "    </tr>\n",
       "    <tr>\n",
       "      <th>G</th>\n",
       "      <td>보험 심사원 및 사무원</td>\n",
       "      <td>김지원</td>\n",
       "    </tr>\n",
       "    <tr>\n",
       "      <th>H</th>\n",
       "      <td>웹 개발자</td>\n",
       "      <td>이민지</td>\n",
       "    </tr>\n",
       "    <tr>\n",
       "      <th>I</th>\n",
       "      <td>주조원</td>\n",
       "      <td>이미숙</td>\n",
       "    </tr>\n",
       "    <tr>\n",
       "      <th>J</th>\n",
       "      <td>감독 및 기술감독</td>\n",
       "      <td>홍예준</td>\n",
       "    </tr>\n",
       "  </tbody>\n",
       "</table>\n",
       "</div>"
      ],
      "text/plain": [
       "                  직업   이름\n",
       "A                주유원  김수민\n",
       "B  환경/청소 및 경비 관련 관리자  서정남\n",
       "C         금속기계부품 조립원  김영자\n",
       "D       기타 음식서비스 종사원  김영일\n",
       "E      모피 및 가죽의복 제조원  김재호\n",
       "F       선장/항해사 및 도선사  김은서\n",
       "G       보험 심사원 및 사무원  김지원\n",
       "H              웹 개발자  이민지\n",
       "I                주조원  이미숙\n",
       "J          감독 및 기술감독  홍예준"
      ]
     },
     "execution_count": 103,
     "metadata": {},
     "output_type": "execute_result"
    }
   ],
   "source": [
    "df2[['직업', '이름']]"
   ]
  },
  {
   "cell_type": "markdown",
   "id": "867d52df-908d-4c44-a6b0-1e304261dbef",
   "metadata": {},
   "source": [
    "# DataFrame 속성"
   ]
  },
  {
   "cell_type": "code",
   "execution_count": 105,
   "id": "e14621f3-7f05-4175-b53e-610ceab53fa0",
   "metadata": {},
   "outputs": [
    {
     "data": {
      "text/plain": [
       "Index(['A', 'B', 'C', 'D', 'E', 'F', 'G', 'H', 'I', 'J'], dtype='object')"
      ]
     },
     "execution_count": 105,
     "metadata": {},
     "output_type": "execute_result"
    }
   ],
   "source": [
    "df2.index"
   ]
  },
  {
   "cell_type": "code",
   "execution_count": 106,
   "id": "bab7429a-f758-46eb-a3dd-a08edde01202",
   "metadata": {},
   "outputs": [
    {
     "data": {
      "text/plain": [
       "Index(['이름', '나이', '직업'], dtype='object')"
      ]
     },
     "execution_count": 106,
     "metadata": {},
     "output_type": "execute_result"
    }
   ],
   "source": [
    "df2.columns"
   ]
  },
  {
   "cell_type": "code",
   "execution_count": 107,
   "id": "54a4cee0-46a9-4a4c-8c5f-28f96395e104",
   "metadata": {},
   "outputs": [
    {
     "data": {
      "text/plain": [
       "array([['김수민', 42, '주유원'],\n",
       "       ['서정남', 42, '환경/청소 및 경비 관련 관리자'],\n",
       "       ['김영자', 43, '금속기계부품 조립원'],\n",
       "       ['김영일', 49, '기타 음식서비스 종사원'],\n",
       "       ['김재호', 25, '모피 및 가죽의복 제조원'],\n",
       "       ['김은서', 30, '선장/항해사 및 도선사'],\n",
       "       ['김지원', 45, '보험 심사원 및 사무원'],\n",
       "       ['이민지', 40, '웹 개발자'],\n",
       "       ['이미숙', 41, '주조원'],\n",
       "       ['홍예준', 35, '감독 및 기술감독']], dtype=object)"
      ]
     },
     "execution_count": 107,
     "metadata": {},
     "output_type": "execute_result"
    }
   ],
   "source": [
    "df2.values"
   ]
  },
  {
   "cell_type": "code",
   "execution_count": 108,
   "id": "b87d8503-2872-4b0c-9ee5-24f758d538b5",
   "metadata": {},
   "outputs": [
    {
     "data": {
      "text/plain": [
       "이름    object\n",
       "나이     int64\n",
       "직업    object\n",
       "dtype: object"
      ]
     },
     "execution_count": 108,
     "metadata": {},
     "output_type": "execute_result"
    }
   ],
   "source": [
    "df2.dtypes"
   ]
  },
  {
   "cell_type": "code",
   "execution_count": 109,
   "id": "e936766e-8836-4bae-92bd-06053b1a6494",
   "metadata": {},
   "outputs": [
    {
     "data": {
      "text/plain": [
       "(10, 3)"
      ]
     },
     "execution_count": 109,
     "metadata": {},
     "output_type": "execute_result"
    }
   ],
   "source": [
    "df2.shape"
   ]
  },
  {
   "cell_type": "code",
   "execution_count": 110,
   "id": "76441ec5-b956-4313-9331-bf6bd3c31063",
   "metadata": {},
   "outputs": [
    {
     "data": {
      "text/plain": [
       "30"
      ]
     },
     "execution_count": 110,
     "metadata": {},
     "output_type": "execute_result"
    }
   ],
   "source": [
    "df2.size"
   ]
  },
  {
   "cell_type": "code",
   "execution_count": 113,
   "id": "211a0360-4c35-45f4-9741-397731453e59",
   "metadata": {},
   "outputs": [
    {
     "data": {
      "text/html": [
       "<div>\n",
       "<style scoped>\n",
       "    .dataframe tbody tr th:only-of-type {\n",
       "        vertical-align: middle;\n",
       "    }\n",
       "\n",
       "    .dataframe tbody tr th {\n",
       "        vertical-align: top;\n",
       "    }\n",
       "\n",
       "    .dataframe thead th {\n",
       "        text-align: right;\n",
       "    }\n",
       "</style>\n",
       "<table border=\"1\" class=\"dataframe\">\n",
       "  <thead>\n",
       "    <tr style=\"text-align: right;\">\n",
       "      <th></th>\n",
       "      <th>A</th>\n",
       "      <th>B</th>\n",
       "      <th>C</th>\n",
       "      <th>D</th>\n",
       "      <th>E</th>\n",
       "      <th>F</th>\n",
       "      <th>G</th>\n",
       "      <th>H</th>\n",
       "      <th>I</th>\n",
       "      <th>J</th>\n",
       "    </tr>\n",
       "  </thead>\n",
       "  <tbody>\n",
       "    <tr>\n",
       "      <th>이름</th>\n",
       "      <td>김수민</td>\n",
       "      <td>서정남</td>\n",
       "      <td>김영자</td>\n",
       "      <td>김영일</td>\n",
       "      <td>김재호</td>\n",
       "      <td>김은서</td>\n",
       "      <td>김지원</td>\n",
       "      <td>이민지</td>\n",
       "      <td>이미숙</td>\n",
       "      <td>홍예준</td>\n",
       "    </tr>\n",
       "    <tr>\n",
       "      <th>나이</th>\n",
       "      <td>42</td>\n",
       "      <td>42</td>\n",
       "      <td>43</td>\n",
       "      <td>49</td>\n",
       "      <td>25</td>\n",
       "      <td>30</td>\n",
       "      <td>45</td>\n",
       "      <td>40</td>\n",
       "      <td>41</td>\n",
       "      <td>35</td>\n",
       "    </tr>\n",
       "    <tr>\n",
       "      <th>직업</th>\n",
       "      <td>주유원</td>\n",
       "      <td>환경/청소 및 경비 관련 관리자</td>\n",
       "      <td>금속기계부품 조립원</td>\n",
       "      <td>기타 음식서비스 종사원</td>\n",
       "      <td>모피 및 가죽의복 제조원</td>\n",
       "      <td>선장/항해사 및 도선사</td>\n",
       "      <td>보험 심사원 및 사무원</td>\n",
       "      <td>웹 개발자</td>\n",
       "      <td>주조원</td>\n",
       "      <td>감독 및 기술감독</td>\n",
       "    </tr>\n",
       "  </tbody>\n",
       "</table>\n",
       "</div>"
      ],
      "text/plain": [
       "      A                  B           C             D              E  \\\n",
       "이름  김수민                서정남         김영자           김영일            김재호   \n",
       "나이   42                 42          43            49             25   \n",
       "직업  주유원  환경/청소 및 경비 관련 관리자  금속기계부품 조립원  기타 음식서비스 종사원  모피 및 가죽의복 제조원   \n",
       "\n",
       "               F             G      H    I          J  \n",
       "이름           김은서           김지원    이민지  이미숙        홍예준  \n",
       "나이            30            45     40   41         35  \n",
       "직업  선장/항해사 및 도선사  보험 심사원 및 사무원  웹 개발자  주조원  감독 및 기술감독  "
      ]
     },
     "execution_count": 113,
     "metadata": {},
     "output_type": "execute_result"
    }
   ],
   "source": [
    "df2_T = df2.T\n",
    "df2_T"
   ]
  },
  {
   "cell_type": "code",
   "execution_count": 114,
   "id": "df11e1b0-7832-4678-88d1-d4f5441c83f5",
   "metadata": {},
   "outputs": [
    {
     "data": {
      "text/plain": [
       "(3, 10)"
      ]
     },
     "execution_count": 114,
     "metadata": {},
     "output_type": "execute_result"
    }
   ],
   "source": [
    "df2_T.shape"
   ]
  },
  {
   "cell_type": "markdown",
   "id": "b7208734-3c5e-4355-840d-189e2a0a71aa",
   "metadata": {},
   "source": [
    "# DataFrame 기능"
   ]
  },
  {
   "cell_type": "code",
   "execution_count": 116,
   "id": "112d142e-430c-4197-9fb6-388633eb55c3",
   "metadata": {},
   "outputs": [
    {
     "data": {
      "text/html": [
       "<div>\n",
       "<style scoped>\n",
       "    .dataframe tbody tr th:only-of-type {\n",
       "        vertical-align: middle;\n",
       "    }\n",
       "\n",
       "    .dataframe tbody tr th {\n",
       "        vertical-align: top;\n",
       "    }\n",
       "\n",
       "    .dataframe thead th {\n",
       "        text-align: right;\n",
       "    }\n",
       "</style>\n",
       "<table border=\"1\" class=\"dataframe\">\n",
       "  <thead>\n",
       "    <tr style=\"text-align: right;\">\n",
       "      <th></th>\n",
       "      <th>이름</th>\n",
       "      <th>나이</th>\n",
       "      <th>직업</th>\n",
       "    </tr>\n",
       "  </thead>\n",
       "  <tbody>\n",
       "    <tr>\n",
       "      <th>A</th>\n",
       "      <td>김수민</td>\n",
       "      <td>42</td>\n",
       "      <td>주유원</td>\n",
       "    </tr>\n",
       "    <tr>\n",
       "      <th>B</th>\n",
       "      <td>서정남</td>\n",
       "      <td>42</td>\n",
       "      <td>환경/청소 및 경비 관련 관리자</td>\n",
       "    </tr>\n",
       "    <tr>\n",
       "      <th>C</th>\n",
       "      <td>김영자</td>\n",
       "      <td>43</td>\n",
       "      <td>금속기계부품 조립원</td>\n",
       "    </tr>\n",
       "    <tr>\n",
       "      <th>D</th>\n",
       "      <td>김영일</td>\n",
       "      <td>49</td>\n",
       "      <td>기타 음식서비스 종사원</td>\n",
       "    </tr>\n",
       "    <tr>\n",
       "      <th>E</th>\n",
       "      <td>김재호</td>\n",
       "      <td>25</td>\n",
       "      <td>모피 및 가죽의복 제조원</td>\n",
       "    </tr>\n",
       "  </tbody>\n",
       "</table>\n",
       "</div>"
      ],
      "text/plain": [
       "    이름  나이                 직업\n",
       "A  김수민  42                주유원\n",
       "B  서정남  42  환경/청소 및 경비 관련 관리자\n",
       "C  김영자  43         금속기계부품 조립원\n",
       "D  김영일  49       기타 음식서비스 종사원\n",
       "E  김재호  25      모피 및 가죽의복 제조원"
      ]
     },
     "execution_count": 116,
     "metadata": {},
     "output_type": "execute_result"
    }
   ],
   "source": [
    "df2.head()"
   ]
  },
  {
   "cell_type": "code",
   "execution_count": 118,
   "id": "161d254c-3ddd-4cf3-ae51-039158746243",
   "metadata": {},
   "outputs": [
    {
     "data": {
      "text/html": [
       "<div>\n",
       "<style scoped>\n",
       "    .dataframe tbody tr th:only-of-type {\n",
       "        vertical-align: middle;\n",
       "    }\n",
       "\n",
       "    .dataframe tbody tr th {\n",
       "        vertical-align: top;\n",
       "    }\n",
       "\n",
       "    .dataframe thead th {\n",
       "        text-align: right;\n",
       "    }\n",
       "</style>\n",
       "<table border=\"1\" class=\"dataframe\">\n",
       "  <thead>\n",
       "    <tr style=\"text-align: right;\">\n",
       "      <th></th>\n",
       "      <th>이름</th>\n",
       "      <th>나이</th>\n",
       "      <th>직업</th>\n",
       "    </tr>\n",
       "  </thead>\n",
       "  <tbody>\n",
       "    <tr>\n",
       "      <th>A</th>\n",
       "      <td>김수민</td>\n",
       "      <td>42</td>\n",
       "      <td>주유원</td>\n",
       "    </tr>\n",
       "    <tr>\n",
       "      <th>B</th>\n",
       "      <td>서정남</td>\n",
       "      <td>42</td>\n",
       "      <td>환경/청소 및 경비 관련 관리자</td>\n",
       "    </tr>\n",
       "    <tr>\n",
       "      <th>C</th>\n",
       "      <td>김영자</td>\n",
       "      <td>43</td>\n",
       "      <td>금속기계부품 조립원</td>\n",
       "    </tr>\n",
       "    <tr>\n",
       "      <th>D</th>\n",
       "      <td>김영일</td>\n",
       "      <td>49</td>\n",
       "      <td>기타 음식서비스 종사원</td>\n",
       "    </tr>\n",
       "    <tr>\n",
       "      <th>E</th>\n",
       "      <td>김재호</td>\n",
       "      <td>25</td>\n",
       "      <td>모피 및 가죽의복 제조원</td>\n",
       "    </tr>\n",
       "    <tr>\n",
       "      <th>F</th>\n",
       "      <td>김은서</td>\n",
       "      <td>30</td>\n",
       "      <td>선장/항해사 및 도선사</td>\n",
       "    </tr>\n",
       "    <tr>\n",
       "      <th>G</th>\n",
       "      <td>김지원</td>\n",
       "      <td>45</td>\n",
       "      <td>보험 심사원 및 사무원</td>\n",
       "    </tr>\n",
       "    <tr>\n",
       "      <th>H</th>\n",
       "      <td>이민지</td>\n",
       "      <td>40</td>\n",
       "      <td>웹 개발자</td>\n",
       "    </tr>\n",
       "    <tr>\n",
       "      <th>I</th>\n",
       "      <td>이미숙</td>\n",
       "      <td>41</td>\n",
       "      <td>주조원</td>\n",
       "    </tr>\n",
       "    <tr>\n",
       "      <th>J</th>\n",
       "      <td>홍예준</td>\n",
       "      <td>35</td>\n",
       "      <td>감독 및 기술감독</td>\n",
       "    </tr>\n",
       "  </tbody>\n",
       "</table>\n",
       "</div>"
      ],
      "text/plain": [
       "    이름  나이                 직업\n",
       "A  김수민  42                주유원\n",
       "B  서정남  42  환경/청소 및 경비 관련 관리자\n",
       "C  김영자  43         금속기계부품 조립원\n",
       "D  김영일  49       기타 음식서비스 종사원\n",
       "E  김재호  25      모피 및 가죽의복 제조원\n",
       "F  김은서  30       선장/항해사 및 도선사\n",
       "G  김지원  45       보험 심사원 및 사무원\n",
       "H  이민지  40              웹 개발자\n",
       "I  이미숙  41                주조원\n",
       "J  홍예준  35          감독 및 기술감독"
      ]
     },
     "execution_count": 118,
     "metadata": {},
     "output_type": "execute_result"
    }
   ],
   "source": [
    "df2.tail(11)"
   ]
  },
  {
   "cell_type": "code",
   "execution_count": 120,
   "id": "e9574638-bd77-4bb7-ba02-d1479fe0d3df",
   "metadata": {},
   "outputs": [
    {
     "data": {
      "text/html": [
       "<div>\n",
       "<style scoped>\n",
       "    .dataframe tbody tr th:only-of-type {\n",
       "        vertical-align: middle;\n",
       "    }\n",
       "\n",
       "    .dataframe tbody tr th {\n",
       "        vertical-align: top;\n",
       "    }\n",
       "\n",
       "    .dataframe thead th {\n",
       "        text-align: right;\n",
       "    }\n",
       "</style>\n",
       "<table border=\"1\" class=\"dataframe\">\n",
       "  <thead>\n",
       "    <tr style=\"text-align: right;\">\n",
       "      <th></th>\n",
       "      <th>이름</th>\n",
       "      <th>나이</th>\n",
       "      <th>직업</th>\n",
       "    </tr>\n",
       "  </thead>\n",
       "  <tbody>\n",
       "    <tr>\n",
       "      <th>count</th>\n",
       "      <td>10</td>\n",
       "      <td>10.00000</td>\n",
       "      <td>10</td>\n",
       "    </tr>\n",
       "    <tr>\n",
       "      <th>unique</th>\n",
       "      <td>10</td>\n",
       "      <td>NaN</td>\n",
       "      <td>10</td>\n",
       "    </tr>\n",
       "    <tr>\n",
       "      <th>top</th>\n",
       "      <td>김수민</td>\n",
       "      <td>NaN</td>\n",
       "      <td>주유원</td>\n",
       "    </tr>\n",
       "    <tr>\n",
       "      <th>freq</th>\n",
       "      <td>1</td>\n",
       "      <td>NaN</td>\n",
       "      <td>1</td>\n",
       "    </tr>\n",
       "    <tr>\n",
       "      <th>mean</th>\n",
       "      <td>NaN</td>\n",
       "      <td>39.20000</td>\n",
       "      <td>NaN</td>\n",
       "    </tr>\n",
       "    <tr>\n",
       "      <th>std</th>\n",
       "      <td>NaN</td>\n",
       "      <td>7.20802</td>\n",
       "      <td>NaN</td>\n",
       "    </tr>\n",
       "    <tr>\n",
       "      <th>min</th>\n",
       "      <td>NaN</td>\n",
       "      <td>25.00000</td>\n",
       "      <td>NaN</td>\n",
       "    </tr>\n",
       "    <tr>\n",
       "      <th>25%</th>\n",
       "      <td>NaN</td>\n",
       "      <td>36.25000</td>\n",
       "      <td>NaN</td>\n",
       "    </tr>\n",
       "    <tr>\n",
       "      <th>50%</th>\n",
       "      <td>NaN</td>\n",
       "      <td>41.50000</td>\n",
       "      <td>NaN</td>\n",
       "    </tr>\n",
       "    <tr>\n",
       "      <th>75%</th>\n",
       "      <td>NaN</td>\n",
       "      <td>42.75000</td>\n",
       "      <td>NaN</td>\n",
       "    </tr>\n",
       "    <tr>\n",
       "      <th>max</th>\n",
       "      <td>NaN</td>\n",
       "      <td>49.00000</td>\n",
       "      <td>NaN</td>\n",
       "    </tr>\n",
       "  </tbody>\n",
       "</table>\n",
       "</div>"
      ],
      "text/plain": [
       "         이름        나이   직업\n",
       "count    10  10.00000   10\n",
       "unique   10       NaN   10\n",
       "top     김수민       NaN  주유원\n",
       "freq      1       NaN    1\n",
       "mean    NaN  39.20000  NaN\n",
       "std     NaN   7.20802  NaN\n",
       "min     NaN  25.00000  NaN\n",
       "25%     NaN  36.25000  NaN\n",
       "50%     NaN  41.50000  NaN\n",
       "75%     NaN  42.75000  NaN\n",
       "max     NaN  49.00000  NaN"
      ]
     },
     "execution_count": 120,
     "metadata": {},
     "output_type": "execute_result"
    }
   ],
   "source": [
    "df2.describe(include = 'all')"
   ]
  },
  {
   "cell_type": "code",
   "execution_count": 127,
   "id": "53889a50-94aa-4527-98a0-629ed72c5d7f",
   "metadata": {},
   "outputs": [
    {
     "name": "stderr",
     "output_type": "stream",
     "text": [
      "C:\\Users\\laura\\AppData\\Local\\Temp\\ipykernel_17232\\4215836318.py:2: FutureWarning: ChainedAssignmentError: behaviour will change in pandas 3.0!\n",
      "You are setting values through chained assignment. Currently this works in certain cases, but when using Copy-on-Write (which will become the default behaviour in pandas 3.0) this will never work to update the original DataFrame or Series, because the intermediate object on which we are setting values will behave as a copy.\n",
      "A typical example is when you are setting values in a column of a DataFrame, like:\n",
      "\n",
      "df[\"col\"][row_indexer] = value\n",
      "\n",
      "Use `df.loc[row_indexer, \"col\"] = values` instead, to perform the assignment in a single step and ensure this keeps updating the original `df`.\n",
      "\n",
      "See the caveats in the documentation: https://pandas.pydata.org/pandas-docs/stable/user_guide/indexing.html#returning-a-view-versus-a-copy\n",
      "\n",
      "  df2['이름']['B'] = '김재호'\n",
      "C:\\Users\\laura\\AppData\\Local\\Temp\\ipykernel_17232\\4215836318.py:2: SettingWithCopyWarning: \n",
      "A value is trying to be set on a copy of a slice from a DataFrame\n",
      "\n",
      "See the caveats in the documentation: https://pandas.pydata.org/pandas-docs/stable/user_guide/indexing.html#returning-a-view-versus-a-copy\n",
      "  df2['이름']['B'] = '김재호'\n"
     ]
    },
    {
     "data": {
      "text/html": [
       "<div>\n",
       "<style scoped>\n",
       "    .dataframe tbody tr th:only-of-type {\n",
       "        vertical-align: middle;\n",
       "    }\n",
       "\n",
       "    .dataframe tbody tr th {\n",
       "        vertical-align: top;\n",
       "    }\n",
       "\n",
       "    .dataframe thead th {\n",
       "        text-align: right;\n",
       "    }\n",
       "</style>\n",
       "<table border=\"1\" class=\"dataframe\">\n",
       "  <thead>\n",
       "    <tr style=\"text-align: right;\">\n",
       "      <th></th>\n",
       "      <th>이름</th>\n",
       "      <th>나이</th>\n",
       "      <th>직업</th>\n",
       "    </tr>\n",
       "  </thead>\n",
       "  <tbody>\n",
       "    <tr>\n",
       "      <th>A</th>\n",
       "      <td>김수민</td>\n",
       "      <td>42.0</td>\n",
       "      <td>주유원</td>\n",
       "    </tr>\n",
       "    <tr>\n",
       "      <th>B</th>\n",
       "      <td>김재호</td>\n",
       "      <td>42.0</td>\n",
       "      <td>환경/청소 및 경비 관련 관리자</td>\n",
       "    </tr>\n",
       "    <tr>\n",
       "      <th>C</th>\n",
       "      <td>김영자</td>\n",
       "      <td>43.0</td>\n",
       "      <td>금속기계부품 조립원</td>\n",
       "    </tr>\n",
       "    <tr>\n",
       "      <th>D</th>\n",
       "      <td>김영일</td>\n",
       "      <td>49.0</td>\n",
       "      <td>기타 음식서비스 종사원</td>\n",
       "    </tr>\n",
       "    <tr>\n",
       "      <th>E</th>\n",
       "      <td>김재호</td>\n",
       "      <td>25.0</td>\n",
       "      <td>모피 및 가죽의복 제조원</td>\n",
       "    </tr>\n",
       "    <tr>\n",
       "      <th>F</th>\n",
       "      <td>김은서</td>\n",
       "      <td>30.0</td>\n",
       "      <td>선장/항해사 및 도선사</td>\n",
       "    </tr>\n",
       "    <tr>\n",
       "      <th>G</th>\n",
       "      <td>김지원</td>\n",
       "      <td>45.0</td>\n",
       "      <td>보험 심사원 및 사무원</td>\n",
       "    </tr>\n",
       "    <tr>\n",
       "      <th>H</th>\n",
       "      <td>이민지</td>\n",
       "      <td>40.0</td>\n",
       "      <td>웹 개발자</td>\n",
       "    </tr>\n",
       "    <tr>\n",
       "      <th>I</th>\n",
       "      <td>이미숙</td>\n",
       "      <td>NaN</td>\n",
       "      <td>주조원</td>\n",
       "    </tr>\n",
       "    <tr>\n",
       "      <th>J</th>\n",
       "      <td>None</td>\n",
       "      <td>35.0</td>\n",
       "      <td>감독 및 기술감독</td>\n",
       "    </tr>\n",
       "  </tbody>\n",
       "</table>\n",
       "</div>"
      ],
      "text/plain": [
       "     이름    나이                 직업\n",
       "A   김수민  42.0                주유원\n",
       "B   김재호  42.0  환경/청소 및 경비 관련 관리자\n",
       "C   김영자  43.0         금속기계부품 조립원\n",
       "D   김영일  49.0       기타 음식서비스 종사원\n",
       "E   김재호  25.0      모피 및 가죽의복 제조원\n",
       "F   김은서  30.0       선장/항해사 및 도선사\n",
       "G   김지원  45.0       보험 심사원 및 사무원\n",
       "H   이민지  40.0              웹 개발자\n",
       "I   이미숙   NaN                주조원\n",
       "J  None  35.0          감독 및 기술감독"
      ]
     },
     "execution_count": 127,
     "metadata": {},
     "output_type": "execute_result"
    }
   ],
   "source": [
    "df2.loc['I', '나이']  = np.nan\n",
    "df2['이름']['B'] = '김재호'\n",
    "df2.loc['J', '이름'] = None\n",
    "df2"
   ]
  },
  {
   "cell_type": "code",
   "execution_count": 128,
   "id": "d1c90afc-d0f5-4478-8a7f-a4d2195c9535",
   "metadata": {},
   "outputs": [
    {
     "data": {
      "text/html": [
       "<div>\n",
       "<style scoped>\n",
       "    .dataframe tbody tr th:only-of-type {\n",
       "        vertical-align: middle;\n",
       "    }\n",
       "\n",
       "    .dataframe tbody tr th {\n",
       "        vertical-align: top;\n",
       "    }\n",
       "\n",
       "    .dataframe thead th {\n",
       "        text-align: right;\n",
       "    }\n",
       "</style>\n",
       "<table border=\"1\" class=\"dataframe\">\n",
       "  <thead>\n",
       "    <tr style=\"text-align: right;\">\n",
       "      <th></th>\n",
       "      <th>이름</th>\n",
       "      <th>나이</th>\n",
       "      <th>직업</th>\n",
       "    </tr>\n",
       "  </thead>\n",
       "  <tbody>\n",
       "    <tr>\n",
       "      <th>count</th>\n",
       "      <td>9</td>\n",
       "      <td>9.000000</td>\n",
       "      <td>10</td>\n",
       "    </tr>\n",
       "    <tr>\n",
       "      <th>unique</th>\n",
       "      <td>8</td>\n",
       "      <td>NaN</td>\n",
       "      <td>10</td>\n",
       "    </tr>\n",
       "    <tr>\n",
       "      <th>top</th>\n",
       "      <td>김재호</td>\n",
       "      <td>NaN</td>\n",
       "      <td>주유원</td>\n",
       "    </tr>\n",
       "    <tr>\n",
       "      <th>freq</th>\n",
       "      <td>2</td>\n",
       "      <td>NaN</td>\n",
       "      <td>1</td>\n",
       "    </tr>\n",
       "    <tr>\n",
       "      <th>mean</th>\n",
       "      <td>NaN</td>\n",
       "      <td>39.000000</td>\n",
       "      <td>NaN</td>\n",
       "    </tr>\n",
       "    <tr>\n",
       "      <th>std</th>\n",
       "      <td>NaN</td>\n",
       "      <td>7.615773</td>\n",
       "      <td>NaN</td>\n",
       "    </tr>\n",
       "    <tr>\n",
       "      <th>min</th>\n",
       "      <td>NaN</td>\n",
       "      <td>25.000000</td>\n",
       "      <td>NaN</td>\n",
       "    </tr>\n",
       "    <tr>\n",
       "      <th>25%</th>\n",
       "      <td>NaN</td>\n",
       "      <td>35.000000</td>\n",
       "      <td>NaN</td>\n",
       "    </tr>\n",
       "    <tr>\n",
       "      <th>50%</th>\n",
       "      <td>NaN</td>\n",
       "      <td>42.000000</td>\n",
       "      <td>NaN</td>\n",
       "    </tr>\n",
       "    <tr>\n",
       "      <th>75%</th>\n",
       "      <td>NaN</td>\n",
       "      <td>43.000000</td>\n",
       "      <td>NaN</td>\n",
       "    </tr>\n",
       "    <tr>\n",
       "      <th>max</th>\n",
       "      <td>NaN</td>\n",
       "      <td>49.000000</td>\n",
       "      <td>NaN</td>\n",
       "    </tr>\n",
       "  </tbody>\n",
       "</table>\n",
       "</div>"
      ],
      "text/plain": [
       "         이름         나이   직업\n",
       "count     9   9.000000   10\n",
       "unique    8        NaN   10\n",
       "top     김재호        NaN  주유원\n",
       "freq      2        NaN    1\n",
       "mean    NaN  39.000000  NaN\n",
       "std     NaN   7.615773  NaN\n",
       "min     NaN  25.000000  NaN\n",
       "25%     NaN  35.000000  NaN\n",
       "50%     NaN  42.000000  NaN\n",
       "75%     NaN  43.000000  NaN\n",
       "max     NaN  49.000000  NaN"
      ]
     },
     "execution_count": 128,
     "metadata": {},
     "output_type": "execute_result"
    }
   ],
   "source": [
    "df2.describe(include = 'all')"
   ]
  },
  {
   "cell_type": "code",
   "execution_count": 129,
   "id": "72d9d3ae-bee9-4636-b7bb-1484e248acd9",
   "metadata": {},
   "outputs": [
    {
     "name": "stdout",
     "output_type": "stream",
     "text": [
      "<class 'pandas.core.frame.DataFrame'>\n",
      "Index: 10 entries, A to J\n",
      "Data columns (total 3 columns):\n",
      " #   Column  Non-Null Count  Dtype  \n",
      "---  ------  --------------  -----  \n",
      " 0   이름      9 non-null      object \n",
      " 1   나이      9 non-null      float64\n",
      " 2   직업      10 non-null     object \n",
      "dtypes: float64(1), object(2)\n",
      "memory usage: 620.0+ bytes\n"
     ]
    }
   ],
   "source": [
    "df2.info()"
   ]
  },
  {
   "cell_type": "code",
   "execution_count": 130,
   "id": "4135d076-0208-4994-a133-56ad57c476c4",
   "metadata": {},
   "outputs": [
    {
     "data": {
      "text/html": [
       "<div>\n",
       "<style scoped>\n",
       "    .dataframe tbody tr th:only-of-type {\n",
       "        vertical-align: middle;\n",
       "    }\n",
       "\n",
       "    .dataframe tbody tr th {\n",
       "        vertical-align: top;\n",
       "    }\n",
       "\n",
       "    .dataframe thead th {\n",
       "        text-align: right;\n",
       "    }\n",
       "</style>\n",
       "<table border=\"1\" class=\"dataframe\">\n",
       "  <thead>\n",
       "    <tr style=\"text-align: right;\">\n",
       "      <th></th>\n",
       "      <th>이름</th>\n",
       "      <th>나이</th>\n",
       "      <th>직업</th>\n",
       "    </tr>\n",
       "  </thead>\n",
       "  <tbody>\n",
       "    <tr>\n",
       "      <th>A</th>\n",
       "      <td>False</td>\n",
       "      <td>False</td>\n",
       "      <td>False</td>\n",
       "    </tr>\n",
       "    <tr>\n",
       "      <th>B</th>\n",
       "      <td>False</td>\n",
       "      <td>False</td>\n",
       "      <td>False</td>\n",
       "    </tr>\n",
       "    <tr>\n",
       "      <th>C</th>\n",
       "      <td>False</td>\n",
       "      <td>False</td>\n",
       "      <td>False</td>\n",
       "    </tr>\n",
       "    <tr>\n",
       "      <th>D</th>\n",
       "      <td>False</td>\n",
       "      <td>False</td>\n",
       "      <td>False</td>\n",
       "    </tr>\n",
       "    <tr>\n",
       "      <th>E</th>\n",
       "      <td>False</td>\n",
       "      <td>False</td>\n",
       "      <td>False</td>\n",
       "    </tr>\n",
       "    <tr>\n",
       "      <th>F</th>\n",
       "      <td>False</td>\n",
       "      <td>False</td>\n",
       "      <td>False</td>\n",
       "    </tr>\n",
       "    <tr>\n",
       "      <th>G</th>\n",
       "      <td>False</td>\n",
       "      <td>False</td>\n",
       "      <td>False</td>\n",
       "    </tr>\n",
       "    <tr>\n",
       "      <th>H</th>\n",
       "      <td>False</td>\n",
       "      <td>False</td>\n",
       "      <td>False</td>\n",
       "    </tr>\n",
       "    <tr>\n",
       "      <th>I</th>\n",
       "      <td>False</td>\n",
       "      <td>True</td>\n",
       "      <td>False</td>\n",
       "    </tr>\n",
       "    <tr>\n",
       "      <th>J</th>\n",
       "      <td>True</td>\n",
       "      <td>False</td>\n",
       "      <td>False</td>\n",
       "    </tr>\n",
       "  </tbody>\n",
       "</table>\n",
       "</div>"
      ],
      "text/plain": [
       "      이름     나이     직업\n",
       "A  False  False  False\n",
       "B  False  False  False\n",
       "C  False  False  False\n",
       "D  False  False  False\n",
       "E  False  False  False\n",
       "F  False  False  False\n",
       "G  False  False  False\n",
       "H  False  False  False\n",
       "I  False   True  False\n",
       "J   True  False  False"
      ]
     },
     "execution_count": 130,
     "metadata": {},
     "output_type": "execute_result"
    }
   ],
   "source": [
    "df2.isna()"
   ]
  },
  {
   "cell_type": "code",
   "execution_count": 136,
   "id": "ebeb13a8-8927-4e1e-a9f3-6e1864a6be01",
   "metadata": {},
   "outputs": [
    {
     "data": {
      "text/html": [
       "<div>\n",
       "<style scoped>\n",
       "    .dataframe tbody tr th:only-of-type {\n",
       "        vertical-align: middle;\n",
       "    }\n",
       "\n",
       "    .dataframe tbody tr th {\n",
       "        vertical-align: top;\n",
       "    }\n",
       "\n",
       "    .dataframe thead th {\n",
       "        text-align: right;\n",
       "    }\n",
       "</style>\n",
       "<table border=\"1\" class=\"dataframe\">\n",
       "  <thead>\n",
       "    <tr style=\"text-align: right;\">\n",
       "      <th></th>\n",
       "      <th>이름</th>\n",
       "      <th>나이</th>\n",
       "      <th>직업</th>\n",
       "    </tr>\n",
       "  </thead>\n",
       "  <tbody>\n",
       "    <tr>\n",
       "      <th>A</th>\n",
       "      <td>김수민</td>\n",
       "      <td>42.0</td>\n",
       "      <td>주유원</td>\n",
       "    </tr>\n",
       "    <tr>\n",
       "      <th>B</th>\n",
       "      <td>김재호</td>\n",
       "      <td>42.0</td>\n",
       "      <td>환경/청소 및 경비 관련 관리자</td>\n",
       "    </tr>\n",
       "    <tr>\n",
       "      <th>C</th>\n",
       "      <td>김영자</td>\n",
       "      <td>43.0</td>\n",
       "      <td>금속기계부품 조립원</td>\n",
       "    </tr>\n",
       "    <tr>\n",
       "      <th>D</th>\n",
       "      <td>김영일</td>\n",
       "      <td>49.0</td>\n",
       "      <td>기타 음식서비스 종사원</td>\n",
       "    </tr>\n",
       "    <tr>\n",
       "      <th>E</th>\n",
       "      <td>김재호</td>\n",
       "      <td>25.0</td>\n",
       "      <td>모피 및 가죽의복 제조원</td>\n",
       "    </tr>\n",
       "    <tr>\n",
       "      <th>F</th>\n",
       "      <td>김은서</td>\n",
       "      <td>30.0</td>\n",
       "      <td>선장/항해사 및 도선사</td>\n",
       "    </tr>\n",
       "    <tr>\n",
       "      <th>G</th>\n",
       "      <td>김지원</td>\n",
       "      <td>45.0</td>\n",
       "      <td>보험 심사원 및 사무원</td>\n",
       "    </tr>\n",
       "    <tr>\n",
       "      <th>H</th>\n",
       "      <td>이민지</td>\n",
       "      <td>40.0</td>\n",
       "      <td>웹 개발자</td>\n",
       "    </tr>\n",
       "    <tr>\n",
       "      <th>I</th>\n",
       "      <td>이미숙</td>\n",
       "      <td>39.0</td>\n",
       "      <td>주조원</td>\n",
       "    </tr>\n",
       "    <tr>\n",
       "      <th>J</th>\n",
       "      <td>홍길동</td>\n",
       "      <td>35.0</td>\n",
       "      <td>감독 및 기술감독</td>\n",
       "    </tr>\n",
       "  </tbody>\n",
       "</table>\n",
       "</div>"
      ],
      "text/plain": [
       "    이름    나이                 직업\n",
       "A  김수민  42.0                주유원\n",
       "B  김재호  42.0  환경/청소 및 경비 관련 관리자\n",
       "C  김영자  43.0         금속기계부품 조립원\n",
       "D  김영일  49.0       기타 음식서비스 종사원\n",
       "E  김재호  25.0      모피 및 가죽의복 제조원\n",
       "F  김은서  30.0       선장/항해사 및 도선사\n",
       "G  김지원  45.0       보험 심사원 및 사무원\n",
       "H  이민지  40.0              웹 개발자\n",
       "I  이미숙  39.0                주조원\n",
       "J  홍길동  35.0          감독 및 기술감독"
      ]
     },
     "execution_count": 136,
     "metadata": {},
     "output_type": "execute_result"
    }
   ],
   "source": [
    "fillna_df = df2.fillna({'이름' : '홍길동', '나이' : df2['나이'].mean().astype(int)})\n",
    "fillna_df"
   ]
  },
  {
   "cell_type": "code",
   "execution_count": 141,
   "id": "e587fd86-0d5b-4191-8217-d55fed8b8125",
   "metadata": {},
   "outputs": [
    {
     "data": {
      "text/html": [
       "<div>\n",
       "<style scoped>\n",
       "    .dataframe tbody tr th:only-of-type {\n",
       "        vertical-align: middle;\n",
       "    }\n",
       "\n",
       "    .dataframe tbody tr th {\n",
       "        vertical-align: top;\n",
       "    }\n",
       "\n",
       "    .dataframe thead th {\n",
       "        text-align: right;\n",
       "    }\n",
       "</style>\n",
       "<table border=\"1\" class=\"dataframe\">\n",
       "  <thead>\n",
       "    <tr style=\"text-align: right;\">\n",
       "      <th></th>\n",
       "      <th>이름</th>\n",
       "      <th>나이</th>\n",
       "      <th>직업</th>\n",
       "    </tr>\n",
       "  </thead>\n",
       "  <tbody>\n",
       "    <tr>\n",
       "      <th>A</th>\n",
       "      <td>김수민</td>\n",
       "      <td>42.0</td>\n",
       "      <td>주유원</td>\n",
       "    </tr>\n",
       "    <tr>\n",
       "      <th>B</th>\n",
       "      <td>김재호</td>\n",
       "      <td>42.0</td>\n",
       "      <td>환경/청소 및 경비 관련 관리자</td>\n",
       "    </tr>\n",
       "    <tr>\n",
       "      <th>C</th>\n",
       "      <td>김영자</td>\n",
       "      <td>43.0</td>\n",
       "      <td>금속기계부품 조립원</td>\n",
       "    </tr>\n",
       "    <tr>\n",
       "      <th>D</th>\n",
       "      <td>김영일</td>\n",
       "      <td>49.0</td>\n",
       "      <td>기타 음식서비스 종사원</td>\n",
       "    </tr>\n",
       "    <tr>\n",
       "      <th>E</th>\n",
       "      <td>김재호</td>\n",
       "      <td>25.0</td>\n",
       "      <td>모피 및 가죽의복 제조원</td>\n",
       "    </tr>\n",
       "    <tr>\n",
       "      <th>F</th>\n",
       "      <td>김은서</td>\n",
       "      <td>30.0</td>\n",
       "      <td>선장/항해사 및 도선사</td>\n",
       "    </tr>\n",
       "    <tr>\n",
       "      <th>G</th>\n",
       "      <td>김지원</td>\n",
       "      <td>45.0</td>\n",
       "      <td>보험 심사원 및 사무원</td>\n",
       "    </tr>\n",
       "    <tr>\n",
       "      <th>H</th>\n",
       "      <td>이민지</td>\n",
       "      <td>40.0</td>\n",
       "      <td>웹 개발자</td>\n",
       "    </tr>\n",
       "    <tr>\n",
       "      <th>I</th>\n",
       "      <td>이미숙</td>\n",
       "      <td>NaN</td>\n",
       "      <td>주조원</td>\n",
       "    </tr>\n",
       "    <tr>\n",
       "      <th>J</th>\n",
       "      <td>None</td>\n",
       "      <td>35.0</td>\n",
       "      <td>감독 및 기술감독</td>\n",
       "    </tr>\n",
       "  </tbody>\n",
       "</table>\n",
       "</div>"
      ],
      "text/plain": [
       "     이름    나이                 직업\n",
       "A   김수민  42.0                주유원\n",
       "B   김재호  42.0  환경/청소 및 경비 관련 관리자\n",
       "C   김영자  43.0         금속기계부품 조립원\n",
       "D   김영일  49.0       기타 음식서비스 종사원\n",
       "E   김재호  25.0      모피 및 가죽의복 제조원\n",
       "F   김은서  30.0       선장/항해사 및 도선사\n",
       "G   김지원  45.0       보험 심사원 및 사무원\n",
       "H   이민지  40.0              웹 개발자\n",
       "I   이미숙   NaN                주조원\n",
       "J  None  35.0          감독 및 기술감독"
      ]
     },
     "execution_count": 141,
     "metadata": {},
     "output_type": "execute_result"
    }
   ],
   "source": [
    "df2"
   ]
  },
  {
   "cell_type": "code",
   "execution_count": 142,
   "id": "c750d8bb-2782-41e7-91d8-80980fdd8cd8",
   "metadata": {},
   "outputs": [
    {
     "data": {
      "text/html": [
       "<div>\n",
       "<style scoped>\n",
       "    .dataframe tbody tr th:only-of-type {\n",
       "        vertical-align: middle;\n",
       "    }\n",
       "\n",
       "    .dataframe tbody tr th {\n",
       "        vertical-align: top;\n",
       "    }\n",
       "\n",
       "    .dataframe thead th {\n",
       "        text-align: right;\n",
       "    }\n",
       "</style>\n",
       "<table border=\"1\" class=\"dataframe\">\n",
       "  <thead>\n",
       "    <tr style=\"text-align: right;\">\n",
       "      <th></th>\n",
       "      <th>이름</th>\n",
       "      <th>나이</th>\n",
       "      <th>직업</th>\n",
       "    </tr>\n",
       "  </thead>\n",
       "  <tbody>\n",
       "    <tr>\n",
       "      <th>A</th>\n",
       "      <td>김수민</td>\n",
       "      <td>42.0</td>\n",
       "      <td>주유원</td>\n",
       "    </tr>\n",
       "    <tr>\n",
       "      <th>B</th>\n",
       "      <td>김재호</td>\n",
       "      <td>42.0</td>\n",
       "      <td>환경/청소 및 경비 관련 관리자</td>\n",
       "    </tr>\n",
       "    <tr>\n",
       "      <th>C</th>\n",
       "      <td>김영자</td>\n",
       "      <td>43.0</td>\n",
       "      <td>금속기계부품 조립원</td>\n",
       "    </tr>\n",
       "    <tr>\n",
       "      <th>D</th>\n",
       "      <td>김영일</td>\n",
       "      <td>49.0</td>\n",
       "      <td>기타 음식서비스 종사원</td>\n",
       "    </tr>\n",
       "    <tr>\n",
       "      <th>E</th>\n",
       "      <td>김재호</td>\n",
       "      <td>25.0</td>\n",
       "      <td>모피 및 가죽의복 제조원</td>\n",
       "    </tr>\n",
       "    <tr>\n",
       "      <th>F</th>\n",
       "      <td>김은서</td>\n",
       "      <td>30.0</td>\n",
       "      <td>선장/항해사 및 도선사</td>\n",
       "    </tr>\n",
       "    <tr>\n",
       "      <th>G</th>\n",
       "      <td>김지원</td>\n",
       "      <td>45.0</td>\n",
       "      <td>보험 심사원 및 사무원</td>\n",
       "    </tr>\n",
       "    <tr>\n",
       "      <th>H</th>\n",
       "      <td>이민지</td>\n",
       "      <td>40.0</td>\n",
       "      <td>웹 개발자</td>\n",
       "    </tr>\n",
       "  </tbody>\n",
       "</table>\n",
       "</div>"
      ],
      "text/plain": [
       "    이름    나이                 직업\n",
       "A  김수민  42.0                주유원\n",
       "B  김재호  42.0  환경/청소 및 경비 관련 관리자\n",
       "C  김영자  43.0         금속기계부품 조립원\n",
       "D  김영일  49.0       기타 음식서비스 종사원\n",
       "E  김재호  25.0      모피 및 가죽의복 제조원\n",
       "F  김은서  30.0       선장/항해사 및 도선사\n",
       "G  김지원  45.0       보험 심사원 및 사무원\n",
       "H  이민지  40.0              웹 개발자"
      ]
     },
     "execution_count": 142,
     "metadata": {},
     "output_type": "execute_result"
    }
   ],
   "source": [
    "df2.dropna(subset = ['이름', '나이'])"
   ]
  },
  {
   "cell_type": "code",
   "execution_count": 143,
   "id": "72325a0b-d021-45db-89b5-2df18e715045",
   "metadata": {},
   "outputs": [
    {
     "data": {
      "text/html": [
       "<div>\n",
       "<style scoped>\n",
       "    .dataframe tbody tr th:only-of-type {\n",
       "        vertical-align: middle;\n",
       "    }\n",
       "\n",
       "    .dataframe tbody tr th {\n",
       "        vertical-align: top;\n",
       "    }\n",
       "\n",
       "    .dataframe thead th {\n",
       "        text-align: right;\n",
       "    }\n",
       "</style>\n",
       "<table border=\"1\" class=\"dataframe\">\n",
       "  <thead>\n",
       "    <tr style=\"text-align: right;\">\n",
       "      <th></th>\n",
       "      <th>이름</th>\n",
       "      <th>나이</th>\n",
       "      <th>직업</th>\n",
       "    </tr>\n",
       "  </thead>\n",
       "  <tbody>\n",
       "    <tr>\n",
       "      <th>B</th>\n",
       "      <td>김재호</td>\n",
       "      <td>42.0</td>\n",
       "      <td>환경/청소 및 경비 관련 관리자</td>\n",
       "    </tr>\n",
       "    <tr>\n",
       "      <th>C</th>\n",
       "      <td>김영자</td>\n",
       "      <td>43.0</td>\n",
       "      <td>금속기계부품 조립원</td>\n",
       "    </tr>\n",
       "    <tr>\n",
       "      <th>D</th>\n",
       "      <td>김영일</td>\n",
       "      <td>49.0</td>\n",
       "      <td>기타 음식서비스 종사원</td>\n",
       "    </tr>\n",
       "    <tr>\n",
       "      <th>E</th>\n",
       "      <td>김재호</td>\n",
       "      <td>25.0</td>\n",
       "      <td>모피 및 가죽의복 제조원</td>\n",
       "    </tr>\n",
       "    <tr>\n",
       "      <th>F</th>\n",
       "      <td>김은서</td>\n",
       "      <td>30.0</td>\n",
       "      <td>선장/항해사 및 도선사</td>\n",
       "    </tr>\n",
       "    <tr>\n",
       "      <th>G</th>\n",
       "      <td>김지원</td>\n",
       "      <td>45.0</td>\n",
       "      <td>보험 심사원 및 사무원</td>\n",
       "    </tr>\n",
       "    <tr>\n",
       "      <th>H</th>\n",
       "      <td>이민지</td>\n",
       "      <td>40.0</td>\n",
       "      <td>웹 개발자</td>\n",
       "    </tr>\n",
       "    <tr>\n",
       "      <th>I</th>\n",
       "      <td>이미숙</td>\n",
       "      <td>NaN</td>\n",
       "      <td>주조원</td>\n",
       "    </tr>\n",
       "    <tr>\n",
       "      <th>J</th>\n",
       "      <td>None</td>\n",
       "      <td>35.0</td>\n",
       "      <td>감독 및 기술감독</td>\n",
       "    </tr>\n",
       "  </tbody>\n",
       "</table>\n",
       "</div>"
      ],
      "text/plain": [
       "     이름    나이                 직업\n",
       "B   김재호  42.0  환경/청소 및 경비 관련 관리자\n",
       "C   김영자  43.0         금속기계부품 조립원\n",
       "D   김영일  49.0       기타 음식서비스 종사원\n",
       "E   김재호  25.0      모피 및 가죽의복 제조원\n",
       "F   김은서  30.0       선장/항해사 및 도선사\n",
       "G   김지원  45.0       보험 심사원 및 사무원\n",
       "H   이민지  40.0              웹 개발자\n",
       "I   이미숙   NaN                주조원\n",
       "J  None  35.0          감독 및 기술감독"
      ]
     },
     "execution_count": 143,
     "metadata": {},
     "output_type": "execute_result"
    }
   ],
   "source": [
    "df2.drop('A')"
   ]
  },
  {
   "cell_type": "code",
   "execution_count": 147,
   "id": "abde18d7-cd70-4f22-b1b4-609f669cb352",
   "metadata": {},
   "outputs": [
    {
     "data": {
      "text/html": [
       "<div>\n",
       "<style scoped>\n",
       "    .dataframe tbody tr th:only-of-type {\n",
       "        vertical-align: middle;\n",
       "    }\n",
       "\n",
       "    .dataframe tbody tr th {\n",
       "        vertical-align: top;\n",
       "    }\n",
       "\n",
       "    .dataframe thead th {\n",
       "        text-align: right;\n",
       "    }\n",
       "</style>\n",
       "<table border=\"1\" class=\"dataframe\">\n",
       "  <thead>\n",
       "    <tr style=\"text-align: right;\">\n",
       "      <th></th>\n",
       "      <th>이름</th>\n",
       "      <th>나이</th>\n",
       "      <th>직업</th>\n",
       "    </tr>\n",
       "  </thead>\n",
       "  <tbody>\n",
       "    <tr>\n",
       "      <th>0</th>\n",
       "      <td>김수민</td>\n",
       "      <td>42.0</td>\n",
       "      <td>주유원</td>\n",
       "    </tr>\n",
       "    <tr>\n",
       "      <th>1</th>\n",
       "      <td>김재호</td>\n",
       "      <td>42.0</td>\n",
       "      <td>환경/청소 및 경비 관련 관리자</td>\n",
       "    </tr>\n",
       "    <tr>\n",
       "      <th>2</th>\n",
       "      <td>김영자</td>\n",
       "      <td>43.0</td>\n",
       "      <td>금속기계부품 조립원</td>\n",
       "    </tr>\n",
       "    <tr>\n",
       "      <th>3</th>\n",
       "      <td>김영일</td>\n",
       "      <td>49.0</td>\n",
       "      <td>기타 음식서비스 종사원</td>\n",
       "    </tr>\n",
       "    <tr>\n",
       "      <th>4</th>\n",
       "      <td>김재호</td>\n",
       "      <td>25.0</td>\n",
       "      <td>모피 및 가죽의복 제조원</td>\n",
       "    </tr>\n",
       "    <tr>\n",
       "      <th>5</th>\n",
       "      <td>김은서</td>\n",
       "      <td>30.0</td>\n",
       "      <td>선장/항해사 및 도선사</td>\n",
       "    </tr>\n",
       "    <tr>\n",
       "      <th>6</th>\n",
       "      <td>김지원</td>\n",
       "      <td>45.0</td>\n",
       "      <td>보험 심사원 및 사무원</td>\n",
       "    </tr>\n",
       "    <tr>\n",
       "      <th>7</th>\n",
       "      <td>이민지</td>\n",
       "      <td>40.0</td>\n",
       "      <td>웹 개발자</td>\n",
       "    </tr>\n",
       "    <tr>\n",
       "      <th>8</th>\n",
       "      <td>이미숙</td>\n",
       "      <td>NaN</td>\n",
       "      <td>주조원</td>\n",
       "    </tr>\n",
       "    <tr>\n",
       "      <th>9</th>\n",
       "      <td>None</td>\n",
       "      <td>35.0</td>\n",
       "      <td>감독 및 기술감독</td>\n",
       "    </tr>\n",
       "  </tbody>\n",
       "</table>\n",
       "</div>"
      ],
      "text/plain": [
       "     이름    나이                 직업\n",
       "0   김수민  42.0                주유원\n",
       "1   김재호  42.0  환경/청소 및 경비 관련 관리자\n",
       "2   김영자  43.0         금속기계부품 조립원\n",
       "3   김영일  49.0       기타 음식서비스 종사원\n",
       "4   김재호  25.0      모피 및 가죽의복 제조원\n",
       "5   김은서  30.0       선장/항해사 및 도선사\n",
       "6   김지원  45.0       보험 심사원 및 사무원\n",
       "7   이민지  40.0              웹 개발자\n",
       "8   이미숙   NaN                주조원\n",
       "9  None  35.0          감독 및 기술감독"
      ]
     },
     "execution_count": 147,
     "metadata": {},
     "output_type": "execute_result"
    }
   ],
   "source": [
    "iidx_df = df2.reset_index(drop = True)\n",
    "iidx_df"
   ]
  },
  {
   "cell_type": "code",
   "execution_count": 149,
   "id": "77621ea2-3d04-418c-8fa3-9877720a3ad2",
   "metadata": {},
   "outputs": [
    {
     "data": {
      "text/html": [
       "<div>\n",
       "<style scoped>\n",
       "    .dataframe tbody tr th:only-of-type {\n",
       "        vertical-align: middle;\n",
       "    }\n",
       "\n",
       "    .dataframe tbody tr th {\n",
       "        vertical-align: top;\n",
       "    }\n",
       "\n",
       "    .dataframe thead th {\n",
       "        text-align: right;\n",
       "    }\n",
       "</style>\n",
       "<table border=\"1\" class=\"dataframe\">\n",
       "  <thead>\n",
       "    <tr style=\"text-align: right;\">\n",
       "      <th></th>\n",
       "      <th>이름</th>\n",
       "      <th>나이</th>\n",
       "      <th>직업</th>\n",
       "    </tr>\n",
       "  </thead>\n",
       "  <tbody>\n",
       "    <tr>\n",
       "      <th>E</th>\n",
       "      <td>김재호</td>\n",
       "      <td>25.0</td>\n",
       "      <td>모피 및 가죽의복 제조원</td>\n",
       "    </tr>\n",
       "    <tr>\n",
       "      <th>F</th>\n",
       "      <td>김은서</td>\n",
       "      <td>30.0</td>\n",
       "      <td>선장/항해사 및 도선사</td>\n",
       "    </tr>\n",
       "    <tr>\n",
       "      <th>J</th>\n",
       "      <td>None</td>\n",
       "      <td>35.0</td>\n",
       "      <td>감독 및 기술감독</td>\n",
       "    </tr>\n",
       "    <tr>\n",
       "      <th>H</th>\n",
       "      <td>이민지</td>\n",
       "      <td>40.0</td>\n",
       "      <td>웹 개발자</td>\n",
       "    </tr>\n",
       "    <tr>\n",
       "      <th>B</th>\n",
       "      <td>김재호</td>\n",
       "      <td>42.0</td>\n",
       "      <td>환경/청소 및 경비 관련 관리자</td>\n",
       "    </tr>\n",
       "    <tr>\n",
       "      <th>A</th>\n",
       "      <td>김수민</td>\n",
       "      <td>42.0</td>\n",
       "      <td>주유원</td>\n",
       "    </tr>\n",
       "    <tr>\n",
       "      <th>C</th>\n",
       "      <td>김영자</td>\n",
       "      <td>43.0</td>\n",
       "      <td>금속기계부품 조립원</td>\n",
       "    </tr>\n",
       "    <tr>\n",
       "      <th>G</th>\n",
       "      <td>김지원</td>\n",
       "      <td>45.0</td>\n",
       "      <td>보험 심사원 및 사무원</td>\n",
       "    </tr>\n",
       "    <tr>\n",
       "      <th>D</th>\n",
       "      <td>김영일</td>\n",
       "      <td>49.0</td>\n",
       "      <td>기타 음식서비스 종사원</td>\n",
       "    </tr>\n",
       "    <tr>\n",
       "      <th>I</th>\n",
       "      <td>이미숙</td>\n",
       "      <td>NaN</td>\n",
       "      <td>주조원</td>\n",
       "    </tr>\n",
       "  </tbody>\n",
       "</table>\n",
       "</div>"
      ],
      "text/plain": [
       "     이름    나이                 직업\n",
       "E   김재호  25.0      모피 및 가죽의복 제조원\n",
       "F   김은서  30.0       선장/항해사 및 도선사\n",
       "J  None  35.0          감독 및 기술감독\n",
       "H   이민지  40.0              웹 개발자\n",
       "B   김재호  42.0  환경/청소 및 경비 관련 관리자\n",
       "A   김수민  42.0                주유원\n",
       "C   김영자  43.0         금속기계부품 조립원\n",
       "G   김지원  45.0       보험 심사원 및 사무원\n",
       "D   김영일  49.0       기타 음식서비스 종사원\n",
       "I   이미숙   NaN                주조원"
      ]
     },
     "execution_count": 149,
     "metadata": {},
     "output_type": "execute_result"
    }
   ],
   "source": [
    "df2.sort_values(by = '나이')"
   ]
  }
 ],
 "metadata": {
  "kernelspec": {
   "display_name": "Python 3 (ipykernel)",
   "language": "python",
   "name": "python3"
  },
  "language_info": {
   "codemirror_mode": {
    "name": "ipython",
    "version": 3
   },
   "file_extension": ".py",
   "mimetype": "text/x-python",
   "name": "python",
   "nbconvert_exporter": "python",
   "pygments_lexer": "ipython3",
   "version": "3.9.7"
  }
 },
 "nbformat": 4,
 "nbformat_minor": 5
}
