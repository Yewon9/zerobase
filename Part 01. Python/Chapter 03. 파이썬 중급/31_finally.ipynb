{
  "nbformat": 4,
  "nbformat_minor": 0,
  "metadata": {
    "colab": {
      "provenance": []
    },
    "kernelspec": {
      "name": "python3",
      "display_name": "Python 3"
    },
    "language_info": {
      "name": "python"
    }
  },
  "cells": [
    {
      "cell_type": "markdown",
      "source": [
        "사용자로부터 숫자 5개를 입력받아 짝수, 홀수, 실수와 입력한 모든 데이터를 각각 출력하는 프로그램을 만들어보자."
      ],
      "metadata": {
        "id": "c8y0dnNPkj_q"
      }
    },
    {
      "cell_type": "code",
      "source": [
        "eveList = []; oddList = []; floatList = []\n",
        "dataList = []\n",
        "\n",
        "n = 1\n",
        "while n < 6:\n",
        "\n",
        "  try:\n",
        "    data = input('input number : ')\n",
        "    floatNum = float(data)\n",
        "\n",
        "  except:\n",
        "    print('exception raise!!')\n",
        "    print('input number again!!')\n",
        "    continue\n",
        "\n",
        "  else:\n",
        "    if floatNum - int(floatNum) != 0:\n",
        "      print('float number!')\n",
        "      floatList.append(floatNum)\n",
        "    else:\n",
        "      if floatNum % 2 == 0:\n",
        "        print('even number!')\n",
        "        eveList.append(int(floatNum))\n",
        "      else:\n",
        "        print('odd number!')\n",
        "        oddList.append(int(floatNum))\n",
        "\n",
        "    n += 1\n",
        "\n",
        "  finally:\n",
        "    dataList.append(data)\n",
        "\n",
        "print(f'eveList : {eveList}')\n",
        "print(f'oddList : {oddList}')\n",
        "print(f'floatList : {floatList}')\n",
        "print(f'dataList : {dataList}')"
      ],
      "metadata": {
        "colab": {
          "base_uri": "https://localhost:8080/"
        },
        "id": "xNRLG41jkolF",
        "outputId": "6e66eebe-cb1a-4d64-dc60-ee6b1d7cbbcf"
      },
      "execution_count": 36,
      "outputs": [
        {
          "output_type": "stream",
          "name": "stdout",
          "text": [
            "input number : 가나다\n",
            "exception raise!!\n",
            "input number again!!\n",
            "input number : 3.14\n",
            "float number!\n",
            "input number : 0\n",
            "even number!\n",
            "input number : 6\n",
            "even number!\n",
            "input number : 3\n",
            "odd number!\n",
            "input number : 8\n",
            "even number!\n",
            "eveList : [0, 6, 8]\n",
            "oddList : [3]\n",
            "floatList : [3.14]\n",
            "dataList : ['가나다', '3.14', '0', '6', '3', '8']\n"
          ]
        }
      ]
    }
  ]
}