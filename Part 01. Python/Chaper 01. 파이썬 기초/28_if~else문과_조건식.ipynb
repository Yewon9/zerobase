{
  "nbformat": 4,
  "nbformat_minor": 0,
  "metadata": {
    "colab": {
      "provenance": []
    },
    "kernelspec": {
      "name": "python3",
      "display_name": "Python 3"
    },
    "language_info": {
      "name": "python"
    }
  },
  "cells": [
    {
      "cell_type": "markdown",
      "source": [
        "비 올 확률을 입력하고 비 올 확률이 55%이상이면 '우산을 챙기세요'를 그렇지 않으면 '양산을 챙기세요.' 출력하는 코드를 작성하자. \\\n",
        "(조건식과 if~else문을 이용해서 각각 작성해 보자.)"
      ],
      "metadata": {
        "id": "JtXFlTtmPilK"
      }
    },
    {
      "cell_type": "code",
      "source": [
        "rainPercentage = int(input('비 올 확률 입력 : '))\n",
        "minRainPercentage = 55\n",
        "\n",
        "print('우산을 챙기세요.') if rainPercentage >= minRainPercentage else print('양산을 챙기세요.')\n",
        "\n",
        "if rainPercentage >= minRainPercentage:\n",
        "  print('우산을 챙기세요.')\n",
        "else:\n",
        "  print('양산을 챙기세요.')"
      ],
      "metadata": {
        "colab": {
          "base_uri": "https://localhost:8080/"
        },
        "id": "m0IpjVgYPpDC",
        "outputId": "d733bf29-b65a-44f9-b715-ba061de1c1f1"
      },
      "execution_count": 42,
      "outputs": [
        {
          "output_type": "stream",
          "name": "stdout",
          "text": [
            "비 올 확률 입력 : 60\n",
            "우산을 챙기세요.\n",
            "우산을 챙기세요.\n"
          ]
        }
      ]
    },
    {
      "cell_type": "markdown",
      "source": [
        "다음의 요구 사항을 해결하기 위해서 조건식과 if~else문 중 알맞은 구문을 사용해 보자. \\\n",
        "[요구 사항] \\\n",
        "1. 최저 기온 입력 \\\n",
        "2. 최고 기온 입력\n",
        "3. 일교차가 11도 이상인 경우 출력 내용 \\\n",
        "일교차 : 12도 \\\n",
        "'감기 조심하세요.' \\\n",
        "4. 일교차가 11도 미만인 경우 출력 내용 \\\n",
        "일교차 : 9도 \\\n",
        "'산책하기 좋은 날씨입니다.'"
      ],
      "metadata": {
        "id": "EzdroG-H4Ge7"
      }
    },
    {
      "cell_type": "code",
      "execution_count": 44,
      "metadata": {
        "colab": {
          "base_uri": "https://localhost:8080/"
        },
        "id": "1sHJLeQ130Et",
        "outputId": "8f649d60-9cf9-4bcf-a20b-ee866ba77982"
      },
      "outputs": [
        {
          "output_type": "stream",
          "name": "stdout",
          "text": [
            "최저 기온 입력 : 10\n",
            "최고 기온 입력 : 28\n",
            "일교차 : 18 도\n",
            "감기 조심하세요.\n"
          ]
        }
      ],
      "source": [
        "minTemp = int(input('최저 기온 입력 : '))\n",
        "maxTemp = int(input('최고 기온 입력 : '))\n",
        "diffTemp = maxTemp - minTemp\n",
        "\n",
        "if diffTemp >= 11:\n",
        "  print('일교차 :', diffTemp, '도')\n",
        "  print('감기 조심하세요.')\n",
        "else:\n",
        "  print('일교차 :', diffTemp, '도')\n",
        "  print('산책하기 좋은 날씨입니다.')"
      ]
    }
  ]
}