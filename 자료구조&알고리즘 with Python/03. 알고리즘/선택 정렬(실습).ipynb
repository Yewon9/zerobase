{
 "cells": [
  {
   "cell_type": "markdown",
   "id": "d8e38aa8-e547-4798-b07f-18098c5ddb79",
   "metadata": {},
   "source": [
    "### 선택 정렬 알고리즘을 이용해서 학생 20명의 시험 점수를 오름차순과 내림차순으로 정렬하는 모듈을 만들어보자. 시험 점수는 50부터 100까지로 한다."
   ]
  },
  {
   "cell_type": "code",
   "execution_count": 17,
   "id": "af269394-3de7-4ed4-b7d6-7897167fc2ff",
   "metadata": {},
   "outputs": [],
   "source": [
    "import random\n",
    "import copy"
   ]
  },
  {
   "cell_type": "code",
   "execution_count": 18,
   "id": "ea387c8d-47ac-4607-90e4-f565a32e3839",
   "metadata": {},
   "outputs": [
    {
     "name": "stdout",
     "output_type": "stream",
     "text": [
      "scores : [87, 85, 69, 78, 54, 82, 77, 96, 67, 55, 70, 83, 98, 81, 74, 80, 97, 94, 57, 84]\n"
     ]
    }
   ],
   "source": [
    "scores = random.sample(range(50, 101), 20)\n",
    "print(f'scores : {scores}')"
   ]
  },
  {
   "cell_type": "code",
   "execution_count": 19,
   "id": "8519d863-b028-4f4a-bd87-7426fc48550f",
   "metadata": {},
   "outputs": [],
   "source": [
    "def sortNumber(ns, asc = True):\n",
    "    if asc:\n",
    "        for i in range(len(ns) - 1):\n",
    "            minIdx = i\n",
    "            for j in range(i + 1, len(ns)):\n",
    "                if ns[minIdx] > ns[j]:\n",
    "                    minIdx = j\n",
    "            ns[i], ns[minIdx] = ns[minIdx], ns[i]\n",
    "    else:\n",
    "        for i in range(len(ns) - 1):\n",
    "            minIdx = i\n",
    "            for j in range(i + 1, len(ns)):\n",
    "                if ns[minIdx] < ns[j]:\n",
    "                    minIdx = j\n",
    "            ns[i], ns[minIdx] = ns[minIdx], ns[i]\n",
    "\n",
    "    return ns"
   ]
  },
  {
   "cell_type": "code",
   "execution_count": 20,
   "id": "d5573cb3-01d4-437d-a6a1-ca29eded7c13",
   "metadata": {},
   "outputs": [
    {
     "name": "stdout",
     "output_type": "stream",
     "text": [
      "result : [54, 55, 57, 67, 69, 70, 74, 77, 78, 80, 81, 82, 83, 84, 85, 87, 94, 96, 97, 98]\n"
     ]
    }
   ],
   "source": [
    "# 오름차순\n",
    "result = sortNumber(copy.deepcopy(scores))\n",
    "print(f'result : {result}')"
   ]
  },
  {
   "cell_type": "code",
   "execution_count": 22,
   "id": "aae4d09a-fb9a-4964-8fad-31ba005eb58c",
   "metadata": {},
   "outputs": [
    {
     "name": "stdout",
     "output_type": "stream",
     "text": [
      "scores : [87, 85, 69, 78, 54, 82, 77, 96, 67, 55, 70, 83, 98, 81, 74, 80, 97, 94, 57, 84]\n"
     ]
    }
   ],
   "source": [
    "print(f'scores : {scores}')"
   ]
  },
  {
   "cell_type": "code",
   "execution_count": 21,
   "id": "6e7d6696-8373-463c-b16f-00956516c54e",
   "metadata": {},
   "outputs": [
    {
     "name": "stdout",
     "output_type": "stream",
     "text": [
      "result : [98, 97, 96, 94, 87, 85, 84, 83, 82, 81, 80, 78, 77, 74, 70, 69, 67, 57, 55, 54]\n"
     ]
    }
   ],
   "source": [
    "# 내림차순\n",
    "result = sortNumber(copy.deepcopy(scores), asc = False)\n",
    "print(f'result : {result}')"
   ]
  }
 ],
 "metadata": {
  "kernelspec": {
   "display_name": "Python 3 (ipykernel)",
   "language": "python",
   "name": "python3"
  },
  "language_info": {
   "codemirror_mode": {
    "name": "ipython",
    "version": 3
   },
   "file_extension": ".py",
   "mimetype": "text/x-python",
   "name": "python",
   "nbconvert_exporter": "python",
   "pygments_lexer": "ipython3",
   "version": "3.9.7"
  }
 },
 "nbformat": 4,
 "nbformat_minor": 5
}
